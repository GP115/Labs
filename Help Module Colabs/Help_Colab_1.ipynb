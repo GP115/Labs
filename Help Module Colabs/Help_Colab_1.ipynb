{
  "nbformat": 4,
  "nbformat_minor": 0,
  "metadata": {
    "colab": {
      "provenance": [],
      "toc_visible": true,
      "include_colab_link": true
    },
    "kernelspec": {
      "name": "python3",
      "display_name": "Python 3"
    },
    "language_info": {
      "name": "python"
    }
  },
  "cells": [
    {
      "cell_type": "markdown",
      "metadata": {
        "id": "view-in-github",
        "colab_type": "text"
      },
      "source": [
        "<a href=\"https://colab.research.google.com/github/envgp/taking_the_pulse_of_the_planet/blob/main/Help%20Module%20Colabs/Help_Colab_1.ipynb\" target=\"_parent\"><img src=\"https://colab.research.google.com/assets/colab-badge.svg\" alt=\"Open In Colab\"/></a>"
      ]
    },
    {
      "cell_type": "markdown",
      "source": [
        "# Introduction\n",
        "\n",
        "Welcome to Module 1 of Taking the Pulse of the Planet class! Here you will find code snippets that will be useful in your assignments, and provides an in depth overview of the Python basics needed to get started with the class."
      ],
      "metadata": {
        "id": "gnPezPB46ckb"
      }
    },
    {
      "cell_type": "markdown",
      "source": [
        "# Getting Started with Python\n",
        "Python is a programming language, which is used to make your computer run algorithms! For our class, we'll be using Python to write code that will make our computer do work for us, such as process data and create charts. Let's get started with some of the basics of Python.\n",
        "On each of the code cells below, hover over them and click on the triangle in the circle button to \"run,\" or execute the cell. This tells our computer to go through and perform the actions we've asked it to do, through Python!"
      ],
      "metadata": {
        "id": "hu3HtcAI63WO"
      }
    },
    {
      "cell_type": "markdown",
      "source": [
        "## Printing\n",
        "\n",
        "Printing the equivalent of displaying things."
      ],
      "metadata": {
        "id": "4MRfZViv4oIZ"
      }
    },
    {
      "cell_type": "code",
      "source": [
        "print(\"Hello World\")"
      ],
      "metadata": {
        "id": "DrZ7YFzp72rq"
      },
      "execution_count": null,
      "outputs": []
    },
    {
      "cell_type": "markdown",
      "source": [
        "From that code, you should have seen an output right under it saying \"Hello World\" without the quotation marks. That's a print statement, and your first line of Python code.\n",
        "\n",
        "What a print statement does is it asks the computer to display a line of text -- in this case, our line of text is Hello World. Notice how we ran our code with the Hello World in quotation marks. This is to inform the computer that we're trying to print a data structure known as a \"string,\" or a line of text. In more general terms, it tells our computer that this statement within the quotes isn't code, but instead the message it should display!\n",
        "\n",
        "Try modifying the cell to print out something new! For example, try printing out our course name (Taking the Pulse of the Planet).\n",
        "\n",
        "print() itself is something known as a function. Similar to the functions you may have learned about in math, functions just take in an value (\"hello world\"), and perform some action, such as printing the input out in this case! We'll see lots of examples of functions later on, but the uniting feature of all of them is how they take input and perform some action. Some can even give you new values to work with!"
      ],
      "metadata": {
        "id": "RdEM_oRW8POO"
      }
    }
  ]
}