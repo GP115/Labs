{
  "nbformat": 4,
  "nbformat_minor": 0,
  "metadata": {
    "colab": {
      "provenance": [],
      "toc_visible": true,
      "include_colab_link": true
    },
    "kernelspec": {
      "name": "python3",
      "display_name": "Python 3"
    },
    "language_info": {
      "name": "python"
    }
  },
  "cells": [
    {
      "cell_type": "markdown",
      "metadata": {
        "id": "view-in-github",
        "colab_type": "text"
      },
      "source": [
        "<a href=\"https://colab.research.google.com/github/envgp/taking_the_pulse_of_the_planet/blob/main/Help%20Module%20Colabs/Help%20Colab%200.ipynb\" target=\"_parent\"><img src=\"https://colab.research.google.com/assets/colab-badge.svg\" alt=\"Open In Colab\"/></a>"
      ]
    },
    {
      "cell_type": "markdown",
      "source": [
        "# Introduction\n",
        "\n",
        "Welcome to Module 0 of Taking the Pulse of the Planet class! Here you will find code snippets that will be useful in your assignments, and provides an in depth overview of the Python basics needed to get started with the class."
      ],
      "metadata": {
        "id": "gnPezPB46ckb"
      }
    },
    {
      "cell_type": "markdown",
      "source": [
        "# Getting Started with Python\n",
        "Python is a programming language, which is used to make your computer run algorithms! For our class, we'll be using Python to write code that will make our computer do work for us, such as process data and create charts. Let's get started with some of the basics of Python.\n",
        "On each of the code cells below, hover over them and click on the triangle in the circle button to \"run,\" or execute the cell. This tells our computer to go through and perform the actions we've asked it to do, through Python!"
      ],
      "metadata": {
        "id": "hu3HtcAI63WO"
      }
    },
    {
      "cell_type": "markdown",
      "source": [
        "## Printing\n",
        "\n",
        "Printing the equivalent of displaying things."
      ],
      "metadata": {
        "id": "4MRfZViv4oIZ"
      }
    },
    {
      "cell_type": "code",
      "source": [
        "print(\"Hello World\")"
      ],
      "metadata": {
        "id": "DrZ7YFzp72rq"
      },
      "execution_count": null,
      "outputs": []
    },
    {
      "cell_type": "markdown",
      "source": [
        "From that code, you should have seen an output right under it saying \"Hello World\" without the quotation marks. That's a print statement, and your first line of Python code.\n",
        "\n",
        "What a print statement does is it asks the computer to display a line of text -- in this case, our line of text is Hello World. Notice how we ran our code with the Hello World in quotation marks. This is to inform the computer that we're trying to print a data structure known as a \"string,\" or a line of text. In more general terms, it tells our computer that this statement within the quotes isn't code, but instead the message it should display!\n",
        "\n",
        "print() itself is something known as a function. Similar to the functions you may have learned about in math, functions just take in an value (\"hello world\"), and perform some action, such as printing the input out in this case! We'll see lots of examples of functions later on, but the uniting feature of all of them is how they take input and perform some action. Some can even give you new values to work with!"
      ],
      "metadata": {
        "id": "RdEM_oRW8POO"
      }
    },
    {
      "cell_type": "markdown",
      "source": [
        "## Variables\n",
        "\n",
        "Let's try assigning variables! Variables can be seen as boxes for values, where the values can be nearly anything! For example, we can assign numbers, strings, or whole objects to variables, which will then serve as a name for it.\n",
        "\n",
        "One way to think about this is to think of your own name as a variable -- it's a way to refer to yourself, and that name could be reassigned to someone else as well. A rose by any other name would smell as sweet, right?"
      ],
      "metadata": {
        "id": "3VaragHm87s5"
      }
    },
    {
      "cell_type": "code",
      "source": [
        "x = 10\n",
        "print(x)"
      ],
      "metadata": {
        "id": "Sfmg2Le083c4"
      },
      "execution_count": null,
      "outputs": []
    },
    {
      "cell_type": "markdown",
      "source": [
        "From the code, your output should have been just the number 10. What you did was assign x, your variable name, the value 10, and then asked the computer to print out the value of x using print.\n",
        "\n",
        "The number value 10 is also a data structure -- an int! Int stands for integer, and although we won't look too deeply into the differentiation between different number types, just know that in Python, you can perform numerical operations just as you generally would on a calculator."
      ],
      "metadata": {
        "id": "vj3NsiFn9hw8"
      }
    },
    {
      "cell_type": "code",
      "source": [
        "y = \"I like cats!\"\n",
        "print(x)"
      ],
      "metadata": {
        "id": "Jre_b0EO-5j7"
      },
      "execution_count": null,
      "outputs": []
    },
    {
      "cell_type": "markdown",
      "source": [
        "Hey! This didn't print \"I like cats!\"\n",
        "\n",
        "This is because we printed out the value of variable x instead of variable y. (Notice how the value of variables are still valid from cell to cell, once you've defined them!)\n",
        "\n",
        "Try changing the input of the print statement to print our the value of our variable y. You can re-run the code cell as many times as you'd like before moving on."
      ],
      "metadata": {
        "id": "s-eh2u1Y_G5b"
      }
    },
    {
      "cell_type": "markdown",
      "source": [
        "## Comments\n",
        "\n",
        "Next, let's think about taking notes. Observe and run the code cell below:"
      ],
      "metadata": {
        "id": "BaB6g8uUVJHV"
      }
    },
    {
      "cell_type": "code",
      "source": [
        "# This is a comment! I don't do anything"
      ],
      "metadata": {
        "id": "0CWvx3m-6cNs"
      },
      "execution_count": null,
      "outputs": []
    },
    {
      "cell_type": "markdown",
      "source": [
        "Huh! Nothing should have printed from that -- this is because that line of code was a comment. Comments tell the computer to skip over the line and ignore it.\n",
        "\n",
        "\n",
        "Comments are great ways to make notes in your code, such as reminding yourself what each line of code does. While this class won't require you to comment your code, it can be a great way to stay on track. For this toolbox, and for many of the homework assignments for this class, these comments will serve as pointers and helpful hints for you to help guide you along."
      ],
      "metadata": {
        "id": "8ooY4vbP-a-D"
      }
    },
    {
      "cell_type": "markdown",
      "source": [
        "## Arrays\n",
        "\n",
        "For our last data type, let's look at arrays."
      ],
      "metadata": {
        "id": "uvJIlK7f4w1f"
      }
    },
    {
      "cell_type": "code",
      "source": [
        "my_array = [1, 2, 4, 8, 16]\n",
        "print(my_array)"
      ],
      "metadata": {
        "id": "ixbsx3Vn-apd"
      },
      "execution_count": null,
      "outputs": []
    },
    {
      "cell_type": "markdown",
      "source": [
        "Notice how I have multiple values in there separated by a comma. It's easy to think of arrays as lists of stuff, which can be numbers like our example, strings, other variables, or even other arrays! If our variables were boxes with something in it, arrays are simply just a variable pointing to a sequence of boxes, each of which has some value in it.\n",
        "\n",
        "(For example, you could have an array called foods, where foods represents a sequence of objects, such as apples, ice cream, and sushi.)"
      ],
      "metadata": {
        "id": "0EOiA1L5DX0q"
      }
    },
    {
      "cell_type": "markdown",
      "source": [
        "## Functions\n",
        "\n",
        "Finally, let's talk about functions. Functions are a designated chunk of code we can call, saving us the effort of having to rewrite it all the time. You can give your functions an input and it can give you an output as well. Let me define a function for your below:"
      ],
      "metadata": {
        "id": "JZ76gLtQ4Lx5"
      }
    },
    {
      "cell_type": "code",
      "source": [
        "def weird_printer(input):\n",
        "  print(\"Flora likes\", input)"
      ],
      "metadata": {
        "id": "1Cjn44Ym46xg"
      },
      "execution_count": null,
      "outputs": []
    },
    {
      "cell_type": "markdown",
      "source": [
        "(Don't worry too much on how this function is written -- just think about the mechanics of how it works!)\n",
        "\n",
        "I can \"call\" this function by running code like this:"
      ],
      "metadata": {
        "id": "t5jUTS5446RV"
      }
    },
    {
      "cell_type": "code",
      "source": [
        "weird_printer(\"cats\")\n",
        "weird_printer(\"penguins\")\n",
        "weird_printer(\"dogs\")"
      ],
      "metadata": {
        "id": "6GmwAJor5PMg"
      },
      "execution_count": null,
      "outputs": []
    },
    {
      "cell_type": "markdown",
      "source": [
        "Feel free to play around and edit the above cell as you wish -- but the functionality of our weird_printer function stays the same, no matter what we do!"
      ],
      "metadata": {
        "id": "5JlSLQXo46Oj"
      }
    },
    {
      "cell_type": "markdown",
      "source": [
        "# Packages\n",
        "Packages include prewritten code someone else has prepared in a way that's easily portable! In context, packages are collections of functions people have written out in the past, for us to freely use.\n",
        "\n",
        "Different packages do different things, but for the purposes of our class, we'll be using a few important ones to help us with our work. Let's find out what they do!"
      ],
      "metadata": {
        "id": "g6IQE_dn7Ry0"
      }
    },
    {
      "cell_type": "markdown",
      "source": [
        "## Pandas\n",
        "\n",
        "No, not like the animal. (I wish...)\n",
        "\n",
        "Pandas is a package used for data science, and it's use to manipulate data, especially in a table format. Like before, let's import pandas, but under the name pd."
      ],
      "metadata": {
        "id": "l5OOFoQ6Gu3N"
      }
    },
    {
      "cell_type": "code",
      "source": [
        "import pandas as pd"
      ],
      "metadata": {
        "id": "k8g7QKGPITbI"
      },
      "execution_count": null,
      "outputs": []
    },
    {
      "cell_type": "markdown",
      "source": [
        "### Reading in Data\n",
        "\n",
        "We have to get data from somewhere before we can analyze it. This command down here saves the data to our file system, so we can access it later. Don't worry too much about what git clone means at the moment, but notice how the link is where the data we want \"lives\" on the web.\n",
        "\n",
        "For the purposes of this class, most of this data setup work will be done for you, and feel free to reach out if you're having any issues with it."
      ],
      "metadata": {
        "id": "KTgIK3xKSZT4"
      }
    },
    {
      "cell_type": "code",
      "source": [
        "!git clone https://premonition.stanford.edu/taking-the-pulse-of-the-planet/toolbox-data"
      ],
      "metadata": {
        "id": "hOIl9RDXSZzM"
      },
      "execution_count": null,
      "outputs": []
    },
    {
      "cell_type": "markdown",
      "source": [
        "In order to tell our pandas module what data we're working with, we'll need something called a \"path\" to the location of the data from the file system we're working on here. For now, we'll be looking at a database about penguins!\n",
        "\n",
        "This penguin data is stored in a \"csv\" file, which stands for comma-separated values. You don't need to worry about what these files do, but just think of it as a quick and handy way to store data in a tabular format within our files."
      ],
      "metadata": {
        "id": "V0XNr9P7BJwf"
      }
    },
    {
      "cell_type": "code",
      "source": [
        "# dataset_variable = pd.read_csv(\"path_to_csv_file\")\n",
        "penguins = pd.read_csv(\"./toolbox-data/penguins.csv\")"
      ],
      "metadata": {
        "id": "5H2raLBfE5Sl"
      },
      "execution_count": null,
      "outputs": []
    },
    {
      "cell_type": "markdown",
      "source": [
        "Awesome! So now we have the variable \"penguins\" which contains all the data from the penguins.csv file we read in earlier.\n",
        "\n",
        "Now that we've loaded in the CSV file, let's take a look at what it contains. We can use the info() function for this."
      ],
      "metadata": {
        "id": "EQ1_oexFIMNp"
      }
    },
    {
      "cell_type": "code",
      "source": [
        "# dataset_variable.info()\n",
        "penguins.info()"
      ],
      "metadata": {
        "id": "UNWj0XaEI2Vu"
      },
      "execution_count": null,
      "outputs": []
    },
    {
      "cell_type": "markdown",
      "source": [
        "The info() function displays information about whatever dataset it's called on. Notice how Google Colab automatically displays all the information for you, even though you didn't print it all out. As it turns out, you don't always need an explicit print statement for things in Google Colab, as some functions will display things for you. We won't go too indepth on this however, because we got more interesting things to look at!\n",
        "\n",
        "What did the info() function display? If you're looking at the output and seeing 344 entries, with a bunch of columns, aka \"indexes\" with different labels, you're on the right track."
      ],
      "metadata": {
        "id": "DRa-r35SI5BP"
      }
    },
    {
      "cell_type": "markdown",
      "source": [
        "But what about looking at the actual data of this dataset? The head() command lets us take a look at a few examples from the literal head, or front, of the table. Usually, this displays up to the first five results of your dataframe."
      ],
      "metadata": {
        "id": "S2XurSTdJioU"
      }
    },
    {
      "cell_type": "code",
      "source": [
        "# dataset_variable.head()\n",
        "penguins.head()"
      ],
      "metadata": {
        "id": "PJ5bBGZU4RVw"
      },
      "execution_count": null,
      "outputs": []
    },
    {
      "cell_type": "markdown",
      "source": [
        "Look at all those chickens! I mean, penguins! We can see that there's a lot of different columns of data for this dataset."
      ],
      "metadata": {
        "id": "5CxqfbJY67hg"
      }
    },
    {
      "cell_type": "markdown",
      "source": [
        "###Operations\n",
        "But what happens if we want to do stuff with the data? For instance, what if we wanted to look at only the data of the body mass of our penguins? What we can do is look at the indexes of our dataset -- focusing in on a particular column of data."
      ],
      "metadata": {
        "id": "az9nXblr-lF7"
      }
    },
    {
      "cell_type": "code",
      "source": [
        "# dataset_variable[index_name]\n",
        "penguins[\"body_mass_g\"]"
      ],
      "metadata": {
        "id": "fZHC28Qq-k35"
      },
      "execution_count": null,
      "outputs": []
    },
    {
      "cell_type": "markdown",
      "source": [
        "Wow! These are some chunky penguins, and we now have a big list of penguin body masses. But what if we wanted to find out the average/mean weight of our penguins? As it turns out, we can run operations on these columns. We won't go through all the operations right now, but know that they exist, and generally the code below is how we can run them on a column of data."
      ],
      "metadata": {
        "id": "P8hkxNr4G-F8"
      }
    },
    {
      "cell_type": "code",
      "source": [
        "# dataset_variable[index].operation()\n",
        "penguins[\"body_mass_g\"].mean()"
      ],
      "metadata": {
        "id": "eO8ikumRG9pF"
      },
      "execution_count": null,
      "outputs": []
    },
    {
      "cell_type": "markdown",
      "source": [
        "What does the above code tell us about the average body mass of a penguin? Was this above or below your expectations?"
      ],
      "metadata": {
        "id": "irYFa8HKYI-F"
      }
    },
    {
      "cell_type": "markdown",
      "source": [
        "But what if we're curious about the distribution of data given different labels. For example, let's say we want to group our penguins by their species, and find out the average body mass of the different species of penguins. Turns out, there's a function in pandas that makes this process easy -- it's called the groupby function.\n",
        "\n",
        "This function allows us to generate new dataframes from the dataset we were already working on."
      ],
      "metadata": {
        "id": "a6mBX3J8oMuH"
      }
    },
    {
      "cell_type": "code",
      "source": [
        "# new_dataframe_var = dataset_variable.groupby(group_index)[info_index]\n",
        "penguin_species = penguins.groupby(\"species\")[\"body_mass_g\"]"
      ],
      "metadata": {
        "id": "IMlGzBLqoNC1"
      },
      "execution_count": null,
      "outputs": []
    },
    {
      "cell_type": "markdown",
      "source": [
        "Alright, so now we have a new dataframe of penguin body masses, grouped by their species. This means that for all the body mass datapoints in our original dataset, they'll be sorted by the kind of species they are, into unique groups.\n",
        "\n",
        "But let's try finding the average body mass, or mean of this set. What operation did we use before for finding the mean?"
      ],
      "metadata": {
        "id": "vxzbcA4A46_D"
      }
    },
    {
      "cell_type": "code",
      "source": [
        "# new_dataframe_var.operation()\n",
        "penguin_species.mean()"
      ],
      "metadata": {
        "id": "hrXYtu3t5TuV"
      },
      "execution_count": null,
      "outputs": []
    },
    {
      "cell_type": "markdown",
      "source": [
        "That should have given you a list of penguin species and their weights. By using these table/dataframe operations, we can manipulate our data into ways to calculate things important to us."
      ],
      "metadata": {
        "id": "OjhYwtvK5cWv"
      }
    },
    {
      "cell_type": "markdown",
      "source": [
        "## Optional: Numpy\n",
        "\n",
        "Numpy is one of the most common packages you'll encounter in data science -- so much so that many Python modules are actually dependent on Numpy to do tasks. For right now, our class will mainly focus on Pandas, so this section is currently optional.\n",
        "\n",
        "First, let's import numpy."
      ],
      "metadata": {
        "id": "M4ZVgwmwAlgk"
      }
    },
    {
      "cell_type": "code",
      "execution_count": null,
      "metadata": {
        "id": "WJggsKZx6ZRk"
      },
      "outputs": [],
      "source": [
        "import numpy as np"
      ]
    },
    {
      "cell_type": "markdown",
      "source": [
        "This tells us that we should bring in the package named numpy, but under the name np. Think back to our variable naming skills, because the \"as np\" has us assign the package to the name np. In the future, whenever we want to reference or do something with numpy in this code, we'll be able to call upon it with np.\n",
        "\n",
        "Remember that numpy is a collection of code -- you can find their documentation online [here](https://numpy.org/doc/stable/index.html)! For now, we'll just go over the basics."
      ],
      "metadata": {
        "id": "7IfZxOCJD1yy"
      }
    },
    {
      "cell_type": "markdown",
      "source": [
        "Numpy is powerful because it helps us with processing data -- through the usage of numpy arrays. Don't worry too much about the differences between numpy arrays and python arrays, but feel free to explore them on your own time.\n",
        "\n",
        "Numpy allows us to perform mathematical operations on numpy arrays. This means that we'll be able to use our numpy arrays to call the numpy functions we've imported."
      ],
      "metadata": {
        "id": "ksuUF67BEnR0"
      }
    },
    {
      "cell_type": "code",
      "source": [
        "numbers = np.array([1, 2, 3, 4, 5, 6])\n",
        "sum_value = numbers.sum()\n",
        "print(sum_value)"
      ],
      "metadata": {
        "id": "THnnP5P1EKBL"
      },
      "execution_count": null,
      "outputs": []
    },
    {
      "cell_type": "markdown",
      "source": [
        "The sum() function, is one imported by numpy. Like its name suggests, it adds up all the values of the numbers array. Our code saves it in the variable sum_value, which we then print.\n",
        "\n",
        "If this is confusing, don't worry! We largely won't be working too much with numpy -- it's just good to know that it exists, because many data science libraries are built on top of it."
      ],
      "metadata": {
        "id": "s9idjxbmFxJZ"
      }
    }
  ]
}