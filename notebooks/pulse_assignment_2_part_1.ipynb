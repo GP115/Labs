{
  "cells": [
    {
      "cell_type": "markdown",
      "metadata": {
        "id": "view-in-github",
        "colab_type": "text"
      },
      "source": [
        "<a href=\"https://colab.research.google.com/github/envgp/taking_the_pulse_of_the_planet/blob/main/notebooks/pulse_assignment_2_part_1.ipynb\" target=\"_parent\"><img src=\"https://colab.research.google.com/assets/colab-badge.svg\" alt=\"Open In Colab\"/></a>"
      ]
    },
    {
      "cell_type": "markdown",
      "id": "bafae27b",
      "metadata": {
        "id": "bafae27b"
      },
      "source": [
        "# Assignment 2 Part 1: Taking the Pulse of the Land Surface - Changes in Precipitation and Temperature\n",
        "Rosemary Knight (rknight@stanford.edu) & Michael Morphew (mmorphew@stanford.edu), Stanford Environmental Geophysics Group\n",
        "\n",
        "This assignment, presented in two parts, with both due on `2023-1-31`. Please put your answers within this notebook and share the completed notebook with the graders, bsalvado@stanford.edu and mmorphew@stanford.edu, using the Share banner located at the top right corner of this notebook. When sharing your notebook, please change the name of the notebook and add your name and sunetid (e.g., pulse_course_assignment_2_firstname_lastname_sunetid.ipynb)\n",
        "\n",
        "## INTRODUCTION TO THE ASSIGNMENT\n",
        "In this assignment, we will explore the changes occurring on the land surface in response to climate change, and consider these changes in the context of sustainability.\n",
        "\n",
        "## DATA SETS\n",
        "\n",
        "Data sets used this assignment are: 1) precipitation; 2) temperature. Here is a brief description of each:\n",
        "\n",
        "1) Precipitation\n",
        "\n",
        "Time period: 1985-2021\n",
        "\n",
        "Temporal Resolution: Monthly\n",
        "\n",
        "Spatial Extent: Global Land\n",
        "\n",
        "Spatial Resolution: 1 degree\n",
        "\n",
        "A reanalysis dataset is a dataset that blends observations and climate models in an attempt to produce the most complete and accurate map of historical and recent climate data. Our precipitation data come from the ERA-5 data set made available by the European Centre for Medium-Range Weather Forecasts, which combines their own models with data from satellites using active and passive microwave sensors. For more information see: https://confluence.ecmwf.int/display/CKB/ERA5%3A+data+documentation#ERA5:datadocumentation\n",
        "\n",
        "2) Land Surface Temperature\n",
        "\n",
        "Time Period: 1985-2021\n",
        "\n",
        "Temporal Resolution: Monthly\n",
        "\n",
        "Spatial Extent: Global Land\n",
        "\n",
        "Spatial Resolution: 1 degree\n",
        "\n",
        "The temperature data also come from the ERA5 dataset linked above, which again combines models with satellite data (and for temperature, ground-based observations are also used). This particular temperature dataset is what the model predicts the air temperature will be 2m above the land's surface.\n",
        "\n",
        "TOOLBOX\n",
        "\n",
        "All the Python packages you will use in this assignment are in the toolbox for the course. (https://github.com/envgp/taking_the_pulse_of_the_planet/blob/main/notebooks/pulse_toolbox.ipynb)\n",
        "\n",
        "THE LEARNING GOALS FOR THE WEEK\n",
        "\n",
        "(where the course learning goals are in plain text, and the focus this week is in italics)\n",
        "\n",
        "•\tlearn about the ways in which climate change and human activity are impacting planet Earth, *with a focus this week in determining through analysis of the data how and where precipitation and surface temperature are changing.*\n",
        "\n",
        "•\tbecome familiar with the wide range of sensors available to study various components of the Earth system. These include sensors on satellites, aircraft, ground-based platforms, and deployed above or beneath the surface on land or water. *This week we will work with reanalysis data sets, that integrate measurements from satellites through models.*\n",
        "\n",
        "•\tbecome familiar with the basic physical principles (resolution, sampling, processing workflows, etc.) common to all sensors, *working this week with two data sets.*\n",
        "\n",
        "•\twork with various sources of data, learning how to access, analyze, synthesize, and describe the data to quantify trends; think critically and creatively about how to project these trends into the future. *In the first part of the assignment you will first design your own workflow, using your choice of data analysis methods and tools to explore the changes in precipitation and temperature. In part 2, we will lead you through some analyses.*\n",
        "\n",
        "•\tdescribe the complex interactions between human activity and various components of the Earth system, *this week framing this under the heading of sustainability, where the component of the Earth system is the land surface. We will consider: how are the changes in precipitation and temperature introducing sustainability challenges in different countries? How could human activity mitigate the negative effects? How are human activities amplifying the negative impacts?*\n",
        "\n",
        "•\tbecome motivated to think about new sensors and new ways of using sensor data to study the planet. *This is always the last question in each assignment. Given all that you now know about changes in precipitation and temperature, and how we measure/monitor it, what does the planet and all forms of life need you to design and deploy?*\n"
      ]
    },
    {
      "cell_type": "markdown",
      "source": [
        "## Download required data and install Packages"
      ],
      "metadata": {
        "id": "_YeCEojVBoj6"
      },
      "id": "_YeCEojVBoj6"
    },
    {
      "cell_type": "code",
      "source": [
        "!pip install xarray numpy pandas geopandas cartopy==0.19.0.post1 rioxarray ipywidgets "
      ],
      "metadata": {
        "id": "pKpegj21BhMD"
      },
      "id": "pKpegj21BhMD",
      "execution_count": null,
      "outputs": []
    },
    {
      "cell_type": "code",
      "source": [
        "!pip uninstall -y shapely"
      ],
      "metadata": {
        "id": "imPj5kOBBjlB"
      },
      "id": "imPj5kOBBjlB",
      "execution_count": null,
      "outputs": []
    },
    {
      "cell_type": "code",
      "source": [
        "!pip install shapely --no-binary shapely"
      ],
      "metadata": {
        "id": "ACdfOCQEBlIF"
      },
      "id": "ACdfOCQEBlIF",
      "execution_count": null,
      "outputs": []
    },
    {
      "cell_type": "code",
      "source": [
        "!git clone https://premonition.stanford.edu/mmorphew/taking-the-pulse-global-data.git"
      ],
      "metadata": {
        "id": "b02RrTafTFmD"
      },
      "id": "b02RrTafTFmD",
      "execution_count": null,
      "outputs": []
    },
    {
      "cell_type": "code",
      "source": [
        "!git clone https://premonition.stanford.edu/sgkang09/taking_the_pulse_atmosphere_data.git"
      ],
      "metadata": {
        "id": "KZRIWMWVVATo"
      },
      "id": "KZRIWMWVVATo",
      "execution_count": null,
      "outputs": []
    },
    {
      "cell_type": "code",
      "execution_count": null,
      "id": "01b576ec",
      "metadata": {
        "id": "01b576ec"
      },
      "outputs": [],
      "source": [
        "import numpy as np\n",
        "import xarray as xr\n",
        "import pandas as pd\n",
        "import geopandas as gpd\n",
        "import matplotlib.pyplot as plt\n",
        "import matplotlib.dates as mdates\n",
        "import matplotlib\n",
        "import cartopy.crs as ccrs\n",
        "import cartopy.feature as cf\n",
        "import datetime\n",
        "import rioxarray\n",
        "from shapely.geometry import mapping\n",
        "matplotlib.rcParams['font.size'] = 14\n",
        "from ipywidgets import widgets, interact"
      ]
    },
    {
      "cell_type": "code",
      "source": [
        "gdf_boundaries = gpd.read_file(\"./taking_the_pulse_atmosphere_data/world-administrative-boundaries.geojson\")"
      ],
      "metadata": {
        "id": "n1UlUCMnU-ac"
      },
      "id": "n1UlUCMnU-ac",
      "execution_count": null,
      "outputs": []
    },
    {
      "cell_type": "markdown",
      "source": [
        "## ASSIGNMENT PART 1"
      ],
      "metadata": {
        "id": "Te-Nd655smj-"
      },
      "id": "Te-Nd655smj-"
    },
    {
      "cell_type": "markdown",
      "source": [
        "## Q1. \n",
        "You have access to a data set providing precipitation from 1985-2015.  We want you to design a workflow to analyze and visualize the data to determine what impact, if any, climate change is having. \n",
        "\n"
      ],
      "metadata": {
        "id": "hIYm2YfM_oHq"
      },
      "id": "hIYm2YfM_oHq"
    },
    {
      "cell_type": "markdown",
      "source": [
        "### \n",
        "\n",
        "a)\tIn words list the various steps of your workflow and explain, for each step, the purpose of the step and/or what you hope to learn from the step."
      ],
      "metadata": {
        "id": "6GK6FFnIFBjB"
      },
      "id": "6GK6FFnIFBjB"
    },
    {
      "cell_type": "markdown",
      "source": [
        "**Double click this text and put your answer here**"
      ],
      "metadata": {
        "id": "C5Mef2Je_2DQ"
      },
      "id": "C5Mef2Je_2DQ"
    },
    {
      "cell_type": "markdown",
      "source": [
        "### b)\t\n",
        "\n",
        "Now proceed, using your notebook to implement your workflow, pasting in and modifying (as needed) the code, and generating any useful figures/images. The code below loads the data; the rest is up to you!\n",
        "\n",
        "\n"
      ],
      "metadata": {
        "id": "1HE5JDCd_1HI"
      },
      "id": "1HE5JDCd_1HI"
    },
    {
      "cell_type": "code",
      "source": [
        "temp_precip_data = xr.load_dataset(\"./taking-the-pulse-global-data/global_precip_and_temp.nc\")\n",
        "\n",
        "### add more code and code cells as necessary. You can format your code however you want"
      ],
      "metadata": {
        "id": "zyz8Lv0cvq0z"
      },
      "id": "zyz8Lv0cvq0z",
      "execution_count": null,
      "outputs": []
    },
    {
      "cell_type": "code",
      "source": [
        "### more code here"
      ],
      "metadata": {
        "id": "xG7vldwuAQEr"
      },
      "id": "xG7vldwuAQEr",
      "execution_count": null,
      "outputs": []
    },
    {
      "cell_type": "markdown",
      "source": [
        "## Q2. \n",
        "\n",
        "You have access to a data set providing temperature from 1985-2015.  We want you to design a workflow to analyze and visualize the data to determine what impact, if any, climate change is having. \n"
      ],
      "metadata": {
        "id": "kYt6exAA_-uP"
      },
      "id": "kYt6exAA_-uP"
    },
    {
      "cell_type": "markdown",
      "source": [
        "### a)\t\n",
        "In words list the various steps of your workflow and explain, for each step, the purpose of the step and/or what you hope to learn from the step."
      ],
      "metadata": {
        "id": "9BhL9uZhFJYB"
      },
      "id": "9BhL9uZhFJYB"
    },
    {
      "cell_type": "markdown",
      "source": [
        "**Double click this text and put your answer here**"
      ],
      "metadata": {
        "id": "styXrNhWEq6S"
      },
      "id": "styXrNhWEq6S"
    },
    {
      "cell_type": "markdown",
      "source": [
        "### b)\t\n",
        "Now proceed, using your notebook to implement your workflow, pasting in and modifying (as needed) the code, and generating any useful figures/images.\n",
        "\n",
        "\n"
      ],
      "metadata": {
        "id": "ujFKveKiEk5B"
      },
      "id": "ujFKveKiEk5B"
    },
    {
      "cell_type": "code",
      "source": [
        "### your code here; add cells as necessary"
      ],
      "metadata": {
        "id": "-1aTOEpwEr-G"
      },
      "id": "-1aTOEpwEr-G",
      "execution_count": null,
      "outputs": []
    },
    {
      "cell_type": "markdown",
      "source": [
        "## Q3. \n",
        "\n",
        "You can start thinking about these questions now, and then continue once you start work on Part 2 on Thursday: How are the changes in precipitation and temperature introducing sustainability challenges in different countries? How could human activities mitigate the negative effects? How are human activities amplifying the negative impacts? Discuss this – no more than 1 page total – under the headings of environmental, economic, and social. Feel free to use reference material - peer reviewed, popular press, or Wikipedia - available through the internet."
      ],
      "metadata": {
        "id": "HQ2nNdKVEnOQ"
      },
      "id": "HQ2nNdKVEnOQ"
    },
    {
      "cell_type": "markdown",
      "source": [
        "**Double click this text and put your answer here**"
      ],
      "metadata": {
        "id": "Y0yrDxjhE0kC"
      },
      "id": "Y0yrDxjhE0kC"
    }
  ],
  "metadata": {
    "kernelspec": {
      "display_name": "Python 3 (ipykernel)",
      "language": "python",
      "name": "python3"
    },
    "language_info": {
      "codemirror_mode": {
        "name": "ipython",
        "version": 3
      },
      "file_extension": ".py",
      "mimetype": "text/x-python",
      "name": "python",
      "nbconvert_exporter": "python",
      "pygments_lexer": "ipython3",
      "version": "3.9.5"
    },
    "colab": {
      "provenance": [],
      "toc_visible": true,
      "include_colab_link": true
    }
  },
  "nbformat": 4,
  "nbformat_minor": 5
}