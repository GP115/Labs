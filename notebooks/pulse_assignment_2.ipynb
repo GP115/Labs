{
  "cells": [
    {
      "cell_type": "markdown",
      "metadata": {
        "id": "view-in-github",
        "colab_type": "text"
      },
      "source": [
        "<a href=\"https://colab.research.google.com/github/envgp/taking_the_pulse_of_the_planet/blob/main/notebooks/pulse_assignment_2.ipynb\" target=\"_parent\"><img src=\"https://colab.research.google.com/assets/colab-badge.svg\" alt=\"Open In Colab\"/></a>"
      ]
    },
    {
      "cell_type": "markdown",
      "id": "bafae27b",
      "metadata": {
        "id": "bafae27b"
      },
      "source": [
        "# Assignment 2: Global Temperature and Precipitation\n",
        "Rosemary Knight (rknight@stanford.edu) & Seogi Kang (sgkang09@stanford.edu), Stanford Environmental Geophysics Group\n",
        "\n",
        "This week, we will explore global temperature and precipitation, exploring how historical and recent changes may be similar or different. \n",
        "\n",
        "Data sets used this assignment are: 1) precipitation; 2) temperature. Here is a brief description of each:\n",
        "\n",
        "1) Precipitation\n",
        "\n",
        "Time period: 1985-2021\n",
        "\n",
        "Temporal Resolution: Monthly\n",
        "\n",
        "Spatial Extent: Global Land\n",
        "\n",
        "Spatial Resolution: 1 degree\n",
        "\n",
        "A reanalysis dataset is a dataset that blends observations and climate models in an attempt to produce the most complete and accurate map of historical and recent climate data. Our precipitation data come from the European Centre for Medium-Range Weather Forecasts, which combines their own models with data from satellites using active and passive microwave sensors. For more information see: https://confluence.ecmwf.int/display/CKB/ERA5%3A+data+documentation#ERA5:datadocumentation\n",
        "\n",
        "2) Land Surface Temperature\n",
        "\n",
        "Time Period: 1985-2021\n",
        "\n",
        "Temporal Resolution: Monthly\n",
        "\n",
        "Spatial Extent: Global Land\n",
        "\n",
        "Spatial Resolution: 1 degree\n",
        "\n",
        "The temperature data also come from the ERA5 dataset linked above, which again combines models with satellite data (and for temperature, ground-based observations are also used). This particular temperature dataset is what the model predicts the air temperature will be 2m above the land's surface.\n"
      ]
    },
    {
      "cell_type": "markdown",
      "source": [
        "## Download required data and install Packages"
      ],
      "metadata": {
        "id": "_YeCEojVBoj6"
      },
      "id": "_YeCEojVBoj6"
    },
    {
      "cell_type": "code",
      "source": [
        "!pip install xarray numpy pandas geopandas cartopy==0.19.0.post1 rioxarray ipywidgets "
      ],
      "metadata": {
        "id": "pKpegj21BhMD"
      },
      "id": "pKpegj21BhMD",
      "execution_count": null,
      "outputs": []
    },
    {
      "cell_type": "code",
      "source": [
        "!pip uninstall -y shapely"
      ],
      "metadata": {
        "id": "imPj5kOBBjlB"
      },
      "id": "imPj5kOBBjlB",
      "execution_count": null,
      "outputs": []
    },
    {
      "cell_type": "code",
      "source": [
        "!pip install shapely --no-binary shapely"
      ],
      "metadata": {
        "id": "ACdfOCQEBlIF"
      },
      "id": "ACdfOCQEBlIF",
      "execution_count": null,
      "outputs": []
    },
    {
      "cell_type": "code",
      "source": [
        "!git clone https://premonition.stanford.edu/mmorphew/taking-the-pulse-global-data.git"
      ],
      "metadata": {
        "id": "b02RrTafTFmD"
      },
      "id": "b02RrTafTFmD",
      "execution_count": null,
      "outputs": []
    },
    {
      "cell_type": "code",
      "source": [
        "!git clone https://premonition.stanford.edu/sgkang09/taking_the_pulse_atmosphere_data.git"
      ],
      "metadata": {
        "id": "KZRIWMWVVATo"
      },
      "id": "KZRIWMWVVATo",
      "execution_count": null,
      "outputs": []
    },
    {
      "cell_type": "code",
      "execution_count": null,
      "id": "01b576ec",
      "metadata": {
        "id": "01b576ec"
      },
      "outputs": [],
      "source": [
        "import numpy as np\n",
        "import xarray as xr\n",
        "import pandas as pd\n",
        "import geopandas as gpd\n",
        "import matplotlib.pyplot as plt\n",
        "import matplotlib.dates as mdates\n",
        "import matplotlib\n",
        "import cartopy.crs as ccrs\n",
        "import cartopy.feature as cf\n",
        "import datetime\n",
        "import rioxarray\n",
        "from shapely.geometry import mapping\n",
        "matplotlib.rcParams['font.size'] = 14\n",
        "from ipywidgets import widgets, interact"
      ]
    },
    {
      "cell_type": "code",
      "source": [
        "gdf_boundaries = gpd.read_file(\"./taking_the_pulse_atmosphere_data/world-administrative-boundaries.geojson\")"
      ],
      "metadata": {
        "id": "n1UlUCMnU-ac"
      },
      "id": "n1UlUCMnU-ac",
      "execution_count": null,
      "outputs": []
    },
    {
      "cell_type": "markdown",
      "source": [
        "## Homework: Changes in Global Temperature and Precipitation"
      ],
      "metadata": {
        "id": "Te-Nd655smj-"
      },
      "id": "Te-Nd655smj-"
    },
    {
      "cell_type": "markdown",
      "source": [
        "## Q1: Historical Temperature and Precipitation"
      ],
      "metadata": {
        "id": "E88RIDOWW7cy"
      },
      "id": "E88RIDOWW7cy"
    },
    {
      "cell_type": "markdown",
      "source": [
        "## Q1-a: Historical Trend Maps"
      ],
      "metadata": {
        "id": "hlkHMRFRhsW2"
      },
      "id": "hlkHMRFRhsW2"
    },
    {
      "cell_type": "markdown",
      "id": "9e55b19a",
      "metadata": {
        "id": "9e55b19a"
      },
      "source": [
        "Calculate the trend in T and P globally in each individual grid cell and produce a map of globally gridded annual trends in each variable from 1985-2015. (Each cell will have one number, the slope from 1985-2021; color coded – red hotter and drier, blue – wetter and cooler) We will refer to these as the “historical trend maps.” What patterns do you observe? In other words, where are areas getting more(less) wet (dry) or hot (cool)? Pick two regions exhibiting either large increases or decreases in T or P. Based on what you know about these areas, are these patterns consistent with what you would expect due to predicted climate change dynamics and/or land-use?\n"
      ]
    },
    {
      "cell_type": "code",
      "source": [
        "temp_precip_data = xr.load_dataset(\"./taking-the-pulse-global-data/global_precip_and_temp.nc\")"
      ],
      "metadata": {
        "id": "zyz8Lv0cvq0z"
      },
      "id": "zyz8Lv0cvq0z",
      "execution_count": null,
      "outputs": []
    },
    {
      "cell_type": "code",
      "execution_count": null,
      "id": "f760f1ec",
      "metadata": {
        "id": "f760f1ec"
      },
      "outputs": [],
      "source": [
        "temp_precip_data"
      ]
    },
    {
      "cell_type": "code",
      "source": [
        "### student code goes here. Use as many cells as you need."
      ],
      "metadata": {
        "id": "WCGZiCkzX4gl"
      },
      "id": "WCGZiCkzX4gl",
      "execution_count": null,
      "outputs": []
    },
    {
      "cell_type": "markdown",
      "source": [
        "## Q1-b: Yearly Histograms"
      ],
      "metadata": {
        "id": "EYIm6h2MWwZ5"
      },
      "id": "EYIm6h2MWwZ5"
    },
    {
      "cell_type": "markdown",
      "source": [
        "Pick a few (2-3) years throughout 1985-2021, and produce two histograms, one histogram for temperature and one histogram for precipitation, for each year you selected. We recommend picking years that are spread apart. How are the histograms similar or different across the years? Why might the distributions be similar or different? Comment on the differences between using the trend maps and the single-year histograms to understand historical temperature and precipitation. Which do you trust more? Which do you prefer?\n",
        "\n",
        "Because we did not cover histograms in assignment 1, this question will be guided."
      ],
      "metadata": {
        "id": "lFSZ3azwMpZ2"
      },
      "id": "lFSZ3azwMpZ2"
    },
    {
      "cell_type": "code",
      "source": [
        "temp_precip_1990 = temp_precip_data.sel(time=['01-01-1990', '01-01-1991'], method='nearest')\n",
        "fig = plt.figure(figsize=(10, 10))\n",
        "ax = plt.axes()\n",
        "out = temp_precip_1990.temperature_2m.plot.hist(ax=ax, bins=20)\n",
        "ax.set_xlabel(\"Temperature (K)\")\n",
        "ax.set_ylabel(\"counts\")\n",
        "ax.set_title(\"Global Temperature Histogram 1990\")"
      ],
      "metadata": {
        "id": "qs02svIoTMVz"
      },
      "id": "qs02svIoTMVz",
      "execution_count": null,
      "outputs": []
    },
    {
      "cell_type": "code",
      "source": [
        "temp_precip_1990 = temp_precip_data.sel(time=['01-01-1990', '01-01-1991'], method='nearest')\n",
        "fig = plt.figure(figsize=(10, 10))\n",
        "ax = plt.axes()\n",
        "out = temp_precip_1990.total_precipitation.plot.hist(ax=ax, bins=100)\n",
        "ax.set_xlabel(\"Precipitation (m)\")\n",
        "ax.set_ylabel(\"counts\")\n",
        "ax.set_title(\"Global Precipitation Histogram 1990\")"
      ],
      "metadata": {
        "id": "IjU5u9pMcuxG"
      },
      "id": "IjU5u9pMcuxG",
      "execution_count": null,
      "outputs": []
    },
    {
      "cell_type": "markdown",
      "source": [
        "Select 1-2 more years and plot global histograms for those years."
      ],
      "metadata": {
        "id": "ePeWBrXEhPwQ"
      },
      "id": "ePeWBrXEhPwQ"
    },
    {
      "cell_type": "code",
      "source": [
        "### student code goes here"
      ],
      "metadata": {
        "id": "g9arQUVchUVg"
      },
      "id": "g9arQUVchUVg",
      "execution_count": null,
      "outputs": []
    },
    {
      "cell_type": "markdown",
      "source": [
        "## Q1-c: Local Histograms\n",
        "\n",
        "The above histograms may be difficult to interpret due to global temperatures varying wildly from the equator to the poles. Pick 2 countries that are spatially contiguous (i.e. Not the U.S.), and repeat the above histograms for data within those countries specifically. Do these histograms more align with your expectations? Why or why not? Because we did not cover how to do this in assignment 1, this question will be guided. The example uses China as a sample country. **Please select a different country for your own assignment.**"
      ],
      "metadata": {
        "id": "hhjLJ1ZTSH5W"
      },
      "id": "hhjLJ1ZTSH5W"
    },
    {
      "cell_type": "code",
      "source": [
        "gdf_boundaries = gpd.read_file(\"./taking_the_pulse_atmosphere_data/world-administrative-boundaries.geojson\")\n",
        "country_names = np.sort(gdf_boundaries.name.values)\n",
        "gdf_boundaries = gdf_boundaries.set_index('name')\n",
        "widget_country = widgets.Select(options=country_names)\n",
        "widget_country"
      ],
      "metadata": {
        "id": "g5BCn6Zxm8z0"
      },
      "id": "g5BCn6Zxm8z0",
      "execution_count": null,
      "outputs": []
    },
    {
      "cell_type": "code",
      "source": [
        "widget_country.value"
      ],
      "metadata": {
        "id": "ywnJI4RPnR1j"
      },
      "id": "ywnJI4RPnR1j",
      "execution_count": null,
      "outputs": []
    },
    {
      "cell_type": "code",
      "source": [
        "temp_precip_data_copy = xr.load_dataset(\"./taking-the-pulse-global-data/global_precip_and_temp.nc\")"
      ],
      "metadata": {
        "id": "TCM6MHrKrulJ"
      },
      "id": "TCM6MHrKrulJ",
      "execution_count": null,
      "outputs": []
    },
    {
      "cell_type": "code",
      "source": [
        "country_boundary = gdf_boundaries.loc[['China']]\n",
        "country_boundary.crs\n",
        "temp_precip_data_copy.rio.set_spatial_dims(x_dim=\"x\", y_dim=\"y\", inplace=True)\n",
        "temp_precip_clipped = temp_precip_data_copy.rio.clip(country_boundary.geometry.apply(mapping), country_boundary.crs, drop=False)"
      ],
      "metadata": {
        "id": "LiWqjGFHp15H"
      },
      "id": "LiWqjGFHp15H",
      "execution_count": null,
      "outputs": []
    },
    {
      "cell_type": "code",
      "source": [
        "temp_precip_clipped_1990 = temp_precip_clipped.sel(time=['01-01-1990', '01-01-1991'], method='nearest')\n",
        "fig = plt.figure(figsize=(10, 10))\n",
        "ax = plt.axes()\n",
        "out = temp_precip_clipped_1990.temperature_2m.plot.hist(ax=ax, bins=20)\n",
        "ax.set_xlabel(\"Temperature (K)\")\n",
        "ax.set_ylabel(\"counts\")\n",
        "ax.set_title(\"China Temperature Histogram 1990\")"
      ],
      "metadata": {
        "id": "V5eV2vdCM1aJ"
      },
      "id": "V5eV2vdCM1aJ",
      "execution_count": null,
      "outputs": []
    },
    {
      "cell_type": "code",
      "source": [
        "fig = plt.figure(figsize=(10, 10))\n",
        "ax = plt.axes()\n",
        "out = temp_precip_clipped_1990.total_precipitation.plot.hist(ax=ax, bins=100)\n",
        "ax.set_xlabel(\"Precipitation (m)\")\n",
        "ax.set_ylabel(\"counts\")\n",
        "ax.set_title(\"China Precipitation Histogram 1990\")"
      ],
      "metadata": {
        "id": "TAx4e8y_SHTr"
      },
      "id": "TAx4e8y_SHTr",
      "execution_count": null,
      "outputs": []
    },
    {
      "cell_type": "markdown",
      "source": [
        "Add histograms for 1-2 more years for the local region you selected."
      ],
      "metadata": {
        "id": "ZIjg_QvwgqYN"
      },
      "id": "ZIjg_QvwgqYN"
    },
    {
      "cell_type": "code",
      "source": [
        "### student code goes here"
      ],
      "metadata": {
        "id": "5epy2gMxgvwi"
      },
      "id": "5epy2gMxgvwi",
      "execution_count": null,
      "outputs": []
    },
    {
      "cell_type": "markdown",
      "source": [
        "## Q2: Recent Temperature and Precipitation"
      ],
      "metadata": {
        "id": "4cmjA_rxs-qI"
      },
      "id": "4cmjA_rxs-qI"
    },
    {
      "cell_type": "markdown",
      "source": [
        "### Q2-a: Recent vs. Historical Trend Maps\n",
        "\n",
        "Redo the temperature and precipitation trend maps but for 2003-2021, which we will call the “recent trend maps.” Compare and contrast the historical and recent trend maps."
      ],
      "metadata": {
        "id": "1d5cGljnfSVk"
      },
      "id": "1d5cGljnfSVk"
    },
    {
      "cell_type": "code",
      "source": [
        "### student code goes here"
      ],
      "metadata": {
        "id": "gy5pcsUWg_0g"
      },
      "id": "gy5pcsUWg_0g",
      "execution_count": null,
      "outputs": []
    },
    {
      "cell_type": "markdown",
      "source": [
        "### Q2-b: Recent vs. Historical Climatologies\n",
        "A “monthly climatology” calculates the average value of a variable for each month (e.g. the average of all January’s, average of all February’s, etc.) over a time period and allows us to consider the average monthly to seasonal variation in that variable. Calculate the monthly climatology for T and P for the full historical record and the recent record. Plot the T climatologies for the historical and recent periods in a single plot and repeat for the P climatologies in a single plot. Comment on the historical and recent climatologies for T and P separately. Is each variable experiencing similar variability between the two time periods? Are T and P exhibiting similar differences to one another between the time periods? How might climate change be impacting the differences between the historical and recent periods? \n",
        "\n",
        "Because we did not cover climatologies in assignment 1, this question will be guided."
      ],
      "metadata": {
        "id": "f6-mbJyPrXnh"
      },
      "id": "f6-mbJyPrXnh"
    },
    {
      "cell_type": "markdown",
      "source": [
        "We can use xarray's \"groupby\" feature to group the data by month and then take the mean over time and space. This reduces our dataset to 12 points, each representing the global mean for each month. We can plot it as a bar chart to show the climatology for each variable."
      ],
      "metadata": {
        "id": "FcMRljbqrTey"
      },
      "id": "FcMRljbqrTey"
    },
    {
      "cell_type": "code",
      "source": [
        "recent_temp_precip_data = temp_precip_data.sel(\n",
        "    time=slice(\"2003-01-01\", \"2022-01-01\"))"
      ],
      "metadata": {
        "id": "dLfnz7Koh9WN"
      },
      "id": "dLfnz7Koh9WN",
      "execution_count": null,
      "outputs": []
    },
    {
      "cell_type": "code",
      "source": [
        "historical_temp_precip_monthly = temp_precip_data.groupby('time.month').mean().mean(['x','y'])\n",
        "recent_temp_precip_monthly = recent_temp_precip_data.groupby('time.month').mean().mean(['x','y'])\n",
        "clipped_historical = temp_precip_clipped.groupby('time.month').mean().mean(['x','y'])"
      ],
      "metadata": {
        "id": "xZK9DgdDo4Sp"
      },
      "id": "xZK9DgdDo4Sp",
      "execution_count": null,
      "outputs": []
    },
    {
      "cell_type": "code",
      "source": [
        "\n",
        "fig, ax = plt.subplots(figsize=(9, 9))\n",
        "series = historical_temp_precip_monthly.temperature_2m.to_numpy()-273.15\n",
        "series2 = recent_temp_precip_monthly.temperature_2m.to_numpy()-273.15\n",
        "index = ['Jan', 'Feb', 'Mar', 'Apr', 'May', 'Jun', 'Jul', 'Aug', \n",
        "                    'Sep', 'Oct', 'Nov', 'Dec']\n",
        "combined_df = pd.DataFrame({'historical': series, 'recent': series2},\n",
        "                           index=index)\n",
        "combined_df.plot.bar(ax=ax)\n",
        "ax.set_ylabel('Temperature (C)')\n",
        "ax.set_xticklabels(('Jan', 'Feb', 'Mar', 'Apr', 'May', 'Jun', 'Jul', 'Aug', \n",
        "                    'Sep', 'Oct', 'Nov', 'Dec'))\n",
        "ax.set_title('Monthly Climatology: Temperature')\n"
      ],
      "metadata": {
        "id": "ZhELZq8MotEl"
      },
      "id": "ZhELZq8MotEl",
      "execution_count": null,
      "outputs": []
    },
    {
      "cell_type": "markdown",
      "source": [
        "Copy the code above and change it so that we instead get the climatology for precipitation. Below, write your observations and answer the questions posed at the beginning of this question."
      ],
      "metadata": {
        "id": "KmI37CIBfhRL"
      },
      "id": "KmI37CIBfhRL"
    },
    {
      "cell_type": "code",
      "source": [
        "### student code goes here"
      ],
      "metadata": {
        "id": "9YKgHMszo3Ds"
      },
      "id": "9YKgHMszo3Ds",
      "execution_count": null,
      "outputs": []
    }
  ],
  "metadata": {
    "kernelspec": {
      "display_name": "Python 3 (ipykernel)",
      "language": "python",
      "name": "python3"
    },
    "language_info": {
      "codemirror_mode": {
        "name": "ipython",
        "version": 3
      },
      "file_extension": ".py",
      "mimetype": "text/x-python",
      "name": "python",
      "nbconvert_exporter": "python",
      "pygments_lexer": "ipython3",
      "version": "3.9.5"
    },
    "colab": {
      "provenance": [],
      "include_colab_link": true
    }
  },
  "nbformat": 4,
  "nbformat_minor": 5
}