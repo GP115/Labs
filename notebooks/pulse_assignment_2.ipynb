{
  "cells": [
    {
      "cell_type": "markdown",
      "metadata": {
        "id": "view-in-github",
        "colab_type": "text"
      },
      "source": [
        "<a href=\"https://colab.research.google.com/github/envgp/taking_the_pulse_of_the_planet/blob/main/pulse_assignment_2.ipynb\" target=\"_parent\"><img src=\"https://colab.research.google.com/assets/colab-badge.svg\" alt=\"Open In Colab\"/></a>"
      ]
    },
    {
      "cell_type": "markdown",
      "id": "bafae27b",
      "metadata": {
        "id": "bafae27b"
      },
      "source": [
        "# Assignment 2: Global Temperature and Precipitation\n",
        "Rosemary Knight (rknight@stanford.edu) & Seogi Kang (sgkang09@stanford.edu), Stanford Environmental Geophysics Group\n",
        "\n",
        "This week, we will explore global temperature and precipitation, exploring how historical and recent changes may be similar or different. \n",
        "\n",
        "Data sets used this assignment are: 1) precipitation; 2) temperature. Here is a brief description of each:\n",
        "\n",
        "1) Precipitation\n",
        "\n",
        "Time period: 1985-2021\n",
        "\n",
        "Temporal Resolution: Monthly\n",
        "\n",
        "Spatial Extent: Global Land\n",
        "\n",
        "Spatial Resolution: 1 degree\n",
        "\n",
        "A reanalysis dataset is a dataset that blends observations and climate models in an attempt to produce the most complete and accurate map of historical and recent climate data. Our precipitation data come from the European Centre for Medium-Range Weather Forecasts, which combines their own models with data from satellites using active and passive microwave sensors. For more information see: https://confluence.ecmwf.int/display/CKB/ERA5%3A+data+documentation#ERA5:datadocumentation\n",
        "\n",
        "2) Land Surface Temperature\n",
        "\n",
        "Time Period: 1985-2021\n",
        "\n",
        "Temporal Resolution: Monthly\n",
        "\n",
        "Spatial Extent: Global Land\n",
        "\n",
        "Spatial Resolution: 1 degree\n",
        "\n",
        "The temperature data also come from the ERA5 dataset linked above, which again combines models with satellite data (and for temperature, ground-based observations are also used). Skin temperature is a term that describes the model's prediction of the what the temperature is at the earth's surface.\n"
      ]
    },
    {
      "cell_type": "markdown",
      "source": [
        "## Download required data and install Packages"
      ],
      "metadata": {
        "id": "_YeCEojVBoj6"
      },
      "id": "_YeCEojVBoj6"
    },
    {
      "cell_type": "code",
      "source": [
        "!pip install xarray numpy pandas geopandas cartopy==0.19.0.post1 ipywidgets "
      ],
      "metadata": {
        "id": "pKpegj21BhMD"
      },
      "id": "pKpegj21BhMD",
      "execution_count": null,
      "outputs": []
    },
    {
      "cell_type": "code",
      "source": [
        "!pip uninstall -y shapely"
      ],
      "metadata": {
        "id": "imPj5kOBBjlB"
      },
      "id": "imPj5kOBBjlB",
      "execution_count": null,
      "outputs": []
    },
    {
      "cell_type": "code",
      "source": [
        "!pip install shapely --no-binary shapely"
      ],
      "metadata": {
        "id": "ACdfOCQEBlIF"
      },
      "id": "ACdfOCQEBlIF",
      "execution_count": null,
      "outputs": []
    },
    {
      "cell_type": "code",
      "source": [
        "!git clone https://premonition.stanford.edu/mmorphew/taking-the-pulse-global-data.git"
      ],
      "metadata": {
        "id": "b02RrTafTFmD"
      },
      "id": "b02RrTafTFmD",
      "execution_count": null,
      "outputs": []
    },
    {
      "cell_type": "code",
      "execution_count": null,
      "id": "01b576ec",
      "metadata": {
        "id": "01b576ec"
      },
      "outputs": [],
      "source": [
        "import numpy as np\n",
        "import xarray as xr\n",
        "import pandas as pd\n",
        "import geopandas as gpd\n",
        "import matplotlib.pyplot as plt\n",
        "import matplotlib.dates as mdates\n",
        "import matplotlib\n",
        "import cartopy.crs as ccrs\n",
        "import cartopy.feature as cf\n",
        "import datetime\n",
        "matplotlib.rcParams['font.size'] = 14"
      ]
    },
    {
      "cell_type": "markdown",
      "source": [
        "# Changes in Global Temperature and Precipitation"
      ],
      "metadata": {
        "id": "Te-Nd655smj-"
      },
      "id": "Te-Nd655smj-"
    },
    {
      "cell_type": "markdown",
      "id": "9e55b19a",
      "metadata": {
        "id": "9e55b19a"
      },
      "source": [
        "## IA Historical Temperature and Precipitation\n",
        "\n",
        "Q: Calculate the trend in T and P globally in each individual grid cell and produce a map of globally gridded annual trends in each variable from 1985-2015. (Each cell will have one number, the slope from 1985-2021; color coded – red hotter and drier, blue – wetter and cooler) We will refer to these as the “historical trend maps.” What patterns do you observe? In other words, where are areas getting more(less) wet (dry) or hot (cool)? Pick two regions exhibiting either large increases or decreases in T or P. Based on what you know about these areas, are these patterns consistent with what you would expect due to predicted climate change dynamics and/or land-use?\n"
      ]
    },
    {
      "cell_type": "code",
      "source": [
        "### student code goes here"
      ],
      "metadata": {
        "id": "zyz8Lv0cvq0z"
      },
      "id": "zyz8Lv0cvq0z",
      "execution_count": null,
      "outputs": []
    },
    {
      "cell_type": "markdown",
      "source": [
        "Q: Pick a few (3-4) years throughout 1985-2021, and produce two histograms, one histogram for temperature and one histogram for precipitation, for each year you selected. We recommend picking years that are spread apart. How are the histograms similar or different across the years? Why might the distributions be similar or different? Comment on the differences between using the trend maps and the single-year histograms to understand historical temperature and precipitation."
      ],
      "metadata": {
        "id": "lFSZ3azwMpZ2"
      },
      "id": "lFSZ3azwMpZ2"
    },
    {
      "cell_type": "code",
      "source": [
        "### student code goes here"
      ],
      "metadata": {
        "id": "V5eV2vdCM1aJ"
      },
      "id": "V5eV2vdCM1aJ",
      "execution_count": null,
      "outputs": []
    },
    {
      "cell_type": "markdown",
      "source": [
        "## IB Recent Temperature and Precipitation"
      ],
      "metadata": {
        "id": "4cmjA_rxs-qI"
      },
      "id": "4cmjA_rxs-qI"
    },
    {
      "cell_type": "markdown",
      "source": [
        "### IB - Recent vs. Historical Trend Maps\n",
        "\n",
        "Q:  Redo the temperature and precipitation trend maps but for 2003-2021, which we will call the “recent trend maps.” Compare and contrast the historical and recent trend maps."
      ],
      "metadata": {
        "id": "1d5cGljnfSVk"
      },
      "id": "1d5cGljnfSVk"
    },
    {
      "cell_type": "code",
      "source": [
        "### student code goes here"
      ],
      "metadata": {
        "id": "-e_z5QgSn5Oo"
      },
      "id": "-e_z5QgSn5Oo",
      "execution_count": null,
      "outputs": []
    },
    {
      "cell_type": "markdown",
      "source": [
        "### IB - Recent vs. Historical Climatologies\n",
        "Q: A “monthly climatology” calculates the average value of a variable for each month (e.g. the average of all January’s, average of all February’s, etc.) over a time period and allows us to consider the average monthly to seasonal variation in that variable. Calculate the monthly climatology for T and P for the full historical record and the recent record. Plot the T climatologies for the historical and recent periods in a single plot and repeat for the P climatologies in a single plot. Comment on the historical and recent climatologies for T and P separately. Is each variable experiencing similar variability between the two time periods? Are T and P exhibiting similar differences to one another between the time periods? How might climate change be impacting the differences between the historical and recent periods?"
      ],
      "metadata": {
        "id": "f6-mbJyPrXnh"
      },
      "id": "f6-mbJyPrXnh"
    },
    {
      "cell_type": "markdown",
      "source": [
        "We can use x arrays \"groupby\" feature to group the data by month and then take the mean over time and space. This reduces our dataset to 12 points, each representing the global mean for each month. We can plot it as a bar chart to show the climatology for each variable.\n"
      ],
      "metadata": {
        "id": "FcMRljbqrTey"
      },
      "id": "FcMRljbqrTey"
    },
    {
      "cell_type": "code",
      "source": [
        "### student code goes here"
      ],
      "metadata": {
        "id": "xZK9DgdDo4Sp"
      },
      "id": "xZK9DgdDo4Sp",
      "execution_count": null,
      "outputs": []
    }
  ],
  "metadata": {
    "kernelspec": {
      "display_name": "Python 3 (ipykernel)",
      "language": "python",
      "name": "python3"
    },
    "language_info": {
      "codemirror_mode": {
        "name": "ipython",
        "version": 3
      },
      "file_extension": ".py",
      "mimetype": "text/x-python",
      "name": "python",
      "nbconvert_exporter": "python",
      "pygments_lexer": "ipython3",
      "version": "3.9.5"
    },
    "colab": {
      "provenance": [],
      "toc_visible": true,
      "include_colab_link": true
    }
  },
  "nbformat": 4,
  "nbformat_minor": 5
}