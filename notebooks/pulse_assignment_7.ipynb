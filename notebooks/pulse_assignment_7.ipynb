{
 "cells": [
  {
   "cell_type": "markdown",
   "id": "a241d1af-aa16-42ef-99db-ffcaa359a74f",
   "metadata": {
    "id": "71db3bcb-0df5-4cf6-b6ab-8d9d089d060d"
   },
   "source": [
    "<a target=\"_blank\" href=\"https://colab.research.google.com/github/GP115/Labs/blob/main/notebooks/pulse_assignment_7.ipynb\">\n",
    "  <img src=\"https://colab.research.google.com/assets/colab-badge.svg\" alt=\"Open In Colab\"/>\n",
    "</a>"
   ]
  },
  {
   "cell_type": "markdown",
   "id": "769b5afe-4503-475c-bbdd-1ea8d44673e4",
   "metadata": {},
   "source": [
    "# ***Assignment 7: Taking the Pulse of Groundwater Systems - California's Central Valley***\n",
    "\n",
    "This assignment is due on Tuesday 2024-2-20, before class. Change the name of your notebook to tpp_assignment_7_sunetID.ipynb Share your completed notebook with the TAs akroo@stanford.edu & flora221@stanford.edu using the share banner at the top. For help submitting, see the canvas walkthrough. If you are still having technical difficulties, email us before the deadline.\n",
    "\n",
    "### **INTRODUCTION TO THE ASSIGNMENT**\n",
    "\n",
    "This week, we will explore the groundwater systems of California's Central Valley, one of the most productive agricultural regions in the world. We will first focus on the impact that climate change is having on groundwater supply, and then explore the use of a satellite data set to \"take the pulse\" of the groundwater systems.\n",
    "\n",
    "### **DATA SETS**\n",
    "The Data sets used this assignment are:\n",
    "1) precipitation; 2) temperature; 3) SWE (snow water equivalent) providing mass of snow/ice/water; 4) drought intensity; 5) InSAR (interferometric synthetic aperture radar) providing surface deformation.\n",
    "\n",
    "We have already previously used a precipitation and temperature dataset, but those global datasets had resolutions of 1 degree by 1 degree. Now that we are zoomed into the Central Valley, we will need new temperature and precipitation data with a higher spatial resolution, described below.\n",
    "\n",
    "Here is a brief description of each dataset:\n",
    "\n",
    "### 1) Daily Precipitation\n",
    "\n",
    "Time period: 2015-2019\n",
    "\n",
    "Temporal Resolution: Daily\n",
    "\n",
    "Spatial Extent: Contiguous United States\n",
    "\n",
    "Spatial Resolution: 1 degree\n",
    "\n",
    "Unit: mm\n",
    "\n",
    "GRIDMET combines ground-based data with a land surface model to create a blended dataset with high spatial and temporal resolution. It was developed by the University of Idaho because the land surface models had good temporal resolution but bad spatial resolution, while the ground-based data had \"good\" (compared to the land surface model) spatial coverage but bad temporal resolution. By combining the two, GRIDMET attempts to have the best qualities of both. The precipitation data sums all rainfall in a given day.\n",
    "\n",
    "### 2) Max Daily Land Surface Temperature\n",
    "\n",
    "Time Period: 2015-2019\n",
    "\n",
    "Temporal Resolution: Daily\n",
    "\n",
    "Spatial Extent: Contiguous United States\n",
    "\n",
    "Spatial Resolution: 4 km\n",
    "\n",
    "Unit: Kelvin\n",
    "\n",
    "The temperature data also comes from GRIDMET. The temperature dataset here describes the maximum temperature in a pixel on a given day. More about GRIDMET is described here: https://www.climatologylab.org/gridmet.html\n",
    "\n",
    "### 3) Snow Water Equivalent (SWE)\n",
    "Time Period: 2000-2019\n",
    "\n",
    "Spatial Extent of Data: Sierra Nevada\n",
    "\n",
    "Spatial Resolution: ~500 m\n",
    "\n",
    "Temporal Resolution: Monthly\n",
    "\n",
    "Obtaining a value for SWE involves first calculating the volume of snow, then using an estimate of the density of the snow to calculate the equivalent amount of water; i.e. the amount of water that will be produced when the snow melts. Getting the volume of snow uses information about the spatial coverage of the snow from images (e.g., MODIS Snow-Covered Area and Grain size) and about the depth from ground-based measurements. Further details about this data set can be found at the following link: https://doi.org/10.1002/wrcr.20387.\n",
    "\n",
    "Additional information can be found at:\n",
    "Schneider, D. and Molotch, N.P., 2016. Real‐time estimation of snow water equivalent in the Upper Colorado River Basin using MODIS‐based SWE Reconstructions and SNOTEL data. Water resources research, 52(10), pp.7892-7910.\n",
    "\n",
    "\n",
    "###5) InSAR\n",
    "\n",
    "Time Period: 2015-2019\n",
    "\n",
    "Spatial Extent: Central Valley\n",
    "\n",
    "Spatial Resolution: 1 km\n",
    "\n",
    "Temporal Resolution: Weekly\n",
    "\n",
    "Interferometric synthetic aperture radar (InSAR) data measure the phase difference of the electromagnetic waves transmitted from the satellite to the ground surface at different times. With sophisticated processing, time series of surface deformation is obtained with about 6-7 days of temporal resolution and about 20-100 m spatial resolution.  Recall from class that deformation in the Central Valley can have two causes – loading due to the mass of snow/ice and a poroelastic response to changes in the groundwater held in the pore space.\n",
    "\n",
    "The InSAR data you will work with were gridded onto a uniform grid with a cell size about 1 km x 1 km. Further details of these InSAR data can be found at the following link: https://data.cnra.ca.gov/dataset/tre-altamira-insar-subsidence.\n",
    "\n",
    "### **TOOLBOX**\n",
    "\n",
    "All the Python functions and packages you will use in this assignment are in the toolbox for the course. We add new tools to the toolbox with each assignment as new ways of analyzing and visualizing data are introduced.\n",
    "<a target=\"_blank\" href=\"https://colab.research.google.com/github/GP115/Labs/blob/main/notebooks/pulse_toolbox.ipynb\">\n",
    "  <img src=https://github.com/GP115/labs/blob/main/toolbox.png?raw=true\" alt=\"Open In Colab\"/ width=80>\n",
    "  \n",
    "This week you will be working again with gridded data - envision this as a stack of maps, with each map showing the spatial variation in a measurement at a set time.\n",
    "\n",
    "New in the toolbox this week:\n",
    "\n",
    "- We will learn how to read and plot `.shp` and `.geojson` files containing geographic boundaries (e.g., Central Valley of California).\n",
    "\n",
    "### **THE LEARNING GOALS FOR THE WEEK**\n",
    "\n",
    "Students will:\n",
    "\n",
    "● learn about the ways in which climate change and human activity are impacting planet Earth, *with a focus this week on groundwater and the specific example of California's Central Valley.*\n",
    "\n",
    "● become familiar with the wide range of sensors available to study various components of the Earth system. These include sensors on satellites, aircraft, ground-based platforms, and deployed above or beneath the surface on land or water. *This week we will work with data acquired using satellite systems and ground based (snow observations).*\n",
    "\n",
    "● become familiar with the basic physical principles (resolution, sampling, processing workflows, etc.) common to all sensors, *working this week with data sets all of which differ in terms of resolution, sampling, and processing workflows.*\n",
    "\n",
    "● work with various sources of data, learning how to access, analyze, synthesize, and describe the data to quantify trends; think critically and creatively about how to project these trends into the future. *This week we will consider trends in the data that reveal periods of drought, develop a way to classify the data, compare the data in different geographic regions, and determine causal links between various data sets.*\n",
    "\n",
    "● describe the complex interactions between human activity and various components of the Earth system. This week a key question in the lecture was: what is the primary driver in terms of changes in the groundwater system - climate change or human activity? *In this assignment we will observe, in the data, the impact of climate change on precipitation and SWE, and the combined impact of climate change and groundwater pumping on the groundwater system, as revealed in the InSAR data.*\n",
    "\n",
    "● become motivated to think about new sensors and new ways of using sensor data to study the planet.\n",
    "\n",
    "# **Overview of the Assignment**\n",
    "\n",
    "*I Precipitation, Snow-Water-Equivalent, and Temperature* - Drought is defined as a moisture deficit serious enough to have social, environmental or economic effects. Drought causes a decrease in the availability of surface water so can drive the excessive pumping of groundwater. We will first review the precipitation, snow-water-equivalent, and temperature data, as they are typically useful predictors of drought. We will be able to see the changes occurring in the Central Valley, and any spatial variation, which will impact the pumping of groundwater, given the demands for irrigation.\n",
    "\n",
    "*II Taking the Pulse of the Groundwater Systems* - We will then look at deformation of the ground surface - can this be used as a way to monitor the health of the groundwater systems, or as an \"early warning system\" for depletion of the groundwater system? Can deformation provide information about SWE? – critical to predicting the availability of surface water in the state over the following spring/summer/fall.\n",
    "\n",
    "*III Taking the Pulse in the Future* – We conclude with the question – what’s next?\n",
    "\n",
    "We will guide you through parts of the assignment that introduce new dataset types and tools. This week, we will look at loading in shapefiles, plotting shapefile data, and we also look at how to threshold gridded xarray data. Everything else can be analyzed using the toolbox. While we may provide you with some ideas and examples, at this point in the course you are encouraged to answer the questions using any analysis you've learned throughout the course.\n",
    "\n",
    "\n",
    "\n",
    "\n",
    "\n"
   ]
  },
  {
   "cell_type": "markdown",
   "id": "D7ArJcKa937r",
   "metadata": {
    "id": "D7ArJcKa937r"
   },
   "source": [
    "# **In-Class Assignment**"
   ]
  },
  {
   "cell_type": "code",
   "execution_count": null,
   "id": "302c6f8e-4285-48ba-a2be-cce9a17dd6b0",
   "metadata": {},
   "outputs": [],
   "source": []
  },
  {
   "cell_type": "markdown",
   "id": "YYrMnck595FZ",
   "metadata": {
    "id": "YYrMnck595FZ"
   },
   "source": [
    "## 1) **Install and Import Packages**\n",
    "\n",
    "\n",
    "We first need to download all of the data sets that you will work with. (precipitation (2015-2019), SWE (2002-2019), temperature (2015-2019), InSAR (2015-2019))"
   ]
  },
  {
   "cell_type": "markdown",
   "id": "-m6xa8ngxw4p",
   "metadata": {
    "id": "-m6xa8ngxw4p"
   },
   "source": [
    "### Download required data and install Packages"
   ]
  },
  {
   "cell_type": "code",
   "execution_count": null,
   "id": "uSVGIEIBxzN9",
   "metadata": {
    "cellView": "form",
    "id": "uSVGIEIBxzN9"
   },
   "outputs": [],
   "source": [
    "# @title\n",
    "#---Install Packages---\n",
    "# copy this block verbatum. no changes needed.\n",
    "!pip install xarray numpy pandas geopandas cartopy ipywidgets rioxarray pykrige&> /dev/null\n",
    "!pip install shapely --no-binary shapely &> /dev/null"
   ]
  },
  {
   "cell_type": "code",
   "execution_count": null,
   "id": "xWJExQvxyG28",
   "metadata": {
    "cellView": "form",
    "id": "xWJExQvxyG28"
   },
   "outputs": [],
   "source": [
    "# @title\n",
    "import numpy as np\n",
    "import xarray as xr\n",
    "import pandas as pd\n",
    "import geopandas as gpd\n",
    "import matplotlib.pyplot as plt\n",
    "import matplotlib.dates as mdates\n",
    "from matplotlib import colors\n",
    "import matplotlib\n",
    "import cartopy.crs as ccrs\n",
    "import cartopy.feature as cf\n",
    "import datetime\n",
    "import rioxarray\n",
    "from shapely.geometry import mapping\n",
    "matplotlib.rcParams['font.size'] = 14\n",
    "from ipywidgets import widgets, interact"
   ]
  },
  {
   "cell_type": "code",
   "execution_count": null,
   "id": "aZ1qDjMSx9gB",
   "metadata": {
    "cellView": "form",
    "colab": {
     "base_uri": "https://localhost:8080/"
    },
    "executionInfo": {
     "elapsed": 64007,
     "status": "ok",
     "timestamp": 1708034679661,
     "user": {
      "displayName": "Anne Kroo",
      "userId": "01335049978940707144"
     },
     "user_tz": 480
    },
    "id": "aZ1qDjMSx9gB",
    "outputId": "32125e81-4526-459c-d02f-1eb02046b84c"
   },
   "outputs": [
    {
     "name": "stdout",
     "output_type": "stream",
     "text": [
      "Cloning into 'taking-the-pulse-drought'...\n",
      "remote: Enumerating objects: 34, done.\u001b[K\n",
      "remote: Total 34 (delta 0), reused 0 (delta 0), pack-reused 34\u001b[K\n",
      "Receiving objects: 100% (34/34), 163.54 MiB | 6.75 MiB/s, done.\n",
      "Resolving deltas: 100% (4/4), done.\n",
      "Updating files: 100% (23/23), done.\n",
      "Cloning into 'taking_the_pulse_data'...\n",
      "remote: Enumerating objects: 14, done.\u001b[K\n",
      "remote: Total 14 (delta 0), reused 0 (delta 0), pack-reused 14\u001b[K\n",
      "Receiving objects: 100% (14/14), 150.46 MiB | 8.29 MiB/s, done.\n",
      "Updating files: 100% (6/6), done.\n"
     ]
    }
   ],
   "source": [
    "# @title\n",
    "!git clone https://premonition.stanford.edu/mmorphew/taking-the-pulse-drought.git\n",
    "!git clone https://premonition.stanford.edu/sgkang09/taking_the_pulse_data.git"
   ]
  },
  {
   "cell_type": "code",
   "execution_count": null,
   "id": "W3mC54WFghIE",
   "metadata": {
    "cellView": "form",
    "id": "W3mC54WFghIE"
   },
   "outputs": [],
   "source": [
    "# @title\n",
    "# Read a shp file containing boundary of the Central Valley, then change its coordinate to EPSG:4326\n",
    "gdf_cv = gpd.read_file(\"taking-the-pulse-drought/cv/cv.shp\").to_crs(4326)"
   ]
  },
  {
   "cell_type": "markdown",
   "id": "ZuqX9MzHpHpL",
   "metadata": {
    "id": "ZuqX9MzHpHpL"
   },
   "source": [
    "## 2) I Precipitation, Temperature, and SWE Data – Indicators of Demand for Groundwater?\n",
    "\n",
    "We have previously worked with P and T data. This week we will also use snow water equivalent (SWE) data."
   ]
  },
  {
   "cell_type": "markdown",
   "id": "kjtqoQz6Gg0c",
   "metadata": {
    "id": "kjtqoQz6Gg0c"
   },
   "source": [
    "#### i) The Demand for Groundwater\n",
    "\n",
    "We are going to explore the demand for groundwater in the Central Valley by visualizing the P (precipitation) and T (temperature) data. For each of the P and T data sets, calculate the mean value of each pixel in time, and plot the resulting mean values on a 2D map for each year; this referred to as an annual mean map. Add the boundary of the Central Valley in the plot. Describe the major trends that you observed. Based upon your observations what can you infer about the water demand in the Central Valley?  \n",
    "\n",
    "This question will be partially guided, as a warm-up."
   ]
  },
  {
   "cell_type": "code",
   "execution_count": null,
   "id": "b-xS8X-0GgHt",
   "metadata": {
    "cellView": "form",
    "id": "b-xS8X-0GgHt"
   },
   "outputs": [],
   "source": [
    "# @title\n",
    "temp_precip_data = xr.load_dataset(\"./taking-the-pulse-drought/CONUS_precip_and_temp.nc\")\n",
    "\n",
    "# Pulling out values within the Central Valley.\n",
    "temp_precip_data.rio.write_crs(4326, inplace=True)\n",
    "temp_precip_data.rio.set_spatial_dims(x_dim=\"x\", y_dim=\"y\", inplace=True)\n",
    "temp_precip_data_cv = temp_precip_data.rio.clip(gdf_cv.geometry.apply(mapping), gdf_cv.crs, drop=True)\n",
    "del temp_precip_data"
   ]
  },
  {
   "cell_type": "code",
   "execution_count": null,
   "id": "NJvYizTINIS3",
   "metadata": {
    "cellView": "form",
    "colab": {
     "base_uri": "https://localhost:8080/",
     "height": 312
    },
    "executionInfo": {
     "elapsed": 472,
     "status": "ok",
     "timestamp": 1708034746516,
     "user": {
      "displayName": "Anne Kroo",
      "userId": "01335049978940707144"
     },
     "user_tz": 480
    },
    "id": "NJvYizTINIS3",
    "outputId": "735d7555-d489-44d0-d289-1519e7280b64"
   },
   "outputs": [
    {
     "data": {
      "text/html": [
       "<div><svg style=\"position: absolute; width: 0; height: 0; overflow: hidden\">\n",
       "<defs>\n",
       "<symbol id=\"icon-database\" viewBox=\"0 0 32 32\">\n",
       "<path d=\"M16 0c-8.837 0-16 2.239-16 5v4c0 2.761 7.163 5 16 5s16-2.239 16-5v-4c0-2.761-7.163-5-16-5z\"></path>\n",
       "<path d=\"M16 17c-8.837 0-16-2.239-16-5v6c0 2.761 7.163 5 16 5s16-2.239 16-5v-6c0 2.761-7.163 5-16 5z\"></path>\n",
       "<path d=\"M16 26c-8.837 0-16-2.239-16-5v6c0 2.761 7.163 5 16 5s16-2.239 16-5v-6c0 2.761-7.163 5-16 5z\"></path>\n",
       "</symbol>\n",
       "<symbol id=\"icon-file-text2\" viewBox=\"0 0 32 32\">\n",
       "<path d=\"M28.681 7.159c-0.694-0.947-1.662-2.053-2.724-3.116s-2.169-2.030-3.116-2.724c-1.612-1.182-2.393-1.319-2.841-1.319h-15.5c-1.378 0-2.5 1.121-2.5 2.5v27c0 1.378 1.122 2.5 2.5 2.5h23c1.378 0 2.5-1.122 2.5-2.5v-19.5c0-0.448-0.137-1.23-1.319-2.841zM24.543 5.457c0.959 0.959 1.712 1.825 2.268 2.543h-4.811v-4.811c0.718 0.556 1.584 1.309 2.543 2.268zM28 29.5c0 0.271-0.229 0.5-0.5 0.5h-23c-0.271 0-0.5-0.229-0.5-0.5v-27c0-0.271 0.229-0.5 0.5-0.5 0 0 15.499-0 15.5 0v7c0 0.552 0.448 1 1 1h7v19.5z\"></path>\n",
       "<path d=\"M23 26h-14c-0.552 0-1-0.448-1-1s0.448-1 1-1h14c0.552 0 1 0.448 1 1s-0.448 1-1 1z\"></path>\n",
       "<path d=\"M23 22h-14c-0.552 0-1-0.448-1-1s0.448-1 1-1h14c0.552 0 1 0.448 1 1s-0.448 1-1 1z\"></path>\n",
       "<path d=\"M23 18h-14c-0.552 0-1-0.448-1-1s0.448-1 1-1h14c0.552 0 1 0.448 1 1s-0.448 1-1 1z\"></path>\n",
       "</symbol>\n",
       "</defs>\n",
       "</svg>\n",
       "<style>/* CSS stylesheet for displaying xarray objects in jupyterlab.\n",
       " *\n",
       " */\n",
       "\n",
       ":root {\n",
       "  --xr-font-color0: var(--jp-content-font-color0, rgba(0, 0, 0, 1));\n",
       "  --xr-font-color2: var(--jp-content-font-color2, rgba(0, 0, 0, 0.54));\n",
       "  --xr-font-color3: var(--jp-content-font-color3, rgba(0, 0, 0, 0.38));\n",
       "  --xr-border-color: var(--jp-border-color2, #e0e0e0);\n",
       "  --xr-disabled-color: var(--jp-layout-color3, #bdbdbd);\n",
       "  --xr-background-color: var(--jp-layout-color0, white);\n",
       "  --xr-background-color-row-even: var(--jp-layout-color1, white);\n",
       "  --xr-background-color-row-odd: var(--jp-layout-color2, #eeeeee);\n",
       "}\n",
       "\n",
       "html[theme=dark],\n",
       "body[data-theme=dark],\n",
       "body.vscode-dark {\n",
       "  --xr-font-color0: rgba(255, 255, 255, 1);\n",
       "  --xr-font-color2: rgba(255, 255, 255, 0.54);\n",
       "  --xr-font-color3: rgba(255, 255, 255, 0.38);\n",
       "  --xr-border-color: #1F1F1F;\n",
       "  --xr-disabled-color: #515151;\n",
       "  --xr-background-color: #111111;\n",
       "  --xr-background-color-row-even: #111111;\n",
       "  --xr-background-color-row-odd: #313131;\n",
       "}\n",
       "\n",
       ".xr-wrap {\n",
       "  display: block !important;\n",
       "  min-width: 300px;\n",
       "  max-width: 700px;\n",
       "}\n",
       "\n",
       ".xr-text-repr-fallback {\n",
       "  /* fallback to plain text repr when CSS is not injected (untrusted notebook) */\n",
       "  display: none;\n",
       "}\n",
       "\n",
       ".xr-header {\n",
       "  padding-top: 6px;\n",
       "  padding-bottom: 6px;\n",
       "  margin-bottom: 4px;\n",
       "  border-bottom: solid 1px var(--xr-border-color);\n",
       "}\n",
       "\n",
       ".xr-header > div,\n",
       ".xr-header > ul {\n",
       "  display: inline;\n",
       "  margin-top: 0;\n",
       "  margin-bottom: 0;\n",
       "}\n",
       "\n",
       ".xr-obj-type,\n",
       ".xr-array-name {\n",
       "  margin-left: 2px;\n",
       "  margin-right: 10px;\n",
       "}\n",
       "\n",
       ".xr-obj-type {\n",
       "  color: var(--xr-font-color2);\n",
       "}\n",
       "\n",
       ".xr-sections {\n",
       "  padding-left: 0 !important;\n",
       "  display: grid;\n",
       "  grid-template-columns: 150px auto auto 1fr 20px 20px;\n",
       "}\n",
       "\n",
       ".xr-section-item {\n",
       "  display: contents;\n",
       "}\n",
       "\n",
       ".xr-section-item input {\n",
       "  display: none;\n",
       "}\n",
       "\n",
       ".xr-section-item input + label {\n",
       "  color: var(--xr-disabled-color);\n",
       "}\n",
       "\n",
       ".xr-section-item input:enabled + label {\n",
       "  cursor: pointer;\n",
       "  color: var(--xr-font-color2);\n",
       "}\n",
       "\n",
       ".xr-section-item input:enabled + label:hover {\n",
       "  color: var(--xr-font-color0);\n",
       "}\n",
       "\n",
       ".xr-section-summary {\n",
       "  grid-column: 1;\n",
       "  color: var(--xr-font-color2);\n",
       "  font-weight: 500;\n",
       "}\n",
       "\n",
       ".xr-section-summary > span {\n",
       "  display: inline-block;\n",
       "  padding-left: 0.5em;\n",
       "}\n",
       "\n",
       ".xr-section-summary-in:disabled + label {\n",
       "  color: var(--xr-font-color2);\n",
       "}\n",
       "\n",
       ".xr-section-summary-in + label:before {\n",
       "  display: inline-block;\n",
       "  content: '►';\n",
       "  font-size: 11px;\n",
       "  width: 15px;\n",
       "  text-align: center;\n",
       "}\n",
       "\n",
       ".xr-section-summary-in:disabled + label:before {\n",
       "  color: var(--xr-disabled-color);\n",
       "}\n",
       "\n",
       ".xr-section-summary-in:checked + label:before {\n",
       "  content: '▼';\n",
       "}\n",
       "\n",
       ".xr-section-summary-in:checked + label > span {\n",
       "  display: none;\n",
       "}\n",
       "\n",
       ".xr-section-summary,\n",
       ".xr-section-inline-details {\n",
       "  padding-top: 4px;\n",
       "  padding-bottom: 4px;\n",
       "}\n",
       "\n",
       ".xr-section-inline-details {\n",
       "  grid-column: 2 / -1;\n",
       "}\n",
       "\n",
       ".xr-section-details {\n",
       "  display: none;\n",
       "  grid-column: 1 / -1;\n",
       "  margin-bottom: 5px;\n",
       "}\n",
       "\n",
       ".xr-section-summary-in:checked ~ .xr-section-details {\n",
       "  display: contents;\n",
       "}\n",
       "\n",
       ".xr-array-wrap {\n",
       "  grid-column: 1 / -1;\n",
       "  display: grid;\n",
       "  grid-template-columns: 20px auto;\n",
       "}\n",
       "\n",
       ".xr-array-wrap > label {\n",
       "  grid-column: 1;\n",
       "  vertical-align: top;\n",
       "}\n",
       "\n",
       ".xr-preview {\n",
       "  color: var(--xr-font-color3);\n",
       "}\n",
       "\n",
       ".xr-array-preview,\n",
       ".xr-array-data {\n",
       "  padding: 0 5px !important;\n",
       "  grid-column: 2;\n",
       "}\n",
       "\n",
       ".xr-array-data,\n",
       ".xr-array-in:checked ~ .xr-array-preview {\n",
       "  display: none;\n",
       "}\n",
       "\n",
       ".xr-array-in:checked ~ .xr-array-data,\n",
       ".xr-array-preview {\n",
       "  display: inline-block;\n",
       "}\n",
       "\n",
       ".xr-dim-list {\n",
       "  display: inline-block !important;\n",
       "  list-style: none;\n",
       "  padding: 0 !important;\n",
       "  margin: 0;\n",
       "}\n",
       "\n",
       ".xr-dim-list li {\n",
       "  display: inline-block;\n",
       "  padding: 0;\n",
       "  margin: 0;\n",
       "}\n",
       "\n",
       ".xr-dim-list:before {\n",
       "  content: '(';\n",
       "}\n",
       "\n",
       ".xr-dim-list:after {\n",
       "  content: ')';\n",
       "}\n",
       "\n",
       ".xr-dim-list li:not(:last-child):after {\n",
       "  content: ',';\n",
       "  padding-right: 5px;\n",
       "}\n",
       "\n",
       ".xr-has-index {\n",
       "  font-weight: bold;\n",
       "}\n",
       "\n",
       ".xr-var-list,\n",
       ".xr-var-item {\n",
       "  display: contents;\n",
       "}\n",
       "\n",
       ".xr-var-item > div,\n",
       ".xr-var-item label,\n",
       ".xr-var-item > .xr-var-name span {\n",
       "  background-color: var(--xr-background-color-row-even);\n",
       "  margin-bottom: 0;\n",
       "}\n",
       "\n",
       ".xr-var-item > .xr-var-name:hover span {\n",
       "  padding-right: 5px;\n",
       "}\n",
       "\n",
       ".xr-var-list > li:nth-child(odd) > div,\n",
       ".xr-var-list > li:nth-child(odd) > label,\n",
       ".xr-var-list > li:nth-child(odd) > .xr-var-name span {\n",
       "  background-color: var(--xr-background-color-row-odd);\n",
       "}\n",
       "\n",
       ".xr-var-name {\n",
       "  grid-column: 1;\n",
       "}\n",
       "\n",
       ".xr-var-dims {\n",
       "  grid-column: 2;\n",
       "}\n",
       "\n",
       ".xr-var-dtype {\n",
       "  grid-column: 3;\n",
       "  text-align: right;\n",
       "  color: var(--xr-font-color2);\n",
       "}\n",
       "\n",
       ".xr-var-preview {\n",
       "  grid-column: 4;\n",
       "}\n",
       "\n",
       ".xr-index-preview {\n",
       "  grid-column: 2 / 5;\n",
       "  color: var(--xr-font-color2);\n",
       "}\n",
       "\n",
       ".xr-var-name,\n",
       ".xr-var-dims,\n",
       ".xr-var-dtype,\n",
       ".xr-preview,\n",
       ".xr-attrs dt {\n",
       "  white-space: nowrap;\n",
       "  overflow: hidden;\n",
       "  text-overflow: ellipsis;\n",
       "  padding-right: 10px;\n",
       "}\n",
       "\n",
       ".xr-var-name:hover,\n",
       ".xr-var-dims:hover,\n",
       ".xr-var-dtype:hover,\n",
       ".xr-attrs dt:hover {\n",
       "  overflow: visible;\n",
       "  width: auto;\n",
       "  z-index: 1;\n",
       "}\n",
       "\n",
       ".xr-var-attrs,\n",
       ".xr-var-data,\n",
       ".xr-index-data {\n",
       "  display: none;\n",
       "  background-color: var(--xr-background-color) !important;\n",
       "  padding-bottom: 5px !important;\n",
       "}\n",
       "\n",
       ".xr-var-attrs-in:checked ~ .xr-var-attrs,\n",
       ".xr-var-data-in:checked ~ .xr-var-data,\n",
       ".xr-index-data-in:checked ~ .xr-index-data {\n",
       "  display: block;\n",
       "}\n",
       "\n",
       ".xr-var-data > table {\n",
       "  float: right;\n",
       "}\n",
       "\n",
       ".xr-var-name span,\n",
       ".xr-var-data,\n",
       ".xr-index-name div,\n",
       ".xr-index-data,\n",
       ".xr-attrs {\n",
       "  padding-left: 25px !important;\n",
       "}\n",
       "\n",
       ".xr-attrs,\n",
       ".xr-var-attrs,\n",
       ".xr-var-data,\n",
       ".xr-index-data {\n",
       "  grid-column: 1 / -1;\n",
       "}\n",
       "\n",
       "dl.xr-attrs {\n",
       "  padding: 0;\n",
       "  margin: 0;\n",
       "  display: grid;\n",
       "  grid-template-columns: 125px auto;\n",
       "}\n",
       "\n",
       ".xr-attrs dt,\n",
       ".xr-attrs dd {\n",
       "  padding: 0;\n",
       "  margin: 0;\n",
       "  float: left;\n",
       "  padding-right: 10px;\n",
       "  width: auto;\n",
       "}\n",
       "\n",
       ".xr-attrs dt {\n",
       "  font-weight: normal;\n",
       "  grid-column: 1;\n",
       "}\n",
       "\n",
       ".xr-attrs dt:hover span {\n",
       "  display: inline-block;\n",
       "  background: var(--xr-background-color);\n",
       "  padding-right: 10px;\n",
       "}\n",
       "\n",
       ".xr-attrs dd {\n",
       "  grid-column: 2;\n",
       "  white-space: pre-wrap;\n",
       "  word-break: break-all;\n",
       "}\n",
       "\n",
       ".xr-icon-database,\n",
       ".xr-icon-file-text2,\n",
       ".xr-no-icon {\n",
       "  display: inline-block;\n",
       "  vertical-align: middle;\n",
       "  width: 1em;\n",
       "  height: 1.5em !important;\n",
       "  stroke-width: 0;\n",
       "  stroke: currentColor;\n",
       "  fill: currentColor;\n",
       "}\n",
       "</style><pre class='xr-text-repr-fallback'>&lt;xarray.Dataset&gt;\n",
       "Dimensions:      (time: 1816, y: 160, x: 111)\n",
       "Coordinates:\n",
       "  * time         (time) datetime64[ns] 2015-01-01T06:00:00 ... 2019-12-30T06:...\n",
       "  * y            (y) float64 40.66 40.62 40.59 40.55 ... 35.05 35.02 34.98 34.94\n",
       "  * x            (x) float64 -122.6 -122.5 -122.5 ... -118.7 -118.7 -118.6\n",
       "    spatial_ref  int64 0\n",
       "Data variables:\n",
       "    pr           (time, y, x) float32 nan nan nan nan nan ... nan nan nan nan\n",
       "    tmmx         (time, y, x) float32 nan nan nan nan nan ... nan nan nan nan\n",
       "Attributes:\n",
       "    transform:               [ 3.59326114e-02  0.00000000e+00 -1.25009555e+02...\n",
       "    res:                     [0.03593261 0.03593261]\n",
       "    is_tiled:                1\n",
       "    nodatavals:              -32768.0\n",
       "    scales:                  1.0\n",
       "    offsets:                 0.0\n",
       "    AREA_OR_POINT:           Area\n",
       "    TIFFTAG_RESOLUTIONUNIT:  1 (unitless)\n",
       "    TIFFTAG_XRESOLUTION:     1\n",
       "    TIFFTAG_YRESOLUTION:     1</pre><div class='xr-wrap' style='display:none'><div class='xr-header'><div class='xr-obj-type'>xarray.Dataset</div></div><ul class='xr-sections'><li class='xr-section-item'><input id='section-80bd39c2-1f2b-46a2-bc11-c6ab41717493' class='xr-section-summary-in' type='checkbox' disabled ><label for='section-80bd39c2-1f2b-46a2-bc11-c6ab41717493' class='xr-section-summary'  title='Expand/collapse section'>Dimensions:</label><div class='xr-section-inline-details'><ul class='xr-dim-list'><li><span class='xr-has-index'>time</span>: 1816</li><li><span class='xr-has-index'>y</span>: 160</li><li><span class='xr-has-index'>x</span>: 111</li></ul></div><div class='xr-section-details'></div></li><li class='xr-section-item'><input id='section-6d71a142-b64d-4fe3-acc7-4f11697ad9dd' class='xr-section-summary-in' type='checkbox'  checked><label for='section-6d71a142-b64d-4fe3-acc7-4f11697ad9dd' class='xr-section-summary' >Coordinates: <span>(4)</span></label><div class='xr-section-inline-details'></div><div class='xr-section-details'><ul class='xr-var-list'><li class='xr-var-item'><div class='xr-var-name'><span class='xr-has-index'>time</span></div><div class='xr-var-dims'>(time)</div><div class='xr-var-dtype'>datetime64[ns]</div><div class='xr-var-preview xr-preview'>2015-01-01T06:00:00 ... 2019-12-...</div><input id='attrs-93ad2d03-e922-4612-8517-2ca99859d33c' class='xr-var-attrs-in' type='checkbox' disabled><label for='attrs-93ad2d03-e922-4612-8517-2ca99859d33c' title='Show/Hide attributes'><svg class='icon xr-icon-file-text2'><use xlink:href='#icon-file-text2'></use></svg></label><input id='data-ec77b2d2-28d2-48e8-89d5-5830e094dae0' class='xr-var-data-in' type='checkbox'><label for='data-ec77b2d2-28d2-48e8-89d5-5830e094dae0' title='Show/Hide data repr'><svg class='icon xr-icon-database'><use xlink:href='#icon-database'></use></svg></label><div class='xr-var-attrs'><dl class='xr-attrs'></dl></div><div class='xr-var-data'><pre>array([&#x27;2015-01-01T06:00:00.000000000&#x27;, &#x27;2015-01-02T06:00:00.000000000&#x27;,\n",
       "       &#x27;2015-01-03T06:00:00.000000000&#x27;, ..., &#x27;2019-12-28T06:00:00.000000000&#x27;,\n",
       "       &#x27;2019-12-29T06:00:00.000000000&#x27;, &#x27;2019-12-30T06:00:00.000000000&#x27;],\n",
       "      dtype=&#x27;datetime64[ns]&#x27;)</pre></div></li><li class='xr-var-item'><div class='xr-var-name'><span class='xr-has-index'>y</span></div><div class='xr-var-dims'>(y)</div><div class='xr-var-dtype'>float64</div><div class='xr-var-preview xr-preview'>40.66 40.62 40.59 ... 34.98 34.94</div><input id='attrs-9d5de5c1-28d5-4d30-b636-6e087b5a91ec' class='xr-var-attrs-in' type='checkbox' ><label for='attrs-9d5de5c1-28d5-4d30-b636-6e087b5a91ec' title='Show/Hide attributes'><svg class='icon xr-icon-file-text2'><use xlink:href='#icon-file-text2'></use></svg></label><input id='data-b3febf4b-b3a7-4929-a17f-6a5fc8f02b64' class='xr-var-data-in' type='checkbox'><label for='data-b3febf4b-b3a7-4929-a17f-6a5fc8f02b64' title='Show/Hide data repr'><svg class='icon xr-icon-database'><use xlink:href='#icon-database'></use></svg></label><div class='xr-var-attrs'><dl class='xr-attrs'><dt><span>axis :</span></dt><dd>Y</dd><dt><span>long_name :</span></dt><dd>latitude</dd><dt><span>standard_name :</span></dt><dd>latitude</dd><dt><span>units :</span></dt><dd>degrees_north</dd></dl></div><div class='xr-var-data'><pre>array([40.65775 , 40.621817, 40.585885, 40.549952, 40.514019, 40.478087,\n",
       "       40.442154, 40.406221, 40.370289, 40.334356, 40.298424, 40.262491,\n",
       "       40.226558, 40.190626, 40.154693, 40.118761, 40.082828, 40.046895,\n",
       "       40.010963, 39.97503 , 39.939098, 39.903165, 39.867232, 39.8313  ,\n",
       "       39.795367, 39.759434, 39.723502, 39.687569, 39.651637, 39.615704,\n",
       "       39.579771, 39.543839, 39.507906, 39.471974, 39.436041, 39.400108,\n",
       "       39.364176, 39.328243, 39.292311, 39.256378, 39.220445, 39.184513,\n",
       "       39.14858 , 39.112647, 39.076715, 39.040782, 39.00485 , 38.968917,\n",
       "       38.932984, 38.897052, 38.861119, 38.825187, 38.789254, 38.753321,\n",
       "       38.717389, 38.681456, 38.645524, 38.609591, 38.573658, 38.537726,\n",
       "       38.501793, 38.46586 , 38.429928, 38.393995, 38.358063, 38.32213 ,\n",
       "       38.286197, 38.250265, 38.214332, 38.1784  , 38.142467, 38.106534,\n",
       "       38.070602, 38.034669, 37.998737, 37.962804, 37.926871, 37.890939,\n",
       "       37.855006, 37.819073, 37.783141, 37.747208, 37.711276, 37.675343,\n",
       "       37.63941 , 37.603478, 37.567545, 37.531613, 37.49568 , 37.459747,\n",
       "       37.423815, 37.387882, 37.35195 , 37.316017, 37.280084, 37.244152,\n",
       "       37.208219, 37.172286, 37.136354, 37.100421, 37.064489, 37.028556,\n",
       "       36.992623, 36.956691, 36.920758, 36.884826, 36.848893, 36.81296 ,\n",
       "       36.777028, 36.741095, 36.705163, 36.66923 , 36.633297, 36.597365,\n",
       "       36.561432, 36.525499, 36.489567, 36.453634, 36.417702, 36.381769,\n",
       "       36.345836, 36.309904, 36.273971, 36.238039, 36.202106, 36.166173,\n",
       "       36.130241, 36.094308, 36.058376, 36.022443, 35.98651 , 35.950578,\n",
       "       35.914645, 35.878712, 35.84278 , 35.806847, 35.770915, 35.734982,\n",
       "       35.699049, 35.663117, 35.627184, 35.591252, 35.555319, 35.519386,\n",
       "       35.483454, 35.447521, 35.411588, 35.375656, 35.339723, 35.303791,\n",
       "       35.267858, 35.231925, 35.195993, 35.16006 , 35.124128, 35.088195,\n",
       "       35.052262, 35.01633 , 34.980397, 34.944465])</pre></div></li><li class='xr-var-item'><div class='xr-var-name'><span class='xr-has-index'>x</span></div><div class='xr-var-dims'>(x)</div><div class='xr-var-dtype'>float64</div><div class='xr-var-preview xr-preview'>-122.6 -122.5 ... -118.7 -118.6</div><input id='attrs-3f056a88-b7f5-434a-bc04-524b802f392a' class='xr-var-attrs-in' type='checkbox' ><label for='attrs-3f056a88-b7f5-434a-bc04-524b802f392a' title='Show/Hide attributes'><svg class='icon xr-icon-file-text2'><use xlink:href='#icon-file-text2'></use></svg></label><input id='data-e4039043-5b9a-4f61-a33b-097e5cd91428' class='xr-var-data-in' type='checkbox'><label for='data-e4039043-5b9a-4f61-a33b-097e5cd91428' title='Show/Hide data repr'><svg class='icon xr-icon-database'><use xlink:href='#icon-database'></use></svg></label><div class='xr-var-attrs'><dl class='xr-attrs'><dt><span>axis :</span></dt><dd>X</dd><dt><span>long_name :</span></dt><dd>longitude</dd><dt><span>standard_name :</span></dt><dd>longitude</dd><dt><span>units :</span></dt><dd>degrees_east</dd></dl></div><div class='xr-var-data'><pre>array([-122.584104, -122.548171, -122.512238, -122.476306, -122.440373,\n",
       "       -122.404441, -122.368508, -122.332575, -122.296643, -122.26071 ,\n",
       "       -122.224778, -122.188845, -122.152912, -122.11698 , -122.081047,\n",
       "       -122.045115, -122.009182, -121.973249, -121.937317, -121.901384,\n",
       "       -121.865451, -121.829519, -121.793586, -121.757654, -121.721721,\n",
       "       -121.685788, -121.649856, -121.613923, -121.577991, -121.542058,\n",
       "       -121.506125, -121.470193, -121.43426 , -121.398327, -121.362395,\n",
       "       -121.326462, -121.29053 , -121.254597, -121.218664, -121.182732,\n",
       "       -121.146799, -121.110867, -121.074934, -121.039001, -121.003069,\n",
       "       -120.967136, -120.931204, -120.895271, -120.859338, -120.823406,\n",
       "       -120.787473, -120.75154 , -120.715608, -120.679675, -120.643743,\n",
       "       -120.60781 , -120.571877, -120.535945, -120.500012, -120.46408 ,\n",
       "       -120.428147, -120.392214, -120.356282, -120.320349, -120.284417,\n",
       "       -120.248484, -120.212551, -120.176619, -120.140686, -120.104753,\n",
       "       -120.068821, -120.032888, -119.996956, -119.961023, -119.92509 ,\n",
       "       -119.889158, -119.853225, -119.817293, -119.78136 , -119.745427,\n",
       "       -119.709495, -119.673562, -119.63763 , -119.601697, -119.565764,\n",
       "       -119.529832, -119.493899, -119.457966, -119.422034, -119.386101,\n",
       "       -119.350169, -119.314236, -119.278303, -119.242371, -119.206438,\n",
       "       -119.170506, -119.134573, -119.09864 , -119.062708, -119.026775,\n",
       "       -118.990843, -118.95491 , -118.918977, -118.883045, -118.847112,\n",
       "       -118.811179, -118.775247, -118.739314, -118.703382, -118.667449,\n",
       "       -118.631516])</pre></div></li><li class='xr-var-item'><div class='xr-var-name'><span>spatial_ref</span></div><div class='xr-var-dims'>()</div><div class='xr-var-dtype'>int64</div><div class='xr-var-preview xr-preview'>0</div><input id='attrs-94e3a251-065c-4c58-95a1-3b0674f70fce' class='xr-var-attrs-in' type='checkbox' ><label for='attrs-94e3a251-065c-4c58-95a1-3b0674f70fce' title='Show/Hide attributes'><svg class='icon xr-icon-file-text2'><use xlink:href='#icon-file-text2'></use></svg></label><input id='data-c99654e0-cd42-4294-9341-13b45739a03b' class='xr-var-data-in' type='checkbox'><label for='data-c99654e0-cd42-4294-9341-13b45739a03b' title='Show/Hide data repr'><svg class='icon xr-icon-database'><use xlink:href='#icon-database'></use></svg></label><div class='xr-var-attrs'><dl class='xr-attrs'><dt><span>crs_wkt :</span></dt><dd>GEOGCS[&quot;WGS 84&quot;,DATUM[&quot;WGS_1984&quot;,SPHEROID[&quot;WGS 84&quot;,6378137,298.257223563,AUTHORITY[&quot;EPSG&quot;,&quot;7030&quot;]],AUTHORITY[&quot;EPSG&quot;,&quot;6326&quot;]],PRIMEM[&quot;Greenwich&quot;,0,AUTHORITY[&quot;EPSG&quot;,&quot;8901&quot;]],UNIT[&quot;degree&quot;,0.0174532925199433,AUTHORITY[&quot;EPSG&quot;,&quot;9122&quot;]],AXIS[&quot;Latitude&quot;,NORTH],AXIS[&quot;Longitude&quot;,EAST],AUTHORITY[&quot;EPSG&quot;,&quot;4326&quot;]]</dd><dt><span>semi_major_axis :</span></dt><dd>6378137.0</dd><dt><span>semi_minor_axis :</span></dt><dd>6356752.314245179</dd><dt><span>inverse_flattening :</span></dt><dd>298.257223563</dd><dt><span>reference_ellipsoid_name :</span></dt><dd>WGS 84</dd><dt><span>longitude_of_prime_meridian :</span></dt><dd>0.0</dd><dt><span>prime_meridian_name :</span></dt><dd>Greenwich</dd><dt><span>geographic_crs_name :</span></dt><dd>WGS 84</dd><dt><span>horizontal_datum_name :</span></dt><dd>World Geodetic System 1984</dd><dt><span>grid_mapping_name :</span></dt><dd>latitude_longitude</dd><dt><span>spatial_ref :</span></dt><dd>GEOGCS[&quot;WGS 84&quot;,DATUM[&quot;WGS_1984&quot;,SPHEROID[&quot;WGS 84&quot;,6378137,298.257223563,AUTHORITY[&quot;EPSG&quot;,&quot;7030&quot;]],AUTHORITY[&quot;EPSG&quot;,&quot;6326&quot;]],PRIMEM[&quot;Greenwich&quot;,0,AUTHORITY[&quot;EPSG&quot;,&quot;8901&quot;]],UNIT[&quot;degree&quot;,0.0174532925199433,AUTHORITY[&quot;EPSG&quot;,&quot;9122&quot;]],AXIS[&quot;Latitude&quot;,NORTH],AXIS[&quot;Longitude&quot;,EAST],AUTHORITY[&quot;EPSG&quot;,&quot;4326&quot;]]</dd><dt><span>GeoTransform :</span></dt><dd>-122.6020699766323 0.03593261136478079 0.0 40.67571606493193 0.0 -0.03593261136478085</dd></dl></div><div class='xr-var-data'><pre>array(0)</pre></div></li></ul></div></li><li class='xr-section-item'><input id='section-da7e848b-407f-4071-a059-348eefa4d5e9' class='xr-section-summary-in' type='checkbox'  checked><label for='section-da7e848b-407f-4071-a059-348eefa4d5e9' class='xr-section-summary' >Data variables: <span>(2)</span></label><div class='xr-section-inline-details'></div><div class='xr-section-details'><ul class='xr-var-list'><li class='xr-var-item'><div class='xr-var-name'><span>pr</span></div><div class='xr-var-dims'>(time, y, x)</div><div class='xr-var-dtype'>float32</div><div class='xr-var-preview xr-preview'>nan nan nan nan ... nan nan nan nan</div><input id='attrs-af31649c-bc46-4f37-9f1a-44bd591489e4' class='xr-var-attrs-in' type='checkbox' ><label for='attrs-af31649c-bc46-4f37-9f1a-44bd591489e4' title='Show/Hide attributes'><svg class='icon xr-icon-file-text2'><use xlink:href='#icon-file-text2'></use></svg></label><input id='data-818ad80d-e33b-4116-a8bc-f44902e33db0' class='xr-var-data-in' type='checkbox'><label for='data-818ad80d-e33b-4116-a8bc-f44902e33db0' title='Show/Hide data repr'><svg class='icon xr-icon-database'><use xlink:href='#icon-database'></use></svg></label><div class='xr-var-attrs'><dl class='xr-attrs'><dt><span>scales :</span></dt><dd>1.0</dd><dt><span>offsets :</span></dt><dd>0.0</dd><dt><span>AREA_OR_POINT :</span></dt><dd>Area</dd><dt><span>TIFFTAG_RESOLUTIONUNIT :</span></dt><dd>1 (unitless)</dd><dt><span>TIFFTAG_XRESOLUTION :</span></dt><dd>1</dd><dt><span>TIFFTAG_YRESOLUTION :</span></dt><dd>1</dd></dl></div><div class='xr-var-data'><pre>array([[[nan, nan, nan, ..., nan, nan, nan],\n",
       "        [nan, nan, nan, ..., nan, nan, nan],\n",
       "        [nan, nan, nan, ..., nan, nan, nan],\n",
       "        ...,\n",
       "        [nan, nan, nan, ..., nan, nan, nan],\n",
       "        [nan, nan, nan, ..., nan, nan, nan],\n",
       "        [nan, nan, nan, ..., nan, nan, nan]],\n",
       "\n",
       "       [[nan, nan, nan, ..., nan, nan, nan],\n",
       "        [nan, nan, nan, ..., nan, nan, nan],\n",
       "        [nan, nan, nan, ..., nan, nan, nan],\n",
       "        ...,\n",
       "        [nan, nan, nan, ..., nan, nan, nan],\n",
       "        [nan, nan, nan, ..., nan, nan, nan],\n",
       "        [nan, nan, nan, ..., nan, nan, nan]],\n",
       "\n",
       "       [[nan, nan, nan, ..., nan, nan, nan],\n",
       "        [nan, nan, nan, ..., nan, nan, nan],\n",
       "        [nan, nan, nan, ..., nan, nan, nan],\n",
       "        ...,\n",
       "...\n",
       "        ...,\n",
       "        [nan, nan, nan, ..., nan, nan, nan],\n",
       "        [nan, nan, nan, ..., nan, nan, nan],\n",
       "        [nan, nan, nan, ..., nan, nan, nan]],\n",
       "\n",
       "       [[nan, nan, nan, ..., nan, nan, nan],\n",
       "        [nan, nan, nan, ..., nan, nan, nan],\n",
       "        [nan, nan, nan, ..., nan, nan, nan],\n",
       "        ...,\n",
       "        [nan, nan, nan, ..., nan, nan, nan],\n",
       "        [nan, nan, nan, ..., nan, nan, nan],\n",
       "        [nan, nan, nan, ..., nan, nan, nan]],\n",
       "\n",
       "       [[nan, nan, nan, ..., nan, nan, nan],\n",
       "        [nan, nan, nan, ..., nan, nan, nan],\n",
       "        [nan, nan, nan, ..., nan, nan, nan],\n",
       "        ...,\n",
       "        [nan, nan, nan, ..., nan, nan, nan],\n",
       "        [nan, nan, nan, ..., nan, nan, nan],\n",
       "        [nan, nan, nan, ..., nan, nan, nan]]], dtype=float32)</pre></div></li><li class='xr-var-item'><div class='xr-var-name'><span>tmmx</span></div><div class='xr-var-dims'>(time, y, x)</div><div class='xr-var-dtype'>float32</div><div class='xr-var-preview xr-preview'>nan nan nan nan ... nan nan nan nan</div><input id='attrs-5df8473e-3f2b-4bd5-a3a5-451428683e69' class='xr-var-attrs-in' type='checkbox' ><label for='attrs-5df8473e-3f2b-4bd5-a3a5-451428683e69' title='Show/Hide attributes'><svg class='icon xr-icon-file-text2'><use xlink:href='#icon-file-text2'></use></svg></label><input id='data-0c7b4cac-2121-447e-adbe-c63b2f97e6da' class='xr-var-data-in' type='checkbox'><label for='data-0c7b4cac-2121-447e-adbe-c63b2f97e6da' title='Show/Hide data repr'><svg class='icon xr-icon-database'><use xlink:href='#icon-database'></use></svg></label><div class='xr-var-attrs'><dl class='xr-attrs'><dt><span>scales :</span></dt><dd>1.0</dd><dt><span>offsets :</span></dt><dd>0.0</dd><dt><span>AREA_OR_POINT :</span></dt><dd>Area</dd><dt><span>TIFFTAG_RESOLUTIONUNIT :</span></dt><dd>1 (unitless)</dd><dt><span>TIFFTAG_XRESOLUTION :</span></dt><dd>1</dd><dt><span>TIFFTAG_YRESOLUTION :</span></dt><dd>1</dd></dl></div><div class='xr-var-data'><pre>array([[[nan, nan, nan, ..., nan, nan, nan],\n",
       "        [nan, nan, nan, ..., nan, nan, nan],\n",
       "        [nan, nan, nan, ..., nan, nan, nan],\n",
       "        ...,\n",
       "        [nan, nan, nan, ..., nan, nan, nan],\n",
       "        [nan, nan, nan, ..., nan, nan, nan],\n",
       "        [nan, nan, nan, ..., nan, nan, nan]],\n",
       "\n",
       "       [[nan, nan, nan, ..., nan, nan, nan],\n",
       "        [nan, nan, nan, ..., nan, nan, nan],\n",
       "        [nan, nan, nan, ..., nan, nan, nan],\n",
       "        ...,\n",
       "        [nan, nan, nan, ..., nan, nan, nan],\n",
       "        [nan, nan, nan, ..., nan, nan, nan],\n",
       "        [nan, nan, nan, ..., nan, nan, nan]],\n",
       "\n",
       "       [[nan, nan, nan, ..., nan, nan, nan],\n",
       "        [nan, nan, nan, ..., nan, nan, nan],\n",
       "        [nan, nan, nan, ..., nan, nan, nan],\n",
       "        ...,\n",
       "...\n",
       "        ...,\n",
       "        [nan, nan, nan, ..., nan, nan, nan],\n",
       "        [nan, nan, nan, ..., nan, nan, nan],\n",
       "        [nan, nan, nan, ..., nan, nan, nan]],\n",
       "\n",
       "       [[nan, nan, nan, ..., nan, nan, nan],\n",
       "        [nan, nan, nan, ..., nan, nan, nan],\n",
       "        [nan, nan, nan, ..., nan, nan, nan],\n",
       "        ...,\n",
       "        [nan, nan, nan, ..., nan, nan, nan],\n",
       "        [nan, nan, nan, ..., nan, nan, nan],\n",
       "        [nan, nan, nan, ..., nan, nan, nan]],\n",
       "\n",
       "       [[nan, nan, nan, ..., nan, nan, nan],\n",
       "        [nan, nan, nan, ..., nan, nan, nan],\n",
       "        [nan, nan, nan, ..., nan, nan, nan],\n",
       "        ...,\n",
       "        [nan, nan, nan, ..., nan, nan, nan],\n",
       "        [nan, nan, nan, ..., nan, nan, nan],\n",
       "        [nan, nan, nan, ..., nan, nan, nan]]], dtype=float32)</pre></div></li></ul></div></li><li class='xr-section-item'><input id='section-360393f0-e607-430e-bdad-7c06dfc72d56' class='xr-section-summary-in' type='checkbox'  ><label for='section-360393f0-e607-430e-bdad-7c06dfc72d56' class='xr-section-summary' >Indexes: <span>(3)</span></label><div class='xr-section-inline-details'></div><div class='xr-section-details'><ul class='xr-var-list'><li class='xr-var-item'><div class='xr-index-name'><div>time</div></div><div class='xr-index-preview'>PandasIndex</div><div></div><input id='index-ec85fe95-32d5-4717-b297-8f98ed0fc8da' class='xr-index-data-in' type='checkbox'/><label for='index-ec85fe95-32d5-4717-b297-8f98ed0fc8da' title='Show/Hide index repr'><svg class='icon xr-icon-database'><use xlink:href='#icon-database'></use></svg></label><div class='xr-index-data'><pre>PandasIndex(DatetimeIndex([&#x27;2015-01-01 06:00:00&#x27;, &#x27;2015-01-02 06:00:00&#x27;,\n",
       "               &#x27;2015-01-03 06:00:00&#x27;, &#x27;2015-01-04 06:00:00&#x27;,\n",
       "               &#x27;2015-01-05 06:00:00&#x27;, &#x27;2015-01-06 06:00:00&#x27;,\n",
       "               &#x27;2015-01-07 06:00:00&#x27;, &#x27;2015-01-08 06:00:00&#x27;,\n",
       "               &#x27;2015-01-09 06:00:00&#x27;, &#x27;2015-01-10 06:00:00&#x27;,\n",
       "               ...\n",
       "               &#x27;2019-12-21 06:00:00&#x27;, &#x27;2019-12-22 06:00:00&#x27;,\n",
       "               &#x27;2019-12-23 06:00:00&#x27;, &#x27;2019-12-24 06:00:00&#x27;,\n",
       "               &#x27;2019-12-25 06:00:00&#x27;, &#x27;2019-12-26 06:00:00&#x27;,\n",
       "               &#x27;2019-12-27 06:00:00&#x27;, &#x27;2019-12-28 06:00:00&#x27;,\n",
       "               &#x27;2019-12-29 06:00:00&#x27;, &#x27;2019-12-30 06:00:00&#x27;],\n",
       "              dtype=&#x27;datetime64[ns]&#x27;, name=&#x27;time&#x27;, length=1816, freq=None))</pre></div></li><li class='xr-var-item'><div class='xr-index-name'><div>y</div></div><div class='xr-index-preview'>PandasIndex</div><div></div><input id='index-b90d4cdd-e1e5-48c6-8a30-0ad0d726497b' class='xr-index-data-in' type='checkbox'/><label for='index-b90d4cdd-e1e5-48c6-8a30-0ad0d726497b' title='Show/Hide index repr'><svg class='icon xr-icon-database'><use xlink:href='#icon-database'></use></svg></label><div class='xr-index-data'><pre>PandasIndex(Float64Index([ 40.65774975924954,  40.62181714788476, 40.585884536519984,\n",
       "                40.5499519251552,  40.51401931379042,  40.47808670242564,\n",
       "               40.44215409106086,  40.40622147969608,   40.3702888683313,\n",
       "              40.334356256966515,\n",
       "              ...\n",
       "               35.26785805453241,  35.23192544316763, 35.195992831802855,\n",
       "               35.16006022043807,  35.12412760907329,  35.08819499770851,\n",
       "               35.05226238634373,  35.01632977497895,  34.98039716361417,\n",
       "              34.944464552249386],\n",
       "             dtype=&#x27;float64&#x27;, name=&#x27;y&#x27;, length=160))</pre></div></li><li class='xr-var-item'><div class='xr-index-name'><div>x</div></div><div class='xr-index-preview'>PandasIndex</div><div></div><input id='index-7eaab0d8-8d55-431d-a6b4-2141d63b7ff1' class='xr-index-data-in' type='checkbox'/><label for='index-7eaab0d8-8d55-431d-a6b4-2141d63b7ff1' title='Show/Hide index repr'><svg class='icon xr-icon-database'><use xlink:href='#icon-database'></use></svg></label><div class='xr-index-data'><pre>PandasIndex(Float64Index([ -122.5841036709499, -122.54817105958512, -122.51223844822034,\n",
       "              -122.47630583685556, -122.44037322549077,   -122.404440614126,\n",
       "              -122.36850800276122, -122.33257539139643, -122.29664278003166,\n",
       "              -122.26071016866688,\n",
       "              ...\n",
       "              -118.95490992310704, -118.91897731174225, -118.88304470037747,\n",
       "               -118.8471120890127, -118.81117947764791, -118.77524686628313,\n",
       "              -118.73931425491836, -118.70338164355357, -118.66744903218878,\n",
       "              -118.63151642082401],\n",
       "             dtype=&#x27;float64&#x27;, name=&#x27;x&#x27;, length=111))</pre></div></li></ul></div></li><li class='xr-section-item'><input id='section-a3fdb1bc-61d7-4ece-a435-61a18facd7b4' class='xr-section-summary-in' type='checkbox'  ><label for='section-a3fdb1bc-61d7-4ece-a435-61a18facd7b4' class='xr-section-summary' >Attributes: <span>(10)</span></label><div class='xr-section-inline-details'></div><div class='xr-section-details'><dl class='xr-attrs'><dt><span>transform :</span></dt><dd>[ 3.59326114e-02  0.00000000e+00 -1.25009555e+02  0.00000000e+00\n",
       " -3.59326114e-02  4.20052227e+01]</dd><dt><span>res :</span></dt><dd>[0.03593261 0.03593261]</dd><dt><span>is_tiled :</span></dt><dd>1</dd><dt><span>nodatavals :</span></dt><dd>-32768.0</dd><dt><span>scales :</span></dt><dd>1.0</dd><dt><span>offsets :</span></dt><dd>0.0</dd><dt><span>AREA_OR_POINT :</span></dt><dd>Area</dd><dt><span>TIFFTAG_RESOLUTIONUNIT :</span></dt><dd>1 (unitless)</dd><dt><span>TIFFTAG_XRESOLUTION :</span></dt><dd>1</dd><dt><span>TIFFTAG_YRESOLUTION :</span></dt><dd>1</dd></dl></div></li></ul></div></div>"
      ],
      "text/plain": [
       "<xarray.Dataset>\n",
       "Dimensions:      (time: 1816, y: 160, x: 111)\n",
       "Coordinates:\n",
       "  * time         (time) datetime64[ns] 2015-01-01T06:00:00 ... 2019-12-30T06:...\n",
       "  * y            (y) float64 40.66 40.62 40.59 40.55 ... 35.05 35.02 34.98 34.94\n",
       "  * x            (x) float64 -122.6 -122.5 -122.5 ... -118.7 -118.7 -118.6\n",
       "    spatial_ref  int64 0\n",
       "Data variables:\n",
       "    pr           (time, y, x) float32 nan nan nan nan nan ... nan nan nan nan\n",
       "    tmmx         (time, y, x) float32 nan nan nan nan nan ... nan nan nan nan\n",
       "Attributes:\n",
       "    transform:               [ 3.59326114e-02  0.00000000e+00 -1.25009555e+02...\n",
       "    res:                     [0.03593261 0.03593261]\n",
       "    is_tiled:                1\n",
       "    nodatavals:              -32768.0\n",
       "    scales:                  1.0\n",
       "    offsets:                 0.0\n",
       "    AREA_OR_POINT:           Area\n",
       "    TIFFTAG_RESOLUTIONUNIT:  1 (unitless)\n",
       "    TIFFTAG_XRESOLUTION:     1\n",
       "    TIFFTAG_YRESOLUTION:     1"
      ]
     },
     "execution_count": 8,
     "metadata": {},
     "output_type": "execute_result"
    }
   ],
   "source": [
    "# @title\n",
    "temp_precip_data_cv"
   ]
  },
  {
   "cell_type": "code",
   "execution_count": null,
   "id": "2eb0f759",
   "metadata": {
    "cellView": "form",
    "id": "2eb0f759"
   },
   "outputs": [],
   "source": [
    "# @title\n",
    "# Set up an min and max of lateral dimensions\n",
    "xmin, xmax = -122.62822, -117.580471\n",
    "ymin, ymax = 34.910146, 40.682112"
   ]
  },
  {
   "cell_type": "markdown",
   "id": "b45a7131",
   "metadata": {
    "id": "b45a7131"
   },
   "source": [
    "Let's start with calculating the mean map of P (precipitation) along the time dimension."
   ]
  },
  {
   "cell_type": "code",
   "execution_count": null,
   "id": "wYvNSvHjvIfe",
   "metadata": {
    "cellView": "form",
    "id": "wYvNSvHjvIfe"
   },
   "outputs": [],
   "source": [
    "# @title\n",
    "temp_precip_data_cv_mean = temp_precip_data_cv.mean(dim=['time'])"
   ]
  },
  {
   "cell_type": "code",
   "execution_count": null,
   "id": "ejnJOMQn46BN",
   "metadata": {
    "cellView": "form",
    "id": "ejnJOMQn46BN"
   },
   "outputs": [],
   "source": [
    "# @title\n",
    "fig, ax = plt.subplots(1,1, figsize=(10, 10))\n",
    "### does your colormap make sense? Is your vmin/vmax set reasonably?\n",
    "temp_precip_data_cv_mean['pr'].plot(ax=ax, cmap='viridis_r', vmax=2.5, vmin=0.5)\n",
    "gdf_cv.boundary.plot(ax=ax, color='k')\n",
    "ax.set_xlim(xmin, xmax)\n",
    "ax.set_ylim(ymin, ymax)\n",
    "ax.set_aspect(1)"
   ]
  },
  {
   "cell_type": "markdown",
   "id": "2cd65551",
   "metadata": {
    "id": "2cd65551"
   },
   "source": [
    "Fill in the below cell to plot the mean map of T."
   ]
  },
  {
   "cell_type": "code",
   "execution_count": null,
   "id": "obLT3FodwGj7",
   "metadata": {
    "cellView": "form",
    "id": "obLT3FodwGj7"
   },
   "outputs": [],
   "source": [
    "# @title\n",
    "# your code here"
   ]
  },
  {
   "cell_type": "markdown",
   "id": "ewmmjX1nR2wh",
   "metadata": {
    "id": "ewmmjX1nR2wh"
   },
   "source": [
    "**your answers here**"
   ]
  },
  {
   "cell_type": "markdown",
   "id": "Ch-adJK6Gsnv",
   "metadata": {
    "id": "Ch-adJK6Gsnv"
   },
   "source": [
    "#### ii) SWE Data\n",
    "Now let's work with the SWE data. Water from snow melt is the primary source of the surface water delivered for irrigation in the Central Valley. Snow forms in the winter season then melts in the summer season and fills in the reservoirs.\n",
    "\n",
    "\n",
    "Calculate the maximum value of each pixel in time, and plot the resulting max values for each pixel on a 2D map; this referred to as a maximum map. In your plot, include the outline of the central valley, defined in this notebook as `gdf_cv` (see the previous question for a refresher on plotting boundaries).\n",
    "\n",
    "Second, calculate the total SWE time-series, which is the sum of all SWE values at each time multiplied by an area of a pixel; plot the total SWE time-series. For a ~20-year time span, threshold the data and determine what were the years where the peak total SWE was greater than 40 km^3."
   ]
  },
  {
   "cell_type": "code",
   "execution_count": null,
   "id": "b7b01d73",
   "metadata": {
    "cellView": "form",
    "id": "b7b01d73"
   },
   "outputs": [],
   "source": [
    "# @title\n",
    "# SWE data\n",
    "swe_data = xr.load_dataset(\"./taking_the_pulse_data/data/swe_data.nc\")\n",
    "# Pulling out SWE data between 2015 and 2019\n",
    "start_date = '2015-01-01'\n",
    "end_date = '2019-12-31'\n",
    "swe_data = swe_data.sel(time=slice(start_date, end_date))"
   ]
  },
  {
   "cell_type": "markdown",
   "id": "a6d39787",
   "metadata": {
    "id": "a6d39787"
   },
   "source": [
    "Fill in the below cell to plot the maximum map of the SWE data. You calculated the mean for precipitation and temperature above using the `mean` function. The maximum can instead be calculated with `max`."
   ]
  },
  {
   "cell_type": "code",
   "execution_count": null,
   "id": "29162050",
   "metadata": {
    "cellView": "form",
    "id": "29162050"
   },
   "outputs": [],
   "source": [
    "# @title\n",
    "# your code here\n"
   ]
  },
  {
   "cell_type": "markdown",
   "id": "1e840930",
   "metadata": {
    "id": "1e840930"
   },
   "source": [
    "Let's calculate the total SWE time-series and plot."
   ]
  },
  {
   "cell_type": "code",
   "execution_count": null,
   "id": "IphMNRuqF8To",
   "metadata": {
    "cellView": "form",
    "id": "IphMNRuqF8To"
   },
   "outputs": [],
   "source": [
    "# @title\n",
    "### let's convert to km^3\n",
    "area_pixel_swe = (462.5)**2\n",
    "# sum the swe_data spatially to create a 1D time series\n",
    "swe_data_summed = swe_data.sum(['lat','lon']) * area_pixel_swe / 1e9"
   ]
  },
  {
   "cell_type": "code",
   "execution_count": null,
   "id": "Ho-nDmQ1pjcb",
   "metadata": {
    "cellView": "form",
    "id": "Ho-nDmQ1pjcb"
   },
   "outputs": [],
   "source": [
    "# @title\n",
    "# your code here: plot the time-series\n"
   ]
  },
  {
   "cell_type": "markdown",
   "id": "7ea07911",
   "metadata": {
    "id": "7ea07911"
   },
   "source": [
    "What are the years when the peak total Snow Water Equivalent (SWE) was greater than 40 km³?\n",
    "\n",
    "**your answer here**"
   ]
  },
  {
   "cell_type": "markdown",
   "id": "RDgDZgwvqctE",
   "metadata": {
    "id": "RDgDZgwvqctE"
   },
   "source": [
    "## 3) Taking the Pulse of the Groundwater Systems"
   ]
  },
  {
   "cell_type": "markdown",
   "id": "_K1xBczHIld4",
   "metadata": {
    "id": "_K1xBczHIld4"
   },
   "source": [
    "Explore the way in which the deformation of the ground surface has varied over time in the Central Valley, with the aim of determining what is causing the deformation."
   ]
  },
  {
   "cell_type": "code",
   "execution_count": null,
   "id": "1498308c",
   "metadata": {
    "cellView": "form",
    "id": "1498308c"
   },
   "outputs": [],
   "source": [
    "# @title\n",
    "insar_data = xr.load_dataset(\"./taking_the_pulse_data/data/insar_data.nc\")\n",
    "insar_data.rio.write_crs(4326, inplace=True)"
   ]
  },
  {
   "cell_type": "markdown",
   "id": "db2818da",
   "metadata": {
    "id": "db2818da"
   },
   "source": [
    "#### i) InSAR Deformation\n",
    "Plot the InSAR deformation at the last time. In the plot add the boundary of the San Joaquin Valley (defined at the top of this file as `gdf_sjv`). Describe your observations about the subsidence (i.e., negative deformation) **[the InSAR data at the last time indicates the cumulative sum of the InSAR data from 2015-01-01]**. Based upon other the data, that you have analyzed what would be the cause of the large subsidence?"
   ]
  },
  {
   "cell_type": "code",
   "execution_count": null,
   "id": "9d18a693",
   "metadata": {
    "cellView": "form",
    "id": "9d18a693"
   },
   "outputs": [],
   "source": [
    "# @title\n",
    "# your code here\n",
    "### we can plot a time slice of a given variable with:\n",
    "### insar_data['insar_median'].isel(time=-1).plot(ax=ax, cmap=...)\n",
    "### when we use -1 in Python when indexing/selecting data, Python goes to the end of our data\n",
    "### and starts working backwards\n",
    "### -1 is the last sample, -2 is the second to last sample, etc.\n"
   ]
  },
  {
   "cell_type": "markdown",
   "id": "f5558125",
   "metadata": {
    "id": "f5558125"
   },
   "source": [
    "**your answer here**"
   ]
  },
  {
   "cell_type": "markdown",
   "id": "41ecc055",
   "metadata": {
    "id": "41ecc055"
   },
   "source": [
    "Now we are going to work on the InSAR data in a groundwater subbasin.\n",
    "We have provided a widget to display the selected region as well as a function that pulls out the InSAR data in a selected region. Refer back to this widget so that you can understand the geographic context of some upcoming 1D plots.\n",
    "\n",
    "**There is no autocorrect in Python code. Please double check your spelling and capitialization, otherwise you will get an error when selecting a new region.**"
   ]
  },
  {
   "cell_type": "code",
   "execution_count": null,
   "id": "rptShDTX00E7",
   "metadata": {
    "cellView": "form",
    "id": "rptShDTX00E7"
   },
   "outputs": [],
   "source": [
    "# @title\n",
    "# Read geojson file containing boundaries of groundwater subbasins\n",
    "gdf_gw_basin = gpd.read_file(\"./taking_the_pulse_data/data/cv_gw_basins.geojson\")"
   ]
  },
  {
   "cell_type": "code",
   "execution_count": null,
   "id": "eax0bssR1eju",
   "metadata": {
    "cellView": "form",
    "id": "eax0bssR1eju"
   },
   "outputs": [],
   "source": [
    "# @title\n",
    "gdf_gw_basin.head(3)"
   ]
  },
  {
   "cell_type": "code",
   "execution_count": null,
   "id": "2a662f93",
   "metadata": {
    "cellView": "form",
    "id": "2a662f93"
   },
   "outputs": [],
   "source": [
    "# @title\n",
    "from ipywidgets import widgets, interact\n",
    "subbasin_names = np.sort(gdf_gw_basin['Basin_Su_1'].values)\n",
    "def foo(name):\n",
    "    fig = plt.figure(figsize=(10, 10))\n",
    "    ax = plt.axes(projection=ccrs.PlateCarree())\n",
    "    out = insar_data.insar_median.isel(time=-1).plot(ax=ax, cmap='Spectral', vmin=-1200, vmax=5)\n",
    "    gdf_gw_basin.boundary.plot(ax=ax, color='k')\n",
    "    gdf_gw_basin[gdf_gw_basin['Basin_Su_1']==name].plot(ax=ax, color='red', alpha=0.5)\n",
    "    ax.set_title(name, fontsize=12)\n",
    "    plt.show()"
   ]
  },
  {
   "cell_type": "code",
   "execution_count": null,
   "id": "0502a1db",
   "metadata": {
    "cellView": "form",
    "id": "0502a1db"
   },
   "outputs": [],
   "source": [
    "# @title\n",
    "Q = interact(foo, name=widgets.Select(options=subbasin_names, value='SAN JOAQUIN VALLEY - TULE', continuous_update=False))"
   ]
  },
  {
   "cell_type": "code",
   "execution_count": null,
   "id": "885e0d80",
   "metadata": {
    "cellView": "form",
    "id": "885e0d80"
   },
   "outputs": [],
   "source": [
    "# @title\n",
    "name = Q.widget.kwargs['name']\n",
    "print (name)"
   ]
  },
  {
   "cell_type": "code",
   "execution_count": null,
   "id": "df294b60",
   "metadata": {
    "cellView": "form",
    "id": "df294b60"
   },
   "outputs": [],
   "source": [
    "# @title\n",
    "def get_insar_data_in_gw_subbasin(name):\n",
    "    insar_data.rio.set_spatial_dims(x_dim=\"lon\", y_dim=\"lat\", inplace=True)\n",
    "    gdf_gw_basin_selected = gdf_gw_basin[gdf_gw_basin['Basin_Su_1']==name]\n",
    "    insar_data_selected = insar_data.rio.clip(gdf_gw_basin_selected.geometry.apply(mapping), gdf_cv.crs, drop=True)\n",
    "    return insar_data_selected"
   ]
  },
  {
   "cell_type": "code",
   "execution_count": null,
   "id": "0pi_-poc2S_J",
   "metadata": {
    "cellView": "form",
    "id": "0pi_-poc2S_J"
   },
   "outputs": [],
   "source": [
    "# @title\n",
    "name = 'SAN JOAQUIN VALLEY - TULE'\n",
    "insar_data_selected = get_insar_data_in_gw_subbasin(name)"
   ]
  },
  {
   "cell_type": "markdown",
   "id": "c43dc7a2",
   "metadata": {
    "id": "c43dc7a2"
   },
   "source": [
    "**your answer here**"
   ]
  },
  {
   "cell_type": "markdown",
   "id": "a7ae27d8",
   "metadata": {
    "id": "a7ae27d8"
   },
   "source": [
    "#### ii) Mean InSar Time-Series\n",
    "Calculate the mean InSAR time-series for a `SAN JOAQUIN VALLEY - TULE`. Then plot the mean InSAR time-series for San Joaquin with the SWE time-series (that you cacluated before). Code to plot of the total SWE time-series  is provided in the below cell. Compare the amplitude of the deformation in this subbasin to the that of the previous one. What is the major cause of the deformation in this subbasin? Describe the causual relationship between the InSAR and SWE time-series"
   ]
  },
  {
   "cell_type": "code",
   "execution_count": null,
   "id": "559bfe9f",
   "metadata": {
    "cellView": "form",
    "id": "559bfe9f",
    "scrolled": true
   },
   "outputs": [],
   "source": [
    "# @title\n",
    "### your code here\n",
    "\n",
    "# calculate mean InSAR time-series\n",
    "\n",
    "### create a figure and plot the InSAR data for the new region\n",
    "fig, ax = plt.subplots(1,1, figsize=(10, 5))\n",
    "# plot the mean InSAR time-series\n",
    "\n",
    "ax_1 = ax.twinx()\n",
    "# plot the total SWE time-series\n",
    "\n",
    "fmt_month = mdates.MonthLocator()\n",
    "ax.xaxis.set_minor_locator(fmt_month)\n",
    "ax.set_xlim(datetime.date(2015, 1, 1), datetime.date(2020, 1, 1))\n",
    "ax.xaxis.set_major_formatter(mdates.DateFormatter('%Y-%m'))\n",
    "ax.set_ylabel(\"Deformation (mm)\")\n",
    "ax_1.set_ylabel(\"SWE (km$^3$)\")\n",
    "ax.set_title(\"\")\n",
    "ax_1.set_title(\"InSAR vs. SWE\")\n",
    "ax.grid(True, which='both', alpha=0.2)\n",
    "fig.autofmt_xdate()"
   ]
  },
  {
   "cell_type": "markdown",
   "id": "6bb866a0",
   "metadata": {
    "id": "6bb866a0"
   },
   "source": [
    "**your answer here**"
   ]
  },
  {
   "cell_type": "markdown",
   "id": "j9EKjeHEIsJW",
   "metadata": {
    "id": "j9EKjeHEIsJW"
   },
   "source": [
    "#### iii) Climate Change and Human Activity vs Groundwater\n",
    "Referring back to what was covered in the lecture, discuss how the combination of climate change and human activity are leading to impacts on the groundwater system.\n",
    "\n",
    "**your answer here**\n",
    "\n"
   ]
  },
  {
   "cell_type": "markdown",
   "id": "VtTd_AWeItTs",
   "metadata": {
    "id": "VtTd_AWeItTs"
   },
   "source": [
    "#### iiii) Taking the Pulse of Groundwater\n",
    "How could InSAR data be used to “take the pulse” of groundwater systems?\n",
    "\n",
    "**your answer here**"
   ]
  },
  {
   "cell_type": "markdown",
   "id": "9e-NDx4aKBiQ",
   "metadata": {
    "id": "9e-NDx4aKBiQ"
   },
   "source": [
    "## 4) Taking the Pulse in the Future\n",
    "\n",
    "In this assignment, we worked with what we have in terms of current sensors and data analysis workflows. If you were given $1 million to develop a new form of sensor or new form of data analysis, what would you do? This can be research, field work, fabrication of sensors, etc. Think about what you would measure, at what spatial and temporal scale and resolution. Over to you to design the next generation of sensors for taking the pulse of our groundwater systems."
   ]
  },
  {
   "cell_type": "markdown",
   "id": "ppQwIYkjJ8FZ",
   "metadata": {
    "id": "ppQwIYkjJ8FZ"
   },
   "source": [
    "**your answer here**"
   ]
  }
 ],
 "metadata": {
  "colab": {
   "collapsed_sections": [
    "j9EKjeHEIsJW"
   ],
   "provenance": [
    {
     "file_id": "1PRzvNFvT1_7q_PMbgEJ5z2LrEE-LIcFP",
     "timestamp": 1707987043414
    },
    {
     "file_id": "1PO7BORE39dUXSkEIW6sUGVXCphTKolJp",
     "timestamp": 1707872084453
    },
    {
     "file_id": "https://github.com/envgp/taking_the_pulse_of_the_planet/blob/main/Notebooks%202022-2023/pulse_assignment_6.ipynb",
     "timestamp": 1707856846115
    }
   ]
  },
  "kernelspec": {
   "display_name": "Python 3 (ipykernel)",
   "language": "python",
   "name": "python3"
  },
  "language_info": {
   "codemirror_mode": {
    "name": "ipython",
    "version": 3
   },
   "file_extension": ".py",
   "mimetype": "text/x-python",
   "name": "python",
   "nbconvert_exporter": "python",
   "pygments_lexer": "ipython3",
   "version": "3.9.6"
  }
 },
 "nbformat": 4,
 "nbformat_minor": 5
}
