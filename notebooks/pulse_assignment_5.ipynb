{
 "cells": [
  {
   "cell_type": "markdown",
   "id": "d475373c",
   "metadata": {
    "id": "d475373c"
   },
   "source": [
    "<a target=\"_blank\" href=\"https://colab.research.google.com/github/GP115/Labs/blob/main/notebooks/pulse_assignment_5.ipynb\">\n",
    "  <img src=\"https://colab.research.google.com/assets/colab-badge.svg\" alt=\"Open In Colab\"/>\n",
    "</a>"
   ]
  },
  {
   "cell_type": "markdown",
   "id": "1d3e1b41-1eae-4ed0-967e-fe2611553baa",
   "metadata": {},
   "source": [
    "# ***Assignment 5: Taking the Pulse of the Oceans & Fishing Activity***\n",
    "\n",
    "Written by Shin Nakayama (shinn1@stanford.edu), Fio Micheli (micheli@stanford.edu)\n",
    "\n",
    "[Stanford Center for Ocean Solutions](https://oceansolutions.stanford.edu), Doerr School of Sustainability\n",
    "\n",
    "Modified by Flora Huang (flora221@stanford.edu)\n",
    "\n",
    "\n",
    "This assignment is due on Thursday 2024-2-8, before class. Change the name of your notebook to tpp_assignment_5_sunetID.ipynb Share your completed notebook with the TAs akroo@stanford.edu & flora221@stanford.edu using the share banner at the top. For help submitting, see the canvas walkthrough. If you are still having technical difficulties, email us before the deadline.\n",
    "\n",
    "## **INTRODUCTION TO THE ASSIGNMENT**\n",
    "Fisheries play a vital role in our food security, economy and ecosystem, while posing significant impacts on the oceans. Industrialization of fisheries has allowed us to catch more fish with engine-powered fishing fleets and gears. Non-selective fishing gears have let bycatch of unwanted and endangered species, while bottom trawlers have killed coral reefs by dragging the nets over seabeds. Currently, 35% of the fish population is overfished, and a study predicts that there will be no fish in the ocean by 2048, calling for better fisheries management.\n",
    "\n",
    "## **DATA SETS**\n",
    "Data sets used this assignment are: 1) global fishing effort, 2) regional fishing effort, 3) ocean chlorophyll a and sea surface temperature, and 4) shapefile of exclusive economic zones (EEZ).  \n",
    "1. `fishing_hours.parquet` &mdash; A pre-processed grid data of daily fishing hours from 2016-01-01 to 2021-12-31, sumed within 1 × 1-degree grids. The original data are composed of locations, timestamp, and fishing hours associated with each AIS signal. Data taken from [Global Fishing Watch](https://globalfishingwatch.org).\n",
    "    - `date`: year-month-day\n",
    "    - `lat`: latitude\n",
    "    - `lon`: longitude\n",
    "    - `gear`: fishing gear type (trawlers, purse seines, etc.)\n",
    "    - `flag`: vessel flag in ISO 3 code (that is, State which a vessel is registered to)\n",
    "    - `fishing_hours`: total fishing hours in a 1 x 1-degree grid\n",
    "2. `fishing_hours_x.parquet` &mdash; A pre-processed grid data of daily fishing hours from 2016-01-01 to 2021-12-31, sumed within 0.1 × 0.1-degree grids, for specific regions.\n",
    "    - `fishing_hours_peru.parquet`: Near Peru with longitude [-100, -60] and latitude [-30, 10]\n",
    "    - `fishing_hours_w_africa.parquet`: Near West Africa with longitude [-40, 0] and latitude [-10, 30]\n",
    "    - `fishing_hours_pacific.parquet` : in the Pacific with longitude [140, 180] and latitude [-35, 5]    \n",
    "3. `modis.parquet` &mdash; A pre-processed grid data of monthly mean measurements by MODIS AQUA sensor from 2016-01 to 2021-12, averaged within 1 × 1-degree grids. Data taken from [NASA MODIS Terra satellite imagery](https://developers.google.com/earth-engine/datasets/catalog/NASA_OCEANDATA_MODIS-Terra_L3SMI).\n",
    "    - `month`: year-month\n",
    "    - `sst`: sea surface temperature (°C)\n",
    "    - `chlor_a`: chlorophyll a concentration (mg/m<sup>3</sup>)\n",
    "4. `World_EEZ_v12` &mdash; shapefile of Exclusive Economic Zones (EEZ). Data taken from [MarineRegions.org](https://www.marineregions.org).\n",
    "\n",
    "\n",
    "## **TOOLBOX**\n",
    "All the Python functions and packages you will use in this assignment are in the toolbox for the course. We add new tools to the toolbox with each assignment as new ways of analyzing and visualizing data are introduced.<a target=\"_blank\" href=\"https://colab.research.google.com/github/GP115/Labs/blob/main/notebooks/pulse_toolbox.ipynb\">\n",
    "  <img src=https://github.com/GP115/labs/blob/main/toolbox.png?raw=true\" alt=\"Open In Colab\"/ width=80>\n",
    "  \n",
    "This week you will be working with both gridded data and dataframes. Try leveraging what we've been learning in the past few weeks!\n",
    "numpy (numbers for python) is a package of python tools that handle the mathematical operations.\n",
    "pandas (referred to as pd in lines of code) is a package of python tools that can be used to work efficiently with datasets, taken into pandas and referred to as dataframes.\n",
    "matplotlib is a package that is useful for generating plots.\n",
    "xarray is a package in python that builds off of pandas to support working with gridded data.\n",
    "cartopy is a package designed for geospatial data processing in order to produce maps and other geospatial data analyses.\n",
    "datetime is a package that helps interpret months, years etc. as a single date/time object\n",
    "\n",
    "## **THE LEARNING GOALS FOR THE WEEK**\n",
    "\n",
    "Students will:\n",
    "- learn about the ways in which climate change and human activity are impacting planet Earth, *with a focus this week on fishing activities in response to climates.*\n",
    "\n",
    "- become familiar with the wide range of sensors available to study various components of the Earth system. These include sensors on satellites, aircraft, ground-based platforms, and deployed above or beneath the surface on land or water. *This week we will use vessel-borne GPS data on the Automatic Identification System (AIS) for fishing effort and MODIS satellite imagery data for ocean productivity and temperature.*\n",
    "\n",
    "- become familiar with the basic physical principles (resolution, sampling, processing workflows, etc.) common to all sensors. *This week we will use data with different sampling frequencies and resolutions.*\n",
    "\n",
    "- work with various sources of data, learning how to access, analyze, synthesize, and describe the data to quantify trends; think critically and creatively about how to project these trends into the future. *This week we will describe the spatial and temporal patterns of the data.*\n",
    "\n",
    "- describe the complex interactions between human activity and various components of the Earth system. *This week we will explore the potential drivers of fishing activities by overlaying different datasets on the same plots and with statistics such as linear regression and cross-correlation.*\n",
    "\n",
    "- become motivated to think about new sensors and new ways of using sensor data to study the planet. This is always the last question in each assignment."
   ]
  },
  {
   "cell_type": "markdown",
   "id": "rc74IRf4f9YW",
   "metadata": {
    "id": "rc74IRf4f9YW"
   },
   "source": [
    "# **In Class Assignment**"
   ]
  },
  {
   "cell_type": "markdown",
   "id": "ckj9FZofCsQY",
   "metadata": {
    "id": "ckj9FZofCsQY"
   },
   "source": [
    "## 1) **Install and Import Packages**: numpy, pandas, matplotlib, xarray, cartopy\n",
    "Complete this in the code cell below."
   ]
  },
  {
   "cell_type": "code",
   "execution_count": null,
   "id": "K7LxjSHiCjp4",
   "metadata": {
    "id": "K7LxjSHiCjp4"
   },
   "outputs": [],
   "source": [
    "!pip install cartopy"
   ]
  },
  {
   "cell_type": "code",
   "execution_count": null,
   "id": "45cd5f49",
   "metadata": {
    "id": "45cd5f49"
   },
   "outputs": [],
   "source": [
    "import numpy as np\n",
    "import pandas as pd\n",
    "import geopandas as gpd\n",
    "import matplotlib.pyplot as plt\n",
    "import matplotlib.dates as mdates\n",
    "from matplotlib.colors import LogNorm\n",
    "import xarray as xr\n",
    "import cartopy.crs as ccrs\n",
    "import cartopy.feature as cf"
   ]
  },
  {
   "cell_type": "markdown",
   "id": "AO5qmSPHC4EV",
   "metadata": {
    "id": "AO5qmSPHC4EV"
   },
   "source": [
    "## 2) **Importing required data**\n",
    "Run the following code cells to load the data into a variable called fish."
   ]
  },
  {
   "cell_type": "code",
   "execution_count": null,
   "id": "cc6cPY1sDBar",
   "metadata": {
    "id": "cc6cPY1sDBar"
   },
   "outputs": [],
   "source": [
    "!git clone https://premonition.stanford.edu/sgkang09/taking_the_pulse_ocean_data.git"
   ]
  },
  {
   "cell_type": "code",
   "execution_count": null,
   "id": "kIO64H-LRmIm",
   "metadata": {
    "id": "kIO64H-LRmIm"
   },
   "outputs": [],
   "source": [
    "! git clone https://premonition.stanford.edu/taking-the-pulse-of-the-planet/world-eez-v12"
   ]
  },
  {
   "cell_type": "code",
   "execution_count": null,
   "id": "250a9377",
   "metadata": {
    "id": "250a9377"
   },
   "outputs": [],
   "source": [
    "# load data\n",
    "fish = pd.read_parquet('./taking_the_pulse_ocean_data/fishing_hours.parquet')"
   ]
  },
  {
   "cell_type": "code",
   "execution_count": null,
   "id": "94phiiY0Bcax",
   "metadata": {
    "id": "94phiiY0Bcax"
   },
   "outputs": [],
   "source": [
    "# convert string to datetime object -- this is data cleanup that we do for you\n",
    "fish['date'] = pd.to_datetime(fish['date'], format='%Y-%m-%d')\n",
    "fish"
   ]
  },
  {
   "cell_type": "markdown",
   "id": "21546261",
   "metadata": {
    "id": "21546261"
   },
   "source": [
    "## 3) **Understanding Global Patterns of Fishing Activity**\n",
    "\n",
    "Fishing activity can be inferred from the automatic information system (AIS). Originally to avoid collision at sea, distant-water fishing fleets are required by International Maritime Organization to transmit their positions at sea. From their movement patterns, we can infer whether a vessel is fishing or non-fishing using a machine-learning approach (see [this paper](https://journals.plos.org/plosone/article?id=10.1371%2Fjournal.pone.0158248) for details). The AIS data are processed and curated by [Global Fishing Watch](https://globalfishingwatch.org), a non-profitable organization with a mission of transparency for sustainable fisheries."
   ]
  },
  {
   "cell_type": "markdown",
   "id": "-uwNf8pOAG3p",
   "metadata": {
    "id": "-uwNf8pOAG3p"
   },
   "source": [
    "### **a)** Observe the patterns of global fishing hours by grouping by date and using ```.sum()``` to add up the total hours recorded each day. Then, plot it out!"
   ]
  },
  {
   "cell_type": "code",
   "execution_count": null,
   "id": "LnkwFimKAtic",
   "metadata": {
    "id": "LnkwFimKAtic"
   },
   "outputs": [],
   "source": []
  },
  {
   "cell_type": "markdown",
   "id": "C5YqAt85AwNJ",
   "metadata": {
    "id": "C5YqAt85AwNJ"
   },
   "source": [
    "### **b)** What temporal pattern do you notice in your plot? What do you think causes these patterns? (1-2 sentences)"
   ]
  },
  {
   "cell_type": "markdown",
   "id": "9ec3da66",
   "metadata": {
    "id": "9ec3da66"
   },
   "source": [
    "### **c)** Plot a map of fishing hours and observe the spatial patterns.\n",
    "The work of standardizing fishing hours is done for you already. For your workflow, you may want to think about regrouping your fish data in a way that looks at fishing_hours_km2 spatially. Once you've done so, try manipulating your data into an xarray gridded data format to plot!\n",
    "\n",
    "As a bit of optional work: try looking around the notebook and seeing if there's any way to make your plot look nicer -- think about figure sizes or adding in the continents."
   ]
  },
  {
   "cell_type": "code",
   "execution_count": null,
   "id": "WNfbh3kYfSh7",
   "metadata": {
    "colab": {
     "base_uri": "https://localhost:8080/",
     "height": 419
    },
    "executionInfo": {
     "elapsed": 814,
     "status": "ok",
     "timestamp": 1706821502454,
     "user": {
      "displayName": "Shinnosuke Nakayama",
      "userId": "08173328530231749224"
     },
     "user_tz": 480
    },
    "id": "WNfbh3kYfSh7",
    "outputId": "0ba3e28e-49b8-4800-c047-cae98efa3c77"
   },
   "outputs": [
    {
     "data": {
      "text/html": [
       "\n",
       "  <div id=\"df-e809a9cf-56f7-4f8c-8cd1-4f8307828d7e\" class=\"colab-df-container\">\n",
       "    <div>\n",
       "<style scoped>\n",
       "    .dataframe tbody tr th:only-of-type {\n",
       "        vertical-align: middle;\n",
       "    }\n",
       "\n",
       "    .dataframe tbody tr th {\n",
       "        vertical-align: top;\n",
       "    }\n",
       "\n",
       "    .dataframe thead th {\n",
       "        text-align: right;\n",
       "    }\n",
       "</style>\n",
       "<table border=\"1\" class=\"dataframe\">\n",
       "  <thead>\n",
       "    <tr style=\"text-align: right;\">\n",
       "      <th></th>\n",
       "      <th>date</th>\n",
       "      <th>lat</th>\n",
       "      <th>lon</th>\n",
       "      <th>gear</th>\n",
       "      <th>flag</th>\n",
       "      <th>fishing_hours</th>\n",
       "      <th>area_km2</th>\n",
       "    </tr>\n",
       "  </thead>\n",
       "  <tbody>\n",
       "    <tr>\n",
       "      <th>0</th>\n",
       "      <td>2016-01-01</td>\n",
       "      <td>-78</td>\n",
       "      <td>-178</td>\n",
       "      <td>set_longlines</td>\n",
       "      <td>RUS</td>\n",
       "      <td>16.628333</td>\n",
       "      <td>2561.679943</td>\n",
       "    </tr>\n",
       "    <tr>\n",
       "      <th>1</th>\n",
       "      <td>2016-01-01</td>\n",
       "      <td>-78</td>\n",
       "      <td>-177</td>\n",
       "      <td>set_longlines</td>\n",
       "      <td>RUS</td>\n",
       "      <td>3.347222</td>\n",
       "      <td>2561.679943</td>\n",
       "    </tr>\n",
       "    <tr>\n",
       "      <th>2</th>\n",
       "      <td>2016-01-01</td>\n",
       "      <td>-74</td>\n",
       "      <td>-118</td>\n",
       "      <td>set_longlines</td>\n",
       "      <td>UKR</td>\n",
       "      <td>17.537222</td>\n",
       "      <td>3396.127861</td>\n",
       "    </tr>\n",
       "    <tr>\n",
       "      <th>3</th>\n",
       "      <td>2016-01-01</td>\n",
       "      <td>-74</td>\n",
       "      <td>-117</td>\n",
       "      <td>set_longlines</td>\n",
       "      <td>UKR</td>\n",
       "      <td>3.983611</td>\n",
       "      <td>3396.127861</td>\n",
       "    </tr>\n",
       "    <tr>\n",
       "      <th>4</th>\n",
       "      <td>2016-01-01</td>\n",
       "      <td>-73</td>\n",
       "      <td>-180</td>\n",
       "      <td>set_longlines</td>\n",
       "      <td>RUS</td>\n",
       "      <td>21.068056</td>\n",
       "      <td>3602.311774</td>\n",
       "    </tr>\n",
       "    <tr>\n",
       "      <th>...</th>\n",
       "      <td>...</td>\n",
       "      <td>...</td>\n",
       "      <td>...</td>\n",
       "      <td>...</td>\n",
       "      <td>...</td>\n",
       "      <td>...</td>\n",
       "      <td>...</td>\n",
       "    </tr>\n",
       "    <tr>\n",
       "      <th>10891139</th>\n",
       "      <td>2021-12-31</td>\n",
       "      <td>77</td>\n",
       "      <td>13</td>\n",
       "      <td>trawlers</td>\n",
       "      <td>RUS</td>\n",
       "      <td>4.600833</td>\n",
       "      <td>2771.621941</td>\n",
       "    </tr>\n",
       "    <tr>\n",
       "      <th>10891140</th>\n",
       "      <td>2021-12-31</td>\n",
       "      <td>78</td>\n",
       "      <td>8</td>\n",
       "      <td>trawlers</td>\n",
       "      <td>RUS</td>\n",
       "      <td>2.299722</td>\n",
       "      <td>2561.679943</td>\n",
       "    </tr>\n",
       "    <tr>\n",
       "      <th>10891141</th>\n",
       "      <td>2021-12-31</td>\n",
       "      <td>78</td>\n",
       "      <td>9</td>\n",
       "      <td>trawlers</td>\n",
       "      <td>RUS</td>\n",
       "      <td>4.818611</td>\n",
       "      <td>2561.679943</td>\n",
       "    </tr>\n",
       "    <tr>\n",
       "      <th>10891142</th>\n",
       "      <td>2021-12-31</td>\n",
       "      <td>79</td>\n",
       "      <td>8</td>\n",
       "      <td>trawlers</td>\n",
       "      <td>RUS</td>\n",
       "      <td>55.911568</td>\n",
       "      <td>2350.957632</td>\n",
       "    </tr>\n",
       "    <tr>\n",
       "      <th>10891143</th>\n",
       "      <td>2021-12-31</td>\n",
       "      <td>79</td>\n",
       "      <td>9</td>\n",
       "      <td>trawlers</td>\n",
       "      <td>RUS</td>\n",
       "      <td>11.507321</td>\n",
       "      <td>2350.957632</td>\n",
       "    </tr>\n",
       "  </tbody>\n",
       "</table>\n",
       "<p>10891144 rows × 7 columns</p>\n",
       "</div>\n",
       "    <div class=\"colab-df-buttons\">\n",
       "\n",
       "  <div class=\"colab-df-container\">\n",
       "    <button class=\"colab-df-convert\" onclick=\"convertToInteractive('df-e809a9cf-56f7-4f8c-8cd1-4f8307828d7e')\"\n",
       "            title=\"Convert this dataframe to an interactive table.\"\n",
       "            style=\"display:none;\">\n",
       "\n",
       "  <svg xmlns=\"http://www.w3.org/2000/svg\" height=\"24px\" viewBox=\"0 -960 960 960\">\n",
       "    <path d=\"M120-120v-720h720v720H120Zm60-500h600v-160H180v160Zm220 220h160v-160H400v160Zm0 220h160v-160H400v160ZM180-400h160v-160H180v160Zm440 0h160v-160H620v160ZM180-180h160v-160H180v160Zm440 0h160v-160H620v160Z\"/>\n",
       "  </svg>\n",
       "    </button>\n",
       "\n",
       "  <style>\n",
       "    .colab-df-container {\n",
       "      display:flex;\n",
       "      gap: 12px;\n",
       "    }\n",
       "\n",
       "    .colab-df-convert {\n",
       "      background-color: #E8F0FE;\n",
       "      border: none;\n",
       "      border-radius: 50%;\n",
       "      cursor: pointer;\n",
       "      display: none;\n",
       "      fill: #1967D2;\n",
       "      height: 32px;\n",
       "      padding: 0 0 0 0;\n",
       "      width: 32px;\n",
       "    }\n",
       "\n",
       "    .colab-df-convert:hover {\n",
       "      background-color: #E2EBFA;\n",
       "      box-shadow: 0px 1px 2px rgba(60, 64, 67, 0.3), 0px 1px 3px 1px rgba(60, 64, 67, 0.15);\n",
       "      fill: #174EA6;\n",
       "    }\n",
       "\n",
       "    .colab-df-buttons div {\n",
       "      margin-bottom: 4px;\n",
       "    }\n",
       "\n",
       "    [theme=dark] .colab-df-convert {\n",
       "      background-color: #3B4455;\n",
       "      fill: #D2E3FC;\n",
       "    }\n",
       "\n",
       "    [theme=dark] .colab-df-convert:hover {\n",
       "      background-color: #434B5C;\n",
       "      box-shadow: 0px 1px 3px 1px rgba(0, 0, 0, 0.15);\n",
       "      filter: drop-shadow(0px 1px 2px rgba(0, 0, 0, 0.3));\n",
       "      fill: #FFFFFF;\n",
       "    }\n",
       "  </style>\n",
       "\n",
       "    <script>\n",
       "      const buttonEl =\n",
       "        document.querySelector('#df-e809a9cf-56f7-4f8c-8cd1-4f8307828d7e button.colab-df-convert');\n",
       "      buttonEl.style.display =\n",
       "        google.colab.kernel.accessAllowed ? 'block' : 'none';\n",
       "\n",
       "      async function convertToInteractive(key) {\n",
       "        const element = document.querySelector('#df-e809a9cf-56f7-4f8c-8cd1-4f8307828d7e');\n",
       "        const dataTable =\n",
       "          await google.colab.kernel.invokeFunction('convertToInteractive',\n",
       "                                                    [key], {});\n",
       "        if (!dataTable) return;\n",
       "\n",
       "        const docLinkHtml = 'Like what you see? Visit the ' +\n",
       "          '<a target=\"_blank\" href=https://colab.research.google.com/notebooks/data_table.ipynb>data table notebook</a>'\n",
       "          + ' to learn more about interactive tables.';\n",
       "        element.innerHTML = '';\n",
       "        dataTable['output_type'] = 'display_data';\n",
       "        await google.colab.output.renderOutput(dataTable, element);\n",
       "        const docLink = document.createElement('div');\n",
       "        docLink.innerHTML = docLinkHtml;\n",
       "        element.appendChild(docLink);\n",
       "      }\n",
       "    </script>\n",
       "  </div>\n",
       "\n",
       "\n",
       "<div id=\"df-52a99051-7bc9-4369-9dde-5ed7a3630de6\">\n",
       "  <button class=\"colab-df-quickchart\" onclick=\"quickchart('df-52a99051-7bc9-4369-9dde-5ed7a3630de6')\"\n",
       "            title=\"Suggest charts\"\n",
       "            style=\"display:none;\">\n",
       "\n",
       "<svg xmlns=\"http://www.w3.org/2000/svg\" height=\"24px\"viewBox=\"0 0 24 24\"\n",
       "     width=\"24px\">\n",
       "    <g>\n",
       "        <path d=\"M19 3H5c-1.1 0-2 .9-2 2v14c0 1.1.9 2 2 2h14c1.1 0 2-.9 2-2V5c0-1.1-.9-2-2-2zM9 17H7v-7h2v7zm4 0h-2V7h2v10zm4 0h-2v-4h2v4z\"/>\n",
       "    </g>\n",
       "</svg>\n",
       "  </button>\n",
       "\n",
       "<style>\n",
       "  .colab-df-quickchart {\n",
       "      --bg-color: #E8F0FE;\n",
       "      --fill-color: #1967D2;\n",
       "      --hover-bg-color: #E2EBFA;\n",
       "      --hover-fill-color: #174EA6;\n",
       "      --disabled-fill-color: #AAA;\n",
       "      --disabled-bg-color: #DDD;\n",
       "  }\n",
       "\n",
       "  [theme=dark] .colab-df-quickchart {\n",
       "      --bg-color: #3B4455;\n",
       "      --fill-color: #D2E3FC;\n",
       "      --hover-bg-color: #434B5C;\n",
       "      --hover-fill-color: #FFFFFF;\n",
       "      --disabled-bg-color: #3B4455;\n",
       "      --disabled-fill-color: #666;\n",
       "  }\n",
       "\n",
       "  .colab-df-quickchart {\n",
       "    background-color: var(--bg-color);\n",
       "    border: none;\n",
       "    border-radius: 50%;\n",
       "    cursor: pointer;\n",
       "    display: none;\n",
       "    fill: var(--fill-color);\n",
       "    height: 32px;\n",
       "    padding: 0;\n",
       "    width: 32px;\n",
       "  }\n",
       "\n",
       "  .colab-df-quickchart:hover {\n",
       "    background-color: var(--hover-bg-color);\n",
       "    box-shadow: 0 1px 2px rgba(60, 64, 67, 0.3), 0 1px 3px 1px rgba(60, 64, 67, 0.15);\n",
       "    fill: var(--button-hover-fill-color);\n",
       "  }\n",
       "\n",
       "  .colab-df-quickchart-complete:disabled,\n",
       "  .colab-df-quickchart-complete:disabled:hover {\n",
       "    background-color: var(--disabled-bg-color);\n",
       "    fill: var(--disabled-fill-color);\n",
       "    box-shadow: none;\n",
       "  }\n",
       "\n",
       "  .colab-df-spinner {\n",
       "    border: 2px solid var(--fill-color);\n",
       "    border-color: transparent;\n",
       "    border-bottom-color: var(--fill-color);\n",
       "    animation:\n",
       "      spin 1s steps(1) infinite;\n",
       "  }\n",
       "\n",
       "  @keyframes spin {\n",
       "    0% {\n",
       "      border-color: transparent;\n",
       "      border-bottom-color: var(--fill-color);\n",
       "      border-left-color: var(--fill-color);\n",
       "    }\n",
       "    20% {\n",
       "      border-color: transparent;\n",
       "      border-left-color: var(--fill-color);\n",
       "      border-top-color: var(--fill-color);\n",
       "    }\n",
       "    30% {\n",
       "      border-color: transparent;\n",
       "      border-left-color: var(--fill-color);\n",
       "      border-top-color: var(--fill-color);\n",
       "      border-right-color: var(--fill-color);\n",
       "    }\n",
       "    40% {\n",
       "      border-color: transparent;\n",
       "      border-right-color: var(--fill-color);\n",
       "      border-top-color: var(--fill-color);\n",
       "    }\n",
       "    60% {\n",
       "      border-color: transparent;\n",
       "      border-right-color: var(--fill-color);\n",
       "    }\n",
       "    80% {\n",
       "      border-color: transparent;\n",
       "      border-right-color: var(--fill-color);\n",
       "      border-bottom-color: var(--fill-color);\n",
       "    }\n",
       "    90% {\n",
       "      border-color: transparent;\n",
       "      border-bottom-color: var(--fill-color);\n",
       "    }\n",
       "  }\n",
       "</style>\n",
       "\n",
       "  <script>\n",
       "    async function quickchart(key) {\n",
       "      const quickchartButtonEl =\n",
       "        document.querySelector('#' + key + ' button');\n",
       "      quickchartButtonEl.disabled = true;  // To prevent multiple clicks.\n",
       "      quickchartButtonEl.classList.add('colab-df-spinner');\n",
       "      try {\n",
       "        const charts = await google.colab.kernel.invokeFunction(\n",
       "            'suggestCharts', [key], {});\n",
       "      } catch (error) {\n",
       "        console.error('Error during call to suggestCharts:', error);\n",
       "      }\n",
       "      quickchartButtonEl.classList.remove('colab-df-spinner');\n",
       "      quickchartButtonEl.classList.add('colab-df-quickchart-complete');\n",
       "    }\n",
       "    (() => {\n",
       "      let quickchartButtonEl =\n",
       "        document.querySelector('#df-52a99051-7bc9-4369-9dde-5ed7a3630de6 button');\n",
       "      quickchartButtonEl.style.display =\n",
       "        google.colab.kernel.accessAllowed ? 'block' : 'none';\n",
       "    })();\n",
       "  </script>\n",
       "</div>\n",
       "    </div>\n",
       "  </div>\n"
      ],
      "text/plain": [
       "               date  lat   lon           gear flag  fishing_hours     area_km2\n",
       "0        2016-01-01  -78  -178  set_longlines  RUS      16.628333  2561.679943\n",
       "1        2016-01-01  -78  -177  set_longlines  RUS       3.347222  2561.679943\n",
       "2        2016-01-01  -74  -118  set_longlines  UKR      17.537222  3396.127861\n",
       "3        2016-01-01  -74  -117  set_longlines  UKR       3.983611  3396.127861\n",
       "4        2016-01-01  -73  -180  set_longlines  RUS      21.068056  3602.311774\n",
       "...             ...  ...   ...            ...  ...            ...          ...\n",
       "10891139 2021-12-31   77    13       trawlers  RUS       4.600833  2771.621941\n",
       "10891140 2021-12-31   78     8       trawlers  RUS       2.299722  2561.679943\n",
       "10891141 2021-12-31   78     9       trawlers  RUS       4.818611  2561.679943\n",
       "10891142 2021-12-31   79     8       trawlers  RUS      55.911568  2350.957632\n",
       "10891143 2021-12-31   79     9       trawlers  RUS      11.507321  2350.957632\n",
       "\n",
       "[10891144 rows x 7 columns]"
      ]
     },
     "execution_count": 7,
     "metadata": {},
     "output_type": "execute_result"
    }
   ],
   "source": [
    "fish['area_km2'] = 111 * 111 * np.cos(fish['lat'] * np.pi / 180)\n",
    "fish"
   ]
  },
  {
   "cell_type": "code",
   "execution_count": null,
   "id": "8e4841cf",
   "metadata": {
    "colab": {
     "base_uri": "https://localhost:8080/",
     "height": 419
    },
    "executionInfo": {
     "elapsed": 635,
     "status": "ok",
     "timestamp": 1706821512915,
     "user": {
      "displayName": "Shinnosuke Nakayama",
      "userId": "08173328530231749224"
     },
     "user_tz": 480
    },
    "id": "8e4841cf",
    "outputId": "bc4436cb-c7fb-45c3-9f3f-537261fbc3cc"
   },
   "outputs": [
    {
     "data": {
      "text/html": [
       "\n",
       "  <div id=\"df-e216407a-3f35-44ac-be72-1e3f5205f7f3\" class=\"colab-df-container\">\n",
       "    <div>\n",
       "<style scoped>\n",
       "    .dataframe tbody tr th:only-of-type {\n",
       "        vertical-align: middle;\n",
       "    }\n",
       "\n",
       "    .dataframe tbody tr th {\n",
       "        vertical-align: top;\n",
       "    }\n",
       "\n",
       "    .dataframe thead th {\n",
       "        text-align: right;\n",
       "    }\n",
       "</style>\n",
       "<table border=\"1\" class=\"dataframe\">\n",
       "  <thead>\n",
       "    <tr style=\"text-align: right;\">\n",
       "      <th></th>\n",
       "      <th>date</th>\n",
       "      <th>lat</th>\n",
       "      <th>lon</th>\n",
       "      <th>gear</th>\n",
       "      <th>flag</th>\n",
       "      <th>fishing_hours</th>\n",
       "      <th>area_km2</th>\n",
       "      <th>fishing_hours_km2</th>\n",
       "    </tr>\n",
       "  </thead>\n",
       "  <tbody>\n",
       "    <tr>\n",
       "      <th>0</th>\n",
       "      <td>2016-01-01</td>\n",
       "      <td>-78</td>\n",
       "      <td>-178</td>\n",
       "      <td>set_longlines</td>\n",
       "      <td>RUS</td>\n",
       "      <td>16.628333</td>\n",
       "      <td>2561.679943</td>\n",
       "      <td>0.006491</td>\n",
       "    </tr>\n",
       "    <tr>\n",
       "      <th>1</th>\n",
       "      <td>2016-01-01</td>\n",
       "      <td>-78</td>\n",
       "      <td>-177</td>\n",
       "      <td>set_longlines</td>\n",
       "      <td>RUS</td>\n",
       "      <td>3.347222</td>\n",
       "      <td>2561.679943</td>\n",
       "      <td>0.001307</td>\n",
       "    </tr>\n",
       "    <tr>\n",
       "      <th>2</th>\n",
       "      <td>2016-01-01</td>\n",
       "      <td>-74</td>\n",
       "      <td>-118</td>\n",
       "      <td>set_longlines</td>\n",
       "      <td>UKR</td>\n",
       "      <td>17.537222</td>\n",
       "      <td>3396.127861</td>\n",
       "      <td>0.005164</td>\n",
       "    </tr>\n",
       "    <tr>\n",
       "      <th>3</th>\n",
       "      <td>2016-01-01</td>\n",
       "      <td>-74</td>\n",
       "      <td>-117</td>\n",
       "      <td>set_longlines</td>\n",
       "      <td>UKR</td>\n",
       "      <td>3.983611</td>\n",
       "      <td>3396.127861</td>\n",
       "      <td>0.001173</td>\n",
       "    </tr>\n",
       "    <tr>\n",
       "      <th>4</th>\n",
       "      <td>2016-01-01</td>\n",
       "      <td>-73</td>\n",
       "      <td>-180</td>\n",
       "      <td>set_longlines</td>\n",
       "      <td>RUS</td>\n",
       "      <td>21.068056</td>\n",
       "      <td>3602.311774</td>\n",
       "      <td>0.005848</td>\n",
       "    </tr>\n",
       "    <tr>\n",
       "      <th>...</th>\n",
       "      <td>...</td>\n",
       "      <td>...</td>\n",
       "      <td>...</td>\n",
       "      <td>...</td>\n",
       "      <td>...</td>\n",
       "      <td>...</td>\n",
       "      <td>...</td>\n",
       "      <td>...</td>\n",
       "    </tr>\n",
       "    <tr>\n",
       "      <th>10891139</th>\n",
       "      <td>2021-12-31</td>\n",
       "      <td>77</td>\n",
       "      <td>13</td>\n",
       "      <td>trawlers</td>\n",
       "      <td>RUS</td>\n",
       "      <td>4.600833</td>\n",
       "      <td>2771.621941</td>\n",
       "      <td>0.00166</td>\n",
       "    </tr>\n",
       "    <tr>\n",
       "      <th>10891140</th>\n",
       "      <td>2021-12-31</td>\n",
       "      <td>78</td>\n",
       "      <td>8</td>\n",
       "      <td>trawlers</td>\n",
       "      <td>RUS</td>\n",
       "      <td>2.299722</td>\n",
       "      <td>2561.679943</td>\n",
       "      <td>0.000898</td>\n",
       "    </tr>\n",
       "    <tr>\n",
       "      <th>10891141</th>\n",
       "      <td>2021-12-31</td>\n",
       "      <td>78</td>\n",
       "      <td>9</td>\n",
       "      <td>trawlers</td>\n",
       "      <td>RUS</td>\n",
       "      <td>4.818611</td>\n",
       "      <td>2561.679943</td>\n",
       "      <td>0.001881</td>\n",
       "    </tr>\n",
       "    <tr>\n",
       "      <th>10891142</th>\n",
       "      <td>2021-12-31</td>\n",
       "      <td>79</td>\n",
       "      <td>8</td>\n",
       "      <td>trawlers</td>\n",
       "      <td>RUS</td>\n",
       "      <td>55.911568</td>\n",
       "      <td>2350.957632</td>\n",
       "      <td>0.023782</td>\n",
       "    </tr>\n",
       "    <tr>\n",
       "      <th>10891143</th>\n",
       "      <td>2021-12-31</td>\n",
       "      <td>79</td>\n",
       "      <td>9</td>\n",
       "      <td>trawlers</td>\n",
       "      <td>RUS</td>\n",
       "      <td>11.507321</td>\n",
       "      <td>2350.957632</td>\n",
       "      <td>0.004895</td>\n",
       "    </tr>\n",
       "  </tbody>\n",
       "</table>\n",
       "<p>10891144 rows × 8 columns</p>\n",
       "</div>\n",
       "    <div class=\"colab-df-buttons\">\n",
       "\n",
       "  <div class=\"colab-df-container\">\n",
       "    <button class=\"colab-df-convert\" onclick=\"convertToInteractive('df-e216407a-3f35-44ac-be72-1e3f5205f7f3')\"\n",
       "            title=\"Convert this dataframe to an interactive table.\"\n",
       "            style=\"display:none;\">\n",
       "\n",
       "  <svg xmlns=\"http://www.w3.org/2000/svg\" height=\"24px\" viewBox=\"0 -960 960 960\">\n",
       "    <path d=\"M120-120v-720h720v720H120Zm60-500h600v-160H180v160Zm220 220h160v-160H400v160Zm0 220h160v-160H400v160ZM180-400h160v-160H180v160Zm440 0h160v-160H620v160ZM180-180h160v-160H180v160Zm440 0h160v-160H620v160Z\"/>\n",
       "  </svg>\n",
       "    </button>\n",
       "\n",
       "  <style>\n",
       "    .colab-df-container {\n",
       "      display:flex;\n",
       "      gap: 12px;\n",
       "    }\n",
       "\n",
       "    .colab-df-convert {\n",
       "      background-color: #E8F0FE;\n",
       "      border: none;\n",
       "      border-radius: 50%;\n",
       "      cursor: pointer;\n",
       "      display: none;\n",
       "      fill: #1967D2;\n",
       "      height: 32px;\n",
       "      padding: 0 0 0 0;\n",
       "      width: 32px;\n",
       "    }\n",
       "\n",
       "    .colab-df-convert:hover {\n",
       "      background-color: #E2EBFA;\n",
       "      box-shadow: 0px 1px 2px rgba(60, 64, 67, 0.3), 0px 1px 3px 1px rgba(60, 64, 67, 0.15);\n",
       "      fill: #174EA6;\n",
       "    }\n",
       "\n",
       "    .colab-df-buttons div {\n",
       "      margin-bottom: 4px;\n",
       "    }\n",
       "\n",
       "    [theme=dark] .colab-df-convert {\n",
       "      background-color: #3B4455;\n",
       "      fill: #D2E3FC;\n",
       "    }\n",
       "\n",
       "    [theme=dark] .colab-df-convert:hover {\n",
       "      background-color: #434B5C;\n",
       "      box-shadow: 0px 1px 3px 1px rgba(0, 0, 0, 0.15);\n",
       "      filter: drop-shadow(0px 1px 2px rgba(0, 0, 0, 0.3));\n",
       "      fill: #FFFFFF;\n",
       "    }\n",
       "  </style>\n",
       "\n",
       "    <script>\n",
       "      const buttonEl =\n",
       "        document.querySelector('#df-e216407a-3f35-44ac-be72-1e3f5205f7f3 button.colab-df-convert');\n",
       "      buttonEl.style.display =\n",
       "        google.colab.kernel.accessAllowed ? 'block' : 'none';\n",
       "\n",
       "      async function convertToInteractive(key) {\n",
       "        const element = document.querySelector('#df-e216407a-3f35-44ac-be72-1e3f5205f7f3');\n",
       "        const dataTable =\n",
       "          await google.colab.kernel.invokeFunction('convertToInteractive',\n",
       "                                                    [key], {});\n",
       "        if (!dataTable) return;\n",
       "\n",
       "        const docLinkHtml = 'Like what you see? Visit the ' +\n",
       "          '<a target=\"_blank\" href=https://colab.research.google.com/notebooks/data_table.ipynb>data table notebook</a>'\n",
       "          + ' to learn more about interactive tables.';\n",
       "        element.innerHTML = '';\n",
       "        dataTable['output_type'] = 'display_data';\n",
       "        await google.colab.output.renderOutput(dataTable, element);\n",
       "        const docLink = document.createElement('div');\n",
       "        docLink.innerHTML = docLinkHtml;\n",
       "        element.appendChild(docLink);\n",
       "      }\n",
       "    </script>\n",
       "  </div>\n",
       "\n",
       "\n",
       "<div id=\"df-fa0aca84-8351-43e9-a504-0ad7e2f8d239\">\n",
       "  <button class=\"colab-df-quickchart\" onclick=\"quickchart('df-fa0aca84-8351-43e9-a504-0ad7e2f8d239')\"\n",
       "            title=\"Suggest charts\"\n",
       "            style=\"display:none;\">\n",
       "\n",
       "<svg xmlns=\"http://www.w3.org/2000/svg\" height=\"24px\"viewBox=\"0 0 24 24\"\n",
       "     width=\"24px\">\n",
       "    <g>\n",
       "        <path d=\"M19 3H5c-1.1 0-2 .9-2 2v14c0 1.1.9 2 2 2h14c1.1 0 2-.9 2-2V5c0-1.1-.9-2-2-2zM9 17H7v-7h2v7zm4 0h-2V7h2v10zm4 0h-2v-4h2v4z\"/>\n",
       "    </g>\n",
       "</svg>\n",
       "  </button>\n",
       "\n",
       "<style>\n",
       "  .colab-df-quickchart {\n",
       "      --bg-color: #E8F0FE;\n",
       "      --fill-color: #1967D2;\n",
       "      --hover-bg-color: #E2EBFA;\n",
       "      --hover-fill-color: #174EA6;\n",
       "      --disabled-fill-color: #AAA;\n",
       "      --disabled-bg-color: #DDD;\n",
       "  }\n",
       "\n",
       "  [theme=dark] .colab-df-quickchart {\n",
       "      --bg-color: #3B4455;\n",
       "      --fill-color: #D2E3FC;\n",
       "      --hover-bg-color: #434B5C;\n",
       "      --hover-fill-color: #FFFFFF;\n",
       "      --disabled-bg-color: #3B4455;\n",
       "      --disabled-fill-color: #666;\n",
       "  }\n",
       "\n",
       "  .colab-df-quickchart {\n",
       "    background-color: var(--bg-color);\n",
       "    border: none;\n",
       "    border-radius: 50%;\n",
       "    cursor: pointer;\n",
       "    display: none;\n",
       "    fill: var(--fill-color);\n",
       "    height: 32px;\n",
       "    padding: 0;\n",
       "    width: 32px;\n",
       "  }\n",
       "\n",
       "  .colab-df-quickchart:hover {\n",
       "    background-color: var(--hover-bg-color);\n",
       "    box-shadow: 0 1px 2px rgba(60, 64, 67, 0.3), 0 1px 3px 1px rgba(60, 64, 67, 0.15);\n",
       "    fill: var(--button-hover-fill-color);\n",
       "  }\n",
       "\n",
       "  .colab-df-quickchart-complete:disabled,\n",
       "  .colab-df-quickchart-complete:disabled:hover {\n",
       "    background-color: var(--disabled-bg-color);\n",
       "    fill: var(--disabled-fill-color);\n",
       "    box-shadow: none;\n",
       "  }\n",
       "\n",
       "  .colab-df-spinner {\n",
       "    border: 2px solid var(--fill-color);\n",
       "    border-color: transparent;\n",
       "    border-bottom-color: var(--fill-color);\n",
       "    animation:\n",
       "      spin 1s steps(1) infinite;\n",
       "  }\n",
       "\n",
       "  @keyframes spin {\n",
       "    0% {\n",
       "      border-color: transparent;\n",
       "      border-bottom-color: var(--fill-color);\n",
       "      border-left-color: var(--fill-color);\n",
       "    }\n",
       "    20% {\n",
       "      border-color: transparent;\n",
       "      border-left-color: var(--fill-color);\n",
       "      border-top-color: var(--fill-color);\n",
       "    }\n",
       "    30% {\n",
       "      border-color: transparent;\n",
       "      border-left-color: var(--fill-color);\n",
       "      border-top-color: var(--fill-color);\n",
       "      border-right-color: var(--fill-color);\n",
       "    }\n",
       "    40% {\n",
       "      border-color: transparent;\n",
       "      border-right-color: var(--fill-color);\n",
       "      border-top-color: var(--fill-color);\n",
       "    }\n",
       "    60% {\n",
       "      border-color: transparent;\n",
       "      border-right-color: var(--fill-color);\n",
       "    }\n",
       "    80% {\n",
       "      border-color: transparent;\n",
       "      border-right-color: var(--fill-color);\n",
       "      border-bottom-color: var(--fill-color);\n",
       "    }\n",
       "    90% {\n",
       "      border-color: transparent;\n",
       "      border-bottom-color: var(--fill-color);\n",
       "    }\n",
       "  }\n",
       "</style>\n",
       "\n",
       "  <script>\n",
       "    async function quickchart(key) {\n",
       "      const quickchartButtonEl =\n",
       "        document.querySelector('#' + key + ' button');\n",
       "      quickchartButtonEl.disabled = true;  // To prevent multiple clicks.\n",
       "      quickchartButtonEl.classList.add('colab-df-spinner');\n",
       "      try {\n",
       "        const charts = await google.colab.kernel.invokeFunction(\n",
       "            'suggestCharts', [key], {});\n",
       "      } catch (error) {\n",
       "        console.error('Error during call to suggestCharts:', error);\n",
       "      }\n",
       "      quickchartButtonEl.classList.remove('colab-df-spinner');\n",
       "      quickchartButtonEl.classList.add('colab-df-quickchart-complete');\n",
       "    }\n",
       "    (() => {\n",
       "      let quickchartButtonEl =\n",
       "        document.querySelector('#df-fa0aca84-8351-43e9-a504-0ad7e2f8d239 button');\n",
       "      quickchartButtonEl.style.display =\n",
       "        google.colab.kernel.accessAllowed ? 'block' : 'none';\n",
       "    })();\n",
       "  </script>\n",
       "</div>\n",
       "    </div>\n",
       "  </div>\n"
      ],
      "text/plain": [
       "               date  lat   lon           gear flag  fishing_hours  \\\n",
       "0        2016-01-01  -78  -178  set_longlines  RUS      16.628333   \n",
       "1        2016-01-01  -78  -177  set_longlines  RUS       3.347222   \n",
       "2        2016-01-01  -74  -118  set_longlines  UKR      17.537222   \n",
       "3        2016-01-01  -74  -117  set_longlines  UKR       3.983611   \n",
       "4        2016-01-01  -73  -180  set_longlines  RUS      21.068056   \n",
       "...             ...  ...   ...            ...  ...            ...   \n",
       "10891139 2021-12-31   77    13       trawlers  RUS       4.600833   \n",
       "10891140 2021-12-31   78     8       trawlers  RUS       2.299722   \n",
       "10891141 2021-12-31   78     9       trawlers  RUS       4.818611   \n",
       "10891142 2021-12-31   79     8       trawlers  RUS      55.911568   \n",
       "10891143 2021-12-31   79     9       trawlers  RUS      11.507321   \n",
       "\n",
       "             area_km2  fishing_hours_km2  \n",
       "0         2561.679943           0.006491  \n",
       "1         2561.679943           0.001307  \n",
       "2         3396.127861           0.005164  \n",
       "3         3396.127861           0.001173  \n",
       "4         3602.311774           0.005848  \n",
       "...               ...                ...  \n",
       "10891139  2771.621941            0.00166  \n",
       "10891140  2561.679943           0.000898  \n",
       "10891141  2561.679943           0.001881  \n",
       "10891142  2350.957632           0.023782  \n",
       "10891143  2350.957632           0.004895  \n",
       "\n",
       "[10891144 rows x 8 columns]"
      ]
     },
     "execution_count": 8,
     "metadata": {},
     "output_type": "execute_result"
    }
   ],
   "source": [
    "# standardize fishing hours to unit area\n",
    "# 1 degree is roughly 111 km at the equator and smaller at higher latitudes\n",
    "fish['area_km2'] = 111 * 111 * np.cos(fish['lat'] * np.pi / 180)\n",
    "#fish['area_km2'] = fish['area_km2'].astype(float) #convert numpy float to pandas float\n",
    "fish['fishing_hours_km2'] = fish['fishing_hours']/fish['area_km2']\n",
    "fish"
   ]
  },
  {
   "cell_type": "markdown",
   "id": "qhH26jRvqQEK",
   "metadata": {
    "id": "qhH26jRvqQEK"
   },
   "source": [
    "Using the fish dataset, group fishing_hours_km2 spatially, summing up similar to what you did in part a."
   ]
  },
  {
   "cell_type": "code",
   "execution_count": null,
   "id": "Q05jLcLf0o0U",
   "metadata": {
    "id": "Q05jLcLf0o0U"
   },
   "outputs": [],
   "source": [
    "fishing_spatial = fish.groupby(['lat', 'lon'])['fishing_hours_km2'].sum()\n",
    "fishing_spatial"
   ]
  },
  {
   "cell_type": "code",
   "execution_count": null,
   "id": "Ba_LyQAuBsG9",
   "metadata": {
    "id": "Ba_LyQAuBsG9"
   },
   "outputs": [],
   "source": []
  },
  {
   "cell_type": "markdown",
   "id": "chSTxAhK9PGF",
   "metadata": {
    "id": "chSTxAhK9PGF"
   },
   "source": [
    "### **d)** Modify the scale of the map to offer more visual depth. Does a linear colorscale offer a good representation of the fishing hours? (1-2 sentences)"
   ]
  },
  {
   "cell_type": "code",
   "execution_count": null,
   "id": "jQTllUy5EKju",
   "metadata": {
    "id": "jQTllUy5EKju"
   },
   "outputs": [],
   "source": []
  },
  {
   "cell_type": "markdown",
   "id": "8WrihQ0U9keB",
   "metadata": {
    "id": "8WrihQ0U9keB"
   },
   "source": [
    "### **e)** Using the toolbox, replot the fishing hours map using a logarithmic scale."
   ]
  },
  {
   "cell_type": "code",
   "execution_count": null,
   "id": "FVhY_t3IA843",
   "metadata": {
    "id": "FVhY_t3IA843"
   },
   "outputs": [],
   "source": []
  },
  {
   "cell_type": "markdown",
   "id": "tzrZuqOi9zLw",
   "metadata": {
    "id": "tzrZuqOi9zLw"
   },
   "source": [
    "### **f)** In what cases would you use a linear scale versus a logarithmic scale for plots? (1-2 sentences)"
   ]
  },
  {
   "cell_type": "markdown",
   "id": "PEYCuq71B0A7",
   "metadata": {
    "id": "PEYCuq71B0A7"
   },
   "source": [
    "### **g)** What observations do you notice of the spatial distribution of fishing hours? (3-5 sentences)\n",
    "\n",
    "\n"
   ]
  },
  {
   "cell_type": "markdown",
   "id": "8IqDDqx5UuXb",
   "metadata": {
    "id": "8IqDDqx5UuXb"
   },
   "source": [
    "### **h)** Finally, we can take a look at this through a heatmap.\n",
    "\n",
    "No need for coding in this section, just run the cells below.\n"
   ]
  },
  {
   "cell_type": "code",
   "execution_count": null,
   "id": "egAO-eO8qK98",
   "metadata": {
    "id": "egAO-eO8qK98"
   },
   "outputs": [],
   "source": [
    "# transform from a long to wide format\n",
    "# rows are latitude, columns are days\n",
    "pivoted_data = fish.pivot_table(columns='date', index='lat', values='fishing_hours_km2', aggfunc=np.sum)\n",
    "pivoted_data = pivoted_data.loc[::-1] # inverse rows\n",
    "pivoted_data = pivoted_data.reindex(np.arange(-90, 90, 1)) # expand index range\n",
    "pivoted_data"
   ]
  },
  {
   "cell_type": "code",
   "execution_count": null,
   "id": "UpNrQ2JiFyzk",
   "metadata": {
    "id": "UpNrQ2JiFyzk"
   },
   "outputs": [],
   "source": [
    "# # plot heatmap\n",
    "fig, ax = plt.subplots(figsize=(16, 6))\n",
    "date = list(pivoted_data.columns)\n",
    "lat = list(pivoted_data.index)\n",
    "im = ax.pcolormesh(date, lat, pivoted_data.values, cmap='magma_r')\n",
    "ax.set_xlabel('Year')\n",
    "ax.set_ylabel('Latitude')\n",
    "fmt_month = mdates.MonthLocator()\n",
    "ax.xaxis.set_minor_locator(fmt_month)\n",
    "ax.grid(True, which='both', alpha=0.2)\n",
    "fig.colorbar(im, ax=ax);"
   ]
  },
  {
   "cell_type": "markdown",
   "id": "Hk_sPiH_U4gl",
   "metadata": {
    "id": "Hk_sPiH_U4gl"
   },
   "source": [
    "### **i)** What observations do you notice of the spatial and temporal distribution of fishing hours, especially compared to the maps? Is one clearer than the other? (1-2 sentences)\n"
   ]
  },
  {
   "cell_type": "markdown",
   "id": "3b0a8b55",
   "metadata": {
    "id": "3b0a8b55"
   },
   "source": [
    "## 4) **Exploring the Biological Drivers of Underlying Fishing Effort**\n",
    "\n",
    "Considering that humans are the top fish predators equipped with highly-advanced sensors, fishing activity should be strongly correlated with the fish distribution. However, we lack global data on fish distribution to support this. Therefore, we will look at a known correlate of fish abundance &mdash; primary production, which can be measured as chlorophyll a, a pigment in phytoplankton used for photosynthesis.\n",
    "\n",
    "In this course, we will use NASA MODIS satellite imagery, pre-downloaded and pre-processed. MODIS (Moderate Resolution Imaging Spectroradiometer) satellite measures surface reflectance (color and temperature) in 36 spectral bands at spatial resolutions ranging from 250 m to 1 km, depending on the bands. The swath can cover the entire Earth in 1-2 days. We will use MODIS AQUA data.\n"
   ]
  },
  {
   "cell_type": "markdown",
   "id": "6N4oZuKPIe8j",
   "metadata": {
    "id": "6N4oZuKPIe8j"
   },
   "source": [
    "#### **a)** Setting up the MODIS DataFrame\n",
    "No code needed in this section, feel free to just run the below cells to set up our data, which is stored in the variable modis."
   ]
  },
  {
   "cell_type": "code",
   "execution_count": null,
   "id": "b5946432",
   "metadata": {
    "id": "b5946432"
   },
   "outputs": [],
   "source": [
    "# read ocean climate data\n",
    "modis = pd.read_parquet('./taking_the_pulse_ocean_data/modis.parquet')"
   ]
  },
  {
   "cell_type": "code",
   "execution_count": null,
   "id": "eaf66704",
   "metadata": {
    "id": "eaf66704"
   },
   "outputs": [],
   "source": [
    "# convert month string to datetime\n",
    "modis['year_month'] = pd.to_datetime(modis['month'], format='%Y-%m')\n",
    "modis"
   ]
  },
  {
   "cell_type": "markdown",
   "id": "FIUn_UA43-d7",
   "metadata": {
    "id": "FIUn_UA43-d7"
   },
   "source": [
    "#### **b)** Plot out the average spatial distribution of chlorophyll a\n",
    "You may use either a linear or logarithmic plot -- whatever you think conveys the data best!"
   ]
  },
  {
   "cell_type": "code",
   "execution_count": null,
   "id": "_vDYuelqBGPM",
   "metadata": {
    "id": "_vDYuelqBGPM"
   },
   "outputs": [],
   "source": []
  },
  {
   "cell_type": "markdown",
   "id": "96wLpuEP89GZ",
   "metadata": {
    "id": "96wLpuEP89GZ"
   },
   "source": [
    "#### **c)** What patterns do you notice in this map? How does this compare to the spatial distribution of fishing hours in part 3c? (1-2 sentences)"
   ]
  },
  {
   "cell_type": "markdown",
   "id": "x4AvBATQZmxn",
   "metadata": {
    "id": "x4AvBATQZmxn"
   },
   "source": [
    "#### **d)** Plot mean chlorophyll a (x-axis) and fishing hours (y-axis) for each latitude\n",
    "\n",
    "Merge the data of chlorophyll a and fishing hours on each latitude."
   ]
  },
  {
   "cell_type": "code",
   "execution_count": null,
   "id": "Z2tADUYsBHqy",
   "metadata": {
    "id": "Z2tADUYsBHqy"
   },
   "outputs": [],
   "source": []
  },
  {
   "cell_type": "markdown",
   "id": "T0pYAKfARDdQ",
   "metadata": {
    "id": "T0pYAKfARDdQ"
   },
   "source": [
    "#### **e)** Is the plot you created above a good demonstration of the relationship between chlorophyll a and fishing hours? (1-2 sentences)"
   ]
  },
  {
   "cell_type": "markdown",
   "id": "cf0a9417",
   "metadata": {
    "id": "cf0a9417"
   },
   "source": [
    "#### **f)** Plot time series of chlorophyll a and fishing hours, respectively, and observe how monthly fishing hours are correlated to chlorophyll.\n",
    "\n",
    "The fishing hours plot is given to you, because we have to further clean the data to put it in year-month format. However, you will have to plot the modis chlorophyll a data on your own. For modis, use 'year_month' for your time column."
   ]
  },
  {
   "cell_type": "code",
   "execution_count": null,
   "id": "pQj04YWIBNsm",
   "metadata": {
    "id": "pQj04YWIBNsm"
   },
   "outputs": [],
   "source": [
    "# time series\n",
    "# monthly total fishing hours to make same temporal resolutuions as modis data\n",
    "fish['year'] = fish['date'].dt.year\n",
    "fish['month'] = fish['date'].dt.month\n",
    "fish['year_month'] = pd.to_datetime(fish['year']*100 + fish['month'], format='%Y%m')\n",
    "\n",
    "fish_monthly = fish[['year_month', 'fishing_hours_km2']].groupby('year_month').sum()\n",
    "fish_monthly.plot()"
   ]
  },
  {
   "cell_type": "code",
   "execution_count": null,
   "id": "m46td1QKCBqE",
   "metadata": {
    "id": "m46td1QKCBqE"
   },
   "outputs": [],
   "source": []
  },
  {
   "cell_type": "markdown",
   "id": "YfKLylSHezwC",
   "metadata": {
    "id": "YfKLylSHezwC"
   },
   "source": [
    "### **e)** Between these two plots, do you observe any temporal patterns? Why do you think they might be related or not related? (3-5 sentences)"
   ]
  },
  {
   "cell_type": "markdown",
   "id": "0a5ccec9",
   "metadata": {
    "id": "0a5ccec9"
   },
   "source": [
    "# After Class Assignment\n"
   ]
  },
  {
   "cell_type": "markdown",
   "id": "16c1849a",
   "metadata": {
    "id": "16c1849a"
   },
   "source": [
    "## 1) **Exploring Non-biological drivers of Underlying Fishing Effort**\n",
    "\n",
    "Fishing activities are also shaped by other factors, such as holidays, COVID, and fuel prices. Also, fishing regulations should influence the activity. How strongly do they influence fishing activities?"
   ]
  },
  {
   "cell_type": "markdown",
   "id": "aaba28ce",
   "metadata": {
    "id": "aaba28ce"
   },
   "source": [
    "### **a)** Plot time series of fishing hours for Chinese-flagged vessels and non-Chinese-flagged vessels, respectively, and explore how fishing activities are influenced by social / cultural events.\n",
    "\n",
    "The dataset of chinese flagged vessles, named \"chinese_vessels\" and non-chinese flagged vessels, named \"other_vessels\" is given to you in the code cell below."
   ]
  },
  {
   "cell_type": "code",
   "execution_count": null,
   "id": "n5tjCfc9Ej7E",
   "metadata": {
    "id": "n5tjCfc9Ej7E"
   },
   "outputs": [],
   "source": [
    "# activity of chinese-flagged vessels\n",
    "chinese_vessels = fish[fish['flag']=='CHN'].copy()\n",
    "\n",
    "# activity of non-chinese-flagged vessels\n",
    "other_vessels = fish[(fish['flag']!='CHN') | fish['flag'].isnull()].copy()"
   ]
  },
  {
   "cell_type": "code",
   "execution_count": null,
   "id": "gj_j35XNBlD4",
   "metadata": {
    "id": "gj_j35XNBlD4"
   },
   "outputs": [],
   "source": []
  },
  {
   "cell_type": "markdown",
   "id": "RkPbQXUUfPk_",
   "metadata": {
    "id": "RkPbQXUUfPk_"
   },
   "source": [
    "### **b)** What observations can you make of the two plots you made above? Are there any yearly patterns that exist? (3-5 sentences)"
   ]
  },
  {
   "cell_type": "markdown",
   "id": "29295c0d",
   "metadata": {
    "id": "29295c0d"
   },
   "source": [
    "### **c)**  Plot a heatmap of high-resolution fishing hours for Peru, and explore how fishing activities are influenced by geospatial regulations by adding EEZ on the map.\n",
    "\n",
    "The code below is given to you -- no need to write anything!"
   ]
  },
  {
   "cell_type": "code",
   "execution_count": null,
   "id": "fc0d870b",
   "metadata": {
    "id": "fc0d870b"
   },
   "outputs": [],
   "source": [
    "# plot near Peru\n",
    "\n",
    "data = pd.read_parquet('./taking_the_pulse_ocean_data/fishing_hours_peru.parquet')\n",
    "\n",
    "data['area_km2'] = 111 * 111 * np.cos(data['lat'] * np.pi / 180)\n",
    "data['area_km2'] = data['area_km2'].astype(float)\n",
    "data['fishing_hours_km2'] = data['fishing_hours']/data['area_km2']\n",
    "\n",
    "data['date'] = pd.to_datetime(data['date'], format='%Y-%m-%d')\n",
    "\n",
    "# change lat lon to integer (we want to sum within each grid but floating point causes problems when grouping)\n",
    "data['lat'] = (data['lat'].values * 10).astype(int)\n",
    "data['lon'] = (data['lon'].values * 10).astype(int)\n",
    "\n",
    "# sum within each grid\n",
    "summary = data.groupby(['lat', 'lon'])['fishing_hours_km2'].sum()\n",
    "summary"
   ]
  },
  {
   "cell_type": "code",
   "execution_count": null,
   "id": "hqWHb4OYR8xx",
   "metadata": {
    "id": "hqWHb4OYR8xx"
   },
   "outputs": [],
   "source": [
    "eez = gpd.read_file('./world-eez-v12')"
   ]
  },
  {
   "cell_type": "code",
   "execution_count": null,
   "id": "IrynVsEKDjxl",
   "metadata": {
    "id": "IrynVsEKDjxl"
   },
   "outputs": [],
   "source": [
    "# convert to xarray\n",
    "xarray_data = summary.to_xarray()\n",
    "\n",
    "# back to 0.1 degree intervals\n",
    "xarray_data['lat'] = 0.1*xarray_data['lat']\n",
    "xarray_data['lon'] = 0.1*xarray_data['lon']"
   ]
  },
  {
   "cell_type": "code",
   "execution_count": null,
   "id": "a504d456",
   "metadata": {
    "id": "a504d456"
   },
   "outputs": [],
   "source": [
    "# plot on a log scale\n",
    "fig = plt.figure(figsize=(16, 6))\n",
    "ax = plt.axes(projection=ccrs.PlateCarree())\n",
    "\n",
    "xarray_data.plot(\n",
    "    cmap=\"magma_r\",\n",
    "    norm=LogNorm(vmin=0.0001, vmax=xarray_data.max()),\n",
    "    ax=ax, zorder=-1,\n",
    "    add_colorbar=True\n",
    ")\n",
    "\n",
    "ax.add_feature(cf.LAND, linewidth=0)\n",
    "ax.add_feature(cf.BORDERS)\n",
    "ax.add_feature(cf.COASTLINE)\n",
    "\n",
    "eez.plot(ax=ax, linestyle='--', color='black')\n",
    "\n",
    "ax.set_extent([-100, -60, -30, 10], crs=ccrs.PlateCarree())"
   ]
  },
  {
   "cell_type": "markdown",
   "id": "ToP-PCaIf27M",
   "metadata": {
    "id": "ToP-PCaIf27M"
   },
   "source": [
    "### **d)** In the map above, the dashed lines represent the EEZ (exclusive economic zone), where coastal nations have jurisdiction over natural resources. Often, these areas have strict regulations for foreign-flagged vessels, while areas outside of it do not. Given what you know about the EEZ now, what observations can you make about fishing areas and political boundaries from the map above? (3-5 sentences)"
   ]
  },
  {
   "cell_type": "markdown",
   "id": "c16fa04e",
   "metadata": {
    "id": "c16fa04e"
   },
   "source": [
    "---\n",
    "# Supplemental Information\n",
    "How to access original Global Fishing Watch data & NASA MODIS Terra data\n",
    "#### Global Fishing Watch\n",
    "- Online web map on their [website](https://globalfishingwatch.org/our-map/)\n",
    "- R package `gfwr` ([link](https://github.com/GlobalFishingWatch/gfwr)) &mdash; an R API to download fishing data. Note that this is still at an early development stage.\n",
    "\n",
    "#### NASA MODIS data\n",
    "- The easiest way is to access the data on [Google Earth Engine](https://developers.google.com/earth-engine/datasets) through a Python API `earthengine-api` ([link](https://github.com/google/earthengine-api))\n",
    "- You can also find the data on other repositories including [Amazon Web Service](https://aws.amazon.com/opendata/?wwps-cards.sort-by=item.additionalFields.sortDate&wwps-cards.sort-order=desc) or [Copernicus](https://cds.climate.copernicus.eu), or original data [NASA website](https://oceancolor.gsfc.nasa.gov)."
   ]
  },
  {
   "cell_type": "markdown",
   "id": "203a43b1",
   "metadata": {
    "id": "203a43b1"
   },
   "source": [
    "(Note that AIS is mandated only for distant-water fleets engaging on international voyages, and therefore, it does not cover small-scale/artisanal fisheries in coastal areas and within EEZ. Also, some areas have low AIS coverage, including Southeastern Asia and the Gulf of Mexico. AIS devices can be tampered with or turned off.)"
   ]
  },
  {
   "cell_type": "markdown",
   "id": "f7180cc8",
   "metadata": {
    "id": "f7180cc8"
   },
   "source": [
    "(Note that high primary production does not always favor fish growth. A combination of high temperature and nutrient runoff can cause harmful algal blooms, leading to hypoxic dead zones and fish kills. If you are interested, you can explore the relationship between chlorophyll-a `chlor_a`, sea surface temperature `sst` and particulate organic carbon `poc`, in MODIS data.)"
   ]
  }
 ],
 "metadata": {
  "colab": {
   "provenance": []
  },
  "kernelspec": {
   "display_name": "Python 3 (ipykernel)",
   "language": "python",
   "name": "python3"
  },
  "language_info": {
   "codemirror_mode": {
    "name": "ipython",
    "version": 3
   },
   "file_extension": ".py",
   "mimetype": "text/x-python",
   "name": "python",
   "nbconvert_exporter": "python",
   "pygments_lexer": "ipython3",
   "version": "3.9.6"
  }
 },
 "nbformat": 4,
 "nbformat_minor": 5
}
