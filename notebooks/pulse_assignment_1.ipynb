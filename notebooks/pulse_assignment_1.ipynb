{
 "cells": [
  {
   "cell_type": "markdown",
   "metadata": {
    "id": "DiQmWq8_knzl"
   },
   "source": [
    "# ***Assignment 1: Taking the Pulse of a Classroom: How/Why Does the Concentration of CO<sub>2</sub> Change?***\n",
    "This assignment is due on **1/16/2024**.\n",
    "Change the name of your notebook to **tpp_assignment_1_sunetID.ipynb**\n",
    "Share your completed notebook with the TAs akroo@stanford.edu & flora221@stanford.edu using the share banner at the top. For help submitting, see the Canvas walkthrough in Module 1. If you are still having technical difficulties, email us before the deadline.\n"
   ]
  },
  {
   "cell_type": "markdown",
   "metadata": {
    "id": "Wvrv3XMuTxZP"
   },
   "source": [
    "\n",
    "### **INTRODUCTION TO THE ASSIGNMENT**\n",
    "\n",
    "This week’s assignment will get us thinking about designing a sensor-based program to monitor the concentration of CO<sub>2</sub>. We will do in the classroom with hand-held sensors, what NASA is attempting to do from satellites, with the goal of understanding: how/why is the concentration of CO<sub>2</sub> changing?\n",
    "\n",
    "The goal of this assignment: to answer the question: How/why does the concentration of CO<sub>2</sub> change in a classroom? Be as quantitative as you can be in your answer. To do this we need to figure out what the key parameters are that are impacting the concentration of CO<sub>2</sub>. And to do this, we have available sensors. It’s up to you to figure out what to do with them, when and where to measure, and how to analyze the data to answer the question.\n"
   ]
  },
  {
   "cell_type": "markdown",
   "metadata": {
    "id": "Pa9v15f3T153"
   },
   "source": [
    "\n",
    "### **DATA SETS**\n",
    "For this assignment, you will be acquiring the data, creating two (or more) datasets.\n",
    "\n",
    "\n",
    "#### **Units:**\n",
    "The unit for reporting the concentration of CO<sub>2</sub> is ppm (parts per million).\n"
   ]
  },
  {
   "cell_type": "markdown",
   "metadata": {
    "id": "wVGB9ofRT13b"
   },
   "source": [
    "\n",
    "## **TOOLBOX**\n",
    "All the Python functions and packages you will use in this assignment are in the toolbox for the course. We add new tools to the toolbox with each assignment as new ways of analyzing and visualizing data are introduced.\n",
    "\n",
    "https://colab.research.google.com/drive/1gQxlpnogdJzykfNqjIGO4VLMnHHhrvcC?usp=drive_link\n",
    "\n",
    "This week you will be working with data that can be organized as a table.\n",
    "\n",
    "numpy (numbers for python) is a package of python tools that handle the mathematical operations.\n",
    "\n",
    "pandas (typically referred to as pd in lines of code) is a package of python tools that can be used to work efficiently with datasets, taken into pandas and referred to as dataframes.\n",
    "\n",
    "matplotlib is a package that is useful for generating plots.\n"
   ]
  },
  {
   "cell_type": "markdown",
   "metadata": {
    "id": "SZoos-VST11e"
   },
   "source": [
    "\n",
    "## **THE LEARNING GOALS FOR THE WEEK**\n",
    "where the course learning goals are in plain text, and the focus this week is in italics.\n",
    "\n",
    "\n",
    "- Become familiar with the wide range of sensors available to study various components of the Earth system. These include sensors on satellites, aircraft, ground-based platforms, and deployed above or beneath the surface on land or water. *This week we will work with sensors and learn how these measurements can be made on a range of platforms from hand-held to satellites.*\n",
    "-  Become familiar with the basic physical principles (resolution, sampling, processing workflows, etc.) common to all sensors. *This week you will think about the impact of spatial and temporal sampling - the spatial and temporal frequency of measurements - on your data. You will use a very simple workflow to go from data to analysis.*\n",
    "- Work with various sources of data, learning how to access, analyze, synthesize, and describe the data to quantify trends; think critically and creatively about how to project these trends into the future. *This week you will consider how best to interpret your data and use some simple analysis tools.*\n"
   ]
  },
  {
   "cell_type": "markdown",
   "metadata": {
    "id": "u3fNJnPcT1yx"
   },
   "source": [
    "\n",
    "\n",
    "## **IN-CLASS STEPS IN THE ASSIGNMENT**\n",
    "\n"
   ]
  },
  {
   "cell_type": "markdown",
   "metadata": {
    "id": "OCGcpqacU8eN"
   },
   "source": [
    "\n",
    "#### 1) **Install Packages**: numpy, pandas, matplotlib (See Toolbox)"
   ]
  },
  {
   "cell_type": "code",
   "execution_count": null,
   "metadata": {
    "id": "o8TrNLgrVkjh"
   },
   "outputs": [],
   "source": [
    "#THIS IS A CODE CELL"
   ]
  },
  {
   "cell_type": "markdown",
   "metadata": {
    "id": "IAPrixmiT1kU"
   },
   "source": [
    "\n",
    "#### 2) **Getting the Data**: Acquire and Input the Required Data\n",
    "\n"
   ]
  },
  {
   "cell_type": "markdown",
   "metadata": {
    "id": "31QZDOE8VKXM"
   },
   "source": [
    "\n",
    "##### **a)** You will acquire data to answer the question – How/why does the concentration of CO<sub>2</sub> change in a classroom?\n",
    "You need to measure CO<sub>2</sub> concentration as a function of time under (at least) two conditions, so as to have two datasets; one dataset will be acquired in class today. Describe what you are going to do in a text box below.  Specific details not needed for the second dataset, but present some ideas.\n",
    "\n",
    "Decide on a naming convention for your datasets that you will use later to refer to them.\n",
    "<br/>"
   ]
  },
  {
   "cell_type": "markdown",
   "metadata": {
    "id": "uuB04EUuUHwm"
   },
   "source": [
    "\n",
    "##### **b)** Spend 15-20 minutes acquiring the first dataset. While you do this, work on the following question.\n"
   ]
  },
  {
   "cell_type": "markdown",
   "metadata": {
    "id": "mf2VkrF-UHvB"
   },
   "source": [
    "\n",
    "##### **c)** Think about inputting your first dataset for analysis. On a piece of paper, write out your dataset as a table of data. Note that python expects data to be input as decimal numerals (e.g. 1.0, 1.1, 1.2). Each column will be a different category of data. How are you going to define a row?   \n"
   ]
  },
  {
   "cell_type": "markdown",
   "metadata": {
    "id": "OXDJltPmUHss"
   },
   "source": [
    "\n",
    "##### **d)** Now to start preparing the data for analysis. Define the “lists of lists” variable that corresponds to  the collected dataset (See Toolbox)\n"
   ]
  },
  {
   "cell_type": "markdown",
   "metadata": {
    "id": "TJm8sTwBUHqf"
   },
   "source": [
    "\n",
    "##### **e)** We are now going to use pandas to turn the variables into a dataframe - the format that pandas can work with. Be thoughtful about how you name the columns to make it easy to work with later. (See Toolbox)\n",
    "Now we have one dataframe to work with."
   ]
  },
  {
   "cell_type": "markdown",
   "metadata": {
    "id": "FBzAoErIUHoI"
   },
   "source": [
    "\n",
    "#### **3) Guided Data Analysis**\n",
    "\n"
   ]
  },
  {
   "cell_type": "markdown",
   "metadata": {
    "id": "Ys8QE3FEVYOP"
   },
   "source": [
    "##### **a)** Choose two columns (at condition 1)  to plot as a scatter plot. (See Toolbox) Label your plot with a title, axis labels, and legend. (See Toolbox)"
   ]
  },
  {
   "cell_type": "markdown",
   "metadata": {
    "id": "8SCmGcwRUHlZ"
   },
   "source": [
    "\n",
    "##### **b)** Fill in your answer in a text cell below: How would you fill in between the data points to “interpolate” allowing you to communicate to others what you expect the measurements to be between the times where you have measurements? Explain the assumptions you are making. How valid do you believe these assumptions to be - explain.\n"
   ]
  },
  {
   "cell_type": "markdown",
   "metadata": {
    "id": "QSNlXyaJUHiL"
   },
   "source": [
    "##### **c)** Do one form of interpolation – connect the data points by generating a line plot. (See Toolbox).\n"
   ]
  },
  {
   "cell_type": "markdown",
   "metadata": {
    "id": "ypSl5fPvUbgA"
   },
   "source": [
    "\n",
    "##### **d)** Can we have a mathematical model that describes how the concentration of CO<sub>2</sub> changed? Work with the tools available in the Toolbox to mathematically describe your data using a linear fit. This will generate a new dataframe.\n"
   ]
  },
  {
   "cell_type": "markdown",
   "metadata": {
    "id": "yN-9rAbqUbd7"
   },
   "source": [
    "##### **e)** Add the trend line that displays the linear fit to your plot. (See Toolbox)\n"
   ]
  },
  {
   "cell_type": "markdown",
   "metadata": {
    "id": "zxYNdkB-Ubbk"
   },
   "source": [
    "##### **f)** In a text box discuss whether the trend line provides a good model for your data.\n"
   ]
  },
  {
   "cell_type": "markdown",
   "metadata": {
    "id": "cThm3JG-UbZQ"
   },
   "source": [
    "##### **g)** Now let’s predict the future. In a text box below, explain (2-3 sentences) how you would predict the future (1 hour from now, 5 hours, 100 hours, assuming the conditions stay the same) using the data that you have.\n"
   ]
  },
  {
   "cell_type": "markdown",
   "metadata": {
    "id": "Rjpj00XtUbXJ"
   },
   "source": [
    "\n",
    "## **AFTER-CLASS STEPS IN THE ASSIGNMENT**\n",
    "\n",
    "\n"
   ]
  },
  {
   "cell_type": "markdown",
   "metadata": {
    "id": "jMxwJIypV2mw"
   },
   "source": [
    "#### **1)** Acquire a second dataset (or more if you like)."
   ]
  },
  {
   "cell_type": "markdown",
   "metadata": {
    "id": "VgIWv3epUbU8"
   },
   "source": [
    "#### **2)** Show all of your datasets together on one plot. (See Toolbox)"
   ]
  },
  {
   "cell_type": "markdown",
   "metadata": {
    "id": "hNpv_RbQUbSw"
   },
   "source": [
    "#### **3)** Answer the following question by filling in a text cell below. Limit the length of the text to the equivalent of ~½ - 1 page in a document (11 point font): How/why does the concentration of CO<sub>2</sub> change in a classroom? Be as quantitative as you can be in your answer, making observations using the two dataset you have collected and plotted. Present and justify any assumptions.\n"
   ]
  },
  {
   "cell_type": "markdown",
   "metadata": {
    "id": "mc-3gsTeUkOm"
   },
   "source": [
    "#### **4)** Now let’s reflect on some of the choices that you made by answering the following questions:"
   ]
  },
  {
   "cell_type": "markdown",
   "metadata": {
    "id": "K25pxP9ZUnD0"
   },
   "source": [
    "##### **a)** How did you decide on the temporal  interval?\n"
   ]
  },
  {
   "cell_type": "markdown",
   "metadata": {
    "id": "Qovhqv3YUnBx"
   },
   "source": [
    "##### **b)** What impact did the temporal sampling interval have on your conclusions?"
   ]
  },
  {
   "cell_type": "markdown",
   "metadata": {
    "id": "QAdWd_odUm_S"
   },
   "source": [
    "##### **c)** For any form of sensor measurement to monitor the concentration of CO<sub>2</sub>, what is the best way to decide on the temporal sampling interval to use?\n"
   ]
  },
  {
   "cell_type": "markdown",
   "metadata": {
    "id": "t0LaqMq2Um82"
   },
   "source": [
    "##### **d)** Related to spatial sampling, what impact did the location of your sampling have on your conclusions?\n"
   ]
  },
  {
   "cell_type": "markdown",
   "metadata": {
    "id": "QTwLP6aoUsHE"
   },
   "source": [
    "##### **e)** In analyzing data, when would you would prefer to use a scatter plot and when you would prefer to use a line plot?\n"
   ]
  },
  {
   "cell_type": "markdown",
   "metadata": {
    "id": "FXHnVGNJUtHo"
   },
   "source": [
    "#### **5)** Now let’s consider the use of sensors such as the ones used in class for finding solutions to issues related to climate change and sustainability. What are ways in which these types of sensors could be used? What are the key limitations with these types of sensors?\n"
   ]
  },
  {
   "cell_type": "code",
   "execution_count": null,
   "metadata": {},
   "outputs": [],
   "source": []
  },
  {
   "cell_type": "code",
   "execution_count": null,
   "metadata": {},
   "outputs": [],
   "source": []
  },
  {
   "cell_type": "code",
   "execution_count": null,
   "metadata": {},
   "outputs": [],
   "source": []
  }
 ],
 "metadata": {
  "colab": {
   "provenance": []
  },
  "kernelspec": {
   "display_name": "Python 3 (ipykernel)",
   "language": "python",
   "name": "python3"
  },
  "language_info": {
   "codemirror_mode": {
    "name": "ipython",
    "version": 3
   },
   "file_extension": ".py",
   "mimetype": "text/x-python",
   "name": "python",
   "nbconvert_exporter": "python",
   "pygments_lexer": "ipython3",
   "version": "3.9.6"
  }
 },
 "nbformat": 4,
 "nbformat_minor": 4
}
