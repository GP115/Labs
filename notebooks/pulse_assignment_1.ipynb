{
  "cells": [
    {
      "cell_type": "markdown",
      "metadata": {
        "id": "view-in-github",
        "colab_type": "text"
      },
      "source": [
        "<a href=\"https://colab.research.google.com/github/envgp/taking_the_pulse_of_the_planet/blob/main/notebooks/pulse_assignment_1.ipynb\" target=\"_parent\"><img src=\"https://colab.research.google.com/assets/colab-badge.svg\" alt=\"Open In Colab\"/></a>"
      ]
    },
    {
      "cell_type": "markdown",
      "id": "bafae27b",
      "metadata": {
        "id": "bafae27b"
      },
      "source": [
        "# Assignment 1: Taking the Pulse of the Atmosphere\n",
        "\n",
        "Seogi Kang (sgkang09@stanford.edu)& Rosemary Knight(rknight@stanford.edu), Stanford Environmental Geophysics Research Group\n",
        "\n",
        "This assignment is due on`2023-1-24`. Please put your answers within this notebook and share the completed notebook with the graders, bsalvado@stanford.edu and sgkang09@stanford.edu, using the Share banner located at the top right corner of this notebook. When sharing your notebook, please change the name of the notebook and add your name and sunetid (e.g., `pulse_course_assignment_1_firstname_lastname_sunetid.ipynb`)\n",
        "\n",
        "## INTRODUCTION TO THE ASSIGNMENT\n",
        "\n",
        "In this assignment, we will explore the changing concentration of greenhouse gases in the atmosphere -  CO2 and CH4, which is what is driving climate change. We will also review measurement of the other trace gases NO2 and CO which are not primary drivers of climate change, but do have an impact on air quality, a concern in terms of sustainability with related environmental justice issues. \n",
        "\n",
        "## DATA SETS\n",
        "\n",
        "Data sets used this assignment are: \n",
        "- CO2 - one time-series at one location\n",
        "- Gridded data - CO2 in space and time (time-series at many locations)\n",
        "- Gridded data - CH4 in space and time (time-series at many locations)\n",
        "- Gridded data - NO2 in space and time (time-series at many locations)\n",
        "- Gridded data - CO in space and time (time-series at many locations)\n",
        "\n",
        "## BUILDING YOUR TOOLBOX\n",
        "\n",
        "This is the first assignment of the course, so we will use this and the next assignment to introduce core tools including Google Colab (similar to Jupyter Notebook) and Python packages that we are going to use throughout the course. The list of core Python packages are \n",
        "\n",
        "1. `numpy`: for calculating mathematical functions\n",
        "2. `matplotlib`: for visualization\n",
        "3. `pandas`: for handling data in a table form\n",
        "4. `xarray`: for handling gridded data \n",
        "5. `cartopy`: for visualizing gridded data as a 2D map\n",
        "6. `ipywidgets`: for creating interactive apps(exploration of data)\n",
        "7. `geopandas`: for handling geographic data (e.g., country boundaries)\n"
      ]
    },
    {
      "cell_type": "markdown",
      "source": [
        "## THE LEARNING GOALS FOR THE WEEK \n",
        "(where the course learning goals are in plain text, and the focus this week is in *italics*)\n",
        "\n",
        "\n",
        "\n",
        "*   learn about the ways in which climate change and human activity are impacting planet Earth, *with a focus this week in observing – in the data - increases in gases that are driving climate change and negatively impacting air quality; and exploring the link to emissions.*\n",
        "*   become familiar with the wide range of sensors available to study various components of the Earth system. These include sensors on satellites, aircraft, ground-based platforms, and deployed above or beneath the surface on land or water. *This week we will work with data acquired using one ground-based measurement station and satellite systems.*\n",
        "*   become familiar with the basic physical principles (resolution, sampling, processing workflows, etc.) common to all sensors, *working this week with a range of data sets.*\n",
        "*   work with various sources of data, learning how to access, analyze, synthesize, and describe the data to quantify trends; think critically and creatively about how to project these trends into the future. *This week we will work with a number of tools, which will be used again in this course, to transform or analyze the data in various ways and then visualize it.*\n",
        "*   describe the complex interactions between human activity and various components of the Earth system. This week a key question: *what is the link between the spatial pattern in emissions and the observed changes in the concentrations of greenhouse and other gases in the atmosphere*. \n",
        "*   become motivated to think about new sensors and new ways of using sensor data to study the planet. *This is always the last question in each assignment. Given all that you now know about greenhouse gases, emissions, climate change, what does the planet and all forms of life need you to design and deploy?*\n",
        "\n",
        "\n"
      ],
      "metadata": {
        "id": "4S0HHyBgHrF8"
      },
      "id": "4S0HHyBgHrF8"
    },
    {
      "cell_type": "markdown",
      "source": [
        "## STARTING THE ASSIGNMENT - A WALK THROUGH SOME OF THE DATA AND TOOLS"
      ],
      "metadata": {
        "id": "YORWGULcItr_"
      },
      "id": "YORWGULcItr_"
    },
    {
      "cell_type": "markdown",
      "id": "181dbce7",
      "metadata": {
        "id": "181dbce7"
      },
      "source": [
        "## Install required packages"
      ]
    },
    {
      "cell_type": "code",
      "source": [
        "!pip install xarray numpy pandas geopandas cartopy==0.19.0.post1 ipywidgets"
      ],
      "metadata": {
        "id": "pKpegj21BhMD"
      },
      "id": "pKpegj21BhMD",
      "execution_count": null,
      "outputs": []
    },
    {
      "cell_type": "code",
      "source": [
        "!pip uninstall -y shapely"
      ],
      "metadata": {
        "id": "imPj5kOBBjlB"
      },
      "id": "imPj5kOBBjlB",
      "execution_count": null,
      "outputs": []
    },
    {
      "cell_type": "code",
      "source": [
        "!pip install shapely --no-binary shapely"
      ],
      "metadata": {
        "id": "ACdfOCQEBlIF"
      },
      "id": "ACdfOCQEBlIF",
      "execution_count": null,
      "outputs": []
    },
    {
      "cell_type": "markdown",
      "source": [
        "## Download required data"
      ],
      "metadata": {
        "id": "_YeCEojVBoj6"
      },
      "id": "_YeCEojVBoj6"
    },
    {
      "cell_type": "code",
      "source": [
        "!git clone https://premonition.stanford.edu/sgkang09/taking_the_pulse_atmosphere_data.git"
      ],
      "metadata": {
        "id": "9hKqMoD_Bqjh"
      },
      "id": "9hKqMoD_Bqjh",
      "execution_count": null,
      "outputs": []
    },
    {
      "cell_type": "code",
      "source": [
        "import warnings\n",
        "warnings.filterwarnings('ignore')"
      ],
      "metadata": {
        "id": "X5iTv2uIGoqk"
      },
      "id": "X5iTv2uIGoqk",
      "execution_count": null,
      "outputs": []
    },
    {
      "cell_type": "markdown",
      "id": "9e55b19a",
      "metadata": {
        "id": "9e55b19a"
      },
      "source": [
        "## Working with CO2 data - one time-series at one location in a table format using `pandas`\n",
        "\n",
        "Let's start with a monthly time-series of CO2 level measured at Mauna Loa Observatory. We are going to read the CO2 level in a csv format using `pandas`. Loaded table is the pandas' `dataframe`, which allows you to explore the data. "
      ]
    },
    {
      "cell_type": "code",
      "source": [
        "import pandas as pd"
      ],
      "metadata": {
        "id": "TatmyHo3Een0"
      },
      "id": "TatmyHo3Een0",
      "execution_count": null,
      "outputs": []
    },
    {
      "cell_type": "code",
      "source": [
        "df_co2 = pd.read_csv('./taking_the_pulse_atmosphere_data/co2_gml.csv')"
      ],
      "metadata": {
        "id": "cJEt_SMU2FkB"
      },
      "id": "cJEt_SMU2FkB",
      "execution_count": null,
      "outputs": []
    },
    {
      "cell_type": "code",
      "source": [
        "df_co2.head(2)"
      ],
      "metadata": {
        "id": "A5CytPPKPkUr"
      },
      "id": "A5CytPPKPkUr",
      "execution_count": null,
      "outputs": []
    },
    {
      "cell_type": "code",
      "source": [
        "df_co2.tail(3)"
      ],
      "metadata": {
        "id": "ZayzBhRYHYoP"
      },
      "id": "ZayzBhRYHYoP",
      "execution_count": null,
      "outputs": []
    },
    {
      "cell_type": "markdown",
      "source": [
        "Access data in pandas dataframe."
      ],
      "metadata": {
        "id": "2FFiO5adeAkZ"
      },
      "id": "2FFiO5adeAkZ"
    },
    {
      "cell_type": "code",
      "execution_count": null,
      "id": "f760f1ec",
      "metadata": {
        "id": "f760f1ec"
      },
      "outputs": [],
      "source": [
        "import datetime\n",
        "# generate DatetimeIndex from years and months\n",
        "years = df_co2['year'].values.astype(int)\n",
        "months = df_co2['month'].values.astype(int)\n",
        "times = [datetime.date(years[ii], months[ii], 1) for ii in range(df_co2.shape[0])]\n",
        "time_series = pd.to_datetime(times)\n",
        "df_co2['time'] = time_series\n",
        "df_co2 = df_co2.set_index('time')"
      ]
    },
    {
      "cell_type": "markdown",
      "source": [
        "Explain the above cell line-by-line\n",
        "\n",
        "- numpy array\n",
        "- list comprehension\n",
        "- `datetime.date`\n",
        "- `pd.to_datetime`\n",
        "- ...\n",
        "\n",
        "> **_NOTE:_**  useful keyboard shortcuts:\n",
        "- running a cell: `shift + enter`\n",
        "- auto completion: `control + space` on windows or `command + space` on mac\n",
        "\n"
      ],
      "metadata": {
        "id": "CEynu3FzekzL"
      },
      "id": "CEynu3FzekzL"
    },
    {
      "cell_type": "markdown",
      "source": [
        "Now we are ready to plot the data in the CO2 time-series. Let's plot them using `pandas`."
      ],
      "metadata": {
        "id": "QaEIpT0FfzMn"
      },
      "id": "QaEIpT0FfzMn"
    },
    {
      "cell_type": "code",
      "source": [
        "df_co2.plot(y='monthly_average_co2')"
      ],
      "metadata": {
        "id": "2K7-tjjbgJm1"
      },
      "id": "2K7-tjjbgJm1",
      "execution_count": null,
      "outputs": []
    },
    {
      "cell_type": "markdown",
      "source": [
        "We could fine-tune the plot using `matplotlib`."
      ],
      "metadata": {
        "id": "MLY37BA9gZHt"
      },
      "id": "MLY37BA9gZHt"
    },
    {
      "cell_type": "code",
      "source": [
        "import matplotlib.pyplot as plt"
      ],
      "metadata": {
        "id": "e_eYa1QdGCv6"
      },
      "id": "e_eYa1QdGCv6",
      "execution_count": null,
      "outputs": []
    },
    {
      "cell_type": "code",
      "source": [
        "fig, ax = plt.subplots(1,1, figsize=(10, 5))\n",
        "df_co2.plot(y='monthly_average_co2', ax=ax)\n",
        "df_co2.plot(y='de-seasonalized_co2', ax=ax)\n",
        "ax.grid(True, alpha=0.2)\n",
        "ax.set_ylabel(\"CO2 level (ppm)\")\n",
        "ax.legend()"
      ],
      "metadata": {
        "id": "RX0q-9RUgk01"
      },
      "id": "RX0q-9RUgk01",
      "execution_count": null,
      "outputs": []
    },
    {
      "cell_type": "markdown",
      "source": [
        "Suppose you just wanted to plot the data between 1960 and 1980, you could use `numpy`. "
      ],
      "metadata": {
        "id": "-WmLeEh2g9t6"
      },
      "id": "-WmLeEh2g9t6"
    },
    {
      "cell_type": "code",
      "source": [
        "import numpy as np"
      ],
      "metadata": {
        "id": "EB1XY956GP85"
      },
      "id": "EB1XY956GP85",
      "execution_count": null,
      "outputs": []
    },
    {
      "cell_type": "code",
      "source": [
        "fig, ax = plt.subplots(1,1, figsize=(10, 5))\n",
        "year_min = 2015\n",
        "year_max = 2022\n",
        "# find indicies between 1960 and 1980\n",
        "index_time = np.logical_and(year_min<time_series.year, year_max>=time_series.year)\n",
        "df_co2.loc[time_series[index_time]].plot(y='monthly_average_co2', ax=ax)\n",
        "df_co2.loc[time_series[index_time]].plot(y='de-seasonalized_co2', ax=ax)\n",
        "ax.grid(True, alpha=0.2)\n",
        "ax.set_ylabel(\"CO2 level (ppm)\")\n",
        "ax.legend()"
      ],
      "metadata": {
        "id": "XRay1Flkf_zh"
      },
      "id": "XRay1Flkf_zh",
      "execution_count": null,
      "outputs": []
    },
    {
      "cell_type": "markdown",
      "source": [
        "Although the table includes `de-seasonalized_co2`, as an exercise we are going to do this ourselves, starting with the total data and then removing seasonal changes by using a moving average."
      ],
      "metadata": {
        "id": "oYaqS_-D6x5D"
      },
      "id": "oYaqS_-D6x5D"
    },
    {
      "cell_type": "code",
      "source": [
        "moving_average_window_size = 12\n",
        "df_series = df_co2['monthly_average_co2'].rolling(window=moving_average_window_size, center=True).mean()"
      ],
      "metadata": {
        "id": "Cn9UY60D22qc"
      },
      "id": "Cn9UY60D22qc",
      "execution_count": null,
      "outputs": []
    },
    {
      "cell_type": "code",
      "execution_count": null,
      "id": "cee5231d",
      "metadata": {
        "id": "cee5231d"
      },
      "outputs": [],
      "source": [
        "fig, ax = plt.subplots(1,1, figsize=(10, 5))\n",
        "year_min = 1960\n",
        "year_max = 1980\n",
        "index_time = np.logical_and(year_min<time_series.year, year_max>=time_series.year)\n",
        "ax.plot(time_series[index_time], df_co2['monthly_average_co2'].values[index_time], label=\"CO2\", marker='None')\n",
        "ax.plot(time_series[index_time], df_co2['de-seasonalized_co2'].values[index_time], label=\"CO2 without seasonal changes\", marker='None')\n",
        "df_series.loc[time_series[index_time]].plot(label='C02 moving average')\n",
        "ax.grid(True, alpha=0.2)\n",
        "ax.set_ylabel(\"CO2 level (ppm)\")\n",
        "\n",
        "ax.legend()"
      ]
    },
    {
      "cell_type": "markdown",
      "source": [
        "You could also estimate a linear trend using linear regression. "
      ],
      "metadata": {
        "id": "i6xKeoHU4USo"
      },
      "id": "i6xKeoHU4USo"
    },
    {
      "cell_type": "code",
      "source": [
        "def linear_fit(time_series, data):\n",
        "    # assume the time series has a regular sampling rate\n",
        "    times = np.arange(len(time_series))\n",
        "    G = np.c_[times, np.ones_like(times)]\n",
        "    Pinv = np.linalg.pinv(G)\n",
        "    m = Pinv.dot(data)\n",
        "    predicted_data = G @ m\n",
        "    slope = m[0,:]\n",
        "    intercept = m[1,:]\n",
        "    return predicted_data, slope, intercept"
      ],
      "metadata": {
        "id": "uTwE0UkGiUnB"
      },
      "id": "uTwE0UkGiUnB",
      "execution_count": null,
      "outputs": []
    },
    {
      "cell_type": "code",
      "source": [
        "predicted_data, slope, intercept = linear_fit(time_series[index_time], df_co2['monthly_average_co2'].values[index_time].reshape([-1,1]))"
      ],
      "metadata": {
        "id": "bvoHaO70iZlY"
      },
      "id": "bvoHaO70iZlY",
      "execution_count": null,
      "outputs": []
    },
    {
      "cell_type": "code",
      "source": [
        "fig, ax = plt.subplots(1,1, figsize=(10, 5))\n",
        "ax.plot(time_series[index_time], df_co2['monthly_average_co2'].values[index_time], label=\"CO2\", marker='None')\n",
        "ax.plot(time_series[index_time], predicted_data, label=\"Linear fit\", marker='None')\n",
        "ax.grid(True, alpha=0.2)\n",
        "ax.set_ylabel(\"CO2 level (ppm)\")\n",
        "ax.legend()"
      ],
      "metadata": {
        "id": "pE1vQIdaiubr"
      },
      "id": "pE1vQIdaiubr",
      "execution_count": null,
      "outputs": []
    },
    {
      "cell_type": "markdown",
      "source": [
        "Let's add the linear trend back to the dataframe."
      ],
      "metadata": {
        "id": "CAeIdHeNi306"
      },
      "id": "CAeIdHeNi306"
    },
    {
      "cell_type": "code",
      "source": [
        "# Estimate the linear trend for all times\n",
        "predicted_data, _, _ = linear_fit(time_series[:], df_co2['monthly_average_co2'].values[:].reshape([-1,1]))\n",
        "df_co2['linear_trend_co2'] = predicted_data"
      ],
      "metadata": {
        "id": "f0dVeY13i_Mz"
      },
      "id": "f0dVeY13i_Mz",
      "execution_count": null,
      "outputs": []
    },
    {
      "cell_type": "code",
      "source": [
        "df_co2.head(3)"
      ],
      "metadata": {
        "id": "lpLJWGbLjE-g"
      },
      "id": "lpLJWGbLjE-g",
      "execution_count": null,
      "outputs": []
    },
    {
      "cell_type": "markdown",
      "source": [
        "The data are monthly, but sometimes we are interested in looking at annual trends, so summing all the months in each year. We are going to use the `groupby` operation available through the pandas dataframe."
      ],
      "metadata": {
        "id": "Gu7b73QssN6S"
      },
      "id": "Gu7b73QssN6S"
    },
    {
      "cell_type": "code",
      "source": [
        "df_co2_annual = df_co2.groupby('year')['monthly_average_co2'].mean()"
      ],
      "metadata": {
        "id": "V4bjY-ihsm3P"
      },
      "id": "V4bjY-ihsm3P",
      "execution_count": null,
      "outputs": []
    },
    {
      "cell_type": "code",
      "source": [
        "df_co2_annual.head(3)"
      ],
      "metadata": {
        "id": "o9TAOHV-tUlD"
      },
      "id": "o9TAOHV-tUlD",
      "execution_count": null,
      "outputs": []
    },
    {
      "cell_type": "code",
      "source": [
        "fig, ax = plt.subplots(1,1, figsize=(10, 5))\n",
        "df_co2_annual.plot(legend=False, ax=ax)\n",
        "ax.grid(True, alpha=0.2)\n",
        "ax.set_ylabel(\"CO2 level (ppm)\")"
      ],
      "metadata": {
        "id": "pfapRCNNs-zL"
      },
      "id": "pfapRCNNs-zL",
      "execution_count": null,
      "outputs": []
    },
    {
      "cell_type": "markdown",
      "source": [
        "## Working with gridded CO2 data using `xarray` and `cartopy`\n",
        "\n",
        "### Introducing `xarray`\n",
        "\n",
        "Now, we are going to load the gridded CO2 data in a [NETCDF](https://www.unidata.ucar.edu/software/netcdf/) format - a widely used data format for various atmopheric data. "
      ],
      "metadata": {
        "id": "zDMxmriIKM_S"
      },
      "id": "zDMxmriIKM_S"
    },
    {
      "cell_type": "code",
      "source": [
        "import xarray as xr"
      ],
      "metadata": {
        "id": "dhU-cNV82ldP"
      },
      "id": "dhU-cNV82ldP",
      "execution_count": null,
      "outputs": []
    },
    {
      "cell_type": "code",
      "execution_count": null,
      "id": "9a5cc04d",
      "metadata": {
        "id": "9a5cc04d"
      },
      "outputs": [],
      "source": [
        "co2_data = xr.load_dataset('./taking_the_pulse_atmosphere_data/co2.nc')"
      ]
    },
    {
      "cell_type": "markdown",
      "source": [
        "Provide a nice summary of data structure. "
      ],
      "metadata": {
        "id": "uEoeZ5erkuiz"
      },
      "id": "uEoeZ5erkuiz"
    },
    {
      "cell_type": "code",
      "source": [
        "co2_data"
      ],
      "metadata": {
        "id": "iBxP6xf714OA"
      },
      "id": "iBxP6xf714OA",
      "execution_count": null,
      "outputs": []
    },
    {
      "cell_type": "markdown",
      "source": [
        "Let's get some information about the data. \n",
        "\n",
        "- Time range\n",
        "- Temporal resolution \n",
        "- ... "
      ],
      "metadata": {
        "id": "Px1BqSKtk8G7"
      },
      "id": "Px1BqSKtk8G7"
    },
    {
      "cell_type": "code",
      "source": [
        "co2_data.time.min()"
      ],
      "metadata": {
        "id": "9qlGOj_X1X0b"
      },
      "id": "9qlGOj_X1X0b",
      "execution_count": null,
      "outputs": []
    },
    {
      "cell_type": "code",
      "source": [
        "co2_data.time.max()"
      ],
      "metadata": {
        "id": "VvEaHSEt1xK5"
      },
      "id": "VvEaHSEt1xK5",
      "execution_count": null,
      "outputs": []
    },
    {
      "cell_type": "code",
      "source": [
        "co2_data.lon"
      ],
      "metadata": {
        "id": "nA9yEvJS2Kt0"
      },
      "id": "nA9yEvJS2Kt0",
      "execution_count": null,
      "outputs": []
    },
    {
      "cell_type": "markdown",
      "source": [
        "How do you access the data?"
      ],
      "metadata": {
        "id": "WF1PD9J8lPd-"
      },
      "id": "WF1PD9J8lPd-"
    },
    {
      "cell_type": "code",
      "source": [
        "# demo - use co2 "
      ],
      "metadata": {
        "id": "jvxRQpW72N8L"
      },
      "id": "jvxRQpW72N8L",
      "execution_count": null,
      "outputs": []
    },
    {
      "cell_type": "markdown",
      "source": [
        "Can we plot select a time slice of the data and plot a 2D map using `xarray`?"
      ],
      "metadata": {
        "id": "V6-z_R2jl-r6"
      },
      "id": "V6-z_R2jl-r6"
    },
    {
      "cell_type": "code",
      "source": [
        "i_time = 0\n",
        "co2_data.co2.isel(time=i_time).plot(add_colorbar=False, cmap='hot_r')"
      ],
      "metadata": {
        "id": "Tbv6nm7amFZE"
      },
      "id": "Tbv6nm7amFZE",
      "execution_count": null,
      "outputs": []
    },
    {
      "cell_type": "markdown",
      "source": [
        "Or you could also input a date. "
      ],
      "metadata": {
        "id": "GeM7JmpKK7Il"
      },
      "id": "GeM7JmpKK7Il"
    },
    {
      "cell_type": "code",
      "source": [
        "time = '2016-1-10'\n",
        "co2_data.co2.sel(time=time, method='nearest').plot(add_colorbar=False, cmap='hot_r')"
      ],
      "metadata": {
        "id": "25dP4U-AK5Hm"
      },
      "id": "25dP4U-AK5Hm",
      "execution_count": null,
      "outputs": []
    },
    {
      "cell_type": "markdown",
      "source": [
        "### Introducing cartopy\n",
        "\n",
        "2D maps are very colorful, but it would be helpful if we could see the continental boundaries."
      ],
      "metadata": {
        "id": "VXcbXE_u5A1Q"
      },
      "id": "VXcbXE_u5A1Q"
    },
    {
      "cell_type": "code",
      "source": [
        "import cartopy.crs as ccrs\n",
        "import cartopy.feature as cf"
      ],
      "metadata": {
        "id": "T9coxkOGZBb0"
      },
      "id": "T9coxkOGZBb0",
      "execution_count": null,
      "outputs": []
    },
    {
      "cell_type": "code",
      "source": [
        "fig = plt.figure(figsize=(20, 10))\n",
        "ax = plt.axes(projection=ccrs.PlateCarree())\n",
        "ax.axes.add_feature(cf.COASTLINE)\n",
        "\n",
        "time = '2016-1-10'\n",
        "out = co2_data.co2.sel(time=time, method='nearest').plot(add_colorbar=False, cmap='hot_r', ax=ax)\n",
        "cb = plt.colorbar(out, fraction=0.04, orientation='horizontal')\n",
        "cb.set_label(\"Monthly rate (ppmv/month)\")\n",
        "ax.set_aspect(1)\n",
        "\n",
        "gl = ax.gridlines(\n",
        "    crs=ccrs.PlateCarree(), \n",
        "    draw_labels=True,\n",
        "    linewidth=1, \n",
        "    color='gray', \n",
        "    alpha=0.5, \n",
        "    linestyle='--'\n",
        ")"
      ],
      "metadata": {
        "id": "3n5H9PQZmV5S"
      },
      "id": "3n5H9PQZmV5S",
      "execution_count": null,
      "outputs": []
    },
    {
      "cell_type": "markdown",
      "source": [
        "We could also select multiple times. Let's say we want all data between 2020-01 and 2021-12. Then we could first find corresponding indices of `time_series_co2` then input them to the `co2_data`."
      ],
      "metadata": {
        "id": "RnPMqwTi_ED6"
      },
      "id": "RnPMqwTi_ED6"
    },
    {
      "cell_type": "code",
      "source": [
        "time_series_co2 = pd.to_datetime(co2_data.time.data)\n",
        "index_tmp = np.logical_and(time_series_co2.year>=2015, time_series_co2.year<=2019)\n",
        "co2_data_tmp = co2_data.sel(time=time_series_co2[index_tmp])\n",
        "co2_data_tmp"
      ],
      "metadata": {
        "id": "pzy5cY1k_B94"
      },
      "id": "pzy5cY1k_B94",
      "execution_count": null,
      "outputs": []
    },
    {
      "cell_type": "markdown",
      "source": [
        "Access all the CO2 data and plot them in a histogram. "
      ],
      "metadata": {
        "id": "_HpMwHLtnN__"
      },
      "id": "_HpMwHLtnN__"
    },
    {
      "cell_type": "code",
      "execution_count": null,
      "id": "3c76064e",
      "metadata": {
        "id": "3c76064e"
      },
      "outputs": [],
      "source": [
        "# comment about the Mauna Loa data. \n",
        "out = plt.hist(co2_data.co2.data.flatten(), bins=30, edgecolor='k')\n",
        "plt.xlabel(\"CO2 level (ppm)\")"
      ]
    },
    {
      "cell_type": "markdown",
      "source": [
        "Now let's make an interactive plot. "
      ],
      "metadata": {
        "id": "DKJU_TXynVM_"
      },
      "id": "DKJU_TXynVM_"
    },
    {
      "cell_type": "code",
      "execution_count": null,
      "id": "4a802808",
      "metadata": {
        "id": "4a802808"
      },
      "outputs": [],
      "source": [
        "from ipywidgets import widgets, interact\n",
        "def plot_co2(i_time):\n",
        "    fig = plt.figure(figsize=(20, 10))\n",
        "    ax = plt.axes(projection=ccrs.PlateCarree())\n",
        "    ax.axes.add_feature(cf.COASTLINE)\n",
        "\n",
        "    time = '2016-1-10'\n",
        "    out = co2_data.co2.isel(time=i_time).plot(\n",
        "        add_colorbar=False, cmap='hot_r', ax=ax,\n",
        "        # fix the color range\n",
        "        vmin=390, vmax=420\n",
        "      )\n",
        "    cb = plt.colorbar(out, fraction=0.04, orientation='horizontal')\n",
        "    cb.set_label(\"Monthly rate (ppmv/month)\")\n",
        "    ax.set_aspect(1)\n",
        "    ax.set_aspect(1)\n",
        "    plt.show()"
      ]
    },
    {
      "cell_type": "markdown",
      "source": [
        "Before you run the cell below, and toggle the time slider through the data, first think about what you expect to see. The best way to catch problems with data or with your analysis is to first THINK about what you expect to see in the data. If what you see is very different from what you expected to see, you might want to check on the data and/or your workflow. "
      ],
      "metadata": {
        "id": "h4VEVAkgnoeX"
      },
      "id": "h4VEVAkgnoeX"
    },
    {
      "cell_type": "code",
      "execution_count": null,
      "id": "e639457f",
      "metadata": {
        "id": "e639457f"
      },
      "outputs": [],
      "source": [
        "interact(plot_co2, i_time = widgets.IntSlider(min=0, max=83, step=12))"
      ]
    },
    {
      "cell_type": "markdown",
      "source": [
        "We can do many more things using `xarray`. Let's calculate the mean CO2 values along the axes of Latitude and Longitude. Then plot the resulting time-series."
      ],
      "metadata": {
        "id": "RDzY-dZrqO2d"
      },
      "id": "RDzY-dZrqO2d"
    },
    {
      "cell_type": "code",
      "source": [
        "co2_mean_time_series = co2_data.mean(dim=['lat','lon'])\n",
        "# below does not work..., unfortunately\n",
        "# co2_mean_time_series.plot()\n",
        "plt.plot(co2_mean_time_series.time, co2_mean_time_series.co2.data)"
      ],
      "metadata": {
        "id": "nawm91WT9WJ_"
      },
      "id": "nawm91WT9WJ_",
      "execution_count": null,
      "outputs": []
    },
    {
      "cell_type": "markdown",
      "source": [
        "Or we could calculate the mean along the longitudinal axis (which allows us to see what is usually the greater variation in the latitudinal direction), and plot profiles of CO2 at different times."
      ],
      "metadata": {
        "id": "K3zqZkkGq6yM"
      },
      "id": "K3zqZkkGq6yM"
    },
    {
      "cell_type": "code",
      "source": [
        "co2_lat = co2_data.mean(dim=['lon'])\n",
        "# use the same date\n",
        "out = co2_lat['co2'].isel(time=[0, 2, 4, 6, 8]).plot.line(y='lat', hue='time', add_legend=True)"
      ],
      "metadata": {
        "id": "5o81JN1J9rrj"
      },
      "id": "5o81JN1J9rrj",
      "execution_count": null,
      "outputs": []
    },
    {
      "cell_type": "markdown",
      "source": [
        "Now we are going to calculate the rate of change in the monthly CO2 measurements at every grid point in space. What we display is called a trend map."
      ],
      "metadata": {
        "id": "FWdGZjDK6TTb"
      },
      "id": "FWdGZjDK6TTb"
    },
    {
      "cell_type": "code",
      "source": [
        "# Get co2 data as a numpy array, then reshape\n",
        "co2_vec = co2_data.co2.data.reshape((co2_data.co2.data.shape[0], np.prod(co2_data.co2.data.shape[1:])))\n",
        "time_series_co2 = pd.to_datetime(co2_data.time.data)\n",
        "co2_linear_fit, slope, intercept = linear_fit(time_series_co2, co2_vec)\n",
        "\n",
        "# Add resutls back to co2_data\n",
        "co2_data['slope'] = ((\"lat\", \"lon\"), slope.reshape(co2_data.co2.data.shape[1:]))\n",
        "co2_data['intercept'] = ((\"lat\", \"lon\"), intercept.reshape(co2_data.co2.data.shape[1:]))\n",
        "co2_data['co2_linear_fit'] = ((\"time\", \"lat\", \"lon\"), co2_linear_fit.reshape(co2_data.co2.data.shape))\n",
        "\n",
        "time_min = pd.to_datetime(time_series_co2).min().strftime('%Y-%m')\n",
        "time_max = pd.to_datetime(time_series_co2).max().strftime('%Y-%m')"
      ],
      "metadata": {
        "id": "Z4gJ9bCC54js"
      },
      "id": "Z4gJ9bCC54js",
      "execution_count": null,
      "outputs": []
    },
    {
      "cell_type": "markdown",
      "source": [
        "Then plot the trend map. "
      ],
      "metadata": {
        "id": "UY4FA2hvTVQ5"
      },
      "id": "UY4FA2hvTVQ5"
    },
    {
      "cell_type": "code",
      "source": [
        "fig = plt.figure(figsize=(20, 10))\n",
        "ax = plt.axes(projection=ccrs.PlateCarree())\n",
        "ax.axes.add_feature(cf.COASTLINE)\n",
        "\n",
        "out = co2_data['slope'].plot(ax=ax, add_colorbar=False, cmap='hot_r')\n",
        "cb = plt.colorbar(out, fraction=0.04, orientation='horizontal')\n",
        "cb.set_label(\"Monthly rate (ppmv/month)\")\n",
        "ax.set_aspect(1)\n",
        "gl = ax.gridlines(\n",
        "    crs=ccrs.PlateCarree(), \n",
        "    draw_labels=True,\n",
        "    linewidth=1, \n",
        "    color='gray', \n",
        "    alpha=0.5, \n",
        "    linestyle='--'\n",
        ")\n",
        "ax.set_title(\"Monthly rate of CO2 level increase between {:s} and {:s}\".format(time_min, time_max))\n",
        "plt.show()"
      ],
      "metadata": {
        "id": "wN7sdnUt58yq"
      },
      "id": "wN7sdnUt58yq",
      "execution_count": null,
      "outputs": []
    },
    {
      "cell_type": "markdown",
      "source": [
        "We could also use other type of geographical data provide boundaries of countries using `geopandas`."
      ],
      "metadata": {
        "id": "DLNMaeWa3lEX"
      },
      "id": "DLNMaeWa3lEX"
    },
    {
      "cell_type": "markdown",
      "source": [
        "## Working with geographic boundaries using `geopandas`\n",
        "\n",
        "`geopandas`allows us to use other types of geographical data.\n",
        "Let's use `geopandas` and read in a `geojson` file. "
      ],
      "metadata": {
        "id": "OxyNcJ-f2MYi"
      },
      "id": "OxyNcJ-f2MYi"
    },
    {
      "cell_type": "code",
      "source": [
        "import geopandas as gpd\n",
        "gdf_boundaries = gpd.read_file(\"./taking_the_pulse_atmosphere_data/world-administrative-boundaries.geojson\")"
      ],
      "metadata": {
        "id": "REWhPt-a2KwX"
      },
      "id": "REWhPt-a2KwX",
      "execution_count": null,
      "outputs": []
    },
    {
      "cell_type": "code",
      "source": [
        "country_names = np.sort(gdf_boundaries.name.values)\n",
        "gdf_boundaries = gdf_boundaries.set_index('name')"
      ],
      "metadata": {
        "id": "5Zm7VZYVQFjD"
      },
      "id": "5Zm7VZYVQFjD",
      "execution_count": null,
      "outputs": []
    },
    {
      "cell_type": "code",
      "source": [
        "# top10_countries"
      ],
      "metadata": {
        "id": "uiuGC2LISzZJ"
      },
      "id": "uiuGC2LISzZJ",
      "execution_count": null,
      "outputs": []
    },
    {
      "cell_type": "markdown",
      "source": [
        "Use what is provided below in `country_names` to select the top 10 countries you found in terms of emissions. \n"
      ],
      "metadata": {
        "id": "IEpKh4GIVlLM"
      },
      "id": "IEpKh4GIVlLM"
    },
    {
      "cell_type": "code",
      "source": [
        "widget_country = widgets.Select(options=country_names)\n",
        "widget_country"
      ],
      "metadata": {
        "id": "POl98xIoVPUy"
      },
      "id": "POl98xIoVPUy",
      "execution_count": null,
      "outputs": []
    },
    {
      "cell_type": "code",
      "source": [
        "widget_country.value"
      ],
      "metadata": {
        "id": "zT9FT9swXGFf"
      },
      "id": "zT9FT9swXGFf",
      "execution_count": null,
      "outputs": []
    },
    {
      "cell_type": "markdown",
      "source": [
        "Alter the name of the countries in the cell below with the top 10 countriees that you have found. "
      ],
      "metadata": {
        "id": "PQv10A0lM5F2"
      },
      "id": "PQv10A0lM5F2"
    },
    {
      "cell_type": "code",
      "source": [
        "\n",
        "names = [\n",
        "    'China', \n",
        "    'United States of America', \n",
        "    'India', \n",
        "    'Russian Federation', \n",
        "    'Japan', \n",
        "    'Iran (Islamic Republic of)', \n",
        "    'Germany',\n",
        "    'Republic of Korea',\n",
        "    'Saudi Arabia',\n",
        "    'Indonesia'\n",
        "]"
      ],
      "metadata": {
        "id": "qkmDPPCYVWnB"
      },
      "id": "qkmDPPCYVWnB",
      "execution_count": null,
      "outputs": []
    },
    {
      "cell_type": "code",
      "source": [
        "gdf_boundaries_top_10_co2 = gdf_boundaries.loc[names]\n",
        "fig = plt.figure(figsize=(10, 5))\n",
        "ax = plt.axes(projection=ccrs.PlateCarree())\n",
        "gdf_boundaries_top_10_co2.plot(ax=ax, color='r')\n",
        "gdf_boundaries.boundary.plot(color='k', ax=ax)"
      ],
      "metadata": {
        "id": "qN9hvrgfVzda"
      },
      "id": "qN9hvrgfVzda",
      "execution_count": null,
      "outputs": []
    },
    {
      "cell_type": "markdown",
      "source": [
        "We could color code the countries with some values. Let's calculate the area of each county then plot it up. "
      ],
      "metadata": {
        "id": "a0m3Jx4Xi-T4"
      },
      "id": "a0m3Jx4Xi-T4"
    },
    {
      "cell_type": "code",
      "source": [
        "areas = [geom.area for geom in gdf_boundaries.geometry]"
      ],
      "metadata": {
        "id": "0SqFXs823_9Q"
      },
      "id": "0SqFXs823_9Q",
      "execution_count": null,
      "outputs": []
    },
    {
      "cell_type": "code",
      "source": [
        "gdf_boundaries['area'] = areas"
      ],
      "metadata": {
        "id": "-2me72zh4aXt"
      },
      "id": "-2me72zh4aXt",
      "execution_count": null,
      "outputs": []
    },
    {
      "cell_type": "code",
      "source": [
        "gdf_boundaries.plot(column='area', cmap='viridis')"
      ],
      "metadata": {
        "id": "gf8gTpMN34Zo"
      },
      "id": "gf8gTpMN34Zo",
      "execution_count": null,
      "outputs": []
    },
    {
      "cell_type": "markdown",
      "source": [
        "-----\n",
        "## THE REST OF THE ASSIGNMENT - Homework Questions \n",
        "\n",
        "### Q1: Working with the CO2 time-series measured at Mauna Loa Observatory, calculate the mean CO2 values for each month, and plot the resulting values as a function of month; for CO2 values use the second column - \"monthly_average_co2\". **[Hint: use `groupby` operation]** Write the relevant codes in the below cell. A) What do you see in the plot? Describe the plot. B) Given what you have heard in class what are the possible causes of the seasonality?"
      ],
      "metadata": {
        "id": "LYahGcr5uv0B"
      },
      "id": "LYahGcr5uv0B"
    },
    {
      "cell_type": "code",
      "source": [
        "# Fill in this cell with codes to generate the plot"
      ],
      "metadata": {
        "id": "Wz9T9JnBv8dT"
      },
      "id": "Wz9T9JnBv8dT",
      "execution_count": null,
      "outputs": []
    },
    {
      "cell_type": "markdown",
      "source": [
        "Put your answer here. "
      ],
      "metadata": {
        "id": "PoNqndR9UP5_"
      },
      "id": "PoNqndR9UP5_"
    },
    {
      "cell_type": "markdown",
      "source": [
        "### Q2: Working with the same time-series, calculate the trend of CO2 (i.e. rate in ppmv/decade) within each decade starting from 1950 and ending 2020 using the `linear_fit` function. Plot the resulting rates as a function of the starting year of the decade. Write the relevant codes in the cell below. Which decade shows the largest CO2 increase?"
      ],
      "metadata": {
        "id": "lR_w0wYrwqHQ"
      },
      "id": "lR_w0wYrwqHQ"
    },
    {
      "cell_type": "code",
      "source": [
        "# Fill in this cell with codes to generate the plot"
      ],
      "metadata": {
        "id": "D5BK10ovwEMe"
      },
      "id": "D5BK10ovwEMe",
      "execution_count": 1,
      "outputs": []
    },
    {
      "cell_type": "markdown",
      "source": [
        "Put your answer here. "
      ],
      "metadata": {
        "id": "Snq64U9kj7lY"
      },
      "id": "Snq64U9kj7lY"
    },
    {
      "cell_type": "markdown",
      "source": [
        "### Q3: Working with the gridded CO2 data over the entire time span, produce the trend map. Then in the same plot show the boundaries of the 10 countries you identified as the top for emissions. Write the relevant codes in the cell below. Is there a relationship between the location of the top 10 countries and the location of regions with a high CO2 rate? Explain your observation. "
      ],
      "metadata": {
        "id": "p07lGpJd4Pad"
      },
      "id": "p07lGpJd4Pad"
    },
    {
      "cell_type": "code",
      "source": [
        "# Fill in this cell with codes to generate the plot"
      ],
      "metadata": {
        "id": "QA8xLE0F-cN8"
      },
      "id": "QA8xLE0F-cN8",
      "execution_count": 2,
      "outputs": []
    },
    {
      "cell_type": "markdown",
      "source": [
        "Put your answer here. "
      ],
      "metadata": {
        "id": "DuT90YiYyGns"
      },
      "id": "DuT90YiYyGns"
    },
    {
      "cell_type": "markdown",
      "source": [
        "### Q4: Choose a gridded data set from among three given below and produce a trend map, showing the coast lines on the map. \n",
        "\n",
        "- CH4: ./taking_the_pulse_atmosphere_data/ch4.nc\n",
        "- NO2: ./taking_the_pulse_atmosphere_data/no2.nc\n",
        "- CO: ./taking_the_pulse_atmosphere_data/co.nc"
      ],
      "metadata": {
        "id": "j_vrDkWEBhKw"
      },
      "id": "j_vrDkWEBhKw"
    },
    {
      "cell_type": "code",
      "source": [
        "# Fill in this cell with codes to generate the plot"
      ],
      "metadata": {
        "id": "65zebdWyCFsD"
      },
      "id": "65zebdWyCFsD",
      "execution_count": 3,
      "outputs": []
    },
    {
      "cell_type": "markdown",
      "source": [
        "Put your answer here. "
      ],
      "metadata": {
        "id": "h1auDvyFyjHa"
      },
      "id": "h1auDvyFyjHa"
    }
  ],
  "metadata": {
    "kernelspec": {
      "display_name": "Python 3 (ipykernel)",
      "language": "python",
      "name": "python3"
    },
    "language_info": {
      "codemirror_mode": {
        "name": "ipython",
        "version": 3
      },
      "file_extension": ".py",
      "mimetype": "text/x-python",
      "name": "python",
      "nbconvert_exporter": "python",
      "pygments_lexer": "ipython3",
      "version": "3.9.5"
    },
    "colab": {
      "provenance": [],
      "include_colab_link": true
    }
  },
  "nbformat": 4,
  "nbformat_minor": 5
}