{
  "cells": [
    {
      "cell_type": "markdown",
      "metadata": {
        "id": "view-in-github",
        "colab_type": "text"
      },
      "source": [
        "<a href=\"https://colab.research.google.com/github/envgp/taking_the_pulse_of_the_planet/blob/main/notebooks/pulse_assignment_4.ipynb\" target=\"_parent\"><img src=\"https://colab.research.google.com/assets/colab-badge.svg\" alt=\"Open In Colab\"/></a>"
      ]
    },
    {
      "cell_type": "markdown",
      "id": "c72351b4",
      "metadata": {
        "id": "c72351b4"
      },
      "source": [
        "# Assignment 4: Taking the Pulse of the Oceans & Fishing Activity\n",
        "\n",
        "2023-02-09\n",
        "\n",
        "Shin Nakayama (shinn1@stanford.edu) & Fio Micheli (micheli@stanford.edu)\n",
        "\n",
        "[Stanford Center for Ocean Solutions](https://oceansolutions.stanford.edu), Doerr School of Sustainability"
      ]
    },
    {
      "cell_type": "markdown",
      "id": "854a877a",
      "metadata": {
        "id": "854a877a"
      },
      "source": [
        "This lab is supposed be submitted by 2023-02-16. You are supposed to put your answer questions within this notebook and share the completed notebook with shinn1@stanford.edu using the `Share` banner located at the top right corner of this notebook. When sharing your notebook, please change the name of the notebook and add your name and sunetid (e.g., `pulse_assignment_4_firstname_lastname_sunetid.ipynb`)"
      ]
    },
    {
      "cell_type": "markdown",
      "id": "d475373c",
      "metadata": {
        "id": "d475373c"
      },
      "source": [
        "## INTRODUCTION TO THE ASSIGNMENT\n",
        "Fisheries play a vital role in our food security, economy and ecosystem, while posing significant impacts on the oceans. Industrialization of fisheries has allowed us to catch more fish with engine-powered fishing fleets and gears. Non-selective fishing gears have let bycatch of unwanted and endangered species, while bottom trawlers have killed coral reefs by dragging the nets over seabeds. Currently, 35% of the fish population is overfished, and a study predicts that there will be no fish in the ocean by 2048, calling for better fisheries management.\n",
        "\n",
        "Data sets used this assignment are: 1) global fishing effort, 2) regional fishing effort, 3) ocean chlorophyll a and sea surface temperature, and 4) shapefile of exclusive economic zones (EEZ).  \n",
        "1. `fishing_hours.parquet` &mdash; A pre-processed grid data of daily fishing hours from 2016-01-01 to 2021-12-31, sumed within 1 × 1-degree grids. The original data are composed of locations, timestamp, and fishing hours associated with each AIS signal. Data taken from [Global Fishing Watch](https://globalfishingwatch.org).\n",
        "    - `date`: year-month-day\n",
        "    - `lat`: latitude\n",
        "    - `lon`: longitude\n",
        "    - `gear`: fishing gear type (trawlers, purse seines, etc.)\n",
        "    - `flag`: vessel flag in ISO 3 code (that is, State which a vessel is registered to)\n",
        "    - `fishing_hours`: total fishing hours in a 1 x 1-degree grid\n",
        "2. `fishing_hours_x.parquet` &mdash; A pre-processed grid data of daily fishing hours from 2016-01-01 to 2021-12-31, sumed within 0.1 × 0.1-degree grids, for specific regions (40 × 40 degrees).\n",
        "    - `fishing_hours_peru.parquet`: Near Peru with longitude [-100, -60] and latitude [-30, 10]\n",
        "    - `fishing_hours_w_africa.parquet`: Near West Africa with longitude [-40, 0] and latitude [-10, 30]\n",
        "    - `fishing_hours_falkland.parquet`: Near Falkland Islands with longitude [-70, -30] and latitude [-70, 30]\n",
        "    - `fishing_hours_pacific.parquet` : In the Pacific with longitude [140, 180] and latitude [-35, 5]    \n",
        "3. `modis.parquet` &mdash; A pre-processed grid data of monthly mean measurements by MODIS Terra sensor from 2016-01 to 2021-12, averaged within 1 × 1-degree grids. Data taken from [NASA MODIS Terra satellite imagery](https://developers.google.com/earth-engine/datasets/catalog/NASA_OCEANDATA_MODIS-Terra_L3SMI). \n",
        "    - `month`: year-month\n",
        "    - `sst`: sea surface temperature (°C)\n",
        "    - `chlor_a`: chlorophyll a concentration (mg/m<sup>3</sup>)\n",
        "4. `SAU_EEZ` &mdash; shapefile of Exclusive Economic Zones (EEZ). Data taken from [Sea Around US](https://www.seaaroundus.org)."
      ]
    },
    {
      "cell_type": "markdown",
      "id": "fe880e27",
      "metadata": {
        "id": "fe880e27"
      },
      "source": [
        "### The Learning Goals for the week:\n",
        "(where the course learning goals are in plain text, and the focus this week is in italics)\n",
        "\n",
        "Students will:\n",
        "- learn about the ways in which climate change and human activity are impacting planet Earth, *with a focus this week on fishing activities in response to climates.*\n",
        "\n",
        "- become familiar with the wide range of sensors available to study various components of the Earth system. These include sensors on satellites, aircraft, ground-based platforms, and deployed above or beneath the surface on land or water. *This week we will use vessel-borne GPS data on the Automatic Identification System (AIS) for fishing effort and MODIS satellite imagery data for ocean productivity and temperature.* \n",
        "\n",
        "- become familiar with the basic physical principles (resolution, sampling, processing workflows, etc.) common to all sensors. *This week we will use data with different sampling frequencies and resolutions.*\n",
        "\n",
        "- work with various sources of data, learning how to access, analyze, synthesize, and describe the data to quantify trends; think critically and creatively about how to project these trends into the future. *This week we will describe the spatial and temporal patterns of the data.*\n",
        "\n",
        "- describe the complex interactions between human activity and various components of the Earth system. *This week we will explore the potential drivers of fishing activities by overlaying different datasets on the same plots and with statistics such as linear regression and cross-correlation.*\n",
        "\n",
        "- become motivated to think about new sensors and new ways of using sensor data to study the planet. This is always the last question in each assignment."
      ]
    },
    {
      "cell_type": "markdown",
      "id": "8133df14",
      "metadata": {
        "id": "8133df14"
      },
      "source": [
        "## OVERVIEW OF THE ASSIGNMENT\n",
        "\n",
        "### I. Understand Global Patterns of Fishing Activity\n",
        "With climate changes taking place at an alarming rate, it is necessary to understand how fishing activities respond to climates toward effective fisheries management and sustainable fisheries. Here, we will discuss the spatial and temporal patterns of fishing activities at a global scale. For example, where do you find the hotspots? Is there seasonality? Is there a latitudinal gradient?\n",
        "\n",
        "\n",
        "### II. Explore Drivers Underlying Fishing Effort\n",
        "Considering that humans are the top fish predators equipped with highly-advanced sensors and gears, understanding the drivers of fishing activity is the first step toward effective fisheries management and sustainable ocean use in the future. Here, we will explore the relationship between fishing effort and environmental factors. Further, we will observe how social and geopolitical factors may influence fishing activity.\n",
        "\n",
        "\n",
        "### III. Taking the Pulse in the Future\n",
        "We conclude with the usual question – what’s next?"
      ]
    },
    {
      "cell_type": "markdown",
      "id": "ckj9FZofCsQY",
      "metadata": {
        "id": "ckj9FZofCsQY"
      },
      "source": [
        "## Install required Python packages"
      ]
    },
    {
      "cell_type": "code",
      "execution_count": null,
      "id": "K7LxjSHiCjp4",
      "metadata": {
        "id": "K7LxjSHiCjp4"
      },
      "outputs": [],
      "source": [
        "!pip install geopandas cartopy==0.19.0.post1"
      ]
    },
    {
      "cell_type": "code",
      "execution_count": null,
      "id": "tzVnEF5gCmYH",
      "metadata": {
        "id": "tzVnEF5gCmYH"
      },
      "outputs": [],
      "source": [
        "!pip uninstall -y shapely"
      ]
    },
    {
      "cell_type": "code",
      "execution_count": null,
      "id": "PWkAOqr5CoL8",
      "metadata": {
        "id": "PWkAOqr5CoL8"
      },
      "outputs": [],
      "source": [
        "!pip install shapely --no-binary shapely"
      ]
    },
    {
      "cell_type": "code",
      "execution_count": null,
      "id": "45cd5f49",
      "metadata": {
        "id": "45cd5f49"
      },
      "outputs": [],
      "source": [
        "import numpy as np\n",
        "import pandas as pd\n",
        "import geopandas as gpd \n",
        "import matplotlib.pyplot as plt\n",
        "import matplotlib.dates as mdates\n",
        "from matplotlib.colors import LogNorm\n",
        "import xarray as xr\n",
        "import cartopy.crs as ccrs\n",
        "import cartopy.feature as cf\n",
        "import statsmodels.api as sm\n",
        "import seaborn as sns\n",
        "import warnings\n",
        "warnings.filterwarnings('ignore')"
      ]
    },
    {
      "cell_type": "markdown",
      "id": "AO5qmSPHC4EV",
      "metadata": {
        "id": "AO5qmSPHC4EV"
      },
      "source": [
        "## Download required data"
      ]
    },
    {
      "cell_type": "code",
      "execution_count": null,
      "id": "cc6cPY1sDBar",
      "metadata": {
        "id": "cc6cPY1sDBar"
      },
      "outputs": [],
      "source": [
        "!git clone https://premonition.stanford.edu/sgkang09/taking_the_pulse_ocean_data.git"
      ]
    },
    {
      "cell_type": "markdown",
      "id": "eccf2020",
      "metadata": {
        "id": "eccf2020"
      },
      "source": [
        "## THE ASSIGNMENT"
      ]
    },
    {
      "cell_type": "markdown",
      "id": "21546261",
      "metadata": {
        "id": "21546261"
      },
      "source": [
        "## I. Understand Global Patterns of Fishing Activity\n",
        "\n",
        "Fishing activity can be inferred from the automatic information system (AIS). Originally to avoid collision at sea, distant-water fishing fleets are required by International Maritime Organization to transmit their positions at sea. From their movement patterns, we can infer whether a vessel is fishing or non-fishing using a machine-learning approach (see [this paper](https://journals.plos.org/plosone/article?id=10.1371%2Fjournal.pone.0158248) for details). The AIS data are processed and curated by [Global Fishing Watch](https://globalfishingwatch.org), a non-profit organization with a mission of transparency for sustainable fisheries."
      ]
    },
    {
      "cell_type": "markdown",
      "id": "-uwNf8pOAG3p",
      "metadata": {
        "id": "-uwNf8pOAG3p"
      },
      "source": [
        "Let's plot time series of total fishing hours and observe the temporal patterns."
      ]
    },
    {
      "cell_type": "code",
      "execution_count": null,
      "id": "250a9377",
      "metadata": {
        "id": "250a9377"
      },
      "outputs": [],
      "source": [
        "# load data\n",
        "fish = pd.read_parquet('./taking_the_pulse_ocean_data/fishing_hours.parquet')"
      ]
    },
    {
      "cell_type": "code",
      "execution_count": null,
      "id": "94phiiY0Bcax",
      "metadata": {
        "id": "94phiiY0Bcax"
      },
      "outputs": [],
      "source": [
        "# convert string to datetime object\n",
        "fish['date'] = pd.to_datetime(fish['date'], format='%Y-%m-%d')"
      ]
    },
    {
      "cell_type": "code",
      "execution_count": null,
      "id": "76668536",
      "metadata": {
        "id": "76668536"
      },
      "outputs": [],
      "source": [
        "# sum over flag and gear type for each day\n",
        "foo = ..."
      ]
    },
    {
      "cell_type": "code",
      "source": [
        "# plot\n",
        "fig, ax = plt.subplots(figsize=(16, 6))\n",
        "ax.plot('fishing_hours', data=foo)\n",
        "ax.set_xlabel('Year')\n",
        "ax.set_ylabel('Fishing hours')\n",
        "fmt_month = mdates.MonthLocator()\n",
        "ax.xaxis.set_minor_locator(fmt_month)\n",
        "ax.grid(True, which='both', alpha=0.2)"
      ],
      "metadata": {
        "id": "L-9CiuQzZKIa"
      },
      "id": "L-9CiuQzZKIa",
      "execution_count": null,
      "outputs": []
    },
    {
      "cell_type": "markdown",
      "id": "9ec3da66",
      "metadata": {
        "id": "9ec3da66"
      },
      "source": [
        "Let's plot a global heatmap of fishing hours and observe the spatial patterns."
      ]
    },
    {
      "cell_type": "code",
      "execution_count": null,
      "id": "8e4841cf",
      "metadata": {
        "id": "8e4841cf"
      },
      "outputs": [],
      "source": [
        "# standardize fishing hours per unit area\n",
        "# 1 degree is roughly 111 km at the equator and smaller at higher latitudes\n",
        "fish['area_km2'] = 111 * 111 * np.cos(fish['lat'] * np.pi / 180)\n",
        "fish['area_km2'] = fish['area_km2'].astype(float) #convert numpy float to pandas float\n",
        "fish['fishing_hours_km2'] = fish['fishing_hours']/fish['area_km2']"
      ]
    },
    {
      "cell_type": "code",
      "execution_count": null,
      "id": "53g2h-Qu_Ulz",
      "metadata": {
        "id": "53g2h-Qu_Ulz"
      },
      "outputs": [],
      "source": [
        "# sum over gear and flag for each latitude-longitude grids \n",
        "summary = ..."
      ]
    },
    {
      "cell_type": "code",
      "source": [
        "# convert to xarray object for plotting\n",
        "foo = summary.to_xarray()\n",
        "foo['lat'] = foo['lat'].astype(int)\n",
        "foo['lon'] = foo['lon'].astype(int)\n",
        "\n",
        "# plot on a log scale\n",
        "plt.figure(figsize=(16, 6))\n",
        "ax = plt.axes(projection=ccrs.PlateCarree())\n",
        "ax.axes.add_feature(cf.LAND, color='#000', linewidth=0, zorder=1)\n",
        "im = foo['fishing_hours_km2'].plot(\n",
        "    cmap=\"magma_r\",\n",
        "    norm=LogNorm(vmin=0.1, vmax=foo['fishing_hours_km2'].max()),\n",
        "    ax=ax,\n",
        "    add_colorbar=False)\n",
        "plt.colorbar(im, shrink=0.5, aspect=10);"
      ],
      "metadata": {
        "id": "FaSe17CiIPT8"
      },
      "id": "FaSe17CiIPT8",
      "execution_count": null,
      "outputs": []
    },
    {
      "cell_type": "markdown",
      "id": "JCix3i67CHff",
      "metadata": {
        "id": "JCix3i67CHff"
      },
      "source": [
        "Let's plot latitudinal gradients of fishing hours over time."
      ]
    },
    {
      "cell_type": "code",
      "execution_count": null,
      "id": "egAO-eO8qK98",
      "metadata": {
        "id": "egAO-eO8qK98"
      },
      "outputs": [],
      "source": [
        "# transform from a long to wide format\n",
        "# rows are latitude, columns are dates\n",
        "foo = fish.pivot_table(columns='date', index='lat', values='fishing_hours_km2', aggfunc=np.sum)\n",
        "foo = foo.reindex(np.arange(-90, 90, 1)) # expand index range"
      ]
    },
    {
      "cell_type": "code",
      "execution_count": null,
      "id": "UpNrQ2JiFyzk",
      "metadata": {
        "id": "UpNrQ2JiFyzk"
      },
      "outputs": [],
      "source": [
        "# # plot heatmap\n",
        "fig, ax = plt.subplots(figsize=(16, 6))\n",
        "im = ax.pcolormesh(list(foo.columns), list(foo.index), foo.values, cmap='magma_r')\n",
        "ax.set_xlabel('Year')\n",
        "ax.set_ylabel('Latitude')\n",
        "fmt_month = mdates.MonthLocator()\n",
        "ax.xaxis.set_minor_locator(fmt_month)\n",
        "ax.grid(True, which='both', alpha=0.2)\n",
        "plt.colorbar(im, shrink=0.5, aspect=10);"
      ]
    },
    {
      "cell_type": "markdown",
      "id": "3b0a8b55",
      "metadata": {
        "id": "3b0a8b55"
      },
      "source": [
        "## II. Explore Drivers Underlying Fishing Effort\n",
        "### II.a. Environmental drivers\n",
        "Considering that humans are the top fish predators equipped with highly-advanced sensors, fishing activity should be strongly correlated with the fish distribution. However, we lack global data on fish distribution to support this. Therefore, we will look at a known correlate of fish abundance &mdash; primary production, which can be measured as chlorophyll a, a pigment in phytoplankton used for photosynthesis.\n",
        "\n",
        "In this course, we will use NASA MODIS satellite imagery, pre-downloaded and pre-processed. MODIS (Moderate Resolution Imaging Spectroradiometer) satellite measures surface reflectance (color and temperature) in 36 spectral bands at spatial resolutions ranging from 250 m to 1 km, depending on the bands. The swath can cover the entire Earth in 1-2 days. We will use MODIS Terra data."
      ]
    },
    {
      "cell_type": "markdown",
      "id": "6N4oZuKPIe8j",
      "metadata": {
        "id": "6N4oZuKPIe8j"
      },
      "source": [
        "**Q1:** Plot a heatmap of chlorophyll a."
      ]
    },
    {
      "cell_type": "code",
      "execution_count": null,
      "id": "b5946432",
      "metadata": {
        "id": "b5946432"
      },
      "outputs": [],
      "source": [
        "# read ocean climate data\n",
        "modis = pd.read_parquet('./taking_the_pulse_ocean_data/modis.parquet')"
      ]
    },
    {
      "cell_type": "code",
      "execution_count": null,
      "id": "eaf66704",
      "metadata": {
        "id": "eaf66704"
      },
      "outputs": [],
      "source": [
        "# convert month string to datetime\n",
        "modis['year_month'] = ..."
      ]
    },
    {
      "cell_type": "code",
      "execution_count": null,
      "id": "-b4vEV6aVDBu",
      "metadata": {
        "id": "-b4vEV6aVDBu"
      },
      "outputs": [],
      "source": [
        "# average chlor_a for each grid \n",
        "summary = modis[['lat', 'lon', 'chlor_a']].groupby(['lat', 'lon']).mean()\n",
        "\n",
        "# convert to xarray object for plotting\n",
        "foo = summary.to_xarray()\n",
        "foo['lat'] = foo['lat'].astype(int)\n",
        "foo['lon'] = foo['lon'].astype(int)\n",
        "\n",
        "# plot on a log scale\n",
        "fig = plt.figure(figsize=(16, 6))\n",
        "ax = plt.axes(projection=ccrs.PlateCarree())\n",
        "ax.axes.add_feature(cf.LAND, color='#000', linewidth=0, zorder=1);\n",
        "im = foo['chlor_a'].plot(\n",
        "    cmap=\"viridis\",\n",
        "    norm=LogNorm(vmin=0.1, vmax=foo['chlor_a'].max()),\n",
        "    ax=ax, \n",
        "    add_colorbar=False\n",
        ")\n",
        "plt.colorbar(im, shrink=0.5, aspect=10);"
      ]
    },
    {
      "cell_type": "markdown",
      "id": "x4AvBATQZmxn",
      "metadata": {
        "id": "x4AvBATQZmxn"
      },
      "source": [
        "**Q2:** Plot mean chlorophyll a (x-axis) and fishing hours (y-axis) for each latitude, and test whether chlorophyll a explains fishing activity along latitudes using a linear regression."
      ]
    },
    {
      "cell_type": "code",
      "execution_count": null,
      "id": "18dc5d2f",
      "metadata": {
        "id": "18dc5d2f"
      },
      "outputs": [],
      "source": [
        "# mean chlorophyll a within each latitude\n",
        "foo = ...\n",
        "\n",
        "# mean fishing hours within each latitude\n",
        "bar = ...\n",
        "\n",
        "# merge the two dataframes on index (= 'lat')\n",
        "foo['fishing_hours_km2'] = bar['fishing_hours_km2']\n",
        "\n",
        "# plot\n",
        "sns.regplot(x='chlor_a', y='fishing_hours_km2', data=foo);"
      ]
    },
    {
      "cell_type": "code",
      "execution_count": null,
      "id": "2e9b6c55",
      "metadata": {
        "id": "2e9b6c55"
      },
      "outputs": [],
      "source": [
        "# linear regression\n",
        "# Is the lattitudinal variation of fishing effort explained by chlorophyll a concentration?\n",
        "\n",
        "bar = foo[~foo.chlor_a.isnull()].copy()\n",
        "model = sm.OLS(bar['fishing_hours_km2'], bar['chlor_a'])\n",
        "result = model.fit()\n",
        "print(result.summary())"
      ]
    },
    {
      "cell_type": "markdown",
      "id": "cf0a9417",
      "metadata": {
        "id": "cf0a9417"
      },
      "source": [
        "**Q3:** Plot time series of chlorophyll a and fishing hours, respectively, and test how monthly fishing hours are correlated to chlorophyll a using cross correlation analysis."
      ]
    },
    {
      "cell_type": "code",
      "execution_count": null,
      "id": "d092ef80",
      "metadata": {
        "id": "d092ef80"
      },
      "outputs": [],
      "source": [
        "# time series\n",
        "# monthly total fishing hours to make same temporal resolutuions as modis data\n",
        "fish['year'] = fish['date'].dt.year\n",
        "fish['month'] = fish['date'].dt.month\n",
        "fish['year_month'] = pd.to_datetime(fish['year']*100 + fish['month'], format='%Y%m')\n",
        "\n",
        "fish_monthly = fish[['year_month', 'fishing_hours_km2']].groupby('year_month').sum()\n",
        "\n",
        "# monthly mean chlorophyll a \n",
        "foo = modis[['year_month', 'chlor_a']].groupby('year_month').mean()\n",
        "\n",
        "foo['fishing_hours_km2'] = fish_monthly['fishing_hours_km2']\n",
        "foo.reset_index(inplace=True)\n",
        "\n",
        "# plot\n",
        "fig = plt.figure(figsize=(8, 6))\n",
        "\n",
        "ax1 = fig.add_subplot(211)\n",
        "ax2 = fig.add_subplot(212)\n",
        "\n",
        "ax1.plot('year_month', 'chlor_a', data=foo, marker='o')\n",
        "ax1.set_yscale('log')\n",
        "ax1.title.set_text('Chlorophyll a (mg m-3)')\n",
        "ax1.xaxis.set_minor_locator(mdates.MonthLocator(interval=2))\n",
        "\n",
        "ax2.plot('year_month', 'fishing_hours_km2', data=foo, marker='o')\n",
        "ax2.set_yscale('log')\n",
        "ax2.title.set_text('Fishing hours km-2')\n",
        "ax2.xaxis.set_major_locator(mdates.YearLocator())\n",
        "ax2.xaxis.set_minor_locator(mdates.MonthLocator(interval=2));"
      ]
    },
    {
      "cell_type": "code",
      "execution_count": null,
      "id": "e6525776",
      "metadata": {
        "id": "e6525776"
      },
      "outputs": [],
      "source": [
        "# cross correlation \n",
        "x1 = np.log(foo['chlor_a'])\n",
        "x2 = np.log(foo['fishing_hours_km2'])\n",
        "\n",
        "ccf_forward = sm.tsa.stattools.ccf(x1, x2, adjusted=False)\n",
        "ccf_backward = sm.tsa.stattools.ccf(x2, x1, adjusted=False)[::-1]\n",
        "ccf_output = np.r_[ccf_backward[:-1], ccf_forward]\n",
        "            \n",
        "# plot\n",
        "ccf = pd.DataFrame({'lag':range(-71,72), 'cor':ccf_output})\n",
        "plt.figure(figsize=(6, 3))\n",
        "ax = sns.scatterplot(x='lag', y='cor', data=ccf)\n",
        "ax.stem(ccf['lag'],ccf['cor'], markerfmt=' ')\n",
        "ax.set_xlim(-7, 7);"
      ]
    },
    {
      "cell_type": "markdown",
      "id": "C4dUl9W3baCB",
      "metadata": {
        "id": "C4dUl9W3baCB"
      },
      "source": [
        "The cross correlation analysis reveals that ... (fill in what you find)"
      ]
    },
    {
      "cell_type": "markdown",
      "id": "fb1a8e52",
      "metadata": {
        "id": "fb1a8e52"
      },
      "source": [
        "**Q4:** Get a latitudinal summary of fishing hours in a selected area in Indican Ocean (latitude from -50 to -20, longitude from 50 to 100) over time, and see how sea surface temperature is correlated to fishing effort by plotting 2-D time series of fishing hours (time on x-axis and latutude on y-axis) and adding countour lines of sea surface temperature."
      ]
    },
    {
      "cell_type": "code",
      "source": [
        "# fishing effort in Indian Ocean\n",
        "fish_io = fish[(fish.lat >= -50) & (fish.lat <= -20) & (fish.lon >=50) & (fish.lon <= 100)].copy()\n",
        "\n",
        "# sum over gear & flag for each longitude & month\n",
        "fish_io = ...\n",
        "\n",
        "# latitudinal gradient over time\n",
        "fish_io.reset_index(inplace=True)\n",
        "foo = fish_io.pivot(columns='year_month', index='lat', values='fishing_hours_km2')\n",
        "foo = foo.reindex(np.arange(-50, -19, 1)) # expand index range\n",
        "\n",
        "# same for SST\n",
        "modis_io = modis[(modis.lat >= -50) & (modis.lat <= -20) & (modis.lon >=50) & (modis.lon <= 100)].copy()\n",
        "\n",
        "# latitudinal gradient over time\n",
        "bar = modis_io.pivot_table(columns='year_month', index='lat', values='sst', aggfunc=np.mean)\n",
        "\n",
        "# plot\n",
        "fig, ax = plt.subplots(figsize=(16, 6))\n",
        "ax.pcolormesh(list(foo.columns), list(foo.index), foo.values, cmap='magma_r')\n",
        "a = ax.contour(list(bar.columns), list(bar.index), bar.values, colors='black')\n",
        "ax.clabel(a, inline=True, fontsize=10, fmt='%.0f')\n",
        "plt.xlabel('Year')\n",
        "plt.ylabel('Latitude');"
      ],
      "metadata": {
        "id": "gKAA65THPgJz"
      },
      "id": "gKAA65THPgJz",
      "execution_count": null,
      "outputs": []
    },
    {
      "cell_type": "markdown",
      "id": "YfKLylSHezwC",
      "metadata": {
        "id": "YfKLylSHezwC"
      },
      "source": [
        "I observe ... (fill in what you find)."
      ]
    },
    {
      "cell_type": "markdown",
      "id": "16c1849a",
      "metadata": {
        "id": "16c1849a"
      },
      "source": [
        "### II.b. Non-biological drivers\n",
        "Fishing activities are also shaped by other factors, such as holidays, COVID, and fuel prices. Also, fishing regulations should influence the activity. How strongly do they influence fishing activities?"
      ]
    },
    {
      "cell_type": "markdown",
      "id": "aaba28ce",
      "metadata": {
        "id": "aaba28ce"
      },
      "source": [
        "**Q5:** Plot time series of fishing hours for Chinese-flagged vessels and non-Chinese-flagged vessels, respectively, and explore how fishing activities are influenced by social / cultural events."
      ]
    },
    {
      "cell_type": "code",
      "execution_count": null,
      "id": "01591abb",
      "metadata": {
        "id": "01591abb"
      },
      "outputs": [],
      "source": [
        "# subset of fishing hours by non-Chinese-flagged vessels\n",
        "other = ...\n",
        "\n",
        "# sum over flag and gear for each day\n",
        "other_daily = ...\n",
        "\n",
        "# plot\n",
        "fig, ax = plt.subplots(figsize=(16, 6))\n",
        "ax.plot(...)"
      ]
    },
    {
      "cell_type": "code",
      "execution_count": null,
      "id": "01085652",
      "metadata": {
        "id": "01085652"
      },
      "outputs": [],
      "source": [
        "# subset of fishing hours by Chinese-flagged vessels\n",
        "china = ...\n",
        "\n",
        "# sum each day\n",
        "china_daily = ...\n",
        "\n",
        "# plot\n",
        "fig, ax = plt.subplots(figsize=(16, 6))\n",
        "ax.plot(...)"
      ]
    },
    {
      "cell_type": "markdown",
      "id": "RkPbQXUUfPk_",
      "metadata": {
        "id": "RkPbQXUUfPk_"
      },
      "source": [
        "I observe ...(fill in what you find)"
      ]
    },
    {
      "cell_type": "markdown",
      "id": "29295c0d",
      "metadata": {
        "id": "29295c0d"
      },
      "source": [
        "**Q6:** Plot a heatmap fo high-resolution fishing hours for the area of your choice (Peru, Folkland Island, Pacific Islands, and West Africa), and explore how fishing activities are influenced by geospatial regulations by adding EEZ on the map. "
      ]
    },
    {
      "cell_type": "code",
      "execution_count": null,
      "id": "fc0d870b",
      "metadata": {
        "id": "fc0d870b"
      },
      "outputs": [],
      "source": [
        "# plot near Peru\n",
        "data = pd.read_parquet('./taking_the_pulse_ocean_data/fishing_hours_peru.parquet')\n",
        "\n",
        "# standardize fishing hours per unit area\n",
        "data['area_km2'] = ...\n",
        "data['fishing_hours_km2'] = ...\n",
        "\n",
        "# convert string to datetime \n",
        "data['date'] = ...\n",
        "\n",
        "# change lat lon to integer (we want to sum within each grid but floating point causes problems when grouping)\n",
        "data['lat'] = (data['lat'].values * 10).astype(int)\n",
        "data['lon'] = (data['lon'].values * 10).astype(int)\n",
        "\n",
        "# sum within each grid\n",
        "summary = ..."
      ]
    },
    {
      "cell_type": "code",
      "execution_count": null,
      "id": "276c7769",
      "metadata": {
        "id": "276c7769"
      },
      "outputs": [],
      "source": [
        "# read EEZ shapefile\n",
        "eez = gpd.read_file('./taking_the_pulse_ocean_data/SAU_EEZ')"
      ]
    },
    {
      "cell_type": "code",
      "execution_count": null,
      "id": "2aecafac",
      "metadata": {
        "id": "2aecafac"
      },
      "outputs": [],
      "source": [
        "# get a subset of EEZ\n",
        "from shapely.geometry import Polygon\n",
        "centers = []\n",
        "for geom in eez.geometry:\n",
        "    centers.append(geom.centroid)\n",
        "poly = Polygon(((-100, -30), (-60, -30), (-60, 10), (-100, 10), (-100, -30)))\n",
        "inds = [poly.contains(center) for center in centers]\n",
        "eez_peru = eez[inds]"
      ]
    },
    {
      "cell_type": "code",
      "execution_count": null,
      "id": "a504d456",
      "metadata": {
        "id": "a504d456"
      },
      "outputs": [],
      "source": [
        "# plot\n",
        "foo = summary.to_xarray()\n",
        "foo['lat'] = 0.1*foo['lat']   # back to 0.1 degree intervals\n",
        "foo['lon'] = 0.1*foo['lon']\n",
        "\n",
        "# plot on a log scale\n",
        "plt.figure(figsize=(10, 10))\n",
        "ax = plt.axes(projection=ccrs.PlateCarree())\n",
        "ax.set_extent([-100, -60, -30, 10])     # Peru (left, right, bottom, top)\n",
        "# ax.set_extent([-70, -30, -70, -30])   # Falkland islands\n",
        "# ax.set_extent([-40, 0, -10, 30])   # West Africa\n",
        "# ax.set_extent([140, 180, -35, 5])   # Pacific islands\n",
        "foo['fishing_hours_km2'].plot(\n",
        "    cmap=\"magma_r\",\n",
        "    norm=LogNorm(vmin=0.0001, vmax=foo['fishing_hours_km2'].max()),\n",
        "    ax=ax, zorder=-1, \n",
        "    add_colorbar=True\n",
        ")\n",
        "eez_peru['geometry'].boundary.plot(ax=ax, color='black', linestyle='dashed', zorder=-1)\n",
        "ax.add_feature(cf.LAND, linewidth=0)\n",
        "ax.add_feature(cf.BORDERS)\n",
        "ax.add_feature(cf.COASTLINE);"
      ]
    },
    {
      "cell_type": "markdown",
      "id": "ToP-PCaIf27M",
      "metadata": {
        "id": "ToP-PCaIf27M"
      },
      "source": [
        "I observe ... (fill in what you find)."
      ]
    },
    {
      "cell_type": "markdown",
      "id": "0a5ccec9",
      "metadata": {
        "id": "0a5ccec9"
      },
      "source": [
        "## III. Taking the Pulse in the Future\n",
        "\n",
        "**Q10:** In this assignment, we worked with what we have in terms of sensors and data analysis workflows. If you were given $1 million to develop a new form of sensor or new form of data analysis, what would you do? This can be research, field work, fabrication of sensors, etc. Think about what you would measure, at what spatial and temporal scale and resolution. Over to you to design the next generation of sensors for taking the pulse of our oceans and fishing activity."
      ]
    },
    {
      "cell_type": "markdown",
      "id": "rmHzlFSegcyi",
      "metadata": {
        "id": "rmHzlFSegcyi"
      },
      "source": [
        "(your answer)"
      ]
    },
    {
      "cell_type": "markdown",
      "id": "jbID1f4agtku",
      "metadata": {
        "id": "jbID1f4agtku"
      },
      "source": [
        "## Optional exercise\n",
        "Explore fishing activity by gear type and explore the potential drivers. Choose fishing gear from { `drifting_longlines`, `trawlers`, `tuna_purse_seines`}. You can find the description of each gear type from the FAO website.\n",
        "\n",
        "* [Trawlers](https://www.fao.org/fishery/en/geartype/103/en)\n",
        "* [Drifting longlines](https://www.fao.org/fishery/en/geartype/233/en)\n",
        "* [Purse seines](https://www.fao.org/fishery/en/geartype/102/en)\n",
        "\n"
      ]
    },
    {
      "cell_type": "markdown",
      "id": "c16fa04e",
      "metadata": {
        "id": "c16fa04e"
      },
      "source": [
        "---\n",
        "## Supplement\n",
        "How to access original Global Fishing Watch data & NASA MODIS Terra data\n",
        "#### Global Fishing Watch\n",
        "- Online web map on their [website](https://globalfishingwatch.org/our-map/)\n",
        "- R package `gfwr` ([link](https://github.com/GlobalFishingWatch/gfwr)) &mdash; an R API to download fishing data. Note that this is still at an early development stage.\n",
        "\n",
        "#### NASA MODIS data\n",
        "- The easiest way is to access the data on [Google Earth Engine](https://developers.google.com/earth-engine/datasets) through a Python API `earthengine-api` ([link](https://github.com/google/earthengine-api))\n",
        "- You can also find the data on other repositories including [Amazon Web Service](https://aws.amazon.com/opendata/?wwps-cards.sort-by=item.additionalFields.sortDate&wwps-cards.sort-order=desc) or [Copernicus](https://cds.climate.copernicus.eu), or original data [NASA website](https://oceancolor.gsfc.nasa.gov)."
      ]
    },
    {
      "cell_type": "markdown",
      "id": "203a43b1",
      "metadata": {
        "id": "203a43b1"
      },
      "source": [
        "(Note that AIS is mandated only for distant-water fleets engaging on international voyages, and therefore, it does not cover small-scale/artisanal fisheries in coastal areas and within EEZ. Also, some areas have low AIS coverage, including Southeastern Asia and the Gulf of Mexico. AIS devices can be tampered with or turned off.)"
      ]
    },
    {
      "cell_type": "markdown",
      "id": "f7180cc8",
      "metadata": {
        "id": "f7180cc8"
      },
      "source": [
        "(Note that high primary production does not always favor fish growth. A combination of high temperature and nutrient runoff can cause harmful algal blooms, leading to hypoxic dead zones and fish kills. If you are interested, you can explore the relationship between chlorophyll-a `chlor_a`, sea surface temperature `sst` and particulate organic carbon `poc`, in MODIS data.)"
      ]
    }
  ],
  "metadata": {
    "colab": {
      "provenance": [],
      "include_colab_link": true
    },
    "kernelspec": {
      "display_name": "Python 3",
      "language": "python",
      "name": "python3"
    },
    "language_info": {
      "codemirror_mode": {
        "name": "ipython",
        "version": 3
      },
      "file_extension": ".py",
      "mimetype": "text/x-python",
      "name": "python",
      "nbconvert_exporter": "python",
      "pygments_lexer": "ipython3",
      "version": "3.7.8"
    }
  },
  "nbformat": 4,
  "nbformat_minor": 5
}