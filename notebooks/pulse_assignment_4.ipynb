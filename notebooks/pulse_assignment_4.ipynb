{
 "cells": [
  {
   "cell_type": "markdown",
   "id": "bafae27b",
   "metadata": {
    "id": "bafae27b"
   },
   "source": [
    "<a target=\"_blank\" href=\"https://colab.research.google.com/github/GP115/Labs/blob/main/notebooks/pulse_assignment_4.ipynb\">\n",
    "  <img src=\"https://colab.research.google.com/assets/colab-badge.svg\" alt=\"Open In Colab\"/>\n",
    "</a>"
   ]
  },
  {
   "cell_type": "markdown",
   "id": "f2df81ee-a83d-49b7-a9c0-af77e405c22e",
   "metadata": {},
   "source": [
    "# ***Assignment 4: Land-Surface Changes in Precipitation and Temperature***\n",
    "This assignment is due on Thursday 2024-2-1, before class. Change the name of your notebook to tpp_assignment_4_sunetID.ipynb Share your completed notebook with the TAs akroo@stanford.edu & flora221@stanford.edu using the share banner at the top. For help submitting, see the canvas walkthrough. If you are still having technical difficulties, email us before the deadline.\n",
    "\n",
    "### **INTRODUCTION TO THE ASSIGNMENT**\n",
    "\n",
    "In this assignment, we will explore the changes occurring on the land surface in response to climate change and consider these changes in the context of sustainability.\n",
    "\n",
    "### **DATA SETS**\n",
    "The Data sets used this assignment are:\n",
    "\n",
    "1) precipitation\n",
    "\n",
    "2) temperature\n",
    "\n",
    "Here is a brief description of each:\n",
    "1) Precipitation\n",
    "\n",
    "Time period: 1985-2021\n",
    "\n",
    "Temporal Resolution: Monthly\n",
    "\n",
    "Spatial Extent: Global Land\n",
    "\n",
    "Spatial Resolution: 1 degree\n",
    "\n",
    "Unit: Meters\n",
    "\n",
    "A reanalysis dataset is a dataset that blends observations and climate models in an attempt to produce the most complete and accurate map of historical and recent climate data. Our precipitation data come from the ERA-5 data set made available by the European Centre for Medium-Range Weather Forecasts, which combines their own models with data from satellites using active and passive microwave sensors. For more information see: https://confluence.ecmwf.int/display/CKB/ERA5%3A+data+documentation#ERA5:datadocumentation\n",
    "\n",
    "\n",
    "2) Land Surface Temperature\n",
    "\n",
    "Time Period: 1985-2021\n",
    "\n",
    "Temporal Resolution: Monthly\n",
    "\n",
    "Spatial Extent: Global Land\n",
    "\n",
    "Spatial Resolution: 1 degree\n",
    "\n",
    "Unit: Kelvin\n",
    "\n",
    "The temperature data also come from the ERA5 dataset linked above, which again combines models with satellite data. For temperature, ground-based observations are  also used. This particular temperature dataset is what the model predicts the air temperature will be 2 m above the land's surface.\n",
    "\n",
    "\n",
    "###**TOOLBOX**\n",
    "\n",
    "All the Python functions and packages you will use in this assignment are in the toolbox for the course. We add new tools to the toolbox with each assignment as new ways of analyzing and visualizing data are introduced.\n",
    "<a target=\"_blank\" href=\"https://colab.research.google.com/github/GP115/Labs/blob/main/notebooks/pulse_toolbox.ipynb\">\n",
    "  <img src=https://github.com/GP115/labs/blob/main/toolbox.png?raw=true\" alt=\"Open In Colab\"/ width=80>\n",
    "  \n",
    "This week you will be working again with gridded data - envision this as a stack of maps, with each map showing the spatial variation in a measurement at a set time.\n",
    "\n",
    "*numpy* (numbers for python) is a package of python tools that handle the mathematical operations.\n",
    "\n",
    "*pandas* (referred to as pd in lines of code) is a package of python tools that can be used to work efficiently with datasets, taken into pandas and referred to as dataframes.\n",
    "\n",
    "*matplotlib* is a package that is useful for generating plots.\n",
    "\n",
    "*xarray* is a package in python that builds off of pandas to support working with gridded data.\n",
    "\n",
    "*cartopy* is a package designed for geospatial data processing in order to produce maps and other geospatial data analyses.\n",
    "\n",
    "*datetime* is a package that helps interpret months, years etc. as a single date/time object\n",
    "\n",
    "###**THE LEARNING GOALS FOR THE WEEK**\n",
    "\n",
    "● learn about the ways in which climate change and human activity are impacting planet Earth, *with a focus this week in determining through analysis of the data how and where precipitation and surface temperature are changing.*\n",
    "\n",
    "● become familiar with the wide range of sensors available to study various components of the Earth system. These include sensors on satellites, aircraft, ground-based platforms, and deployed above or beneath the surface on land or water. *This week we will work with reanalysis data sets, that integrate measurements from satellites through models.*\n",
    "\n",
    "● become familiar with the basic physical principles (resolution, sampling, processing workflows, etc.) common to all sensors, *working this week with two data sets.*\n",
    "\n",
    "● work with various sources of data, learning how to access, analyze, synthesize, and describe the data to quantify trends; think critically and creatively about how to project these trends into the future. *You will design your own workflow, using your choice of data analysis methods and tools to explore the changes in precipitation and temperature.*\n",
    "\n",
    "● describe the complex interactions between human activity and various components of the Earth system, this week framing this under the heading of sustainability, where the component of the Earth system is the land surface. *We will consider: how are the changes in precipitation and temperature introducing sustainability challenges in different countries? How could human activity mitigate the negative effects? How are human activities amplifying the negative impacts?*\n",
    "\n",
    "● become motivated to think about new sensors and new ways of using sensor data to study the planet. This is always the last question in each assignment. *Given all that you now know about changes in precipitation and temperature, and how we measure/monitor it, what does the planet and all forms of life need you to design and deploy?*\n",
    "\n",
    "\n",
    "  "
   ]
  },
  {
   "cell_type": "markdown",
   "id": "_YeCEojVBoj6",
   "metadata": {
    "id": "_YeCEojVBoj6"
   },
   "source": [
    "# **In-Class Assignment**"
   ]
  },
  {
   "cell_type": "markdown",
   "id": "z9ZytLC4A3dj",
   "metadata": {
    "id": "z9ZytLC4A3dj"
   },
   "source": [
    "## Set Up"
   ]
  },
  {
   "cell_type": "markdown",
   "id": "RmxFr_TQ6AMV",
   "metadata": {
    "id": "RmxFr_TQ6AMV"
   },
   "source": [
    "### 1) **Install and Import Packages**: numpy, pandas, matplotlib, xarray, cartopy, widgets, and datetime (See Toolbox)\n",
    "Complete this in the code cell below."
   ]
  },
  {
   "cell_type": "code",
   "execution_count": null,
   "id": "wK2GPb6DEDmp",
   "metadata": {
    "id": "wK2GPb6DEDmp"
   },
   "outputs": [],
   "source": []
  },
  {
   "cell_type": "markdown",
   "id": "szD3uoCY6IN8",
   "metadata": {
    "id": "szD3uoCY6IN8"
   },
   "source": [
    "### 2) **Importing Data**\n",
    "Run the following code cell to load the data into a variable called *temp_precip_data*."
   ]
  },
  {
   "cell_type": "code",
   "execution_count": 1,
   "id": "ROWcEW4cKMKE",
   "metadata": {
    "colab": {
     "base_uri": "https://localhost:8080/",
     "height": 0
    },
    "executionInfo": {
     "elapsed": 43244,
     "status": "error",
     "timestamp": 1734470976389,
     "user": {
      "displayName": "Cassandra Raen Borthwick Huff",
      "userId": "09984792091253686432"
     },
     "user_tz": 480
    },
    "id": "ROWcEW4cKMKE",
    "outputId": "e2099c3a-3032-45ee-d715-c2bc78cc1465"
   },
   "outputs": [
    {
     "name": "stdout",
     "output_type": "stream",
     "text": [
      "Cloning into 'taking-the-pulse-global-data'...\n",
      "remote: Enumerating objects: 29, done.\u001b[K\n",
      "remote: Total 29 (delta 0), reused 0 (delta 0), pack-reused 29\u001b[K\n",
      "Receiving objects: 100% (29/29), 249.26 MiB | 14.68 MiB/s, done.\n",
      "Resolving deltas: 100% (6/6), done.\n",
      "Updating files: 100% (14/14), done.\n",
      "Cloning into 'taking_the_pulse_atmosphere_data'...\n",
      "remote: Enumerating objects: 39, done.\u001b[K\n",
      "remote: Counting objects: 100% (4/4), done.\u001b[K\n",
      "remote: Compressing objects: 100% (4/4), done.\u001b[K\n",
      "remote: Total 39 (delta 1), reused 0 (delta 0), pack-reused 35\u001b[K\n",
      "Receiving objects: 100% (39/39), 230.94 MiB | 22.14 MiB/s, done.\n",
      "Resolving deltas: 100% (11/11), done.\n",
      "Updating files: 100% (9/9), done.\n"
     ]
    },
    {
     "ename": "NameError",
     "evalue": "name 'gpd' is not defined",
     "output_type": "error",
     "traceback": [
      "\u001b[0;31m---------------------------------------------------------------------------\u001b[0m",
      "\u001b[0;31mNameError\u001b[0m                                 Traceback (most recent call last)",
      "\u001b[0;32m<ipython-input-1-4a7917231222>\u001b[0m in \u001b[0;36m<cell line: 5>\u001b[0;34m()\u001b[0m\n\u001b[1;32m      3\u001b[0m \u001b[0;32mimport\u001b[0m \u001b[0mwarnings\u001b[0m\u001b[0;34m\u001b[0m\u001b[0;34m\u001b[0m\u001b[0m\n\u001b[1;32m      4\u001b[0m \u001b[0mwarnings\u001b[0m\u001b[0;34m.\u001b[0m\u001b[0mfilterwarnings\u001b[0m\u001b[0;34m(\u001b[0m\u001b[0;34m'ignore'\u001b[0m\u001b[0;34m)\u001b[0m\u001b[0;34m\u001b[0m\u001b[0;34m\u001b[0m\u001b[0m\n\u001b[0;32m----> 5\u001b[0;31m \u001b[0mgdf_boundaries\u001b[0m \u001b[0;34m=\u001b[0m \u001b[0mgpd\u001b[0m\u001b[0;34m.\u001b[0m\u001b[0mread_file\u001b[0m\u001b[0;34m(\u001b[0m\u001b[0;34m\"./taking_the_pulse_atmosphere_data/world-administrative-boundaries.geojson\"\u001b[0m\u001b[0;34m)\u001b[0m\u001b[0;34m\u001b[0m\u001b[0;34m\u001b[0m\u001b[0m\n\u001b[0m\u001b[1;32m      6\u001b[0m \u001b[0mtemp_precip_data\u001b[0m \u001b[0;34m=\u001b[0m \u001b[0mxr\u001b[0m\u001b[0;34m.\u001b[0m\u001b[0mload_dataset\u001b[0m\u001b[0;34m(\u001b[0m\u001b[0;34m\"./taking-the-pulse-global-data/global_precip_and_temp.nc\"\u001b[0m\u001b[0;34m)\u001b[0m\u001b[0;34m\u001b[0m\u001b[0;34m\u001b[0m\u001b[0m\n",
      "\u001b[0;31mNameError\u001b[0m: name 'gpd' is not defined"
     ]
    }
   ],
   "source": [
    "!git clone https://premonition.stanford.edu/mmorphew/taking-the-pulse-global-data.git\n",
    "!git clone https://premonition.stanford.edu/sgkang09/taking_the_pulse_atmosphere_data.git\n",
    "import warnings\n",
    "warnings.filterwarnings('ignore')\n",
    "gdf_boundaries = gpd.read_file(\"./taking_the_pulse_atmosphere_data/world-administrative-boundaries.geojson\")\n",
    "temp_precip_data = xr.load_dataset(\"./taking-the-pulse-global-data/global_precip_and_temp.nc\")"
   ]
  },
  {
   "cell_type": "code",
   "execution_count": null,
   "id": "hlfTe4pIApo7",
   "metadata": {
    "colab": {
     "base_uri": "https://localhost:8080/",
     "height": 656
    },
    "executionInfo": {
     "elapsed": 141,
     "status": "ok",
     "timestamp": 1706142385044,
     "user": {
      "displayName": "Anne Kroo",
      "userId": "01335049978940707144"
     },
     "user_tz": 480
    },
    "id": "hlfTe4pIApo7",
    "outputId": "598eea85-fbf9-4fa7-f988-c957c4d462ce"
   },
   "outputs": [
    {
     "data": {
      "text/html": [
       "<div><svg style=\"position: absolute; width: 0; height: 0; overflow: hidden\">\n",
       "<defs>\n",
       "<symbol id=\"icon-database\" viewBox=\"0 0 32 32\">\n",
       "<path d=\"M16 0c-8.837 0-16 2.239-16 5v4c0 2.761 7.163 5 16 5s16-2.239 16-5v-4c0-2.761-7.163-5-16-5z\"></path>\n",
       "<path d=\"M16 17c-8.837 0-16-2.239-16-5v6c0 2.761 7.163 5 16 5s16-2.239 16-5v-6c0 2.761-7.163 5-16 5z\"></path>\n",
       "<path d=\"M16 26c-8.837 0-16-2.239-16-5v6c0 2.761 7.163 5 16 5s16-2.239 16-5v-6c0 2.761-7.163 5-16 5z\"></path>\n",
       "</symbol>\n",
       "<symbol id=\"icon-file-text2\" viewBox=\"0 0 32 32\">\n",
       "<path d=\"M28.681 7.159c-0.694-0.947-1.662-2.053-2.724-3.116s-2.169-2.030-3.116-2.724c-1.612-1.182-2.393-1.319-2.841-1.319h-15.5c-1.378 0-2.5 1.121-2.5 2.5v27c0 1.378 1.122 2.5 2.5 2.5h23c1.378 0 2.5-1.122 2.5-2.5v-19.5c0-0.448-0.137-1.23-1.319-2.841zM24.543 5.457c0.959 0.959 1.712 1.825 2.268 2.543h-4.811v-4.811c0.718 0.556 1.584 1.309 2.543 2.268zM28 29.5c0 0.271-0.229 0.5-0.5 0.5h-23c-0.271 0-0.5-0.229-0.5-0.5v-27c0-0.271 0.229-0.5 0.5-0.5 0 0 15.499-0 15.5 0v7c0 0.552 0.448 1 1 1h7v19.5z\"></path>\n",
       "<path d=\"M23 26h-14c-0.552 0-1-0.448-1-1s0.448-1 1-1h14c0.552 0 1 0.448 1 1s-0.448 1-1 1z\"></path>\n",
       "<path d=\"M23 22h-14c-0.552 0-1-0.448-1-1s0.448-1 1-1h14c0.552 0 1 0.448 1 1s-0.448 1-1 1z\"></path>\n",
       "<path d=\"M23 18h-14c-0.552 0-1-0.448-1-1s0.448-1 1-1h14c0.552 0 1 0.448 1 1s-0.448 1-1 1z\"></path>\n",
       "</symbol>\n",
       "</defs>\n",
       "</svg>\n",
       "<style>/* CSS stylesheet for displaying xarray objects in jupyterlab.\n",
       " *\n",
       " */\n",
       "\n",
       ":root {\n",
       "  --xr-font-color0: var(--jp-content-font-color0, rgba(0, 0, 0, 1));\n",
       "  --xr-font-color2: var(--jp-content-font-color2, rgba(0, 0, 0, 0.54));\n",
       "  --xr-font-color3: var(--jp-content-font-color3, rgba(0, 0, 0, 0.38));\n",
       "  --xr-border-color: var(--jp-border-color2, #e0e0e0);\n",
       "  --xr-disabled-color: var(--jp-layout-color3, #bdbdbd);\n",
       "  --xr-background-color: var(--jp-layout-color0, white);\n",
       "  --xr-background-color-row-even: var(--jp-layout-color1, white);\n",
       "  --xr-background-color-row-odd: var(--jp-layout-color2, #eeeeee);\n",
       "}\n",
       "\n",
       "html[theme=dark],\n",
       "body[data-theme=dark],\n",
       "body.vscode-dark {\n",
       "  --xr-font-color0: rgba(255, 255, 255, 1);\n",
       "  --xr-font-color2: rgba(255, 255, 255, 0.54);\n",
       "  --xr-font-color3: rgba(255, 255, 255, 0.38);\n",
       "  --xr-border-color: #1F1F1F;\n",
       "  --xr-disabled-color: #515151;\n",
       "  --xr-background-color: #111111;\n",
       "  --xr-background-color-row-even: #111111;\n",
       "  --xr-background-color-row-odd: #313131;\n",
       "}\n",
       "\n",
       ".xr-wrap {\n",
       "  display: block !important;\n",
       "  min-width: 300px;\n",
       "  max-width: 700px;\n",
       "}\n",
       "\n",
       ".xr-text-repr-fallback {\n",
       "  /* fallback to plain text repr when CSS is not injected (untrusted notebook) */\n",
       "  display: none;\n",
       "}\n",
       "\n",
       ".xr-header {\n",
       "  padding-top: 6px;\n",
       "  padding-bottom: 6px;\n",
       "  margin-bottom: 4px;\n",
       "  border-bottom: solid 1px var(--xr-border-color);\n",
       "}\n",
       "\n",
       ".xr-header > div,\n",
       ".xr-header > ul {\n",
       "  display: inline;\n",
       "  margin-top: 0;\n",
       "  margin-bottom: 0;\n",
       "}\n",
       "\n",
       ".xr-obj-type,\n",
       ".xr-array-name {\n",
       "  margin-left: 2px;\n",
       "  margin-right: 10px;\n",
       "}\n",
       "\n",
       ".xr-obj-type {\n",
       "  color: var(--xr-font-color2);\n",
       "}\n",
       "\n",
       ".xr-sections {\n",
       "  padding-left: 0 !important;\n",
       "  display: grid;\n",
       "  grid-template-columns: 150px auto auto 1fr 20px 20px;\n",
       "}\n",
       "\n",
       ".xr-section-item {\n",
       "  display: contents;\n",
       "}\n",
       "\n",
       ".xr-section-item input {\n",
       "  display: none;\n",
       "}\n",
       "\n",
       ".xr-section-item input + label {\n",
       "  color: var(--xr-disabled-color);\n",
       "}\n",
       "\n",
       ".xr-section-item input:enabled + label {\n",
       "  cursor: pointer;\n",
       "  color: var(--xr-font-color2);\n",
       "}\n",
       "\n",
       ".xr-section-item input:enabled + label:hover {\n",
       "  color: var(--xr-font-color0);\n",
       "}\n",
       "\n",
       ".xr-section-summary {\n",
       "  grid-column: 1;\n",
       "  color: var(--xr-font-color2);\n",
       "  font-weight: 500;\n",
       "}\n",
       "\n",
       ".xr-section-summary > span {\n",
       "  display: inline-block;\n",
       "  padding-left: 0.5em;\n",
       "}\n",
       "\n",
       ".xr-section-summary-in:disabled + label {\n",
       "  color: var(--xr-font-color2);\n",
       "}\n",
       "\n",
       ".xr-section-summary-in + label:before {\n",
       "  display: inline-block;\n",
       "  content: '►';\n",
       "  font-size: 11px;\n",
       "  width: 15px;\n",
       "  text-align: center;\n",
       "}\n",
       "\n",
       ".xr-section-summary-in:disabled + label:before {\n",
       "  color: var(--xr-disabled-color);\n",
       "}\n",
       "\n",
       ".xr-section-summary-in:checked + label:before {\n",
       "  content: '▼';\n",
       "}\n",
       "\n",
       ".xr-section-summary-in:checked + label > span {\n",
       "  display: none;\n",
       "}\n",
       "\n",
       ".xr-section-summary,\n",
       ".xr-section-inline-details {\n",
       "  padding-top: 4px;\n",
       "  padding-bottom: 4px;\n",
       "}\n",
       "\n",
       ".xr-section-inline-details {\n",
       "  grid-column: 2 / -1;\n",
       "}\n",
       "\n",
       ".xr-section-details {\n",
       "  display: none;\n",
       "  grid-column: 1 / -1;\n",
       "  margin-bottom: 5px;\n",
       "}\n",
       "\n",
       ".xr-section-summary-in:checked ~ .xr-section-details {\n",
       "  display: contents;\n",
       "}\n",
       "\n",
       ".xr-array-wrap {\n",
       "  grid-column: 1 / -1;\n",
       "  display: grid;\n",
       "  grid-template-columns: 20px auto;\n",
       "}\n",
       "\n",
       ".xr-array-wrap > label {\n",
       "  grid-column: 1;\n",
       "  vertical-align: top;\n",
       "}\n",
       "\n",
       ".xr-preview {\n",
       "  color: var(--xr-font-color3);\n",
       "}\n",
       "\n",
       ".xr-array-preview,\n",
       ".xr-array-data {\n",
       "  padding: 0 5px !important;\n",
       "  grid-column: 2;\n",
       "}\n",
       "\n",
       ".xr-array-data,\n",
       ".xr-array-in:checked ~ .xr-array-preview {\n",
       "  display: none;\n",
       "}\n",
       "\n",
       ".xr-array-in:checked ~ .xr-array-data,\n",
       ".xr-array-preview {\n",
       "  display: inline-block;\n",
       "}\n",
       "\n",
       ".xr-dim-list {\n",
       "  display: inline-block !important;\n",
       "  list-style: none;\n",
       "  padding: 0 !important;\n",
       "  margin: 0;\n",
       "}\n",
       "\n",
       ".xr-dim-list li {\n",
       "  display: inline-block;\n",
       "  padding: 0;\n",
       "  margin: 0;\n",
       "}\n",
       "\n",
       ".xr-dim-list:before {\n",
       "  content: '(';\n",
       "}\n",
       "\n",
       ".xr-dim-list:after {\n",
       "  content: ')';\n",
       "}\n",
       "\n",
       ".xr-dim-list li:not(:last-child):after {\n",
       "  content: ',';\n",
       "  padding-right: 5px;\n",
       "}\n",
       "\n",
       ".xr-has-index {\n",
       "  font-weight: bold;\n",
       "}\n",
       "\n",
       ".xr-var-list,\n",
       ".xr-var-item {\n",
       "  display: contents;\n",
       "}\n",
       "\n",
       ".xr-var-item > div,\n",
       ".xr-var-item label,\n",
       ".xr-var-item > .xr-var-name span {\n",
       "  background-color: var(--xr-background-color-row-even);\n",
       "  margin-bottom: 0;\n",
       "}\n",
       "\n",
       ".xr-var-item > .xr-var-name:hover span {\n",
       "  padding-right: 5px;\n",
       "}\n",
       "\n",
       ".xr-var-list > li:nth-child(odd) > div,\n",
       ".xr-var-list > li:nth-child(odd) > label,\n",
       ".xr-var-list > li:nth-child(odd) > .xr-var-name span {\n",
       "  background-color: var(--xr-background-color-row-odd);\n",
       "}\n",
       "\n",
       ".xr-var-name {\n",
       "  grid-column: 1;\n",
       "}\n",
       "\n",
       ".xr-var-dims {\n",
       "  grid-column: 2;\n",
       "}\n",
       "\n",
       ".xr-var-dtype {\n",
       "  grid-column: 3;\n",
       "  text-align: right;\n",
       "  color: var(--xr-font-color2);\n",
       "}\n",
       "\n",
       ".xr-var-preview {\n",
       "  grid-column: 4;\n",
       "}\n",
       "\n",
       ".xr-index-preview {\n",
       "  grid-column: 2 / 5;\n",
       "  color: var(--xr-font-color2);\n",
       "}\n",
       "\n",
       ".xr-var-name,\n",
       ".xr-var-dims,\n",
       ".xr-var-dtype,\n",
       ".xr-preview,\n",
       ".xr-attrs dt {\n",
       "  white-space: nowrap;\n",
       "  overflow: hidden;\n",
       "  text-overflow: ellipsis;\n",
       "  padding-right: 10px;\n",
       "}\n",
       "\n",
       ".xr-var-name:hover,\n",
       ".xr-var-dims:hover,\n",
       ".xr-var-dtype:hover,\n",
       ".xr-attrs dt:hover {\n",
       "  overflow: visible;\n",
       "  width: auto;\n",
       "  z-index: 1;\n",
       "}\n",
       "\n",
       ".xr-var-attrs,\n",
       ".xr-var-data,\n",
       ".xr-index-data {\n",
       "  display: none;\n",
       "  background-color: var(--xr-background-color) !important;\n",
       "  padding-bottom: 5px !important;\n",
       "}\n",
       "\n",
       ".xr-var-attrs-in:checked ~ .xr-var-attrs,\n",
       ".xr-var-data-in:checked ~ .xr-var-data,\n",
       ".xr-index-data-in:checked ~ .xr-index-data {\n",
       "  display: block;\n",
       "}\n",
       "\n",
       ".xr-var-data > table {\n",
       "  float: right;\n",
       "}\n",
       "\n",
       ".xr-var-name span,\n",
       ".xr-var-data,\n",
       ".xr-index-name div,\n",
       ".xr-index-data,\n",
       ".xr-attrs {\n",
       "  padding-left: 25px !important;\n",
       "}\n",
       "\n",
       ".xr-attrs,\n",
       ".xr-var-attrs,\n",
       ".xr-var-data,\n",
       ".xr-index-data {\n",
       "  grid-column: 1 / -1;\n",
       "}\n",
       "\n",
       "dl.xr-attrs {\n",
       "  padding: 0;\n",
       "  margin: 0;\n",
       "  display: grid;\n",
       "  grid-template-columns: 125px auto;\n",
       "}\n",
       "\n",
       ".xr-attrs dt,\n",
       ".xr-attrs dd {\n",
       "  padding: 0;\n",
       "  margin: 0;\n",
       "  float: left;\n",
       "  padding-right: 10px;\n",
       "  width: auto;\n",
       "}\n",
       "\n",
       ".xr-attrs dt {\n",
       "  font-weight: normal;\n",
       "  grid-column: 1;\n",
       "}\n",
       "\n",
       ".xr-attrs dt:hover span {\n",
       "  display: inline-block;\n",
       "  background: var(--xr-background-color);\n",
       "  padding-right: 10px;\n",
       "}\n",
       "\n",
       ".xr-attrs dd {\n",
       "  grid-column: 2;\n",
       "  white-space: pre-wrap;\n",
       "  word-break: break-all;\n",
       "}\n",
       "\n",
       ".xr-icon-database,\n",
       ".xr-icon-file-text2,\n",
       ".xr-no-icon {\n",
       "  display: inline-block;\n",
       "  vertical-align: middle;\n",
       "  width: 1em;\n",
       "  height: 1.5em !important;\n",
       "  stroke-width: 0;\n",
       "  stroke: currentColor;\n",
       "  fill: currentColor;\n",
       "}\n",
       "</style><pre class='xr-text-repr-fallback'>&lt;xarray.Dataset&gt;\n",
       "Dimensions:              (time: 503, y: 180, x: 360)\n",
       "Coordinates:\n",
       "  * time                 (time) datetime64[ns] 1981-01-01 ... 2022-11-01\n",
       "  * y                    (y) float64 89.5 88.5 87.5 86.5 ... -87.5 -88.5 -89.5\n",
       "  * x                    (x) float64 -179.5 -178.5 -177.5 ... 177.5 178.5 179.5\n",
       "Data variables:\n",
       "    temperature_2m       (time, y, x) float64 nan nan nan ... 235.1 235.1 235.1\n",
       "    total_precipitation  (time, y, x) float64 nan nan ... 7.432e-05 7.445e-05\n",
       "Attributes:\n",
       "    transform:               [   1.    0. -180.    0.   -1.   90.]\n",
       "    crs:                     +init=epsg:4326\n",
       "    res:                     [1. 1.]\n",
       "    is_tiled:                1\n",
       "    nodatavals:              -32768.0\n",
       "    scales:                  1.0\n",
       "    offsets:                 0.0\n",
       "    AREA_OR_POINT:           Area\n",
       "    TIFFTAG_RESOLUTIONUNIT:  1 (unitless)\n",
       "    TIFFTAG_XRESOLUTION:     1\n",
       "    TIFFTAG_YRESOLUTION:     1</pre><div class='xr-wrap' style='display:none'><div class='xr-header'><div class='xr-obj-type'>xarray.Dataset</div></div><ul class='xr-sections'><li class='xr-section-item'><input id='section-0a493cc3-4bc0-4ae7-970f-20eb633086cb' class='xr-section-summary-in' type='checkbox' disabled ><label for='section-0a493cc3-4bc0-4ae7-970f-20eb633086cb' class='xr-section-summary'  title='Expand/collapse section'>Dimensions:</label><div class='xr-section-inline-details'><ul class='xr-dim-list'><li><span class='xr-has-index'>time</span>: 503</li><li><span class='xr-has-index'>y</span>: 180</li><li><span class='xr-has-index'>x</span>: 360</li></ul></div><div class='xr-section-details'></div></li><li class='xr-section-item'><input id='section-c7d9d463-12a9-426b-9a7e-eea9b4b4a7ee' class='xr-section-summary-in' type='checkbox'  checked><label for='section-c7d9d463-12a9-426b-9a7e-eea9b4b4a7ee' class='xr-section-summary' >Coordinates: <span>(3)</span></label><div class='xr-section-inline-details'></div><div class='xr-section-details'><ul class='xr-var-list'><li class='xr-var-item'><div class='xr-var-name'><span class='xr-has-index'>time</span></div><div class='xr-var-dims'>(time)</div><div class='xr-var-dtype'>datetime64[ns]</div><div class='xr-var-preview xr-preview'>1981-01-01 ... 2022-11-01</div><input id='attrs-2f46f3a2-ace6-4bee-b79c-8b3646f38f61' class='xr-var-attrs-in' type='checkbox' disabled><label for='attrs-2f46f3a2-ace6-4bee-b79c-8b3646f38f61' title='Show/Hide attributes'><svg class='icon xr-icon-file-text2'><use xlink:href='#icon-file-text2'></use></svg></label><input id='data-7ba9d497-4402-49c2-8125-76b2d6b60eaa' class='xr-var-data-in' type='checkbox'><label for='data-7ba9d497-4402-49c2-8125-76b2d6b60eaa' title='Show/Hide data repr'><svg class='icon xr-icon-database'><use xlink:href='#icon-database'></use></svg></label><div class='xr-var-attrs'><dl class='xr-attrs'></dl></div><div class='xr-var-data'><pre>array([&#x27;1981-01-01T00:00:00.000000000&#x27;, &#x27;1981-02-01T00:00:00.000000000&#x27;,\n",
       "       &#x27;1981-03-01T00:00:00.000000000&#x27;, ..., &#x27;2022-09-01T00:00:00.000000000&#x27;,\n",
       "       &#x27;2022-10-01T00:00:00.000000000&#x27;, &#x27;2022-11-01T00:00:00.000000000&#x27;],\n",
       "      dtype=&#x27;datetime64[ns]&#x27;)</pre></div></li><li class='xr-var-item'><div class='xr-var-name'><span class='xr-has-index'>y</span></div><div class='xr-var-dims'>(y)</div><div class='xr-var-dtype'>float64</div><div class='xr-var-preview xr-preview'>89.5 88.5 87.5 ... -88.5 -89.5</div><input id='attrs-26ec8910-32b1-49cf-8903-5d284c117bcc' class='xr-var-attrs-in' type='checkbox' disabled><label for='attrs-26ec8910-32b1-49cf-8903-5d284c117bcc' title='Show/Hide attributes'><svg class='icon xr-icon-file-text2'><use xlink:href='#icon-file-text2'></use></svg></label><input id='data-a467dcea-60df-4948-b641-85c14c64e0b8' class='xr-var-data-in' type='checkbox'><label for='data-a467dcea-60df-4948-b641-85c14c64e0b8' title='Show/Hide data repr'><svg class='icon xr-icon-database'><use xlink:href='#icon-database'></use></svg></label><div class='xr-var-attrs'><dl class='xr-attrs'></dl></div><div class='xr-var-data'><pre>array([ 89.5,  88.5,  87.5,  86.5,  85.5,  84.5,  83.5,  82.5,  81.5,  80.5,\n",
       "        79.5,  78.5,  77.5,  76.5,  75.5,  74.5,  73.5,  72.5,  71.5,  70.5,\n",
       "        69.5,  68.5,  67.5,  66.5,  65.5,  64.5,  63.5,  62.5,  61.5,  60.5,\n",
       "        59.5,  58.5,  57.5,  56.5,  55.5,  54.5,  53.5,  52.5,  51.5,  50.5,\n",
       "        49.5,  48.5,  47.5,  46.5,  45.5,  44.5,  43.5,  42.5,  41.5,  40.5,\n",
       "        39.5,  38.5,  37.5,  36.5,  35.5,  34.5,  33.5,  32.5,  31.5,  30.5,\n",
       "        29.5,  28.5,  27.5,  26.5,  25.5,  24.5,  23.5,  22.5,  21.5,  20.5,\n",
       "        19.5,  18.5,  17.5,  16.5,  15.5,  14.5,  13.5,  12.5,  11.5,  10.5,\n",
       "         9.5,   8.5,   7.5,   6.5,   5.5,   4.5,   3.5,   2.5,   1.5,   0.5,\n",
       "        -0.5,  -1.5,  -2.5,  -3.5,  -4.5,  -5.5,  -6.5,  -7.5,  -8.5,  -9.5,\n",
       "       -10.5, -11.5, -12.5, -13.5, -14.5, -15.5, -16.5, -17.5, -18.5, -19.5,\n",
       "       -20.5, -21.5, -22.5, -23.5, -24.5, -25.5, -26.5, -27.5, -28.5, -29.5,\n",
       "       -30.5, -31.5, -32.5, -33.5, -34.5, -35.5, -36.5, -37.5, -38.5, -39.5,\n",
       "       -40.5, -41.5, -42.5, -43.5, -44.5, -45.5, -46.5, -47.5, -48.5, -49.5,\n",
       "       -50.5, -51.5, -52.5, -53.5, -54.5, -55.5, -56.5, -57.5, -58.5, -59.5,\n",
       "       -60.5, -61.5, -62.5, -63.5, -64.5, -65.5, -66.5, -67.5, -68.5, -69.5,\n",
       "       -70.5, -71.5, -72.5, -73.5, -74.5, -75.5, -76.5, -77.5, -78.5, -79.5,\n",
       "       -80.5, -81.5, -82.5, -83.5, -84.5, -85.5, -86.5, -87.5, -88.5, -89.5])</pre></div></li><li class='xr-var-item'><div class='xr-var-name'><span class='xr-has-index'>x</span></div><div class='xr-var-dims'>(x)</div><div class='xr-var-dtype'>float64</div><div class='xr-var-preview xr-preview'>-179.5 -178.5 ... 178.5 179.5</div><input id='attrs-bb13f111-cc36-4249-9bd7-b0f846703e94' class='xr-var-attrs-in' type='checkbox' disabled><label for='attrs-bb13f111-cc36-4249-9bd7-b0f846703e94' title='Show/Hide attributes'><svg class='icon xr-icon-file-text2'><use xlink:href='#icon-file-text2'></use></svg></label><input id='data-c0f46e50-ff05-49da-8ef4-874a2607d386' class='xr-var-data-in' type='checkbox'><label for='data-c0f46e50-ff05-49da-8ef4-874a2607d386' title='Show/Hide data repr'><svg class='icon xr-icon-database'><use xlink:href='#icon-database'></use></svg></label><div class='xr-var-attrs'><dl class='xr-attrs'></dl></div><div class='xr-var-data'><pre>array([-179.5, -178.5, -177.5, ...,  177.5,  178.5,  179.5])</pre></div></li></ul></div></li><li class='xr-section-item'><input id='section-58c66d8a-a9b3-4143-b4d4-85d41622948a' class='xr-section-summary-in' type='checkbox'  checked><label for='section-58c66d8a-a9b3-4143-b4d4-85d41622948a' class='xr-section-summary' >Data variables: <span>(2)</span></label><div class='xr-section-inline-details'></div><div class='xr-section-details'><ul class='xr-var-list'><li class='xr-var-item'><div class='xr-var-name'><span>temperature_2m</span></div><div class='xr-var-dims'>(time, y, x)</div><div class='xr-var-dtype'>float64</div><div class='xr-var-preview xr-preview'>nan nan nan ... 235.1 235.1 235.1</div><input id='attrs-d58cd762-3067-491e-af85-0b8660959d3c' class='xr-var-attrs-in' type='checkbox' ><label for='attrs-d58cd762-3067-491e-af85-0b8660959d3c' title='Show/Hide attributes'><svg class='icon xr-icon-file-text2'><use xlink:href='#icon-file-text2'></use></svg></label><input id='data-e2fda86f-8991-44ad-9d83-d6803c17dbce' class='xr-var-data-in' type='checkbox'><label for='data-e2fda86f-8991-44ad-9d83-d6803c17dbce' title='Show/Hide data repr'><svg class='icon xr-icon-database'><use xlink:href='#icon-database'></use></svg></label><div class='xr-var-attrs'><dl class='xr-attrs'><dt><span>transform :</span></dt><dd>[   1.    0. -180.    0.   -1.   90.]</dd><dt><span>crs :</span></dt><dd>+init=epsg:4326</dd><dt><span>res :</span></dt><dd>[1. 1.]</dd><dt><span>is_tiled :</span></dt><dd>1</dd><dt><span>nodatavals :</span></dt><dd>-32768.0</dd><dt><span>scales :</span></dt><dd>1.0</dd><dt><span>offsets :</span></dt><dd>0.0</dd><dt><span>AREA_OR_POINT :</span></dt><dd>Area</dd><dt><span>TIFFTAG_RESOLUTIONUNIT :</span></dt><dd>1 (unitless)</dd><dt><span>TIFFTAG_XRESOLUTION :</span></dt><dd>1</dd><dt><span>TIFFTAG_YRESOLUTION :</span></dt><dd>1</dd></dl></div><div class='xr-var-data'><pre>array([[[         nan,          nan,          nan, ...,          nan,\n",
       "                  nan,          nan],\n",
       "        [         nan,          nan,          nan, ...,          nan,\n",
       "                  nan,          nan],\n",
       "        [         nan,          nan,          nan, ...,          nan,\n",
       "                  nan,          nan],\n",
       "        ...,\n",
       "        [245.22262573, 245.31243896, 245.54098511, ..., 244.97375488,\n",
       "         245.08517456, 245.14868164],\n",
       "        [242.96020508, 242.98135376, 243.02542114, ..., 242.87115479,\n",
       "         242.91647339, 242.93859863],\n",
       "        [244.20111084, 244.21139526, 244.23217773, ..., 244.15145874,\n",
       "         244.17645264, 244.18930054]],\n",
       "\n",
       "       [[         nan,          nan,          nan, ...,          nan,\n",
       "                  nan,          nan],\n",
       "        [         nan,          nan,          nan, ...,          nan,\n",
       "                  nan,          nan],\n",
       "        [         nan,          nan,          nan, ...,          nan,\n",
       "                  nan,          nan],\n",
       "...\n",
       "        [232.31001282, 232.44020081, 232.7535553 , ..., 231.89836121,\n",
       "         232.10557556, 232.20146179],\n",
       "        [225.1608429 , 225.16166687, 225.1608429 , ..., 225.11598206,\n",
       "         225.14228821, 225.15376282],\n",
       "        [225.14814758, 225.15357971, 225.16447449, ..., 225.09233093,\n",
       "         225.12190247, 225.13728333]],\n",
       "\n",
       "       [[         nan,          nan,          nan, ...,          nan,\n",
       "                  nan,          nan],\n",
       "        [         nan,          nan,          nan, ...,          nan,\n",
       "                  nan,          nan],\n",
       "        [         nan,          nan,          nan, ...,          nan,\n",
       "                  nan,          nan],\n",
       "        ...,\n",
       "        [238.44126892, 238.54243469, 238.78715515, ..., 238.18659973,\n",
       "         238.29722595, 238.36164856],\n",
       "        [234.77253723, 234.7872467 , 234.81761169, ..., 234.71134949,\n",
       "         234.74320984, 234.75801086],\n",
       "        [235.12919617, 235.1403656 , 235.16264343, ..., 235.07441711,\n",
       "         235.10231018, 235.11647034]]])</pre></div></li><li class='xr-var-item'><div class='xr-var-name'><span>total_precipitation</span></div><div class='xr-var-dims'>(time, y, x)</div><div class='xr-var-dtype'>float64</div><div class='xr-var-preview xr-preview'>nan nan nan ... 7.432e-05 7.445e-05</div><input id='attrs-e3da91f5-c66e-4c0b-9624-6559e0ee50a3' class='xr-var-attrs-in' type='checkbox' ><label for='attrs-e3da91f5-c66e-4c0b-9624-6559e0ee50a3' title='Show/Hide attributes'><svg class='icon xr-icon-file-text2'><use xlink:href='#icon-file-text2'></use></svg></label><input id='data-a921950e-b034-42c9-8a91-ac0261ec539c' class='xr-var-data-in' type='checkbox'><label for='data-a921950e-b034-42c9-8a91-ac0261ec539c' title='Show/Hide data repr'><svg class='icon xr-icon-database'><use xlink:href='#icon-database'></use></svg></label><div class='xr-var-attrs'><dl class='xr-attrs'><dt><span>transform :</span></dt><dd>[   1.    0. -180.    0.   -1.   90.]</dd><dt><span>crs :</span></dt><dd>+init=epsg:4326</dd><dt><span>res :</span></dt><dd>[1. 1.]</dd><dt><span>is_tiled :</span></dt><dd>1</dd><dt><span>nodatavals :</span></dt><dd>-32768.0</dd><dt><span>scales :</span></dt><dd>1.0</dd><dt><span>offsets :</span></dt><dd>0.0</dd><dt><span>AREA_OR_POINT :</span></dt><dd>Area</dd><dt><span>TIFFTAG_RESOLUTIONUNIT :</span></dt><dd>1 (unitless)</dd><dt><span>TIFFTAG_XRESOLUTION :</span></dt><dd>1</dd><dt><span>TIFFTAG_YRESOLUTION :</span></dt><dd>1</dd></dl></div><div class='xr-var-data'><pre>array([[[           nan,            nan,            nan, ...,\n",
       "                    nan,            nan,            nan],\n",
       "        [           nan,            nan,            nan, ...,\n",
       "                    nan,            nan,            nan],\n",
       "        [           nan,            nan,            nan, ...,\n",
       "                    nan,            nan,            nan],\n",
       "        ...,\n",
       "        [5.99154382e-05, 6.46356139e-05, 7.29917892e-05, ...,\n",
       "         4.42582759e-05, 5.10760228e-05, 5.54456719e-05],\n",
       "        [1.41630612e-04, 1.44400366e-04, 1.50102039e-04, ...,\n",
       "         1.31401314e-04, 1.36471202e-04, 1.39020464e-04],\n",
       "        [2.35400244e-04, 2.35758570e-04, 2.36416782e-04, ...,\n",
       "         2.33649823e-04, 2.34499538e-04, 2.34974280e-04]],\n",
       "\n",
       "       [[           nan,            nan,            nan, ...,\n",
       "                    nan,            nan,            nan],\n",
       "        [           nan,            nan,            nan, ...,\n",
       "                    nan,            nan,            nan],\n",
       "        [           nan,            nan,            nan, ...,\n",
       "                    nan,            nan,            nan],\n",
       "...\n",
       "        [3.40810537e-05, 3.58735005e-05, 3.86355122e-05, ...,\n",
       "         2.63653372e-05, 2.99138509e-05, 3.20832504e-05],\n",
       "        [4.62723573e-05, 4.69249234e-05, 4.82384957e-05, ...,\n",
       "         4.39574968e-05, 4.51043041e-05, 4.56715960e-05],\n",
       "        [5.48305715e-05, 5.49214918e-05, 5.50908179e-05, ...,\n",
       "         5.45147367e-05, 5.46660766e-05, 5.47457047e-05]],\n",
       "\n",
       "       [[           nan,            nan,            nan, ...,\n",
       "                    nan,            nan,            nan],\n",
       "        [           nan,            nan,            nan, ...,\n",
       "                    nan,            nan,            nan],\n",
       "        [           nan,            nan,            nan, ...,\n",
       "                    nan,            nan,            nan],\n",
       "        ...,\n",
       "        [1.09901609e-04, 1.18019424e-04, 1.31247464e-04, ...,\n",
       "         7.83468870e-05, 9.24800563e-05, 1.01354746e-04],\n",
       "        [8.28605419e-05, 8.36558913e-05, 8.52474052e-05, ...,\n",
       "         7.99732672e-05, 8.14240350e-05, 8.21254373e-05],\n",
       "        [7.45665322e-05, 7.46648450e-05, 7.48271279e-05, ...,\n",
       "         7.40658882e-05, 7.43169378e-05, 7.44490692e-05]]])</pre></div></li></ul></div></li><li class='xr-section-item'><input id='section-4acde76e-4baa-41f1-868d-b6f494b1d4a8' class='xr-section-summary-in' type='checkbox'  ><label for='section-4acde76e-4baa-41f1-868d-b6f494b1d4a8' class='xr-section-summary' >Indexes: <span>(3)</span></label><div class='xr-section-inline-details'></div><div class='xr-section-details'><ul class='xr-var-list'><li class='xr-var-item'><div class='xr-index-name'><div>time</div></div><div class='xr-index-preview'>PandasIndex</div><div></div><input id='index-ea99ee74-ff06-4753-9484-faba288d3e0c' class='xr-index-data-in' type='checkbox'/><label for='index-ea99ee74-ff06-4753-9484-faba288d3e0c' title='Show/Hide index repr'><svg class='icon xr-icon-database'><use xlink:href='#icon-database'></use></svg></label><div class='xr-index-data'><pre>PandasIndex(DatetimeIndex([&#x27;1981-01-01&#x27;, &#x27;1981-02-01&#x27;, &#x27;1981-03-01&#x27;, &#x27;1981-04-01&#x27;,\n",
       "               &#x27;1981-05-01&#x27;, &#x27;1981-06-01&#x27;, &#x27;1981-07-01&#x27;, &#x27;1981-08-01&#x27;,\n",
       "               &#x27;1981-09-01&#x27;, &#x27;1981-10-01&#x27;,\n",
       "               ...\n",
       "               &#x27;2022-02-01&#x27;, &#x27;2022-03-01&#x27;, &#x27;2022-04-01&#x27;, &#x27;2022-05-01&#x27;,\n",
       "               &#x27;2022-06-01&#x27;, &#x27;2022-07-01&#x27;, &#x27;2022-08-01&#x27;, &#x27;2022-09-01&#x27;,\n",
       "               &#x27;2022-10-01&#x27;, &#x27;2022-11-01&#x27;],\n",
       "              dtype=&#x27;datetime64[ns]&#x27;, name=&#x27;time&#x27;, length=503, freq=None))</pre></div></li><li class='xr-var-item'><div class='xr-index-name'><div>y</div></div><div class='xr-index-preview'>PandasIndex</div><div></div><input id='index-50496558-d18a-492a-892c-564336fade83' class='xr-index-data-in' type='checkbox'/><label for='index-50496558-d18a-492a-892c-564336fade83' title='Show/Hide index repr'><svg class='icon xr-icon-database'><use xlink:href='#icon-database'></use></svg></label><div class='xr-index-data'><pre>PandasIndex(Float64Index([ 89.5,  88.5,  87.5,  86.5,  85.5,  84.5,  83.5,  82.5,  81.5,\n",
       "               80.5,\n",
       "              ...\n",
       "              -80.5, -81.5, -82.5, -83.5, -84.5, -85.5, -86.5, -87.5, -88.5,\n",
       "              -89.5],\n",
       "             dtype=&#x27;float64&#x27;, name=&#x27;y&#x27;, length=180))</pre></div></li><li class='xr-var-item'><div class='xr-index-name'><div>x</div></div><div class='xr-index-preview'>PandasIndex</div><div></div><input id='index-7d777cb0-21c9-4931-bb82-7f510fe8070c' class='xr-index-data-in' type='checkbox'/><label for='index-7d777cb0-21c9-4931-bb82-7f510fe8070c' title='Show/Hide index repr'><svg class='icon xr-icon-database'><use xlink:href='#icon-database'></use></svg></label><div class='xr-index-data'><pre>PandasIndex(Float64Index([-179.5, -178.5, -177.5, -176.5, -175.5, -174.5, -173.5, -172.5,\n",
       "              -171.5, -170.5,\n",
       "              ...\n",
       "               170.5,  171.5,  172.5,  173.5,  174.5,  175.5,  176.5,  177.5,\n",
       "               178.5,  179.5],\n",
       "             dtype=&#x27;float64&#x27;, name=&#x27;x&#x27;, length=360))</pre></div></li></ul></div></li><li class='xr-section-item'><input id='section-1e5ca453-c1d1-4232-a14d-11541069db7d' class='xr-section-summary-in' type='checkbox'  ><label for='section-1e5ca453-c1d1-4232-a14d-11541069db7d' class='xr-section-summary' >Attributes: <span>(11)</span></label><div class='xr-section-inline-details'></div><div class='xr-section-details'><dl class='xr-attrs'><dt><span>transform :</span></dt><dd>[   1.    0. -180.    0.   -1.   90.]</dd><dt><span>crs :</span></dt><dd>+init=epsg:4326</dd><dt><span>res :</span></dt><dd>[1. 1.]</dd><dt><span>is_tiled :</span></dt><dd>1</dd><dt><span>nodatavals :</span></dt><dd>-32768.0</dd><dt><span>scales :</span></dt><dd>1.0</dd><dt><span>offsets :</span></dt><dd>0.0</dd><dt><span>AREA_OR_POINT :</span></dt><dd>Area</dd><dt><span>TIFFTAG_RESOLUTIONUNIT :</span></dt><dd>1 (unitless)</dd><dt><span>TIFFTAG_XRESOLUTION :</span></dt><dd>1</dd><dt><span>TIFFTAG_YRESOLUTION :</span></dt><dd>1</dd></dl></div></li></ul></div></div>"
      ],
      "text/plain": [
       "<xarray.Dataset>\n",
       "Dimensions:              (time: 503, y: 180, x: 360)\n",
       "Coordinates:\n",
       "  * time                 (time) datetime64[ns] 1981-01-01 ... 2022-11-01\n",
       "  * y                    (y) float64 89.5 88.5 87.5 86.5 ... -87.5 -88.5 -89.5\n",
       "  * x                    (x) float64 -179.5 -178.5 -177.5 ... 177.5 178.5 179.5\n",
       "Data variables:\n",
       "    temperature_2m       (time, y, x) float64 nan nan nan ... 235.1 235.1 235.1\n",
       "    total_precipitation  (time, y, x) float64 nan nan ... 7.432e-05 7.445e-05\n",
       "Attributes:\n",
       "    transform:               [   1.    0. -180.    0.   -1.   90.]\n",
       "    crs:                     +init=epsg:4326\n",
       "    res:                     [1. 1.]\n",
       "    is_tiled:                1\n",
       "    nodatavals:              -32768.0\n",
       "    scales:                  1.0\n",
       "    offsets:                 0.0\n",
       "    AREA_OR_POINT:           Area\n",
       "    TIFFTAG_RESOLUTIONUNIT:  1 (unitless)\n",
       "    TIFFTAG_XRESOLUTION:     1\n",
       "    TIFFTAG_YRESOLUTION:     1"
      ]
     },
     "execution_count": 7,
     "metadata": {},
     "output_type": "execute_result"
    }
   ],
   "source": [
    "temp_precip_data"
   ]
  },
  {
   "cell_type": "markdown",
   "id": "4HbPmAal6ZS0",
   "metadata": {
    "id": "4HbPmAal6ZS0"
   },
   "source": [
    "### 3) **Guided Data Analysis**\n"
   ]
  },
  {
   "cell_type": "markdown",
   "id": "w8b1tbXGabUP",
   "metadata": {
    "id": "w8b1tbXGabUP"
   },
   "source": [
    "#### **a)** Explore the dataset. Consider visualizing **temperature** and **precipitation** data at a point in time to get an understanding of what you are working with. Include cmap=’hot_r’ for this first part."
   ]
  },
  {
   "cell_type": "markdown",
   "id": "uYNsiH3oX_yu",
   "metadata": {
    "id": "uYNsiH3oX_yu"
   },
   "source": [
    "#### **b)** What do you notice about the plots from part a? Are they equally effective at communicating the data? Why or why not? (1-4 sentences)\n",
    "\n",
    "Answer:"
   ]
  },
  {
   "cell_type": "markdown",
   "id": "lXVnMmIq6vYC",
   "metadata": {
    "id": "lXVnMmIq6vYC"
   },
   "source": [
    "#### **c)** Using the toolbox re-plot your **precipitation** data in a color scale that makes it more communicative.\n"
   ]
  },
  {
   "cell_type": "markdown",
   "id": "V6WojTOtBCAW",
   "metadata": {
    "id": "V6WojTOtBCAW"
   },
   "source": [
    "Answer:\n",
    "Our map looks washed out -- and that's because most values tend to be clustered around the minimum than spread throughout our range. Can you find a way to reorient the colour scale to make the graph easier to read and more communicative?\n",
    "\n",
    "For a more readable visualization, change the colormap parameter to cmap = 'PuOr' to make the color go from purple for more precipitation and orange for less precipitation."
   ]
  },
  {
   "cell_type": "markdown",
   "id": "ZfAiamKZ3Pwd",
   "metadata": {
    "id": "ZfAiamKZ3Pwd"
   },
   "source": [
    "#### **d)** What tradeoffs are you making when you modify the range of the color scale? When is it useful, when is it harmful? (1-2 sentences)\n",
    "\n",
    "Answer:"
   ]
  },
  {
   "cell_type": "markdown",
   "id": "pd2tLUJdCfc-",
   "metadata": {
    "id": "pd2tLUJdCfc-"
   },
   "source": [
    "#### **e)** Choose a country and plot the temperature **OR** precipitation across that country. We recommend choosing a larger country so that there are multiple pixels covering that country."
   ]
  },
  {
   "cell_type": "markdown",
   "id": "OELPbASW4kQi",
   "metadata": {
    "id": "OELPbASW4kQi"
   },
   "source": [
    "The following code, similar to Assignment 3, pulls data from a country out into its own dataset variable. Use the drop down to find the formulation of country names in the dataset. These must match exactly, so we recommend copying and pasting it into the country_name variable, as you may find some spelling or formatting discrepancies otherwise."
   ]
  },
  {
   "cell_type": "code",
   "execution_count": null,
   "id": "9K0bhNMY4im_",
   "metadata": {
    "colab": {
     "base_uri": "https://localhost:8080/",
     "height": 112,
     "referenced_widgets": [
      "342babea981d4e94b6c52eaf78276f6c",
      "408ef0931c564f5893d83ac88fcd20de",
      "5eb8d833ecba48d6aef85bea741dda61"
     ]
    },
    "executionInfo": {
     "elapsed": 1301,
     "status": "ok",
     "timestamp": 1706139624756,
     "user": {
      "displayName": "Flora Huang",
      "userId": "06076212000187397997"
     },
     "user_tz": 480
    },
    "id": "9K0bhNMY4im_",
    "outputId": "3b2748e7-c3ac-42cb-a00a-9d821136f870"
   },
   "outputs": [
    {
     "data": {
      "application/vnd.jupyter.widget-view+json": {
       "model_id": "342babea981d4e94b6c52eaf78276f6c",
       "version_major": 2,
       "version_minor": 0
      },
      "text/plain": [
       "Select(options=('Abyei', 'Afghanistan', 'Aksai Chin', 'Albania', 'Algeria', 'American Samoa', 'Andorra', 'Ango…"
      ]
     },
     "metadata": {},
     "output_type": "display_data"
    }
   ],
   "source": [
    "gdf_boundaries = gpd.read_file(\"./taking_the_pulse_atmosphere_data/world-administrative-boundaries.geojson\")\n",
    "country_names = np.sort(gdf_boundaries.name.values)\n",
    "gdf_boundaries = gdf_boundaries.set_index('name')\n",
    "widget_country = widgets.Select(options=country_names)\n",
    "widget_country"
   ]
  },
  {
   "cell_type": "markdown",
   "id": "DWNJN3gZ5NVo",
   "metadata": {
    "id": "DWNJN3gZ5NVo"
   },
   "source": [
    "Whatever country you selected above can have its value outputted through the following code cell:"
   ]
  },
  {
   "cell_type": "code",
   "execution_count": null,
   "id": "ZZHHeiVw5IM-",
   "metadata": {
    "colab": {
     "base_uri": "https://localhost:8080/",
     "height": 35
    },
    "executionInfo": {
     "elapsed": 11,
     "status": "ok",
     "timestamp": 1706139624756,
     "user": {
      "displayName": "Flora Huang",
      "userId": "06076212000187397997"
     },
     "user_tz": 480
    },
    "id": "ZZHHeiVw5IM-",
    "outputId": "38f4fc1f-a831-4ca7-934c-b7b1b76bbcc8"
   },
   "outputs": [
    {
     "data": {
      "application/vnd.google.colaboratory.intrinsic+json": {
       "type": "string"
      },
      "text/plain": [
       "'Abyei'"
      ]
     },
     "execution_count": 37,
     "metadata": {},
     "output_type": "execute_result"
    }
   ],
   "source": [
    "widget_country.value"
   ]
  },
  {
   "cell_type": "markdown",
   "id": "e2LY5tSk1ZKC",
   "metadata": {
    "id": "e2LY5tSk1ZKC"
   },
   "source": [
    "We will create a copy of our original gridded data -- this is just so it's easier for us to manipulate."
   ]
  },
  {
   "cell_type": "code",
   "execution_count": null,
   "id": "hvK6H7MzCqdU",
   "metadata": {
    "id": "hvK6H7MzCqdU"
   },
   "outputs": [],
   "source": [
    "temp_precip_data_copy = xr.load_dataset(\"./taking-the-pulse-global-data/global_precip_and_temp.nc\")"
   ]
  },
  {
   "cell_type": "markdown",
   "id": "Ixgz2ikS1fI2",
   "metadata": {
    "id": "Ixgz2ikS1fI2"
   },
   "source": [
    "Use the 'temp_precip_data_copy' as your gridded data for plotting -- and remember to copy paste your country of interest from the widget above!"
   ]
  },
  {
   "cell_type": "markdown",
   "id": "TAxFBwyzCBCR",
   "metadata": {
    "id": "TAxFBwyzCBCR"
   },
   "source": [
    "#### **f)** Why is the distribution of temperature or precipitation in this country interesting and important? What causes this distribution? What impact does it have for the communities of these regions? (3-5 sentences)"
   ]
  },
  {
   "cell_type": "markdown",
   "id": "JGfoA_lkCtCy",
   "metadata": {
    "id": "JGfoA_lkCtCy"
   },
   "source": [
    "#### **g)** In order to quantitatively analyze the country based data, create a spatial average of your selected country's temperature *or* precipitation in respect to time."
   ]
  },
  {
   "cell_type": "markdown",
   "id": "lXJhWsZg-jyC",
   "metadata": {
    "id": "lXJhWsZg-jyC"
   },
   "source": [
    "## Part 2: **After Class Assignment**\n",
    "\n",
    "\n"
   ]
  },
  {
   "cell_type": "markdown",
   "id": "vCdcQEW-wZG3",
   "metadata": {
    "id": "vCdcQEW-wZG3"
   },
   "source": [
    "### **1)** You have access to a data set providing precipitation and temperature from 1985-2015.  We want you to design a workflow to analyze and visualize the data to determine what impact, if any, climate change is having. Think about all the tools we have in our toolbox -- from finding trends and making maps. There is no correct answer, as long as you can justify your steps!\n"
   ]
  },
  {
   "cell_type": "markdown",
   "id": "pQY_DJF8wd4U",
   "metadata": {
    "id": "pQY_DJF8wd4U"
   },
   "source": [
    "#### **a)** In a text box below, list the various steps of your workflow and explain, for each step, the purpose of the step and/or what you hope to learn from the step."
   ]
  },
  {
   "cell_type": "markdown",
   "id": "HQKPDGiZwcZW",
   "metadata": {
    "id": "HQKPDGiZwcZW"
   },
   "source": [
    "#### **b)** Now proceed, using your notebook to implement your workflow, pasting in and modifying (as needed) the code from ToolBox, and generating any useful figures/images."
   ]
  },
  {
   "cell_type": "markdown",
   "id": "eMbSZSSVwgOS",
   "metadata": {
    "id": "eMbSZSSVwgOS"
   },
   "source": [
    "#### **c)** In a text cell below, summarize (< 1/4 page) the key observation about changes in precipitation in the period 1985-2015? Please include – are there specific areas or time periods where more change is seen?\n"
   ]
  },
  {
   "cell_type": "markdown",
   "id": "rOgxdJ1bwjeq",
   "metadata": {
    "id": "rOgxdJ1bwjeq"
   },
   "source": [
    "#### **d)** In a text cell below, summarize (< 1/4 page) the key observation about changes in temperature in the period 1985-2015? Please include - are there specific areas or time periods where more change is seen?"
   ]
  },
  {
   "cell_type": "markdown",
   "id": "b23rMt7lbU6H",
   "metadata": {
    "id": "b23rMt7lbU6H"
   },
   "source": [
    "### **2)** How are the changes in precipitation and temperature introducing sustainability challenges in different countries? How could human activities mitigate the negative effects? How are human activities amplifying the negative impacts? Discuss this – no more than 1 page total – under the headings of environmental, economic, and social. Feel free to use reference material - peer reviewed, popular press, or Wikipedia - available through the internet."
   ]
  }
 ],
 "metadata": {
  "colab": {
   "provenance": [
    {
     "file_id": "1XdTbyd3eGp8c4VVGtgst_mKuFa7QP0Vw",
     "timestamp": 1706166377018
    },
    {
     "file_id": "16TVbw-RllFPxi2Q34IvstbiRcgjm06Ph",
     "timestamp": 1706124233476
    },
    {
     "file_id": "1UBbSGFowa1YaklfALnLg2k1J6TEE6djE",
     "timestamp": 1674757409929
    },
    {
     "file_id": "1d4v5-i_gnWUq2oS5de6spDhJlFjSZuVf",
     "timestamp": 1671643380298
    }
   ],
   "toc_visible": true
  },
  "kernelspec": {
   "display_name": "Python 3 (ipykernel)",
   "language": "python",
   "name": "python3"
  },
  "language_info": {
   "codemirror_mode": {
    "name": "ipython",
    "version": 3
   },
   "file_extension": ".py",
   "mimetype": "text/x-python",
   "name": "python",
   "nbconvert_exporter": "python",
   "pygments_lexer": "ipython3",
   "version": "3.9.6"
  },
  "widgets": {
   "application/vnd.jupyter.widget-state+json": {
    "342babea981d4e94b6c52eaf78276f6c": {
     "model_module": "@jupyter-widgets/controls",
     "model_module_version": "1.5.0",
     "model_name": "SelectModel",
     "state": {
      "_dom_classes": [],
      "_model_module": "@jupyter-widgets/controls",
      "_model_module_version": "1.5.0",
      "_model_name": "SelectModel",
      "_options_labels": [
       "Abyei",
       "Afghanistan",
       "Aksai Chin",
       "Albania",
       "Algeria",
       "American Samoa",
       "Andorra",
       "Angola",
       "Anguilla",
       "Antigua & Barbuda",
       "Argentina",
       "Armenia",
       "Aruba",
       "Arunachal Pradesh",
       "Australia",
       "Austria",
       "Azerbaijan",
       "Azores Islands",
       "Bahamas",
       "Bahrain",
       "Bangladesh",
       "Barbados",
       "Belarus",
       "Belgium",
       "Belize",
       "Benin",
       "Bermuda",
       "Bhutan",
       "Bolivia",
       "Bosnia & Herzegovina",
       "Botswana",
       "Bouvet Island",
       "Brazil",
       "British Indian Ocean Territory",
       "British Virgin Islands",
       "Brunei Darussalam",
       "Bulgaria",
       "Burkina Faso",
       "Burundi",
       "Cambodia",
       "Cameroon",
       "Canada",
       "Cape Verde",
       "Cayman Islands",
       "Central African Republic",
       "Chad",
       "Chile",
       "China",
       "Christmas Island",
       "Cocos (Keeling) Islands",
       "Colombia",
       "Comoros",
       "Congo",
       "Cook Islands",
       "Costa Rica",
       "Croatia",
       "Cuba",
       "Cyprus",
       "Czech Republic",
       "Côte d'Ivoire",
       "Democratic People's Republic of Korea",
       "Democratic Republic of the Congo",
       "Denmark",
       "Djibouti",
       "Dominica",
       "Dominican Republic",
       "Ecuador",
       "Egypt",
       "El Salvador",
       "Equatorial Guinea",
       "Eritrea",
       "Estonia",
       "Ethiopia",
       "Falkland Islands (Malvinas)",
       "Faroe Islands",
       "Fiji",
       "Finland",
       "France",
       "French Guiana",
       "French Polynesia",
       "French Southern and Antarctic Territories",
       "Gabon",
       "Gambia",
       "Gaza Strip",
       "Georgia",
       "Germany",
       "Ghana",
       "Gibraltar",
       "Glorioso Islands",
       "Greece",
       "Greenland",
       "Grenada",
       "Guadeloupe",
       "Guam",
       "Guantanamo",
       "Guatemala",
       "Guernsey",
       "Guinea",
       "Guinea-Bissau",
       "Guyana",
       "Haiti",
       "Hala'ib Triangle",
       "Heard Island and McDonald Islands",
       "Holy See",
       "Honduras",
       "Hong Kong",
       "Hungary",
       "Iceland",
       "Ilemi Triangle",
       "India",
       "Indonesia",
       "Iran (Islamic Republic of)",
       "Iraq",
       "Ireland",
       "Isle of Man",
       "Israel",
       "Italy",
       "Jamaica",
       "Jammu-Kashmir",
       "Japan",
       "Jarvis Island",
       "Jersey",
       "Jordan",
       "Kazakhstan",
       "Kenya",
       "Kiribati",
       "Kuril Islands",
       "Kuwait",
       "Kyrgyzstan",
       "Lao People's Democratic Republic",
       "Latvia",
       "Lebanon",
       "Lesotho",
       "Liberia",
       "Libyan Arab Jamahiriya",
       "Liechtenstein",
       "Lithuania",
       "Luxembourg",
       "Ma'tan al-Sarra",
       "Macao",
       "Madagascar",
       "Madeira Islands",
       "Malawi",
       "Malaysia",
       "Maldives",
       "Mali",
       "Malta",
       "Marshall Islands",
       "Martinique",
       "Mauritania",
       "Mauritius",
       "Mayotte",
       "Mexico",
       "Micronesia (Federated States of)",
       "Midway Is.",
       "Moldova, Republic of",
       "Monaco",
       "Mongolia",
       "Montenegro",
       "Montserrat",
       "Morocco",
       "Mozambique",
       "Myanmar",
       "Namibia",
       "Nauru",
       "Nepal",
       "Netherlands",
       "Netherlands Antilles",
       "New Caledonia",
       "New Zealand",
       "Nicaragua",
       "Niger",
       "Nigeria",
       "Niue",
       "Norfolk Island",
       "Northern Mariana Islands",
       "Norway",
       "Oman",
       "Pakistan",
       "Palau",
       "Panama",
       "Papua New Guinea",
       "Paracel Islands",
       "Paraguay",
       "Peru",
       "Philippines",
       "Pitcairn Island",
       "Poland",
       "Portugal",
       "Puerto Rico",
       "Qatar",
       "Republic of Korea",
       "Reunion",
       "Romania",
       "Russian Federation",
       "Rwanda",
       "Saint Kitts and Nevis",
       "Saint Lucia",
       "Saint Vincent and the Grenadines",
       "Samoa",
       "San Marino",
       "Sao Tome and Principe",
       "Saudi Arabia",
       "Senegal",
       "Serbia",
       "Seychelles",
       "Sierra Leone",
       "Singapore",
       "Slovakia",
       "Slovenia",
       "Solomon Islands",
       "Somalia",
       "South Africa",
       "South Georgia & the South Sandwich Islands",
       "South Sudan",
       "Spain",
       "Spratly Islands",
       "Sri Lanka",
       "Sudan",
       "Suriname",
       "Svalbard and Jan Mayen Islands",
       "Swaziland",
       "Sweden",
       "Switzerland",
       "Syrian Arab Republic",
       "Taiwan",
       "Tajikistan",
       "Thailand",
       "The former Yugoslav Republic of Macedonia",
       "Timor-Leste",
       "Togo",
       "Tokelau",
       "Tonga",
       "Trinidad and Tobago",
       "Tunisia",
       "Turkey",
       "Turkmenistan",
       "Turks and Caicos Islands",
       "Tuvalu",
       "U.K. of Great Britain and Northern Ireland",
       "Uganda",
       "Ukraine",
       "United Arab Emirates",
       "United Republic of Tanzania",
       "United States Virgin Islands",
       "United States of America",
       "Uruguay",
       "Uzbekistan",
       "Vanuatu",
       "Venezuela",
       "Vietnam",
       "West Bank",
       "Western Sahara",
       "Yemen",
       "Zambia",
       "Zimbabwe"
      ],
      "_view_count": null,
      "_view_module": "@jupyter-widgets/controls",
      "_view_module_version": "1.5.0",
      "_view_name": "SelectView",
      "description": "",
      "description_tooltip": null,
      "disabled": false,
      "index": 0,
      "layout": "IPY_MODEL_408ef0931c564f5893d83ac88fcd20de",
      "rows": 5,
      "style": "IPY_MODEL_5eb8d833ecba48d6aef85bea741dda61"
     }
    },
    "408ef0931c564f5893d83ac88fcd20de": {
     "model_module": "@jupyter-widgets/base",
     "model_module_version": "1.2.0",
     "model_name": "LayoutModel",
     "state": {
      "_model_module": "@jupyter-widgets/base",
      "_model_module_version": "1.2.0",
      "_model_name": "LayoutModel",
      "_view_count": null,
      "_view_module": "@jupyter-widgets/base",
      "_view_module_version": "1.2.0",
      "_view_name": "LayoutView",
      "align_content": null,
      "align_items": null,
      "align_self": null,
      "border": null,
      "bottom": null,
      "display": null,
      "flex": null,
      "flex_flow": null,
      "grid_area": null,
      "grid_auto_columns": null,
      "grid_auto_flow": null,
      "grid_auto_rows": null,
      "grid_column": null,
      "grid_gap": null,
      "grid_row": null,
      "grid_template_areas": null,
      "grid_template_columns": null,
      "grid_template_rows": null,
      "height": null,
      "justify_content": null,
      "justify_items": null,
      "left": null,
      "margin": null,
      "max_height": null,
      "max_width": null,
      "min_height": null,
      "min_width": null,
      "object_fit": null,
      "object_position": null,
      "order": null,
      "overflow": null,
      "overflow_x": null,
      "overflow_y": null,
      "padding": null,
      "right": null,
      "top": null,
      "visibility": null,
      "width": null
     }
    },
    "5eb8d833ecba48d6aef85bea741dda61": {
     "model_module": "@jupyter-widgets/controls",
     "model_module_version": "1.5.0",
     "model_name": "DescriptionStyleModel",
     "state": {
      "_model_module": "@jupyter-widgets/controls",
      "_model_module_version": "1.5.0",
      "_model_name": "DescriptionStyleModel",
      "_view_count": null,
      "_view_module": "@jupyter-widgets/base",
      "_view_module_version": "1.2.0",
      "_view_name": "StyleView",
      "description_width": ""
     }
    }
   }
  }
 },
 "nbformat": 4,
 "nbformat_minor": 5
}
