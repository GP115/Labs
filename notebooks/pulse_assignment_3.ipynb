{
 "cells": [
  {
   "cell_type": "markdown",
   "metadata": {
    "id": "wkQ6DdDW0FDT"
   },
   "source": [
    "# ***Assignment 3: CO<sub>2</sub> Global Data***\n",
    "This assignment is due on Thursday 2024-1-25, before class. Change the name of your notebook to tpp_assignment_3_sunetID.ipynb Share your completed notebook with the TAs akroo@stanford.edu & flora221@stanford.edu using the share banner at the top. For help submitting, see the canvas walkthrough. If you are still having technical difficulties, email us before the deadline.\n"
   ]
  },
  {
   "cell_type": "markdown",
   "metadata": {
    "id": "xYGCDVCj0FIU"
   },
   "source": [
    "###**INTRODUCTION TO THE ASSIGNMENT**\n",
    "\n",
    "In this week’s assignment will analyze NASA's OCO2 global satellite data with the goal of answering the question: how/why is the concentration of CO2 changing in the atmosphere over space and time?\n"
   ]
  },
  {
   "cell_type": "markdown",
   "metadata": {
    "id": "9F8Mi7h60FAs"
   },
   "source": [
    "###**DATA SETS**\n",
    "For this assignment, you will be using NASA's OCO2 Dataset.\n",
    "\n",
    "For more info see the project's website: https://ocov2.jpl.nasa.gov/"
   ]
  },
  {
   "cell_type": "markdown",
   "metadata": {
    "id": "AJvtcxAq0E-o"
   },
   "source": [
    "####**Units:**\n",
    "The unit for reporting the concentration of CO<sub>2</sub> is ppm (parts per million)."
   ]
  },
  {
   "cell_type": "markdown",
   "metadata": {
    "id": "QvetjrEm0E79"
   },
   "source": [
    "##**TOOLBOX**\n",
    "All the Python functions and packages you will use in this assignment are in the toolbox for the course. We add new tools to the toolbox with each assignment as new ways of analyzing and visualizing data are introduced.\n",
    "\n",
    "https://colab.research.google.com/drive/1gQxlpnogdJzykfNqjIGO4VLMnHHhrvcC?usp=sharing\n",
    "\n",
    "This week you will be working with gridded data - envision this as a stack of maps, with each map showing the spatial variation in a measurement at a set time.\n",
    "\n",
    "*numpy* (numbers for python) is a package of python tools that handle the mathematical operations.\n",
    "\n",
    "*pandas* (referred to as pd in lines of code) is a package of python tools that can be used to work efficiently with datasets, taken into pandas and referred to as dataframes.\n",
    "\n",
    "*matplotlib* is a package that is useful for generating plots.\n",
    "\n",
    "*xarray* is a package in python that builds off of pandas to support working with gridded data.\n",
    "\n",
    "*cartopy* is a package designed for geospatial data processing in order to produce maps and other geospatial data analyses.\n",
    "\n",
    "*datetime* is a package that helps interpret months, years etc. as a single date/time object\n"
   ]
  },
  {
   "cell_type": "markdown",
   "metadata": {
    "id": "8bAhsOZJ0E4Z"
   },
   "source": [
    "## **Learning Goals for the Week**\n",
    "(where the course learning goals are in plain text, and the focus this week is in italics)\n",
    "\n",
    "- become familiar with the wide range of sensors available to study various components of the Earth system. These include sensors on satellites, aircraft, ground-based platforms, and deployed above or beneath the surface on land or water. *This week we will learn about the measurement of CO2 in the atmosphere from satellites.*\n",
    "\n",
    "- work with various sources of data, learning how to access, analyze, synthesize, and describe the data to quantify trends; think critically and creatively about how to project these trends into the future. *This week you will learn how to analyze gridded data.*\n",
    "\n",
    "- become motivated to think about new sensors and new ways of using sensor data to study the planet. *This week you will consider the advantages and disadvantages of satellite forms of measuring CO2.*"
   ]
  },
  {
   "cell_type": "markdown",
   "metadata": {
    "id": "1Qkr-8c_1WMD"
   },
   "source": [
    "## **In Class Assignment**"
   ]
  },
  {
   "cell_type": "markdown",
   "metadata": {
    "id": "XcJ9tq141bow"
   },
   "source": [
    "\n",
    "#### 1) **Install and Import Packages**: numpy, pandas, matplotlib, xarray, cartopy, widgets, and datetime (See Toolbox)"
   ]
  },
  {
   "cell_type": "markdown",
   "metadata": {
    "id": "SyMkQHGx1gYo"
   },
   "source": [
    "#### 2) **Getting and Reviewing the Data**"
   ]
  },
  {
   "cell_type": "markdown",
   "metadata": {
    "id": "scz1qvmq1vnx"
   },
   "source": [
    "Instead of having an excel sheet style grid of data, we have carbon dioxide measurements across the world and at many different points in time"
   ]
  },
  {
   "cell_type": "markdown",
   "metadata": {
    "id": "7Pb3OHIO16zV"
   },
   "source": [
    "Use the code below to pull the data from the website it is hosted on into your assignment and then load that data from a file into the assignment."
   ]
  },
  {
   "cell_type": "code",
   "execution_count": null,
   "metadata": {
    "id": "jDo3e-M32Alh"
   },
   "outputs": [],
   "source": [
    "!git clone https://premonition.stanford.edu/sgkang09/taking_the_pulse_atmosphere_data.git\n",
    "import warnings\n",
    "warnings.filterwarnings('ignore')\n",
    "co2_data = xr.load_dataset('./taking_the_pulse_atmosphere_data/co2.nc')"
   ]
  },
  {
   "cell_type": "markdown",
   "metadata": {
    "id": "RbwpvyRy1-oB"
   },
   "source": [
    "##### **a)** Investigate the dataframe to see what data you are working with. In 3-5 sentences, explain what data is in the dataset and how it is structured.\n"
   ]
  },
  {
   "cell_type": "markdown",
   "metadata": {
    "id": "1Ip9z4We1g65"
   },
   "source": [
    "#### 3) **Guided Data Analysis**\n",
    "\n",
    "In class we will be focusing our data analysis around the question – **which countries are responsible for co2 emissions?**\n"
   ]
  },
  {
   "cell_type": "markdown",
   "metadata": {
    "id": "kWoXj9FV1hR4"
   },
   "source": [
    "##### **a)** Spend 3-8 minutes googling who the top emitters of carbon dioxide are. How was this list created? What were the data sources?\n"
   ]
  },
  {
   "cell_type": "markdown",
   "metadata": {
    "id": "dUQHNdPHCSfN"
   },
   "source": [
    "Now let’s dig into the satellite data to inform this"
   ]
  },
  {
   "cell_type": "markdown",
   "metadata": {
    "id": "ML4ZJN9t1iKd"
   },
   "source": [
    "##### **b)** Using the toolbox explore the data graphically (plotting). There are various forms of data analysis you can experiment with: Plot **different months** and plot the **average concentration** around the world"
   ]
  },
  {
   "cell_type": "markdown",
   "metadata": {
    "id": "FtKhcqa61hre"
   },
   "source": [
    "##### **c)** What do you notice about the difference between the monthly snapshots?\n"
   ]
  },
  {
   "cell_type": "markdown",
   "metadata": {
    "id": "RMWCtxHg2Y_q"
   },
   "source": [
    "##### **d)** What overall trends do you see in the dataset over time?\n"
   ]
  },
  {
   "cell_type": "markdown",
   "metadata": {
    "id": "yPG94RVH2aWQ"
   },
   "source": [
    "##### **e)** Are there locations that visually look like they might be sources of carbon dioxide? Are there locations that look like they might be sinks of carbon dioxide. Do these correspond to what you expect? Where they do not align, explain why you think that it does not."
   ]
  },
  {
   "cell_type": "markdown",
   "metadata": {
    "id": "GAFWQSw02aL7"
   },
   "source": [
    "##### **f)** One approach to looking at what countries are polluting is to assume that a higher concentration of co2 above the country means that they are producing more. In the code below I have pulled the data that is within the bounds of each country and taken the average of the temporally averaged co2 data. The resulting dataframe has the country name and the average concentration of co2 above that country. Is this approach a good way of determining who is polluting? Are these countries the top emitters in the world? Why? (5-8 sentances)"
   ]
  },
  {
   "cell_type": "code",
   "execution_count": null,
   "metadata": {
    "id": "EjQbZuoH57rT"
   },
   "outputs": [],
   "source": [
    "# Function for determining average co2 over each country\n",
    "# You do not need to understand this\n",
    "\n",
    "from shapely.geometry import mapping\n",
    "import cartopy.crs as ccrs\n",
    "import rioxarray\n",
    "\n",
    "#import requisit packages and read file from repository\n",
    "import geopandas as gpd\n",
    "gdf_boundaries = gpd.read_file(\"./taking_the_pulse_atmosphere_data/world-administrative-boundaries.geojson\")\n",
    "\n",
    "# set the index of the dataset to be the country names for easy access\n",
    "country_names = np.sort(gdf_boundaries.name.values)\n",
    "gdf_boundaries = gdf_boundaries.set_index('name')\n",
    "\n",
    "def country_clipped_averages(dataset,bounds):\n",
    "    '''Function that takes in dataset and gdf_boundaries and returns dataframe\n",
    "    of average value of co2 over that country.\n",
    "    Example of use: c_vals = country_clipped_averages(co2_data, gdf_boundaries)'''\n",
    "    country_vals = pd.DataFrame(index=bounds.index)\n",
    "    country_vals.co2 = 0\n",
    "    country_names = gdf_boundaries.index\n",
    "    for country in country_names:\n",
    "      data_copy = dataset\n",
    "      country_boundary = bounds.loc[[country]]\n",
    "      country_boundary.crs\n",
    "      data_copy.rio.set_spatial_dims(x_dim=\"lon\", y_dim=\"lat\", inplace=True)\n",
    "      data_copy.rio.write_crs(4326, inplace=True)\n",
    "      try:\n",
    "        data_clipped = data_copy.rio.clip(\n",
    "            country_boundary.geometry.apply(mapping),\n",
    "            country_boundary.crs,\n",
    "            drop=True\n",
    "        )\n",
    "      except:\n",
    "        country_vals.drop('Cyprus')\n",
    "        pass\n",
    "      country_vals.at[country, 'co2'] = float(data_clipped.co2.mean(dim=['lon','lat','time']))\n",
    "    return country_vals"
   ]
  },
  {
   "cell_type": "code",
   "execution_count": null,
   "metadata": {
    "colab": {
     "base_uri": "https://localhost:8080/",
     "height": 394
    },
    "executionInfo": {
     "elapsed": 12873,
     "status": "ok",
     "timestamp": 1705603869319,
     "user": {
      "displayName": "Anne Kroo",
      "userId": "01335049978940707144"
     },
     "user_tz": 480
    },
    "id": "X4FUZsxJ58iE",
    "outputId": "3c4b3050-5013-4cc0-bad5-ba7d1f0e021a"
   },
   "outputs": [
    {
     "data": {
      "text/html": [
       "\n",
       "  <div id=\"df-53416142-1456-472b-a9bb-54e00c18e9f0\" class=\"colab-df-container\">\n",
       "    <div>\n",
       "<style scoped>\n",
       "    .dataframe tbody tr th:only-of-type {\n",
       "        vertical-align: middle;\n",
       "    }\n",
       "\n",
       "    .dataframe tbody tr th {\n",
       "        vertical-align: top;\n",
       "    }\n",
       "\n",
       "    .dataframe thead th {\n",
       "        text-align: right;\n",
       "    }\n",
       "</style>\n",
       "<table border=\"1\" class=\"dataframe\">\n",
       "  <thead>\n",
       "    <tr style=\"text-align: right;\">\n",
       "      <th></th>\n",
       "      <th>co2</th>\n",
       "    </tr>\n",
       "    <tr>\n",
       "      <th>name</th>\n",
       "      <th></th>\n",
       "    </tr>\n",
       "  </thead>\n",
       "  <tbody>\n",
       "    <tr>\n",
       "      <th>Taiwan</th>\n",
       "      <td>409.149043</td>\n",
       "    </tr>\n",
       "    <tr>\n",
       "      <th>Guadeloupe</th>\n",
       "      <td>409.149043</td>\n",
       "    </tr>\n",
       "    <tr>\n",
       "      <th>Republic of Korea</th>\n",
       "      <td>408.935868</td>\n",
       "    </tr>\n",
       "    <tr>\n",
       "      <th>Montserrat</th>\n",
       "      <td>408.935868</td>\n",
       "    </tr>\n",
       "    <tr>\n",
       "      <th>Lao People's Democratic Republic</th>\n",
       "      <td>408.691470</td>\n",
       "    </tr>\n",
       "    <tr>\n",
       "      <th>Vietnam</th>\n",
       "      <td>408.639173</td>\n",
       "    </tr>\n",
       "    <tr>\n",
       "      <th>Japan</th>\n",
       "      <td>408.586088</td>\n",
       "    </tr>\n",
       "    <tr>\n",
       "      <th>Thailand</th>\n",
       "      <td>408.502008</td>\n",
       "    </tr>\n",
       "    <tr>\n",
       "      <th>Bangladesh</th>\n",
       "      <td>408.468565</td>\n",
       "    </tr>\n",
       "    <tr>\n",
       "      <th>Saint Vincent and the Grenadines</th>\n",
       "      <td>408.450675</td>\n",
       "    </tr>\n",
       "  </tbody>\n",
       "</table>\n",
       "</div>\n",
       "    <div class=\"colab-df-buttons\">\n",
       "\n",
       "  <div class=\"colab-df-container\">\n",
       "    <button class=\"colab-df-convert\" onclick=\"convertToInteractive('df-53416142-1456-472b-a9bb-54e00c18e9f0')\"\n",
       "            title=\"Convert this dataframe to an interactive table.\"\n",
       "            style=\"display:none;\">\n",
       "\n",
       "  <svg xmlns=\"http://www.w3.org/2000/svg\" height=\"24px\" viewBox=\"0 -960 960 960\">\n",
       "    <path d=\"M120-120v-720h720v720H120Zm60-500h600v-160H180v160Zm220 220h160v-160H400v160Zm0 220h160v-160H400v160ZM180-400h160v-160H180v160Zm440 0h160v-160H620v160ZM180-180h160v-160H180v160Zm440 0h160v-160H620v160Z\"/>\n",
       "  </svg>\n",
       "    </button>\n",
       "\n",
       "  <style>\n",
       "    .colab-df-container {\n",
       "      display:flex;\n",
       "      gap: 12px;\n",
       "    }\n",
       "\n",
       "    .colab-df-convert {\n",
       "      background-color: #E8F0FE;\n",
       "      border: none;\n",
       "      border-radius: 50%;\n",
       "      cursor: pointer;\n",
       "      display: none;\n",
       "      fill: #1967D2;\n",
       "      height: 32px;\n",
       "      padding: 0 0 0 0;\n",
       "      width: 32px;\n",
       "    }\n",
       "\n",
       "    .colab-df-convert:hover {\n",
       "      background-color: #E2EBFA;\n",
       "      box-shadow: 0px 1px 2px rgba(60, 64, 67, 0.3), 0px 1px 3px 1px rgba(60, 64, 67, 0.15);\n",
       "      fill: #174EA6;\n",
       "    }\n",
       "\n",
       "    .colab-df-buttons div {\n",
       "      margin-bottom: 4px;\n",
       "    }\n",
       "\n",
       "    [theme=dark] .colab-df-convert {\n",
       "      background-color: #3B4455;\n",
       "      fill: #D2E3FC;\n",
       "    }\n",
       "\n",
       "    [theme=dark] .colab-df-convert:hover {\n",
       "      background-color: #434B5C;\n",
       "      box-shadow: 0px 1px 3px 1px rgba(0, 0, 0, 0.15);\n",
       "      filter: drop-shadow(0px 1px 2px rgba(0, 0, 0, 0.3));\n",
       "      fill: #FFFFFF;\n",
       "    }\n",
       "  </style>\n",
       "\n",
       "    <script>\n",
       "      const buttonEl =\n",
       "        document.querySelector('#df-53416142-1456-472b-a9bb-54e00c18e9f0 button.colab-df-convert');\n",
       "      buttonEl.style.display =\n",
       "        google.colab.kernel.accessAllowed ? 'block' : 'none';\n",
       "\n",
       "      async function convertToInteractive(key) {\n",
       "        const element = document.querySelector('#df-53416142-1456-472b-a9bb-54e00c18e9f0');\n",
       "        const dataTable =\n",
       "          await google.colab.kernel.invokeFunction('convertToInteractive',\n",
       "                                                    [key], {});\n",
       "        if (!dataTable) return;\n",
       "\n",
       "        const docLinkHtml = 'Like what you see? Visit the ' +\n",
       "          '<a target=\"_blank\" href=https://colab.research.google.com/notebooks/data_table.ipynb>data table notebook</a>'\n",
       "          + ' to learn more about interactive tables.';\n",
       "        element.innerHTML = '';\n",
       "        dataTable['output_type'] = 'display_data';\n",
       "        await google.colab.output.renderOutput(dataTable, element);\n",
       "        const docLink = document.createElement('div');\n",
       "        docLink.innerHTML = docLinkHtml;\n",
       "        element.appendChild(docLink);\n",
       "      }\n",
       "    </script>\n",
       "  </div>\n",
       "\n",
       "\n",
       "<div id=\"df-62339dee-1dec-4acc-8493-e66af2dbc86d\">\n",
       "  <button class=\"colab-df-quickchart\" onclick=\"quickchart('df-62339dee-1dec-4acc-8493-e66af2dbc86d')\"\n",
       "            title=\"Suggest charts\"\n",
       "            style=\"display:none;\">\n",
       "\n",
       "<svg xmlns=\"http://www.w3.org/2000/svg\" height=\"24px\"viewBox=\"0 0 24 24\"\n",
       "     width=\"24px\">\n",
       "    <g>\n",
       "        <path d=\"M19 3H5c-1.1 0-2 .9-2 2v14c0 1.1.9 2 2 2h14c1.1 0 2-.9 2-2V5c0-1.1-.9-2-2-2zM9 17H7v-7h2v7zm4 0h-2V7h2v10zm4 0h-2v-4h2v4z\"/>\n",
       "    </g>\n",
       "</svg>\n",
       "  </button>\n",
       "\n",
       "<style>\n",
       "  .colab-df-quickchart {\n",
       "      --bg-color: #E8F0FE;\n",
       "      --fill-color: #1967D2;\n",
       "      --hover-bg-color: #E2EBFA;\n",
       "      --hover-fill-color: #174EA6;\n",
       "      --disabled-fill-color: #AAA;\n",
       "      --disabled-bg-color: #DDD;\n",
       "  }\n",
       "\n",
       "  [theme=dark] .colab-df-quickchart {\n",
       "      --bg-color: #3B4455;\n",
       "      --fill-color: #D2E3FC;\n",
       "      --hover-bg-color: #434B5C;\n",
       "      --hover-fill-color: #FFFFFF;\n",
       "      --disabled-bg-color: #3B4455;\n",
       "      --disabled-fill-color: #666;\n",
       "  }\n",
       "\n",
       "  .colab-df-quickchart {\n",
       "    background-color: var(--bg-color);\n",
       "    border: none;\n",
       "    border-radius: 50%;\n",
       "    cursor: pointer;\n",
       "    display: none;\n",
       "    fill: var(--fill-color);\n",
       "    height: 32px;\n",
       "    padding: 0;\n",
       "    width: 32px;\n",
       "  }\n",
       "\n",
       "  .colab-df-quickchart:hover {\n",
       "    background-color: var(--hover-bg-color);\n",
       "    box-shadow: 0 1px 2px rgba(60, 64, 67, 0.3), 0 1px 3px 1px rgba(60, 64, 67, 0.15);\n",
       "    fill: var(--button-hover-fill-color);\n",
       "  }\n",
       "\n",
       "  .colab-df-quickchart-complete:disabled,\n",
       "  .colab-df-quickchart-complete:disabled:hover {\n",
       "    background-color: var(--disabled-bg-color);\n",
       "    fill: var(--disabled-fill-color);\n",
       "    box-shadow: none;\n",
       "  }\n",
       "\n",
       "  .colab-df-spinner {\n",
       "    border: 2px solid var(--fill-color);\n",
       "    border-color: transparent;\n",
       "    border-bottom-color: var(--fill-color);\n",
       "    animation:\n",
       "      spin 1s steps(1) infinite;\n",
       "  }\n",
       "\n",
       "  @keyframes spin {\n",
       "    0% {\n",
       "      border-color: transparent;\n",
       "      border-bottom-color: var(--fill-color);\n",
       "      border-left-color: var(--fill-color);\n",
       "    }\n",
       "    20% {\n",
       "      border-color: transparent;\n",
       "      border-left-color: var(--fill-color);\n",
       "      border-top-color: var(--fill-color);\n",
       "    }\n",
       "    30% {\n",
       "      border-color: transparent;\n",
       "      border-left-color: var(--fill-color);\n",
       "      border-top-color: var(--fill-color);\n",
       "      border-right-color: var(--fill-color);\n",
       "    }\n",
       "    40% {\n",
       "      border-color: transparent;\n",
       "      border-right-color: var(--fill-color);\n",
       "      border-top-color: var(--fill-color);\n",
       "    }\n",
       "    60% {\n",
       "      border-color: transparent;\n",
       "      border-right-color: var(--fill-color);\n",
       "    }\n",
       "    80% {\n",
       "      border-color: transparent;\n",
       "      border-right-color: var(--fill-color);\n",
       "      border-bottom-color: var(--fill-color);\n",
       "    }\n",
       "    90% {\n",
       "      border-color: transparent;\n",
       "      border-bottom-color: var(--fill-color);\n",
       "    }\n",
       "  }\n",
       "</style>\n",
       "\n",
       "  <script>\n",
       "    async function quickchart(key) {\n",
       "      const quickchartButtonEl =\n",
       "        document.querySelector('#' + key + ' button');\n",
       "      quickchartButtonEl.disabled = true;  // To prevent multiple clicks.\n",
       "      quickchartButtonEl.classList.add('colab-df-spinner');\n",
       "      try {\n",
       "        const charts = await google.colab.kernel.invokeFunction(\n",
       "            'suggestCharts', [key], {});\n",
       "      } catch (error) {\n",
       "        console.error('Error during call to suggestCharts:', error);\n",
       "      }\n",
       "      quickchartButtonEl.classList.remove('colab-df-spinner');\n",
       "      quickchartButtonEl.classList.add('colab-df-quickchart-complete');\n",
       "    }\n",
       "    (() => {\n",
       "      let quickchartButtonEl =\n",
       "        document.querySelector('#df-62339dee-1dec-4acc-8493-e66af2dbc86d button');\n",
       "      quickchartButtonEl.style.display =\n",
       "        google.colab.kernel.accessAllowed ? 'block' : 'none';\n",
       "    })();\n",
       "  </script>\n",
       "</div>\n",
       "    </div>\n",
       "  </div>\n"
      ],
      "text/plain": [
       "                                         co2\n",
       "name                                        \n",
       "Taiwan                            409.149043\n",
       "Guadeloupe                        409.149043\n",
       "Republic of Korea                 408.935868\n",
       "Montserrat                        408.935868\n",
       "Lao People's Democratic Republic  408.691470\n",
       "Vietnam                           408.639173\n",
       "Japan                             408.586088\n",
       "Thailand                          408.502008\n",
       "Bangladesh                        408.468565\n",
       "Saint Vincent and the Grenadines  408.450675"
      ]
     },
     "execution_count": 11,
     "metadata": {},
     "output_type": "execute_result"
    }
   ],
   "source": [
    "# We are calling the function to tell us how much co2 is in each country\n",
    "# This function takes a while to run, be patient\n",
    "c_vals = country_clipped_averages(co2_data, gdf_boundaries);\n",
    "\n",
    "# sort values and look at the top 10 countries\n",
    "c_vals.sort_values('co2',ascending=False).head(10)"
   ]
  },
  {
   "cell_type": "markdown",
   "metadata": {
    "id": "y2PEQ9Oz-g1v"
   },
   "source": [
    "The following code cell plots these values"
   ]
  },
  {
   "cell_type": "code",
   "execution_count": null,
   "metadata": {
    "colab": {
     "base_uri": "https://localhost:8080/",
     "height": 261
    },
    "executionInfo": {
     "elapsed": 1341,
     "status": "ok",
     "timestamp": 1705605012553,
     "user": {
      "displayName": "Anne Kroo",
      "userId": "01335049978940707144"
     },
     "user_tz": 480
    },
    "id": "awoNoYv2-fot",
    "outputId": "7fb9859f-db76-4d44-bf0a-cbe0c401bf55"
   },
   "outputs": [
    {
     "data": {
      "image/png": "[encoded data removed]",
      "text/plain": [
       "<Figure size 640x480 with 1 Axes>"
      ]
     },
     "metadata": {},
     "output_type": "display_data"
    }
   ],
   "source": [
    "#add average co2 values to the geospatial dataframe\n",
    "gdf_boundaries.insert(0, 'co2', c_vals['co2'])\n",
    "\n",
    "#plot all countries with the color corresponding to the co2 average value for that country\n",
    "gdf_boundaries.plot(column='co2', cmap='hot_r');"
   ]
  },
  {
   "cell_type": "markdown",
   "metadata": {
    "id": "6vTcQwPi2aJU"
   },
   "source": [
    "##### **g)** Another approach is to look at the change of co2 over time over a country. Make a trend map of the co2 concentration that shows how the concentration of co2 is changing at each location in the world. (Use the toolbox to do this)"
   ]
  },
  {
   "cell_type": "markdown",
   "metadata": {
    "id": "LgZLvTn51ZOj"
   },
   "source": [
    "##**After Class Assignment**"
   ]
  },
  {
   "cell_type": "markdown",
   "metadata": {
    "id": "4fdAtlAv3B32"
   },
   "source": [
    "##### **a)** Compare the sattelitte data nearest to Mauna Loa to your findings from assignment 2 by plotting that pixel over time on the same plot as the monthly co2 data from the NOAA dataset (Mauna Loa). Plot only the years of Mauna Loa data that are also covered by the sattelite data.\n",
    "Hint: To do this you will have to look up the lat/lon coordinates of Mauna Loa"
   ]
  },
  {
   "cell_type": "markdown",
   "metadata": {
    "id": "kGJKmQFi3Ogb"
   },
   "source": [
    "##### **b)** Describe the differences and similarities observed in part a. What do you think causes these differences? Spend 10-15 minutes digging into how the sattelite data is collected and processed. Why do you think there are differences between the sattelite and ground based measurements? Which one is more \"correct\" and why? Do you believe the sattelite data to be an accurate indication of the co2 given what you observe?\n",
    "(write the equivelent of 1 page on these topics)"
   ]
  },
  {
   "cell_type": "markdown",
   "metadata": {
    "id": "mGWtFrdr8RYu"
   },
   "source": [
    "##### **bonus:** If you want to learn more about how what you have done in this assignment relates to how atmospheric scientists are attempting exactly what you have described and investigated in this assignment check out the following links. I reccomend at least reading the first one.\n",
    "\n",
    "1. General audience press release about JPL's conclusions about carbon emissions by country: https://www.jpl.nasa.gov/news/nasa-space-mission-takes-stock-of-carbon-dioxide-emissions-by-countries\n",
    "\n",
    "2. Intermediate step in the data analysis where they have included bottom up information and describe how they use it: https://ceos.org/gst/carbon-dioxide.html\n",
    "\n",
    "3. Scientific paper describing thouroughly the methods and approaches used with description of the tradeoffs made: https://essd.copernicus.org/articles/15/963/2023/"
   ]
  },
  {
   "cell_type": "code",
   "execution_count": null,
   "metadata": {
    "id": "SkwMCipe909t"
   },
   "outputs": [],
   "source": []
  }
 ],
 "metadata": {
  "colab": {
   "provenance": []
  },
  "kernelspec": {
   "display_name": "Python 3 (ipykernel)",
   "language": "python",
   "name": "python3"
  },
  "language_info": {
   "codemirror_mode": {
    "name": "ipython",
    "version": 3
   },
   "file_extension": ".py",
   "mimetype": "text/x-python",
   "name": "python",
   "nbconvert_exporter": "python",
   "pygments_lexer": "ipython3",
   "version": "3.9.6"
  }
 },
 "nbformat": 4,
 "nbformat_minor": 4
}
