{
  "cells": [
    {
      "cell_type": "markdown",
      "metadata": {
        "id": "view-in-github",
        "colab_type": "text"
      },
      "source": [
        "<a href=\"https://colab.research.google.com/github/envgp/taking_the_pulse_of_the_planet/blob/main/notebooks/pulse_assignment_6.ipynb\" target=\"_parent\"><img src=\"https://colab.research.google.com/assets/colab-badge.svg\" alt=\"Open In Colab\"/></a>"
      ]
    },
    {
      "cell_type": "markdown",
      "id": "71db3bcb-0df5-4cf6-b6ab-8d9d089d060d",
      "metadata": {
        "id": "71db3bcb-0df5-4cf6-b6ab-8d9d089d060d"
      },
      "source": [
        "# Assignment 6: Taking the Pulse of Groundwater Systems - California's Central Valley\n",
        "\n",
        "Michael Morphew (mmorphew@stanford.edu), Seogi Kang (sgkang09@stanford.edu) & Rosemary Knight (rknight@stanford.edu), Stanford Environmental Geophysics Group\n",
        "\n",
        "This assignment is due `2023-03-02`. Please put your answers within this notebook and share the completed notebook with sgkang09@stanford.edu and mmorphew@stanford.edu using the Share banner located at the top right corner of this notebook. When sharing your notebook, please change the name of the notebook and add your name and sunetid (e.g., pulse_assignment_6_firstname_lastname_sunetid.ipynb)\n",
        "\n",
        "## INTRODUCTION TO THE ASSIGNMENT\n",
        "\n",
        "This week, we will explore the groundwater systems of California's Central Valley, one of the most productive agricultural regions in the world. We will first focus on the impact that climate change is having on groundwater supply, and then explore the use of a satellite data set to \"take the pulse\" of the groundwater systems. \n",
        "\n",
        "Data sets used this assignment are: 1) precipitation; 2) temperature; 3) SWE (snow water equivalent) providing mass of snow/ice/water; 4) drought intensity; 5) InSAR (interferometric synthetic aperture radar) providing surface deformation. \n",
        "\n",
        "You may recall that we have already previously used a precipitation and temperature dataset, but those global datasets had resolutions of 1 degree by 1 degree. Now that we are zoomed into the Central Valley, we will need new temperature and precipitation data with a higher spatial resolution, described below.\n",
        "\n",
        "Here is a brief description of each dataset:\n",
        "\n",
        "### Daily Precipitation\n",
        "\n",
        "Time period: 2015-2019\n",
        "\n",
        "Temporal Resolution: Daily\n",
        "\n",
        "Spatial Extent: Contiguous United States\n",
        "\n",
        "Spatial Resolution: 1 degree\n",
        "\n",
        "Unit: mm\n",
        "\n",
        "GRIDMET combines ground-based data with a land surface model to create a blended dataset with high spatial and temporal resolution. It was developed by the University of Idaho because the land surface models had good temporal resolution but bad spatial resolution, while the ground-based data had \"good\" (compared to the land surface model) spatial coverage but bad temporal resolution. By combining the two, GRIDMET attempts to have the best qualities of both. The precipitation data sums all rainfall in a given day.\n",
        "\n",
        "### Max Daily Land Surface Temperature\n",
        "\n",
        "Time Period: 2015-2019\n",
        "\n",
        "Temporal Resolution: Daily\n",
        "\n",
        "Spatial Extent: Contiguous United States\n",
        "\n",
        "Spatial Resolution: 4 km\n",
        "\n",
        "Unit: Kelvin\n",
        "\n",
        "The temperature data also comes from GRIDMET. The temperature dataset here describes the maximum temperature in a pixel on a given day. More about GRIDMET is described here: https://www.climatologylab.org/gridmet.html\n",
        "\n",
        "### Snow Water Equivalent (SWE)\n",
        "Time Period: 2000-2019\n",
        "\n",
        "Spatial Extent of Data: Sierra Nevada\n",
        "\n",
        "Spatial Resolution: ~500 m\n",
        "\n",
        "Temporal Resolution: Monthly\n",
        "\n",
        "Units: mm\n",
        "\n",
        "Obtaining a value for SWE involves first calculating the volume of snow, then using an estimate of the density of the snow to calculate the equivalent amount of water; i.e. the amount of water that will be produced when the snow melts. Getting the volume of snow uses information about the spatial coverage of the snow from images (e.g., MODIS Snow-Covered Area and Grain size) and about the depth from ground-based measurements. Further details about this data set can be found at the following link: https://doi.org/10.1002/wrcr.20387.\n",
        "\n",
        "Additional information can be found at:\n",
        "Schneider, D. and Molotch, N.P., 2016. Real‐time estimation of snow water equivalent in the Upper Colorado River Basin using MODIS‐based SWE Reconstructions and SNOTEL data. Water resources research, 52(10), pp.7892-7910.\n",
        "\n",
        "### Drought intensity\n",
        "Time Period: 2000-2019\n",
        "\n",
        "Spatial Extent of Data: Central Valley\n",
        "\n",
        "Spatial Resolution: Variable\n",
        "\n",
        "Temporal Resolution: Weekly\n",
        "\n",
        "The U.S. Drought Monitor (USDM) classifies the intensity of droughts based on a weighted average of 5 factors which are the Palmer Drought Severity Index, CPC Soil Moisture Model, USGS Weekly Streamflow, Standardized Precipitation Index and an Object Drought Indicator. They also determine whether the physical effects from the drought are short term (less than 6 months), long term (greater than 6 months), or a combination of long- and short-term effects in a region. The intensity of the drought from USDM provides insight on the big picture of current drought conditions. Further details about USDM and their datasets can be found here: https://droughtmonitor.unl.edu/About/WhatistheUSDM.aspx \n",
        "\n",
        "\n",
        "###InSAR\n",
        "\n",
        "Time Period: 2015-2019\n",
        "\n",
        "Spatial Extent: Central Valley\n",
        "\n",
        "Spatial Resolution: 1 km\n",
        "\n",
        "Temporal Resolution: Weekly\n",
        "\n",
        "Units: mm\n",
        "\n",
        "Interferometric synthetic aperture radar (InSAR) data measure the phase difference of the electromagnetic waves transmitted from the satellite to the ground surface at different times. With sophisticated processing, time-series of surface deformation is obtained with about 6-7 days of temporal resolution and about 20-100 m spatial resolution.  Recall from class that deformation in the Central Valley can have two causes – loading due to the mass of snow/ice and a poroelastic response to changes in the groundwater held in the pore space.\n",
        "\n",
        "The InSAR data you will work with were gridded onto a uniform grid with a cell size about 1 km x 1 km. Further details of these InSAR data can be found at the following link: https://data.cnra.ca.gov/dataset/tre-altamira-insar-subsidence.\n",
        "\n",
        "## The Learning Goals for the week: (where the course learning goals are in plain text, and the focus this week is in italics)\n",
        "\n",
        "Students will:\n",
        "\n",
        "● learn about the ways in which climate change and human activity are impacting planet Earth, *with a focus this week on groundwater and the specific example of California's Central Valley.*\n",
        "\n",
        "● become familiar with the wide range of sensors available to study various components of the Earth system. These include sensors on satellites, aircraft, ground-based platforms, and deployed above or beneath the surface on land or water. *This week we will work with data acquired using satellite systems and ground based (snow observations).* \n",
        "\n",
        "● become familiar with the basic physical principles (resolution, sampling, processing workflows, etc.) common to all sensors, *working this week with data sets all of which differ in terms of resolution, sampling, and processing workflows.*\n",
        "\n",
        "● work with various sources of data, learning how to access, analyze, synthesize, and describe the data to quantify trends; think critically and creatively about how to project these trends into the future. *This week we will consider trends in the data that reveal periods of drought, develop a way to classify the data, compare the data in different geographic regions, and determine causal links between various data sets.*\n",
        "\n",
        "● describe the complex interactions between human activity and various components of the Earth system. This week a key question in the lecture was: what is the primary driver in terms of changes in the groundwater system - climate change or human activity? *In this assignment we will observe, in the data, the impact of climate change on precipitation and SWE, and the combined impact of climate change and groundwater pumping on the groundwater system, as revealed in the InSAR data.*\n",
        "\n",
        "● become motivated to think about new sensors and new ways of using sensor data to study the planet. This is always the last question in each assignment.\n",
        "\n",
        "## OVERVIEW OF THE ASSIGNMENT\n",
        "\n",
        "*I Drought Intensity* - Drought is defined as a moisture deficit serious enough to have social, environmental or economic effects. Drought causes a decrease in the availability of surface water so can drive the excessive pumping of groundwater. We will first review the precipitation, snow-water-equivalent, and temperature data, and determine how/if these parameters are useful predictors of drought. For comparison we have the US Drought Monitor. We will be able to see the changes occurring in the Central Valley which will impact groundwater, given the demands for irrigation.\n",
        "\n",
        "*II Taking the Pulse of the Groundwater Systems* - We will then look at deformation of the ground surface - can this be used as a way to monitor the health of the groundwater systems, or as an \"early warning system\" for depletion of the groundwater system? Can deformation provide information about SWE? – critical to predicting the availability of surface water in the state over the following spring/summer/fall.\n",
        "\n",
        "*III Taking the Pulse in the Future* – We conclude with the usual question – what’s next?\n",
        "\n",
        "We will guide you through parts of the assignment that introduce new dataset types and tools. This week, we will look at max plots, mean plots, loading in shapefiles, plotting shapefile data, and how to threshold gridded xarray data. \n",
        "\n",
        "Some questions will ask you directly to do something, such as make a plot. Other questions will be open-ended and ask you to consider the implications of the data you're seeing. For these open-ended questions, you are welcome to create additional plots beyond the ones we ask. You are empowered at this point to use any tool from this course to help you understand the data.\n",
        "\n",
        "## THE ASSIGNMENT\n",
        "\n",
        "We first need to download all of the data sets that you will work with as well as install the requisite Python packages. (precipitation (2002-2019), SWE (2002-2019), temperature (what exactly do we want? 2002-2019), drought intensity (2000-2022), InSAR (2015-2019))\n",
        "\n",
        "\n"
      ]
    },
    {
      "cell_type": "markdown",
      "id": "-m6xa8ngxw4p",
      "metadata": {
        "id": "-m6xa8ngxw4p"
      },
      "source": [
        "## Download required data and install Packages"
      ]
    },
    {
      "cell_type": "code",
      "execution_count": null,
      "id": "uSVGIEIBxzN9",
      "metadata": {
        "id": "uSVGIEIBxzN9"
      },
      "outputs": [],
      "source": [
        "!pip install xarray numpy pandas geopandas cartopy==0.19.0.post1 rioxarray ipywidgets "
      ]
    },
    {
      "cell_type": "code",
      "execution_count": null,
      "id": "QMSglX9Fx4Ol",
      "metadata": {
        "id": "QMSglX9Fx4Ol"
      },
      "outputs": [],
      "source": [
        "!pip uninstall -y shapely"
      ]
    },
    {
      "cell_type": "code",
      "execution_count": null,
      "id": "qA8L_X7Dx6la",
      "metadata": {
        "id": "qA8L_X7Dx6la"
      },
      "outputs": [],
      "source": [
        "!pip install shapely --no-binary shapely"
      ]
    },
    {
      "cell_type": "code",
      "execution_count": null,
      "id": "_PPFda01x9K3",
      "metadata": {
        "id": "_PPFda01x9K3"
      },
      "outputs": [],
      "source": [
        "!git clone https://premonition.stanford.edu/mmorphew/taking-the-pulse-drought.git"
      ]
    },
    {
      "cell_type": "code",
      "execution_count": null,
      "id": "aZ1qDjMSx9gB",
      "metadata": {
        "id": "aZ1qDjMSx9gB"
      },
      "outputs": [],
      "source": [
        "!git clone https://premonition.stanford.edu/sgkang09/taking_the_pulse_data.git"
      ]
    },
    {
      "cell_type": "code",
      "execution_count": null,
      "id": "xWJExQvxyG28",
      "metadata": {
        "id": "xWJExQvxyG28"
      },
      "outputs": [],
      "source": [
        "import numpy as np\n",
        "import xarray as xr\n",
        "import pandas as pd\n",
        "import geopandas as gpd\n",
        "import matplotlib.pyplot as plt\n",
        "import matplotlib.dates as mdates\n",
        "from matplotlib import colors\n",
        "import matplotlib\n",
        "import cartopy.crs as ccrs\n",
        "import cartopy.feature as cf\n",
        "import datetime\n",
        "import rioxarray\n",
        "from shapely.geometry import mapping\n",
        "matplotlib.rcParams['font.size'] = 14\n",
        "from ipywidgets import widgets, interact"
      ]
    },
    {
      "cell_type": "code",
      "execution_count": null,
      "id": "W3mC54WFghIE",
      "metadata": {
        "id": "W3mC54WFghIE"
      },
      "outputs": [],
      "source": [
        "#time-series of drought index for Central Valley, Sacramento Valley and San Joaquin Valley\n",
        "df_ts = pd.read_csv(\"taking-the-pulse-drought/Drought_Time_Series.csv\")\n",
        "#GeoDataFrame of Map Data for Drought Index\n",
        "gdf_map = gpd.read_file(\"taking-the-pulse-drought/Drought_Map/Drought_Map.shp\")\n",
        "#GeoDataFrame of Central Valley Boundary\n",
        "gdf_cv = gpd.read_file(\"taking-the-pulse-drought/cv/cv.shp\").to_crs(4326)\n",
        "#GeoDataFrame of California Boundary\n",
        "gdf_ca = gpd.read_file(\"taking-the-pulse-drought/ca-state-boundary/CA_State_TIGER2016.shp\").to_crs(4326)\n",
        "gdf_gw_basin = gpd.read_file(\"taking_the_pulse_data/data/cv_gw_basins.geojson\").to_crs(4326)\n",
        "\n",
        "#GeoDataFrame of the San Joaquin Valley\n",
        "geom_sjv = gdf_gw_basin[gdf_gw_basin['Basin_Name']=='SAN JOAQUIN VALLEY'].geometry.buffer(0.01).unary_union.buffer(-0.01)\n",
        "df = pd.DataFrame({'name': ['SAN JOAQUIN VALLEY']})\n",
        "gdf_sjv = gpd.GeoDataFrame(df, geometry=[geom_sjv], crs=4326)\n",
        "\n",
        "#GeoDataFrame of the Sacramento Valley\n",
        "geom_sv = gdf_gw_basin[gdf_gw_basin['Basin_Name']=='SACRAMENTO VALLEY'].geometry.buffer(0.01).unary_union.buffer(-0.01)\n",
        "df = pd.DataFrame({'name': ['SACRAMENTO VALLEY']})\n",
        "gdf_sv = gpd.GeoDataFrame(df, geometry=[geom_sv], crs=4326)"
      ]
    },
    {
      "cell_type": "markdown",
      "id": "mLpbcBzqpDBW",
      "metadata": {
        "id": "mLpbcBzqpDBW"
      },
      "source": [
        "##I Drought Intensity"
      ]
    },
    {
      "cell_type": "markdown",
      "id": "ZuqX9MzHpHpL",
      "metadata": {
        "id": "ZuqX9MzHpHpL"
      },
      "source": [
        "### IA Precipitation, SWE, and Temperature Data – Indicators of Drought?\n",
        "\n",
        "We have previously worked with P and T data. This week we will also use snow water equivalent (SWE) data. "
      ]
    },
    {
      "cell_type": "markdown",
      "id": "kjtqoQz6Gg0c",
      "metadata": {
        "id": "kjtqoQz6Gg0c"
      },
      "source": [
        "#### Q IA-i\n",
        "\n",
        "We are going to explore the demand of water in the Central Valley by visualizing the P and T data. For each of the P and T data sets, calculate the mean value of each pixel in time, and plot the resulting mean values on a 2D map; this referred to as a mean map. Add the boundary of the Central Valley in the plot. Describe the major trends that you observed. Based upon your observations what can you infer about the water demand in the Central Valley?  \n",
        "\n",
        "This question will be partially guided, as a warm-up."
      ]
    },
    {
      "cell_type": "code",
      "execution_count": null,
      "id": "b-xS8X-0GgHt",
      "metadata": {
        "id": "b-xS8X-0GgHt"
      },
      "outputs": [],
      "source": [
        "# Temperature and Precipitation data\n",
        "temp_precip_data = xr.load_dataset(\"./taking-the-pulse-drought/CONUS_precip_and_temp.nc\")\n",
        "\n",
        "# Pulling out values within the Central Valley. \n",
        "temp_precip_data.rio.write_crs(4326, inplace=True)\n",
        "temp_precip_data.rio.set_spatial_dims(x_dim=\"x\", y_dim=\"y\", inplace=True)\n",
        "temp_precip_data_cv = temp_precip_data.rio.clip(gdf_cv.geometry.apply(mapping), gdf_cv.crs, drop=True)\n",
        "del temp_precip_data"
      ]
    },
    {
      "cell_type": "code",
      "source": [
        "temp_precip_data_cv"
      ],
      "metadata": {
        "id": "NJvYizTINIS3"
      },
      "id": "NJvYizTINIS3",
      "execution_count": null,
      "outputs": []
    },
    {
      "cell_type": "code",
      "execution_count": null,
      "id": "2eb0f759",
      "metadata": {
        "id": "2eb0f759"
      },
      "outputs": [],
      "source": [
        "xmin, xmax = -122.62822, -117.580471\n",
        "ymin, ymax = 34.910146, 40.682112"
      ]
    },
    {
      "cell_type": "markdown",
      "id": "b45a7131",
      "metadata": {
        "id": "b45a7131"
      },
      "source": [
        "Let's start by plotting the mean map of P."
      ]
    },
    {
      "cell_type": "code",
      "execution_count": null,
      "id": "ejnJOMQn46BN",
      "metadata": {
        "id": "ejnJOMQn46BN"
      },
      "outputs": [],
      "source": [
        "fig, ax = plt.subplots(1,1, figsize=(10, 10))\n",
        "### does your colormap make sense? Is your vmin/vmax set reasonably?\n",
        "temp_precip_data_cv.mean(dim=['time'])['pr'].plot(ax=ax, cmap='viridis_r', vmax=2.5, vmin=0.5)\n",
        "gdf_cv.boundary.plot(ax=ax, color='k')\n",
        "ax.set_xlim(xmin, xmax)\n",
        "ax.set_ylim(ymin, ymax)\n",
        "ax.set_aspect(1)"
      ]
    },
    {
      "cell_type": "markdown",
      "id": "2cd65551",
      "metadata": {
        "id": "2cd65551"
      },
      "source": [
        "Fill in the below cell to plot the mean map of T."
      ]
    },
    {
      "cell_type": "code",
      "execution_count": null,
      "id": "76wrNaWi7HEW",
      "metadata": {
        "id": "76wrNaWi7HEW"
      },
      "outputs": [],
      "source": [
        "# your code here"
      ]
    },
    {
      "cell_type": "markdown",
      "source": [
        "**your answers here**"
      ],
      "metadata": {
        "id": "ewmmjX1nR2wh"
      },
      "id": "ewmmjX1nR2wh"
    },
    {
      "cell_type": "markdown",
      "id": "Ch-adJK6Gsnv",
      "metadata": {
        "id": "Ch-adJK6Gsnv"
      },
      "source": [
        "#### Q IA-ii\n",
        "Now let's work with the SWE data. Snow melt water is a major source of the surface water in the Central Valley. Snow forms in the winter season (or dry season) then melts in the summer season (or wet season) and fills in the reservoirs.\n",
        "\n",
        "\n",
        "Calculate the maximum value of each pixel in time, and plot the resulting max values for each pixel on a 2D map; this referred to as a maximum map. In your plot, include the outline of the central valley, defined in this notebook as `gdf_cv` (see the previous question for a refresher on plotting boundaries). \n",
        "\n",
        "Second, calculate the total SWE time-series, which is the sum of all SWE values at each time multiplied by an area of a pixel; plot the total SWE time-series. For a ~20-year time span, threshold the data and determine how many years were there where the peak total SWE was greater than 40 km^3. [This second question will be partially guided.]"
      ]
    },
    {
      "cell_type": "code",
      "execution_count": null,
      "id": "b7b01d73",
      "metadata": {
        "id": "b7b01d73"
      },
      "outputs": [],
      "source": [
        "# SWE data\n",
        "swe_data = xr.load_dataset(\"./taking_the_pulse_data/data/swe_data.nc\")"
      ]
    },
    {
      "cell_type": "code",
      "source": [
        "swe_data"
      ],
      "metadata": {
        "id": "Cu-LI3RuNGLv"
      },
      "id": "Cu-LI3RuNGLv",
      "execution_count": null,
      "outputs": []
    },
    {
      "cell_type": "markdown",
      "id": "a6d39787",
      "metadata": {
        "id": "a6d39787"
      },
      "source": [
        "Fill in the below cell to plot the maximum map of the SWE data. You calculated the mean for precipitation and temperature above using the `mean` function. The maximum can instead be calculated with `max`."
      ]
    },
    {
      "cell_type": "code",
      "execution_count": null,
      "id": "29162050",
      "metadata": {
        "id": "29162050"
      },
      "outputs": [],
      "source": [
        "# your code here"
      ]
    },
    {
      "cell_type": "markdown",
      "id": "1e840930",
      "metadata": {
        "id": "1e840930"
      },
      "source": [
        "Let's calculate the total SWE time-series and plot. "
      ]
    },
    {
      "cell_type": "code",
      "execution_count": null,
      "id": "IphMNRuqF8To",
      "metadata": {
        "id": "IphMNRuqF8To"
      },
      "outputs": [],
      "source": [
        "### let's convert to km^3\n",
        "area_pixel_swe = (462.5)**2\n",
        "# sum the swe_data spatially to create a 1D time series\n",
        "swe_data_summed = swe_data.sum(['lat','lon']) * area_pixel_swe / 1e9"
      ]
    },
    {
      "cell_type": "code",
      "execution_count": null,
      "id": "Ho-nDmQ1pjcb",
      "metadata": {
        "id": "Ho-nDmQ1pjcb"
      },
      "outputs": [],
      "source": [
        "# your code here: plot the time-series"
      ]
    },
    {
      "cell_type": "markdown",
      "id": "7ea07911",
      "metadata": {
        "id": "7ea07911"
      },
      "source": [
        "How many years were there where the peak total SWE was greater than 40 km^3? This can be answered using your plot, but we will also show how to threshold data. Thresholding data can help you identify extreme values and filter your data.\n",
        "\n",
        "**your answer here**"
      ]
    },
    {
      "cell_type": "code",
      "execution_count": null,
      "id": "MfjBkIS3kTyJ",
      "metadata": {
        "id": "MfjBkIS3kTyJ"
      },
      "outputs": [],
      "source": [
        "### we can query our data for where SWE is greater than 40\n",
        "### anything that is below 40 is changed to a NaN (not a number)\n",
        "swe_thresholded = swe_data_summed.where(swe_data_summed['swe']>40)\n",
        "### and we can then remove everything else by dropping the NaNs\n",
        "swe_thresholded = swe_thresholded.dropna(dim='time', how='any')\n",
        "### then we can print out the unique years\n",
        "pd.to_datetime(swe_thresholded.time.data).year.unique()"
      ]
    },
    {
      "cell_type": "markdown",
      "id": "xYWMHT5AGwng",
      "metadata": {
        "id": "xYWMHT5AGwng"
      },
      "source": [
        "#### GOLD STAR BONUS - Q\n",
        "Explore various ways of analyzing the P, SWE, and T data to identify periods of drought. Produce a time-series labelled to show periods of drought. Can you develop a classification scheme using the P, SWE, and T data?"
      ]
    },
    {
      "cell_type": "code",
      "execution_count": null,
      "id": "q9SNRZkgGxkE",
      "metadata": {
        "id": "q9SNRZkgGxkE"
      },
      "outputs": [],
      "source": [
        "### Place your code and answers here. \n",
        "### You may use as many additional code cells and text cells as you desire."
      ]
    },
    {
      "cell_type": "markdown",
      "id": "mWd_-QVnHHEQ",
      "metadata": {
        "id": "mWd_-QVnHHEQ"
      },
      "source": [
        "### IB Comparison to the US Drought Monitor\n",
        "\n",
        "Compare your periods of drought to what is seen in the maps of Drought Intensity provided by the US Drought Monitor. The US Drought Monitor maps out the parameter referred to as Drought Intensity. Further details about the Drought Monitor can be found at: https://droughtmonitor.unl.edu/About/WhatistheUSDM.aspx \n",
        "\n",
        "The form of drought intensity data that we will work with is a time-series at the scale of the Central Valley with a temporal resolution of 6 days, as well as a shapefile containing spatial information about the drought index throughout California at a few different time samples. Because we haven't covered how to load and plot shapefiles yet, this section's code is provided so you can focus on the analysis and questions.\n"
      ]
    },
    {
      "cell_type": "markdown",
      "id": "MVepMuJLpiTd",
      "metadata": {
        "id": "MVepMuJLpiTd"
      },
      "source": [
        "#### Q IB-i\n",
        "\"Big picture\" - what are the major featured/trends that you see in the drought intensity time-series for the entire Central Valley? (max 3 line answer)\n"
      ]
    },
    {
      "cell_type": "code",
      "execution_count": null,
      "id": "RybzAyuv0PcS",
      "metadata": {
        "id": "RybzAyuv0PcS"
      },
      "outputs": [],
      "source": [
        "#time-series of drought index for Central Valley, Sacramento Valley and San Joaquin Valley\n",
        "df_ts = pd.read_csv(\"taking-the-pulse-drought/Drought_Time_Series.csv\")\n",
        "df_ts['Time'] = pd.to_datetime(df_ts['Week'])\n",
        "#GeoDataFrame of Map Data for Drought Index\n",
        "gdf_map = gpd.read_file(\"taking-the-pulse-drought/Drought_Map/Drought_Map.shp\")\n",
        "#GeoDataFrame of Central Valley Boundary\n",
        "gdf_cv = gpd.read_file(\"taking-the-pulse-drought/cv/cv.shp\").to_crs(4326)\n",
        "#GeoDataFrame of California Boundary\n",
        "gdf_ca = gpd.read_file(\"taking-the-pulse-drought/ca-state-boundary/CA_State_TIGER2016.shp\").to_crs(4326)"
      ]
    },
    {
      "cell_type": "code",
      "execution_count": null,
      "id": "ce6fe5e1",
      "metadata": {
        "id": "ce6fe5e1"
      },
      "outputs": [],
      "source": [
        "#Divide Data Frame into SJV, SV, and CV\n",
        "df_SJV = df_ts[df_ts.Loc == 'SJ_Valley']\n",
        "df_SV = df_ts[df_ts.Loc == 'Sacramento_Valley']\n",
        "df_CV = df_ts[df_ts.Loc == \"Central_Valley\"]"
      ]
    },
    {
      "cell_type": "code",
      "execution_count": null,
      "id": "21f05164",
      "metadata": {
        "id": "21f05164"
      },
      "outputs": [],
      "source": [
        "fig, ax = plt.subplots(1, 1, figsize = (10, 3))\n",
        "df_CV.plot(x='Time', y='DSCI', ax=ax, label='CV')\n",
        "df_SV.plot(x='Time', y='DSCI', ax=ax, label='SJV')\n",
        "df_SJV.plot(x='Time', y='DSCI', ax=ax, label='SV')\n",
        "ax.legend(loc=1)\n",
        "ax.set_title(\"DSCI\")\n",
        "fig.autofmt_xdate()"
      ]
    },
    {
      "cell_type": "markdown",
      "id": "55be4915",
      "metadata": {
        "id": "55be4915"
      },
      "source": [
        "**your answer here**"
      ]
    },
    {
      "cell_type": "markdown",
      "id": "n6xd6NyLH_Nl",
      "metadata": {
        "id": "n6xd6NyLH_Nl"
      },
      "source": [
        "#### Q IB-ii\n",
        "\n",
        "We have provided some snapshots in time of the spatial distribution of the drought index. Looking in more detail - what spatial and temporal variation do you see? (Recall that the northern part of the Central Valley is in the Sacramento Valley [SC] and the southern part of the Central Valley in the San Joaquin Valley [SJV])"
      ]
    },
    {
      "cell_type": "code",
      "execution_count": null,
      "id": "NxMDyU3cIAw5",
      "metadata": {
        "id": "NxMDyU3cIAw5"
      },
      "outputs": [],
      "source": [
        "#plotting function for Maps\n",
        "def plot_gdf(gdf, date, i,j):\n",
        "    gdf = gdf[gdf.Date == date]\n",
        "    gdf.plot(column = 'DM', ax = ax[i,j],   cmap='YlOrRd', legend=True, vmin = 0, vmax = 4)\n",
        "    ax[i,j].set_title(\"Drought Intensity on \"+ date)\n",
        "    ax[i,j].set_xlabel(\"Longitude\")\n",
        "    ax[i,j].set_ylabel(\"Latitude\")\n",
        "    ### these lines of code plot the boundaries of california and the central valley\n",
        "    gdf_ca.boundary.plot(ax=ax[i,j], color = 'black', label = 'California')\n",
        "    gdf_cv.boundary.plot(ax=ax[i,j], color = 'blue', label = 'Central Valley')\n",
        "    ax[i,j].set_xlim(xmin, xmax)\n",
        "    ax[i,j].set_ylim(ymin, ymax)"
      ]
    },
    {
      "cell_type": "code",
      "execution_count": null,
      "id": "FYURQ1U7gOoA",
      "metadata": {
        "id": "FYURQ1U7gOoA"
      },
      "outputs": [],
      "source": [
        "fig, ax = plt.subplots(3,2,  figsize=(10, 12))\n",
        "plot_gdf(gdf_map,'2011-04-05', 0, 0)\n",
        "plot_gdf(gdf_map,'2011-10-04', 0, 1)\n",
        "\n",
        "plot_gdf(gdf_map,'2015-04-07', 1, 0)\n",
        "plot_gdf(gdf_map,'2015-10-06', 1, 1)\n",
        "\n",
        "plot_gdf(gdf_map,'2018-04-03', 2, 0)\n",
        "plot_gdf(gdf_map,'2018-10-02', 2, 1)\n",
        "plt.tight_layout()"
      ]
    },
    {
      "cell_type": "markdown",
      "id": "28fd3dba",
      "metadata": {
        "id": "28fd3dba"
      },
      "source": [
        "**your answer here**"
      ]
    },
    {
      "cell_type": "markdown",
      "id": "EaZ1MqyKICBx",
      "metadata": {
        "id": "EaZ1MqyKICBx"
      },
      "source": [
        "#### Q IB-iii \n",
        "Discuss and explain the differences/similarities between what is shown in the US Drought Monitor and what you identified in the P, SWE, and T data? You are welcome to create additional plots, such as 1D time series plots, to help you answer this question.\n",
        "\n",
        "**your answer here**"
      ]
    },
    {
      "cell_type": "markdown",
      "id": "p1Gjv3JSIK0a",
      "metadata": {
        "id": "p1Gjv3JSIK0a"
      },
      "source": [
        "#### Q IB-iv \n",
        "\n",
        "In summary, how would you expect groundwater pumping to change over the time period 2000-2020, given what you see in the data that you have reviewed? Be specific about the direct causal relationship between increased drought and pumping habits.\n",
        "\n",
        "**your answer here**"
      ]
    },
    {
      "cell_type": "markdown",
      "id": "RDgDZgwvqctE",
      "metadata": {
        "id": "RDgDZgwvqctE"
      },
      "source": [
        "## II Taking the Pulse of the Groundwater Systems"
      ]
    },
    {
      "cell_type": "markdown",
      "id": "_K1xBczHIld4",
      "metadata": {
        "id": "_K1xBczHIld4"
      },
      "source": [
        "Explore the way in which the deformation of the ground surface has varied over time in the Central Valley, with the aim of determining what is causing the deformation."
      ]
    },
    {
      "cell_type": "code",
      "execution_count": null,
      "id": "1498308c",
      "metadata": {
        "id": "1498308c"
      },
      "outputs": [],
      "source": [
        "insar_data = xr.load_dataset(\"./taking_the_pulse_data/data/insar_data.nc\")\n",
        "insar_data.rio.write_crs(4326, inplace=True)"
      ]
    },
    {
      "cell_type": "markdown",
      "id": "db2818da",
      "metadata": {
        "id": "db2818da"
      },
      "source": [
        "#### Q II-i\n",
        "Plot the InSAR deformation at the last time. In the plot add the boundary of the San Joaquin Valley (defined at the top of this file as `gdf_sjv`). Describe your observations about the subsidence (i.e., negative deformation) **[the InSAR data at the last time indicates the cumulative sum of the InSAR data from 2015-01-01]**. Based upon other the data, that you have analyzed what would be the cause of the large subsidence?"
      ]
    },
    {
      "cell_type": "code",
      "execution_count": null,
      "id": "9d18a693",
      "metadata": {
        "id": "9d18a693"
      },
      "outputs": [],
      "source": [
        "# your code here\n",
        "### we can plot a time slice of a given variable with: \n",
        "### insar_data['insar_median'].isel(time=-1).plot(ax=ax, cmap=...)\n",
        "### when we use -1 in Python when indexing/selecting data, Python goes to the end of our data\n",
        "### and starts working backwards\n",
        "### -1 is the last sample, -2 is the second to last sample, etc."
      ]
    },
    {
      "cell_type": "markdown",
      "id": "f5558125",
      "metadata": {
        "id": "f5558125"
      },
      "source": [
        "**your answer here**"
      ]
    },
    {
      "cell_type": "markdown",
      "id": "41ecc055",
      "metadata": {
        "id": "41ecc055"
      },
      "source": [
        "Now we are going to work on the InSAR data in a groundwater subbasin.\n",
        "We have provided a widget to display the selected region as well as a function that pulls out the InSAR data in a selected region. Refer back to this widget so that you can understand the geographic context of some upcoming 1D plots.\n",
        "\n",
        "**There is no autocorrect in Python code. Please double check your spelling and capitialization, otherwise you will get an error when selecting a new region.**"
      ]
    },
    {
      "cell_type": "code",
      "execution_count": null,
      "id": "2a662f93",
      "metadata": {
        "id": "2a662f93"
      },
      "outputs": [],
      "source": [
        "from ipywidgets import widgets, interact\n",
        "subbasin_names = np.sort(gdf_gw_basin['Basin_Su_1'].values)\n",
        "def foo(name):\n",
        "    fig = plt.figure(figsize=(10, 10))\n",
        "    ax = plt.axes(projection=ccrs.PlateCarree())\n",
        "    out = insar_data.insar_median.isel(time=-1).plot(ax=ax, cmap='Spectral', vmin=-1200, vmax=5)\n",
        "    gdf_gw_basin.boundary.plot(ax=ax, color='k')\n",
        "    gdf_gw_basin[gdf_gw_basin['Basin_Su_1']==name].plot(ax=ax, color='red', alpha=0.5)\n",
        "    ax.set_title(name, fontsize=12)\n",
        "    plt.show()"
      ]
    },
    {
      "cell_type": "code",
      "execution_count": null,
      "id": "0502a1db",
      "metadata": {
        "id": "0502a1db"
      },
      "outputs": [],
      "source": [
        "Q = interact(foo, name=widgets.Select(options=subbasin_names, value='SAN JOAQUIN VALLEY - TULE', continuous_update=False))"
      ]
    },
    {
      "cell_type": "code",
      "execution_count": null,
      "id": "885e0d80",
      "metadata": {
        "id": "885e0d80"
      },
      "outputs": [],
      "source": [
        "name = Q.widget.kwargs['name']\n",
        "print (name)"
      ]
    },
    {
      "cell_type": "code",
      "execution_count": null,
      "id": "df294b60",
      "metadata": {
        "id": "df294b60"
      },
      "outputs": [],
      "source": [
        "def get_insar_data_in_gw_subbasin(name):\n",
        "    insar_data.rio.set_spatial_dims(x_dim=\"lon\", y_dim=\"lat\", inplace=True)\n",
        "    gdf_gw_basin_selected = gdf_gw_basin[gdf_gw_basin['Basin_Su_1']==name]\n",
        "    insar_data_selected = insar_data.rio.clip(gdf_gw_basin_selected.geometry.apply(mapping), gdf_cv.crs, drop=True)\n",
        "    return insar_data_selected"
      ]
    },
    {
      "cell_type": "markdown",
      "id": "705de545",
      "metadata": {
        "id": "705de545"
      },
      "source": [
        "#### Q II-ii\n",
        "Calculate the 1D mean InSAR time-series for a `REDDING AREA - MILLVILLE`, and plot the mean InSAR time-series. Add the total SWE time-series that you have calculated before in the same plot. Which of the seasons (winter or summer) has a greater amplitude of the SWE data? Describe the causual relationship between the InSAR and SWE time-series. "
      ]
    },
    {
      "cell_type": "code",
      "execution_count": null,
      "id": "2a70f84f",
      "metadata": {
        "id": "2a70f84f"
      },
      "outputs": [],
      "source": [
        "name = 'REDDING AREA - MILLVILLE'\n",
        "fig, ax = plt.subplots(1,1, figsize=(10, 3))\n",
        "insar_data_selected = get_insar_data_in_gw_subbasin(name)\n",
        "mean_insar_time_series = insar_data_selected.mean(dim=['lon', 'lat'])\n",
        "mean_insar_time_series['insar_median'].plot(ax=ax, color='k')\n",
        "ax_1 = ax.twinx()\n",
        "swe_data_summed['swe'].plot(ax=ax_1)\n",
        "ax.set_title(\"InSAR and SWE\")\n",
        "fmt_month = mdates.MonthLocator()\n",
        "ax.xaxis.set_minor_locator(fmt_month)\n",
        "ax.set_xlim(datetime.date(2015, 1, 1), datetime.date(2020, 1, 1))\n",
        "ax.xaxis.set_major_formatter(mdates.DateFormatter('%Y-%m'))\n",
        "ax.set_ylabel(\"Deformation (mm)\")\n",
        "ax_1.set_ylabel(\"SWE (km$^3$\")\n",
        "ax.grid(True, which='both', alpha=0.2)\n",
        "fig.autofmt_xdate()"
      ]
    },
    {
      "cell_type": "markdown",
      "id": "c43dc7a2",
      "metadata": {
        "id": "c43dc7a2"
      },
      "source": [
        "**your answer here**"
      ]
    },
    {
      "cell_type": "markdown",
      "id": "a7ae27d8",
      "metadata": {
        "id": "a7ae27d8"
      },
      "source": [
        "#### Q II-iii\n",
        "Calculate the mean InSAR time-series for a `SAN JOAQUIN VALLEY - TULE`, and plot the mean InSAR time-series and drought index for San Joaquin. Code to plot of the drought intensity time-series for the San Joaquin Valley is provided in the below cell. Compare the amplitude of the deformation in this subbasin to the that of the previous one. What is the major cause of the deformation in this subbasin? Describe the causual relationship between the InSAR and drought intensity time-series. "
      ]
    },
    {
      "cell_type": "code",
      "execution_count": null,
      "id": "559bfe9f",
      "metadata": {
        "scrolled": true,
        "id": "559bfe9f"
      },
      "outputs": [],
      "source": [
        "### your code here\n",
        "\n",
        "### create a figure and plot the InSAR data for the new region\n",
        "ax_1 = ax.twinx()\n",
        "# plot the drought intensity time-series\n",
        "ax_1.plot(df_SJV.Time, df_SJV.DSCI)\n",
        "ax.set_title(\"InSAR and DSCI\")\n",
        "fmt_month = mdates.MonthLocator()\n",
        "ax.xaxis.set_minor_locator(fmt_month)\n",
        "ax.set_xlim(datetime.date(2015, 1, 1), datetime.date(2020, 1, 1))\n",
        "ax.xaxis.set_major_formatter(mdates.DateFormatter('%Y-%m'))\n",
        "ax.set_ylabel(\"Deformation (mm)\")\n",
        "ax_1.set_ylabel(\"Drought intensity\")\n",
        "ax.grid(True, which='both', alpha=0.2)\n",
        "fig.autofmt_xdate()"
      ]
    },
    {
      "cell_type": "markdown",
      "id": "6bb866a0",
      "metadata": {
        "id": "6bb866a0"
      },
      "source": [
        "**your answer here**"
      ]
    },
    {
      "cell_type": "markdown",
      "id": "7cffd564",
      "metadata": {
        "id": "7cffd564"
      },
      "source": [
        "#### Q II-iv\n",
        "Calculate the mean InSAR time-series for a `SAN JOAQUIN VALLEY - WESTSIDE`, and plot the mean InSAR time-series as well as the drought index for San Joaquin. What is the major cause of the deformation in this subbasin? Based upon the deformation and drought intensity infer how the groundwater in the aquifer system would have changed between 2017-01 and 2018-01. What would cause this change in the groundwater?"
      ]
    },
    {
      "cell_type": "code",
      "execution_count": null,
      "id": "b4233fa9",
      "metadata": {
        "id": "b4233fa9"
      },
      "outputs": [],
      "source": [
        "### your code here"
      ]
    },
    {
      "cell_type": "markdown",
      "id": "a17b9ddf",
      "metadata": {
        "id": "a17b9ddf"
      },
      "source": [
        "**your answer here**"
      ]
    },
    {
      "cell_type": "markdown",
      "id": "j9EKjeHEIsJW",
      "metadata": {
        "id": "j9EKjeHEIsJW"
      },
      "source": [
        "#### Q II-v\n",
        "Referring back to what was covered in the lecture, discuss how the combination of climate change and human activity are leading to impacts on the groundwater system.\n",
        "\n",
        "**your answer here**\n",
        "\n"
      ]
    },
    {
      "cell_type": "markdown",
      "id": "VtTd_AWeItTs",
      "metadata": {
        "id": "VtTd_AWeItTs"
      },
      "source": [
        "#### Q II-vi\n",
        "How could InSAR data be used to “take the pulse” of groundwater systems?\n",
        "\n",
        "**your answer here**"
      ]
    },
    {
      "cell_type": "markdown",
      "id": "9e-NDx4aKBiQ",
      "metadata": {
        "id": "9e-NDx4aKBiQ"
      },
      "source": [
        "## III Taking the Pulse in the Future\n",
        "\n",
        "In this assignment, we worked with what we have in terms of current sensors and data analysis workflows. If you were given $1 million to develop a new form of sensor or new form of data analysis, what would you do? This can be research, field work, fabrication of sensors, etc. Think about what you would measure, at what spatial and temporal scale and resolution. Over to you to design the next generation of sensors for taking the pulse of our groundwater systems."
      ]
    },
    {
      "cell_type": "markdown",
      "id": "ppQwIYkjJ8FZ",
      "metadata": {
        "id": "ppQwIYkjJ8FZ"
      },
      "source": [
        "**your answer here**"
      ]
    }
  ],
  "metadata": {
    "colab": {
      "collapsed_sections": [
        "n6xd6NyLH_Nl",
        "EaZ1MqyKICBx",
        "p1Gjv3JSIK0a",
        "j9EKjeHEIsJW"
      ],
      "provenance": [],
      "include_colab_link": true
    },
    "kernelspec": {
      "display_name": "Python 3 (ipykernel)",
      "language": "python",
      "name": "python3"
    },
    "language_info": {
      "codemirror_mode": {
        "name": "ipython",
        "version": 3
      },
      "file_extension": ".py",
      "mimetype": "text/x-python",
      "name": "python",
      "nbconvert_exporter": "python",
      "pygments_lexer": "ipython3",
      "version": "3.9.5"
    }
  },
  "nbformat": 4,
  "nbformat_minor": 5
}