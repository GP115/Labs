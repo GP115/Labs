{
  "nbformat": 4,
  "nbformat_minor": 0,
  "metadata": {
    "colab": {
      "provenance": [],
      "toc_visible": true,
      "include_colab_link": true
    },
    "kernelspec": {
      "name": "python3",
      "display_name": "Python 3"
    },
    "language_info": {
      "name": "python"
    }
  },
  "cells": [
    {
      "cell_type": "markdown",
      "metadata": {
        "id": "view-in-github",
        "colab_type": "text"
      },
      "source": [
        "<a href=\"https://colab.research.google.com/github/envgp/taking_the_pulse_of_the_planet/blob/main/module_0.ipynb\" target=\"_parent\"><img src=\"https://colab.research.google.com/assets/colab-badge.svg\" alt=\"Open In Colab\"/></a>"
      ]
    },
    {
      "cell_type": "markdown",
      "source": [
        "# Introduction\n",
        "\n",
        "Welcome to Module 0 of Taking the Pulse of the Planet class! Here you will find code snippets that will be useful in your assignments, and provides an in depth overview of the Python basics needed to get started with the class."
      ],
      "metadata": {
        "id": "gnPezPB46ckb"
      }
    },
    {
      "cell_type": "markdown",
      "source": [
        "# Getting Started with Python\n",
        "Python is a programming language, which is used to make your computer run algorithms! For our class, we'll be using Python to write code that will make our computer do work for us, such as process data and create charts. Let's get started with some of the basics of Python.\n",
        "On each of the code cells below, hover over them and click on the triangle in the circle button to \"run,\" or execute the cell. This tells our computer to go through and perform the actions we've asked it to do, through Python!"
      ],
      "metadata": {
        "id": "hu3HtcAI63WO"
      }
    },
    {
      "cell_type": "code",
      "source": [
        "print(\"Hello World\")"
      ],
      "metadata": {
        "id": "DrZ7YFzp72rq",
        "colab": {
          "base_uri": "https://localhost:8080/"
        },
        "outputId": "f8b43cdc-af2e-4f85-f2a6-7ea3ea1580a1"
      },
      "execution_count": null,
      "outputs": [
        {
          "output_type": "stream",
          "name": "stdout",
          "text": [
            "Hello World\n"
          ]
        }
      ]
    },
    {
      "cell_type": "markdown",
      "source": [
        "From that code, you should have seen an output right under it saying \"Hello World\" without the quotation marks. That's a print statement, and your first line of Python code.\n",
        "\n",
        "What a print statement does is it asks the computer to display a line of text -- in this case, our line of text is Hello World. Notice how we ran our code with the Hello World in quotation marks. This is to inform the computer that we're trying to print a data structure known as a \"string,\" or a line of text. In more general terms, it tells our computer that this statement within the quotes isn't code, but instead the message it should display!\n",
        "\n",
        "print() itself is something known as a function. Similar to the functions you may have learned about in math, functions just take in an value (\"hello world\"), and perform some action, such as printing the input out in this case! We'll see lots of examples of functions later on, but the uniting feature of all of them is how they take input and perform some action. Some can even give you new values to work with!"
      ],
      "metadata": {
        "id": "RdEM_oRW8POO"
      }
    },
    {
      "cell_type": "markdown",
      "source": [
        "Let's try assigning variables! Variables can be seen as boxes for values, where the values can be nearly anything! For example, we can assign numbers, strings, or whole objects to variables, which will then serve as a name for it.\n",
        "\n",
        "One way to think about this is to think of your own name as a variable -- it's a way to refer to yourself, and that name could be reassigned to someone else as well. A rose by any other name would smell as sweet, right?"
      ],
      "metadata": {
        "id": "3VaragHm87s5"
      }
    },
    {
      "cell_type": "code",
      "source": [
        "x = 10\n",
        "print(x)"
      ],
      "metadata": {
        "id": "Sfmg2Le083c4",
        "colab": {
          "base_uri": "https://localhost:8080/"
        },
        "outputId": "5dd33ea0-2c36-4ba1-e013-0209f9cdcbad"
      },
      "execution_count": null,
      "outputs": [
        {
          "output_type": "stream",
          "name": "stdout",
          "text": [
            "10\n"
          ]
        }
      ]
    },
    {
      "cell_type": "markdown",
      "source": [
        "From the code, your output should have been just the number 10. What you did was assign x, your variable name, the value 10, and then asked the computer to print out the value of x using print.\n",
        "\n",
        "The number value 10 is also a data structure -- an int! Int stands for integer, and although we won't look too deeply into the differentiation between different number types, just know that in Python, you can perform numerical operations just as you generally would on a calculator."
      ],
      "metadata": {
        "id": "vj3NsiFn9hw8"
      }
    },
    {
      "cell_type": "code",
      "source": [
        "y = \"I like cats!\"\n",
        "print(x)"
      ],
      "metadata": {
        "id": "Jre_b0EO-5j7",
        "colab": {
          "base_uri": "https://localhost:8080/"
        },
        "outputId": "5a5a9713-b6b3-47a1-fe8a-2a7d40d65380"
      },
      "execution_count": null,
      "outputs": [
        {
          "output_type": "stream",
          "name": "stdout",
          "text": [
            "10\n"
          ]
        }
      ]
    },
    {
      "cell_type": "markdown",
      "source": [
        "Hey! This didn't print \"I like cats!\"\n",
        "\n",
        "This is because we printed out the value of variable x instead of variable y. (Notice how the value of variables are still valid from cell to cell, once you've defined them!)\n",
        "\n",
        "Try changing the input of the print statement to print our the value of our variable y. You can re-run the code cell as many times as you'd like before moving on."
      ],
      "metadata": {
        "id": "s-eh2u1Y_G5b"
      }
    },
    {
      "cell_type": "markdown",
      "source": [
        "Next, let's think about taking notes. Observe and run the code cell below:"
      ],
      "metadata": {
        "id": "BaB6g8uUVJHV"
      }
    },
    {
      "cell_type": "code",
      "source": [
        "# This is a comment! I don't do anything"
      ],
      "metadata": {
        "id": "0CWvx3m-6cNs"
      },
      "execution_count": null,
      "outputs": []
    },
    {
      "cell_type": "markdown",
      "source": [
        "Huh! Nothing should have printed from that -- this is because that line of code was a comment. Comments tell the computer to skip over the line and ignore it.\n",
        "\n",
        "\n",
        "Comments are great ways to make notes in your code, such as reminding yourself what each line of code does. While this class won't require you to comment your code, it can be a great way to stay on track. For this toolbox, and for many of the homework assignments for this class, these comments will serve as pointers and helpful hints for you to help guide you along."
      ],
      "metadata": {
        "id": "8ooY4vbP-a-D"
      }
    },
    {
      "cell_type": "code",
      "source": [
        "my_array = [1, 2, 3, 4, 5]\n",
        "print(my_array)"
      ],
      "metadata": {
        "id": "ixbsx3Vn-apd",
        "colab": {
          "base_uri": "https://localhost:8080/"
        },
        "outputId": "58a1dd6b-b0dc-454e-a088-cf4193671333"
      },
      "execution_count": null,
      "outputs": [
        {
          "output_type": "stream",
          "name": "stdout",
          "text": [
            "[1, 2, 3, 4, 5]\n"
          ]
        }
      ]
    },
    {
      "cell_type": "markdown",
      "source": [
        "And finally, let's look at arrays. Notice how I have multiple values in there separated by a comma. It's easy to think of arrays as lists of stuff, which can be numbers like our example, strings, other variables, or even other arrays! If our variables were boxes with something in it, arrays are simply just a variable pointing to a sequence of boxes, each of which has some value in it.\n",
        "\n",
        "(For example, you could have an array called foods, where foods represents a sequence of objects, such as apples, ice cream, and sushi.)"
      ],
      "metadata": {
        "id": "0EOiA1L5DX0q"
      }
    },
    {
      "cell_type": "markdown",
      "source": [
        "# Packages\n",
        "Packages include prewritten code someone else has prepared in a way that's easily portable -- just like you'd box up a present for a friend! This makes it easy to share code, and we'll be using quite a few packages so that we don't need to write a ton of things from scratch.\n",
        "\n",
        "Different packages do different things, but for the purposes of our class, we'll be using a few important ones to help us with our work. Let's find out what they do!"
      ],
      "metadata": {
        "id": "g6IQE_dn7Ry0"
      }
    },
    {
      "cell_type": "markdown",
      "source": [
        "## Pandas\n",
        "\n",
        "No, not like the animal. (I wish...)\n",
        "\n",
        "Pandas is a package used for data science, and it's use to manipulate data, especially in a table format. Like before, let's import pandas, but under the name pd."
      ],
      "metadata": {
        "id": "l5OOFoQ6Gu3N"
      }
    },
    {
      "cell_type": "code",
      "source": [
        "import pandas as pd"
      ],
      "metadata": {
        "id": "k8g7QKGPITbI"
      },
      "execution_count": null,
      "outputs": []
    },
    {
      "cell_type": "markdown",
      "source": [
        "### Reading in Data\n",
        "\n",
        "We have to get data from somewhere before we can analyze it. This command down here saves the data to our file system, so we can access it later. Don't worry too much about what git clone means at the moment, but notice how the link is where the data we want \"lives\" on the web.\n",
        "\n",
        "For the purposes of this class, most of this data setup work will be done for you, and feel free to reach out if you're having any issues with it."
      ],
      "metadata": {
        "id": "KTgIK3xKSZT4"
      }
    },
    {
      "cell_type": "code",
      "source": [
        "!git clone https://premonition.stanford.edu/taking-the-pulse-of-the-planet/toolbox-data"
      ],
      "metadata": {
        "id": "hOIl9RDXSZzM",
        "colab": {
          "base_uri": "https://localhost:8080/"
        },
        "outputId": "d18bebfb-42f4-46c6-89aa-0c51f2dbdb6c"
      },
      "execution_count": null,
      "outputs": [
        {
          "output_type": "stream",
          "name": "stdout",
          "text": [
            "Cloning into 'toolbox-data'...\n",
            "warning: redirecting to https://premonition.stanford.edu/taking-the-pulse-of-the-planet/toolbox-data.git/\n",
            "remote: Enumerating objects: 3, done.\u001b[K\n",
            "remote: Counting objects: 100% (3/3), done.\u001b[K\n",
            "remote: Compressing objects: 100% (2/2), done.\u001b[K\n",
            "remote: Total 3 (delta 0), reused 0 (delta 0), pack-reused 0\u001b[K\n",
            "Receiving objects: 100% (3/3), done.\n"
          ]
        }
      ]
    },
    {
      "cell_type": "markdown",
      "source": [
        "In order to tell our pandas module what data we're working with, we'll need something called a \"path\" to the location of the data from the file system we're working on here. For now, we'll be looking at a database about penguins!\n",
        "\n",
        "This penguin data is stored in a \"csv\" file, which stands for comma-separated values. You don't need to worry about what these files do, but just think of it as a quick and handy way to store data in a tabular format within our files."
      ],
      "metadata": {
        "id": "V0XNr9P7BJwf"
      }
    },
    {
      "cell_type": "code",
      "source": [
        "# dataset_variable = pd.read_csv(\"path_to_csv_file\")\n",
        "penguins = pd.read_csv(\"./toolbox-data/penguins.csv\")"
      ],
      "metadata": {
        "id": "5H2raLBfE5Sl"
      },
      "execution_count": null,
      "outputs": []
    },
    {
      "cell_type": "markdown",
      "source": [
        "Awesome! So now we have the variable \"penguins\" which contains all the data from the penguins.csv file we read in earlier.\n",
        "\n",
        "Now that we've loaded in the CSV file, let's take a look at what it contains. We can use the info() function for this."
      ],
      "metadata": {
        "id": "EQ1_oexFIMNp"
      }
    },
    {
      "cell_type": "code",
      "source": [
        "# dataset_variable.info()\n",
        "penguins.info()"
      ],
      "metadata": {
        "colab": {
          "base_uri": "https://localhost:8080/"
        },
        "id": "UNWj0XaEI2Vu",
        "outputId": "134a8d20-baa2-4539-9b01-2adcca0ee149"
      },
      "execution_count": null,
      "outputs": [
        {
          "output_type": "stream",
          "name": "stdout",
          "text": [
            "<class 'pandas.core.frame.DataFrame'>\n",
            "RangeIndex: 344 entries, 0 to 343\n",
            "Data columns (total 9 columns):\n",
            " #   Column             Non-Null Count  Dtype  \n",
            "---  ------             --------------  -----  \n",
            " 0   rowid              344 non-null    int64  \n",
            " 1   species            344 non-null    object \n",
            " 2   island             344 non-null    object \n",
            " 3   bill_length_mm     342 non-null    float64\n",
            " 4   bill_depth_mm      342 non-null    float64\n",
            " 5   flipper_length_mm  342 non-null    float64\n",
            " 6   body_mass_g        342 non-null    float64\n",
            " 7   sex                333 non-null    object \n",
            " 8   year               344 non-null    int64  \n",
            "dtypes: float64(4), int64(2), object(3)\n",
            "memory usage: 24.3+ KB\n"
          ]
        }
      ]
    },
    {
      "cell_type": "markdown",
      "source": [
        "The info() function displays information about whatever dataset it's called on. Notice how Google Colab automatically displays all the information for you, even though you didn't print it all out. As it turns out, you don't always need an explicit print statement for things in Google Colab, as some functions will display things for you. We won't go too indepth on this however, because we got more interesting things to look at!\n",
        "\n",
        "What did the info() function display? If you're looking at the output and seeing 344 entries, with a bunch of columns, aka \"indexes\" with different labels, you're on the right track."
      ],
      "metadata": {
        "id": "DRa-r35SI5BP"
      }
    },
    {
      "cell_type": "markdown",
      "source": [
        "But what about looking at the actual data of this dataset? The head() command lets us take a look at a few examples from the literal head, or front, of the table. Usually, this displays up to the first five results of your dataframe."
      ],
      "metadata": {
        "id": "S2XurSTdJioU"
      }
    },
    {
      "cell_type": "code",
      "source": [
        "# dataset_variable.head()\n",
        "penguins.head()"
      ],
      "metadata": {
        "colab": {
          "base_uri": "https://localhost:8080/",
          "height": 204
        },
        "id": "PJ5bBGZU4RVw",
        "outputId": "9bcb545f-c7a4-4402-877f-ebe1ea90a5f2"
      },
      "execution_count": null,
      "outputs": [
        {
          "output_type": "execute_result",
          "data": {
            "text/plain": [
              "   rowid species     island  bill_length_mm  bill_depth_mm  flipper_length_mm  \\\n",
              "0      1  Adelie  Torgersen            39.1           18.7              181.0   \n",
              "1      2  Adelie  Torgersen            39.5           17.4              186.0   \n",
              "2      3  Adelie  Torgersen            40.3           18.0              195.0   \n",
              "3      4  Adelie  Torgersen             NaN            NaN                NaN   \n",
              "4      5  Adelie  Torgersen            36.7           19.3              193.0   \n",
              "\n",
              "   body_mass_g     sex  year  \n",
              "0       3750.0    male  2007  \n",
              "1       3800.0  female  2007  \n",
              "2       3250.0  female  2007  \n",
              "3          NaN     NaN  2007  \n",
              "4       3450.0  female  2007  "
            ],
            "text/html": [
              "\n",
              "\n",
              "  <div id=\"df-cde93a5d-d98e-4f8d-86a7-4523c87d2126\">\n",
              "    <div class=\"colab-df-container\">\n",
              "      <div>\n",
              "<style scoped>\n",
              "    .dataframe tbody tr th:only-of-type {\n",
              "        vertical-align: middle;\n",
              "    }\n",
              "\n",
              "    .dataframe tbody tr th {\n",
              "        vertical-align: top;\n",
              "    }\n",
              "\n",
              "    .dataframe thead th {\n",
              "        text-align: right;\n",
              "    }\n",
              "</style>\n",
              "<table border=\"1\" class=\"dataframe\">\n",
              "  <thead>\n",
              "    <tr style=\"text-align: right;\">\n",
              "      <th></th>\n",
              "      <th>rowid</th>\n",
              "      <th>species</th>\n",
              "      <th>island</th>\n",
              "      <th>bill_length_mm</th>\n",
              "      <th>bill_depth_mm</th>\n",
              "      <th>flipper_length_mm</th>\n",
              "      <th>body_mass_g</th>\n",
              "      <th>sex</th>\n",
              "      <th>year</th>\n",
              "    </tr>\n",
              "  </thead>\n",
              "  <tbody>\n",
              "    <tr>\n",
              "      <th>0</th>\n",
              "      <td>1</td>\n",
              "      <td>Adelie</td>\n",
              "      <td>Torgersen</td>\n",
              "      <td>39.1</td>\n",
              "      <td>18.7</td>\n",
              "      <td>181.0</td>\n",
              "      <td>3750.0</td>\n",
              "      <td>male</td>\n",
              "      <td>2007</td>\n",
              "    </tr>\n",
              "    <tr>\n",
              "      <th>1</th>\n",
              "      <td>2</td>\n",
              "      <td>Adelie</td>\n",
              "      <td>Torgersen</td>\n",
              "      <td>39.5</td>\n",
              "      <td>17.4</td>\n",
              "      <td>186.0</td>\n",
              "      <td>3800.0</td>\n",
              "      <td>female</td>\n",
              "      <td>2007</td>\n",
              "    </tr>\n",
              "    <tr>\n",
              "      <th>2</th>\n",
              "      <td>3</td>\n",
              "      <td>Adelie</td>\n",
              "      <td>Torgersen</td>\n",
              "      <td>40.3</td>\n",
              "      <td>18.0</td>\n",
              "      <td>195.0</td>\n",
              "      <td>3250.0</td>\n",
              "      <td>female</td>\n",
              "      <td>2007</td>\n",
              "    </tr>\n",
              "    <tr>\n",
              "      <th>3</th>\n",
              "      <td>4</td>\n",
              "      <td>Adelie</td>\n",
              "      <td>Torgersen</td>\n",
              "      <td>NaN</td>\n",
              "      <td>NaN</td>\n",
              "      <td>NaN</td>\n",
              "      <td>NaN</td>\n",
              "      <td>NaN</td>\n",
              "      <td>2007</td>\n",
              "    </tr>\n",
              "    <tr>\n",
              "      <th>4</th>\n",
              "      <td>5</td>\n",
              "      <td>Adelie</td>\n",
              "      <td>Torgersen</td>\n",
              "      <td>36.7</td>\n",
              "      <td>19.3</td>\n",
              "      <td>193.0</td>\n",
              "      <td>3450.0</td>\n",
              "      <td>female</td>\n",
              "      <td>2007</td>\n",
              "    </tr>\n",
              "  </tbody>\n",
              "</table>\n",
              "</div>\n",
              "      <button class=\"colab-df-convert\" onclick=\"convertToInteractive('df-cde93a5d-d98e-4f8d-86a7-4523c87d2126')\"\n",
              "              title=\"Convert this dataframe to an interactive table.\"\n",
              "              style=\"display:none;\">\n",
              "\n",
              "  <svg xmlns=\"http://www.w3.org/2000/svg\" height=\"24px\"viewBox=\"0 0 24 24\"\n",
              "       width=\"24px\">\n",
              "    <path d=\"M0 0h24v24H0V0z\" fill=\"none\"/>\n",
              "    <path d=\"M18.56 5.44l.94 2.06.94-2.06 2.06-.94-2.06-.94-.94-2.06-.94 2.06-2.06.94zm-11 1L8.5 8.5l.94-2.06 2.06-.94-2.06-.94L8.5 2.5l-.94 2.06-2.06.94zm10 10l.94 2.06.94-2.06 2.06-.94-2.06-.94-.94-2.06-.94 2.06-2.06.94z\"/><path d=\"M17.41 7.96l-1.37-1.37c-.4-.4-.92-.59-1.43-.59-.52 0-1.04.2-1.43.59L10.3 9.45l-7.72 7.72c-.78.78-.78 2.05 0 2.83L4 21.41c.39.39.9.59 1.41.59.51 0 1.02-.2 1.41-.59l7.78-7.78 2.81-2.81c.8-.78.8-2.07 0-2.86zM5.41 20L4 18.59l7.72-7.72 1.47 1.35L5.41 20z\"/>\n",
              "  </svg>\n",
              "      </button>\n",
              "\n",
              "\n",
              "\n",
              "    <div id=\"df-bb663c3b-ded1-4097-b4a1-ff304e98d9f2\">\n",
              "      <button class=\"colab-df-quickchart\" onclick=\"quickchart('df-bb663c3b-ded1-4097-b4a1-ff304e98d9f2')\"\n",
              "              title=\"Suggest charts.\"\n",
              "              style=\"display:none;\">\n",
              "\n",
              "<svg xmlns=\"http://www.w3.org/2000/svg\" height=\"24px\"viewBox=\"0 0 24 24\"\n",
              "     width=\"24px\">\n",
              "    <g>\n",
              "        <path d=\"M19 3H5c-1.1 0-2 .9-2 2v14c0 1.1.9 2 2 2h14c1.1 0 2-.9 2-2V5c0-1.1-.9-2-2-2zM9 17H7v-7h2v7zm4 0h-2V7h2v10zm4 0h-2v-4h2v4z\"/>\n",
              "    </g>\n",
              "</svg>\n",
              "      </button>\n",
              "    </div>\n",
              "\n",
              "<style>\n",
              "  .colab-df-quickchart {\n",
              "    background-color: #E8F0FE;\n",
              "    border: none;\n",
              "    border-radius: 50%;\n",
              "    cursor: pointer;\n",
              "    display: none;\n",
              "    fill: #1967D2;\n",
              "    height: 32px;\n",
              "    padding: 0 0 0 0;\n",
              "    width: 32px;\n",
              "  }\n",
              "\n",
              "  .colab-df-quickchart:hover {\n",
              "    background-color: #E2EBFA;\n",
              "    box-shadow: 0px 1px 2px rgba(60, 64, 67, 0.3), 0px 1px 3px 1px rgba(60, 64, 67, 0.15);\n",
              "    fill: #174EA6;\n",
              "  }\n",
              "\n",
              "  [theme=dark] .colab-df-quickchart {\n",
              "    background-color: #3B4455;\n",
              "    fill: #D2E3FC;\n",
              "  }\n",
              "\n",
              "  [theme=dark] .colab-df-quickchart:hover {\n",
              "    background-color: #434B5C;\n",
              "    box-shadow: 0px 1px 3px 1px rgba(0, 0, 0, 0.15);\n",
              "    filter: drop-shadow(0px 1px 2px rgba(0, 0, 0, 0.3));\n",
              "    fill: #FFFFFF;\n",
              "  }\n",
              "</style>\n",
              "\n",
              "    <script>\n",
              "      async function quickchart(key) {\n",
              "        const containerElement = document.querySelector('#' + key);\n",
              "        const charts = await google.colab.kernel.invokeFunction(\n",
              "            'suggestCharts', [key], {});\n",
              "      }\n",
              "    </script>\n",
              "\n",
              "      <script>\n",
              "\n",
              "function displayQuickchartButton(domScope) {\n",
              "  let quickchartButtonEl =\n",
              "    domScope.querySelector('#df-bb663c3b-ded1-4097-b4a1-ff304e98d9f2 button.colab-df-quickchart');\n",
              "  quickchartButtonEl.style.display =\n",
              "    google.colab.kernel.accessAllowed ? 'block' : 'none';\n",
              "}\n",
              "\n",
              "        displayQuickchartButton(document);\n",
              "      </script>\n",
              "      <style>\n",
              "    .colab-df-container {\n",
              "      display:flex;\n",
              "      flex-wrap:wrap;\n",
              "      gap: 12px;\n",
              "    }\n",
              "\n",
              "    .colab-df-convert {\n",
              "      background-color: #E8F0FE;\n",
              "      border: none;\n",
              "      border-radius: 50%;\n",
              "      cursor: pointer;\n",
              "      display: none;\n",
              "      fill: #1967D2;\n",
              "      height: 32px;\n",
              "      padding: 0 0 0 0;\n",
              "      width: 32px;\n",
              "    }\n",
              "\n",
              "    .colab-df-convert:hover {\n",
              "      background-color: #E2EBFA;\n",
              "      box-shadow: 0px 1px 2px rgba(60, 64, 67, 0.3), 0px 1px 3px 1px rgba(60, 64, 67, 0.15);\n",
              "      fill: #174EA6;\n",
              "    }\n",
              "\n",
              "    [theme=dark] .colab-df-convert {\n",
              "      background-color: #3B4455;\n",
              "      fill: #D2E3FC;\n",
              "    }\n",
              "\n",
              "    [theme=dark] .colab-df-convert:hover {\n",
              "      background-color: #434B5C;\n",
              "      box-shadow: 0px 1px 3px 1px rgba(0, 0, 0, 0.15);\n",
              "      filter: drop-shadow(0px 1px 2px rgba(0, 0, 0, 0.3));\n",
              "      fill: #FFFFFF;\n",
              "    }\n",
              "  </style>\n",
              "\n",
              "      <script>\n",
              "        const buttonEl =\n",
              "          document.querySelector('#df-cde93a5d-d98e-4f8d-86a7-4523c87d2126 button.colab-df-convert');\n",
              "        buttonEl.style.display =\n",
              "          google.colab.kernel.accessAllowed ? 'block' : 'none';\n",
              "\n",
              "        async function convertToInteractive(key) {\n",
              "          const element = document.querySelector('#df-cde93a5d-d98e-4f8d-86a7-4523c87d2126');\n",
              "          const dataTable =\n",
              "            await google.colab.kernel.invokeFunction('convertToInteractive',\n",
              "                                                     [key], {});\n",
              "          if (!dataTable) return;\n",
              "\n",
              "          const docLinkHtml = 'Like what you see? Visit the ' +\n",
              "            '<a target=\"_blank\" href=https://colab.research.google.com/notebooks/data_table.ipynb>data table notebook</a>'\n",
              "            + ' to learn more about interactive tables.';\n",
              "          element.innerHTML = '';\n",
              "          dataTable['output_type'] = 'display_data';\n",
              "          await google.colab.output.renderOutput(dataTable, element);\n",
              "          const docLink = document.createElement('div');\n",
              "          docLink.innerHTML = docLinkHtml;\n",
              "          element.appendChild(docLink);\n",
              "        }\n",
              "      </script>\n",
              "    </div>\n",
              "  </div>\n"
            ]
          },
          "metadata": {},
          "execution_count": 10
        }
      ]
    },
    {
      "cell_type": "markdown",
      "source": [
        "Look at all those chickens! I mean, penguins! We can see that there's a lot of different columns of data for this dataset."
      ],
      "metadata": {
        "id": "5CxqfbJY67hg"
      }
    },
    {
      "cell_type": "markdown",
      "source": [
        "###Operations\n",
        "But what happens if we want to do stuff with the data? For instance, what if we wanted to look at only the data of the body mass of our penguins? What we can do is look at the indexes of our dataset -- focusing in on a particular column of data."
      ],
      "metadata": {
        "id": "az9nXblr-lF7"
      }
    },
    {
      "cell_type": "code",
      "source": [
        "# dataset_variable[index_name]\n",
        "penguins[\"body_mass_g\"]"
      ],
      "metadata": {
        "colab": {
          "base_uri": "https://localhost:8080/"
        },
        "id": "fZHC28Qq-k35",
        "outputId": "3df2272c-1517-49cb-8622-c527c1bed80b"
      },
      "execution_count": null,
      "outputs": [
        {
          "output_type": "execute_result",
          "data": {
            "text/plain": [
              "0      3750.0\n",
              "1      3800.0\n",
              "2      3250.0\n",
              "3         NaN\n",
              "4      3450.0\n",
              "        ...  \n",
              "339    4000.0\n",
              "340    3400.0\n",
              "341    3775.0\n",
              "342    4100.0\n",
              "343    3775.0\n",
              "Name: body_mass_g, Length: 344, dtype: float64"
            ]
          },
          "metadata": {},
          "execution_count": 6
        }
      ]
    },
    {
      "cell_type": "markdown",
      "source": [
        "Wow! These are some chunky penguins, and we now have a big list of penguin body masses. But what if we wanted to find out the average/mean weight of our penguins? As it turns out, we can run operations on these columns. We won't go through all the operations right now, but know that they exist, and generally the code below is how we can run them on a column of data."
      ],
      "metadata": {
        "id": "P8hkxNr4G-F8"
      }
    },
    {
      "cell_type": "code",
      "source": [
        "# dataset_variable[index].operation()\n",
        "penguins[\"body_mass_g\"].mean()"
      ],
      "metadata": {
        "colab": {
          "base_uri": "https://localhost:8080/"
        },
        "id": "eO8ikumRG9pF",
        "outputId": "c8df8353-af66-4df9-8844-fc4b97520bda"
      },
      "execution_count": null,
      "outputs": [
        {
          "output_type": "execute_result",
          "data": {
            "text/plain": [
              "4201.754385964912"
            ]
          },
          "metadata": {},
          "execution_count": 7
        }
      ]
    },
    {
      "cell_type": "markdown",
      "source": [
        "What does the above code tell us about the average body mass of a penguin? Was this above or below your expectations?"
      ],
      "metadata": {
        "id": "irYFa8HKYI-F"
      }
    },
    {
      "cell_type": "markdown",
      "source": [
        "But what if we're curious about the distribution of data given different labels. For example, let's say we want to group our penguins by their species, and find out the average body mass of the different species of penguins. Turns out, there's a function in pandas that makes this process easy -- it's called the groupby function.\n",
        "\n",
        "This function allows us to generate new dataframes from the dataset we were already working on."
      ],
      "metadata": {
        "id": "a6mBX3J8oMuH"
      }
    },
    {
      "cell_type": "code",
      "source": [
        "# new_dataframe_var = dataset_variable.groupby(group_index)[info_index]\n",
        "penguin_species = penguins.groupby(\"species\")[\"body_mass_g\"]"
      ],
      "metadata": {
        "id": "IMlGzBLqoNC1"
      },
      "execution_count": null,
      "outputs": []
    },
    {
      "cell_type": "markdown",
      "source": [
        "Alright, so now we have a new dataframe of penguin body masses, grouped by their species. This means that for all the body mass datapoints in our original dataset, they'll be sorted by the kind of species they are, into unique groups.\n",
        "\n",
        "But let's try finding the average body mass, or mean of this set. What operation did we use before for finding the mean?"
      ],
      "metadata": {
        "id": "vxzbcA4A46_D"
      }
    },
    {
      "cell_type": "code",
      "source": [
        "# new_dataframe_var.operation()\n",
        "penguin_species.mean()"
      ],
      "metadata": {
        "colab": {
          "base_uri": "https://localhost:8080/"
        },
        "id": "hrXYtu3t5TuV",
        "outputId": "89120a20-e819-45d0-b765-413b925c35ad"
      },
      "execution_count": null,
      "outputs": [
        {
          "output_type": "execute_result",
          "data": {
            "text/plain": [
              "species\n",
              "Adelie       3700.662252\n",
              "Chinstrap    3733.088235\n",
              "Gentoo       5076.016260\n",
              "Name: body_mass_g, dtype: float64"
            ]
          },
          "metadata": {},
          "execution_count": 9
        }
      ]
    },
    {
      "cell_type": "markdown",
      "source": [
        "That should have given you a list of penguin species and their weights. By using these table/dataframe operations, we can manipulate our data into ways to calculate things important to us."
      ],
      "metadata": {
        "id": "OjhYwtvK5cWv"
      }
    },
    {
      "cell_type": "markdown",
      "source": [
        "## Optional: Numpy\n",
        "\n",
        "Numpy is one of the most common packages you'll encounter in data science -- so much so that many Python modules are actually dependent on Numpy to do tasks. For right now, our class will mainly focus on Pandas, so this section is currently optional.\n",
        "\n",
        "First, let's import numpy."
      ],
      "metadata": {
        "id": "M4ZVgwmwAlgk"
      }
    },
    {
      "cell_type": "code",
      "execution_count": null,
      "metadata": {
        "id": "WJggsKZx6ZRk"
      },
      "outputs": [],
      "source": [
        "import numpy as np"
      ]
    },
    {
      "cell_type": "markdown",
      "source": [
        "This tells us that we should bring in the package named numpy, but under the name np. Think back to our variable naming skills, because the \"as np\" has us assign the package to the name np. In the future, whenever we want to reference or do something with numpy in this code, we'll be able to call upon it with np.\n",
        "\n",
        "Remember that numpy is a collection of code -- you can find their documentation online [here](https://numpy.org/doc/stable/index.html)! For now, we'll just go over the basics."
      ],
      "metadata": {
        "id": "7IfZxOCJD1yy"
      }
    },
    {
      "cell_type": "markdown",
      "source": [
        "Numpy is powerful because it helps us with processing data -- through the usage of numpy arrays. Don't worry too much about the differences between numpy arrays and python arrays, but feel free to explore them on your own time.\n",
        "\n",
        "Numpy allows us to perform mathematical operations on numpy arrays. This means that we'll be able to use our numpy arrays to call the numpy functions we've imported."
      ],
      "metadata": {
        "id": "ksuUF67BEnR0"
      }
    },
    {
      "cell_type": "code",
      "source": [
        "numbers = np.array([1, 2, 3, 4, 5, 6])\n",
        "sum_value = numbers.sum()\n",
        "print(sum_value)"
      ],
      "metadata": {
        "id": "THnnP5P1EKBL",
        "colab": {
          "base_uri": "https://localhost:8080/"
        },
        "outputId": "daa53940-eabc-4283-a657-e3a1d983b9da"
      },
      "execution_count": null,
      "outputs": [
        {
          "output_type": "stream",
          "name": "stdout",
          "text": [
            "21\n"
          ]
        }
      ]
    },
    {
      "cell_type": "markdown",
      "source": [
        "The sum() function, is one imported by numpy. Like its name suggests, it adds up all the values of the numbers array. Our code saves it in the variable sum_value, which we then print.\n",
        "\n",
        "If this is confusing, don't worry! We largely won't be working too much with numpy -- it's just good to know that it exists, because many data science libraries are built on top of it."
      ],
      "metadata": {
        "id": "s9idjxbmFxJZ"
      }
    }
  ]
}